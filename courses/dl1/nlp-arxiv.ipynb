{
 "cells": [
  {
   "cell_type": "code",
<<<<<<< HEAD
   "execution_count": 4,
   "metadata": {},
||||||| merged common ancestors
   "execution_count": 1,
   "metadata": {
    "collapsed": true
   },
=======
   "execution_count": null,
   "metadata": {},
>>>>>>> upstream/master
   "outputs": [],
   "source": [
    "%reload_ext autoreload\n",
    "%autoreload 2\n",
    "%matplotlib inline\n",
    "\n",
    "from fastai.nlp import *\n",
    "from sklearn.linear_model import LogisticRegression\n",
    "from sklearn.svm import LinearSVC\n",
    "from torchtext import vocab, data, datasets\n",
    "import pandas as pd"
   ]
  },
  {
   "cell_type": "code",
<<<<<<< HEAD
   "execution_count": 5,
   "metadata": {},
||||||| merged common ancestors
   "execution_count": 2,
   "metadata": {
    "collapsed": true
   },
=======
   "execution_count": null,
   "metadata": {},
>>>>>>> upstream/master
   "outputs": [],
   "source": [
    "sl=1000\n",
    "vocab_size=200000"
   ]
  },
  {
   "cell_type": "code",
<<<<<<< HEAD
   "execution_count": 6,
||||||| merged common ancestors
   "execution_count": 3,
=======
   "execution_count": null,
>>>>>>> upstream/master
   "metadata": {},
   "outputs": [
    {
     "data": {
      "text/html": [
       "<div>\n",
       "<style scoped>\n",
       "    .dataframe tbody tr th:only-of-type {\n",
       "        vertical-align: middle;\n",
       "    }\n",
       "\n",
       "    .dataframe tbody tr th {\n",
       "        vertical-align: top;\n",
       "    }\n",
       "\n",
       "    .dataframe thead th {\n",
       "        text-align: right;\n",
       "    }\n",
       "</style>\n",
       "<table border=\"1\" class=\"dataframe\">\n",
       "  <thead>\n",
       "    <tr style=\"text-align: right;\">\n",
       "      <th></th>\n",
       "      <th>link</th>\n",
       "      <th>time</th>\n",
       "      <th>favorites</th>\n",
       "      <th>rts</th>\n",
       "      <th>authors</th>\n",
       "      <th>category</th>\n",
       "      <th>published</th>\n",
       "      <th>summary</th>\n",
       "      <th>title</th>\n",
       "      <th>tweeted</th>\n",
       "    </tr>\n",
       "  </thead>\n",
       "  <tbody>\n",
       "    <tr>\n",
       "      <th>0</th>\n",
       "      <td>arxiv.org/abs/1611.10003</td>\n",
       "      <td>NaN</td>\n",
       "      <td>NaN</td>\n",
       "      <td>NaN</td>\n",
       "      <td>[Tom A. F. Anderson, C. -H. Ruan]</td>\n",
       "      <td>q-bio.NC</td>\n",
       "      <td>2016-11-30 05:17:11</td>\n",
       "      <td>In summary of the research findings presented ...</td>\n",
       "      <td>Vocabulary and the Brain: Evidence from Neuroi...</td>\n",
       "      <td>0</td>\n",
       "    </tr>\n",
       "    <tr>\n",
       "      <th>1</th>\n",
       "      <td>arxiv.org/abs/1611.10007</td>\n",
       "      <td>NaN</td>\n",
       "      <td>NaN</td>\n",
       "      <td>NaN</td>\n",
       "      <td>[M. Amin Rahimian, Amir G. Aghdam]</td>\n",
       "      <td>cs.SY</td>\n",
       "      <td>2016-11-30 05:37:11</td>\n",
       "      <td>In this paper, structural controllability of a...</td>\n",
       "      <td>Structural Controllability of Multi-Agent Netw...</td>\n",
       "      <td>0</td>\n",
       "    </tr>\n",
       "    <tr>\n",
       "      <th>2</th>\n",
       "      <td>arxiv.org/abs/1611.10010</td>\n",
       "      <td>NaN</td>\n",
       "      <td>NaN</td>\n",
       "      <td>NaN</td>\n",
       "      <td>[Debidatta Dwibedi, Tomasz Malisiewicz, Vijay ...</td>\n",
       "      <td>cs.CV</td>\n",
       "      <td>2016-11-30 06:00:47</td>\n",
       "      <td>We present a Deep Cuboid Detector which takes ...</td>\n",
       "      <td>Deep Cuboid Detection: Beyond 2D Bounding Boxes</td>\n",
       "      <td>0</td>\n",
       "    </tr>\n",
       "    <tr>\n",
       "      <th>3</th>\n",
       "      <td>arxiv.org/abs/1611.10012</td>\n",
       "      <td>2016-12-01 01:46:12</td>\n",
       "      <td>11.0</td>\n",
       "      <td>2.0</td>\n",
       "      <td>[Jonathan Huang, Vivek Rathod, Chen Sun, Mengl...</td>\n",
       "      <td>cs.CV</td>\n",
       "      <td>2016-11-30 06:06:15</td>\n",
       "      <td>In this paper, we study the trade-off between ...</td>\n",
       "      <td>Speed/accuracy trade-offs for modern convoluti...</td>\n",
       "      <td>1</td>\n",
       "    </tr>\n",
       "    <tr>\n",
       "      <th>4</th>\n",
       "      <td>arxiv.org/abs/1611.10014</td>\n",
       "      <td>NaN</td>\n",
       "      <td>NaN</td>\n",
       "      <td>NaN</td>\n",
       "      <td>[Yoones Hashemi, Amir H. Banihashemi]</td>\n",
       "      <td>cs.IT</td>\n",
       "      <td>2016-11-30 06:12:45</td>\n",
       "      <td>In this paper, we propose a characterization o...</td>\n",
       "      <td>Characterization and Efficient Exhaustive Sear...</td>\n",
       "      <td>0</td>\n",
       "    </tr>\n",
       "  </tbody>\n",
       "</table>\n",
       "</div>"
      ],
      "text/plain": [
       "                       link                 time  favorites  rts  \\\n",
       "0  arxiv.org/abs/1611.10003                  NaN        NaN  NaN   \n",
       "1  arxiv.org/abs/1611.10007                  NaN        NaN  NaN   \n",
       "2  arxiv.org/abs/1611.10010                  NaN        NaN  NaN   \n",
       "3  arxiv.org/abs/1611.10012  2016-12-01 01:46:12       11.0  2.0   \n",
       "4  arxiv.org/abs/1611.10014                  NaN        NaN  NaN   \n",
       "\n",
       "                                             authors  category  \\\n",
       "0                  [Tom A. F. Anderson, C. -H. Ruan]  q-bio.NC   \n",
       "1                 [M. Amin Rahimian, Amir G. Aghdam]     cs.SY   \n",
       "2  [Debidatta Dwibedi, Tomasz Malisiewicz, Vijay ...     cs.CV   \n",
       "3  [Jonathan Huang, Vivek Rathod, Chen Sun, Mengl...     cs.CV   \n",
       "4              [Yoones Hashemi, Amir H. Banihashemi]     cs.IT   \n",
       "\n",
       "             published                                            summary  \\\n",
       "0  2016-11-30 05:17:11  In summary of the research findings presented ...   \n",
       "1  2016-11-30 05:37:11  In this paper, structural controllability of a...   \n",
       "2  2016-11-30 06:00:47  We present a Deep Cuboid Detector which takes ...   \n",
       "3  2016-11-30 06:06:15  In this paper, we study the trade-off between ...   \n",
       "4  2016-11-30 06:12:45  In this paper, we propose a characterization o...   \n",
       "\n",
       "                                               title  tweeted  \n",
       "0  Vocabulary and the Brain: Evidence from Neuroi...        0  \n",
       "1  Structural Controllability of Multi-Agent Netw...        0  \n",
       "2    Deep Cuboid Detection: Beyond 2D Bounding Boxes        0  \n",
       "3  Speed/accuracy trade-offs for modern convoluti...        1  \n",
       "4  Characterization and Efficient Exhaustive Sear...        0  "
      ]
     },
<<<<<<< HEAD
     "execution_count": 6,
||||||| merged common ancestors
     "execution_count": 3,
=======
     "execution_count": null,
>>>>>>> upstream/master
     "metadata": {},
     "output_type": "execute_result"
    }
   ],
   "source": [
    "PATH='data/arxiv/arxiv.csv'\n",
    "\n",
    "# You can download a similar to Jeremy's original arxiv.csv here: https://drive.google.com/file/d/0B34BjUTAgwm6SzdPWDAtVG1vWVU/. It comes from this article https://hackernoon.com/building-brundage-bot-10252facf3d1 and github https://github.com/amauboussin/arxiv-twitterbot, just rename it to arxiv.csv\n",
    "\n",
    "df = pd.read_csv(PATH)\n",
    "df.head()"
   ]
  },
  {
   "cell_type": "code",
<<<<<<< HEAD
   "execution_count": 7,
   "metadata": {},
||||||| merged common ancestors
   "execution_count": 25,
   "metadata": {
    "collapsed": true
   },
=======
   "execution_count": null,
   "metadata": {},
>>>>>>> upstream/master
   "outputs": [],
   "source": [
    "df['txt'] = df.category + ' ' + df.title + '\\n' + df.summary"
   ]
  },
  {
   "cell_type": "code",
<<<<<<< HEAD
   "execution_count": 8,
||||||| merged common ancestors
   "execution_count": 28,
=======
   "execution_count": null,
>>>>>>> upstream/master
   "metadata": {},
   "outputs": [
    {
     "name": "stdout",
     "output_type": "stream",
     "text": [
      "q-bio.NC Vocabulary and the Brain: Evidence from Neuroimaging Studies\n",
      "In summary of the research findings presented in this paper, various brain\n",
      "regions are correlated with vocabulary and vocabulary acquisition. Semantic\n",
      "associations for vocabulary seem to be located near brain areas that vary\n",
      "according to the type of vocabulary, e.g. ventral temporal regions important\n",
      "for words for things that can be seen. Semantic processing is believed to be\n",
      "strongly associated with the ANG. Phonological ability has been closely related\n",
      "to the anterior surfaces of the SMG. Pathways through the posterior SMG are\n",
      "thought to link the anterior SMG and the ANG. In vocabulary tasks,\n",
      "mediotemporal structures may be related to long-term memory processing, with\n",
      "left hippocampal and parahippocampal regions related to long-term and working\n",
      "memory, respectively. Precentral structures are associated with phonological\n",
      "retrieval. Furthermore, many more regions of the brain are of interest in\n",
      "vocabulary tasks, particularly in areas important for visual and auditory\n",
      "processing. Furthermore, differences between brain anatomies can be attributed\n",
      "to vocabulary demands of different languages.\n"
     ]
    }
   ],
   "source": [
    "print(df.iloc[0].txt)"
   ]
  },
  {
   "cell_type": "code",
<<<<<<< HEAD
   "execution_count": 9,
||||||| merged common ancestors
   "execution_count": 27,
=======
   "execution_count": null,
>>>>>>> upstream/master
   "metadata": {},
   "outputs": [
    {
     "data": {
      "text/plain": [
       "27188"
      ]
     },
<<<<<<< HEAD
     "execution_count": 9,
||||||| merged common ancestors
     "execution_count": 27,
=======
     "execution_count": null,
>>>>>>> upstream/master
     "metadata": {},
     "output_type": "execute_result"
    }
   ],
   "source": [
    "n=len(df); n"
   ]
  },
  {
   "cell_type": "code",
<<<<<<< HEAD
   "execution_count": 10,
   "metadata": {},
||||||| merged common ancestors
   "execution_count": 76,
   "metadata": {
    "collapsed": true
   },
=======
   "execution_count": null,
   "metadata": {},
>>>>>>> upstream/master
   "outputs": [],
   "source": [
    "val_idx = get_cv_idxs(n, val_pct=0.1)\n",
    "((val,trn),(val_y,trn_y)) = split_by_idx(val_idx, df.txt.values, df.tweeted.values)"
   ]
  },
  {
   "cell_type": "markdown",
   "metadata": {},
   "source": [
    "## Ngram logistic regression"
   ]
  },
  {
   "cell_type": "code",
<<<<<<< HEAD
   "execution_count": 11,
||||||| merged common ancestors
   "execution_count": 77,
=======
   "execution_count": null,
>>>>>>> upstream/master
   "metadata": {},
   "outputs": [
    {
     "data": {
      "text/plain": [
       "((24470, 3773961), 14920806)"
      ]
     },
<<<<<<< HEAD
     "execution_count": 11,
||||||| merged common ancestors
     "execution_count": 77,
=======
     "execution_count": null,
>>>>>>> upstream/master
     "metadata": {},
     "output_type": "execute_result"
    }
   ],
   "source": [
    "veczr =  CountVectorizer(ngram_range=(1,3), tokenizer=tokenize)\n",
    "trn_term_doc = veczr.fit_transform(trn)\n",
    "val_term_doc = veczr.transform(val)\n",
    "trn_term_doc.shape, trn_term_doc.sum()"
   ]
  },
  {
   "cell_type": "code",
<<<<<<< HEAD
   "execution_count": 12,
   "metadata": {},
||||||| merged common ancestors
   "execution_count": 78,
   "metadata": {
    "collapsed": true
   },
=======
   "execution_count": null,
   "metadata": {},
>>>>>>> upstream/master
   "outputs": [],
   "source": [
    "y=trn_y\n",
    "x=trn_term_doc.sign()\n",
    "val_x = val_term_doc.sign()"
   ]
  },
  {
   "cell_type": "code",
<<<<<<< HEAD
   "execution_count": 13,
   "metadata": {},
||||||| merged common ancestors
   "execution_count": 79,
   "metadata": {
    "collapsed": true
   },
=======
   "execution_count": null,
   "metadata": {},
>>>>>>> upstream/master
   "outputs": [],
   "source": [
    "p = x[np.argwhere(y!=0)[:,0]].sum(0)+1\n",
    "q = x[np.argwhere(y==0)[:,0]].sum(0)+1\n",
    "r = np.log((p/p.sum())/(q/q.sum()))\n",
    "b = np.log(len(p)/len(q))"
   ]
  },
  {
   "cell_type": "code",
<<<<<<< HEAD
   "execution_count": 14,
||||||| merged common ancestors
   "execution_count": 80,
=======
   "execution_count": null,
>>>>>>> upstream/master
   "metadata": {},
   "outputs": [
    {
     "data": {
      "text/plain": [
       "0.8094186902133922"
      ]
     },
<<<<<<< HEAD
     "execution_count": 14,
||||||| merged common ancestors
     "execution_count": 80,
=======
     "execution_count": null,
>>>>>>> upstream/master
     "metadata": {},
     "output_type": "execute_result"
    }
   ],
   "source": [
    "pre_preds = val_term_doc @ r.T + b\n",
    "preds = pre_preds.T>0\n",
    "(preds==val_y).mean()"
   ]
  },
  {
   "cell_type": "code",
<<<<<<< HEAD
   "execution_count": 15,
||||||| merged common ancestors
   "execution_count": 81,
=======
   "execution_count": null,
>>>>>>> upstream/master
   "metadata": {},
   "outputs": [
    {
     "data": {
      "text/plain": [
       "0.8532008830022075"
      ]
     },
<<<<<<< HEAD
     "execution_count": 15,
||||||| merged common ancestors
     "execution_count": 81,
=======
     "execution_count": null,
>>>>>>> upstream/master
     "metadata": {},
     "output_type": "execute_result"
    }
   ],
   "source": [
    "m = LogisticRegression(C=0.1, fit_intercept=False)\n",
    "m.fit(x, y);\n",
    "\n",
    "preds = m.predict(val_x)\n",
    "(preds.T==val_y).mean()"
   ]
  },
  {
   "cell_type": "code",
<<<<<<< HEAD
   "execution_count": 16,
   "metadata": {},
||||||| merged common ancestors
   "execution_count": 82,
   "metadata": {
    "collapsed": true
   },
=======
   "execution_count": null,
   "metadata": {},
>>>>>>> upstream/master
   "outputs": [],
   "source": [
    "probs = m.predict_proba(val_x)[:,1]"
   ]
  },
  {
   "cell_type": "code",
<<<<<<< HEAD
   "execution_count": 17,
||||||| merged common ancestors
   "execution_count": 83,
=======
   "execution_count": null,
>>>>>>> upstream/master
   "metadata": {},
   "outputs": [
    {
     "data": {
      "image/png": "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\n",
      "text/plain": [
       "<Figure size 432x288 with 1 Axes>"
      ]
     },
     "metadata": {
      "needs_background": "light"
     },
     "output_type": "display_data"
    }
   ],
   "source": [
    "from sklearn.metrics import precision_recall_curve, average_precision_score\n",
    "import matplotlib.pyplot as plt\n",
    "\n",
    "precision, recall, _ = precision_recall_curve(val_y, probs)\n",
    "average_precision = average_precision_score(val_y, probs)\n",
    "\n",
    "plt.step(recall, precision, color='b', alpha=0.2, where='post')\n",
    "plt.fill_between(recall, precision, step='post', alpha=0.2, color='b')\n",
    "\n",
    "plt.xlabel('Recall')\n",
    "plt.ylabel('Precision')\n",
    "plt.ylim([0.0, 1.05])\n",
    "plt.xlim([0.0, 1.0])\n",
    "plt.title('Precision-Recall curve: AUC={0:0.2f}'.format(average_precision));"
   ]
  },
  {
   "cell_type": "code",
<<<<<<< HEAD
   "execution_count": 18,
   "metadata": {
    "scrolled": false
   },
||||||| merged common ancestors
   "execution_count": 84,
   "metadata": {
    "scrolled": false
   },
=======
   "execution_count": null,
   "metadata": {},
>>>>>>> upstream/master
   "outputs": [
    {
     "data": {
      "text/plain": [
       "0.7486338797814208"
      ]
     },
<<<<<<< HEAD
     "execution_count": 18,
||||||| merged common ancestors
     "execution_count": 84,
=======
     "execution_count": null,
>>>>>>> upstream/master
     "metadata": {},
     "output_type": "execute_result"
    }
   ],
   "source": [
    "recall[precision>=0.6][0]"
   ]
  },
  {
   "cell_type": "code",
<<<<<<< HEAD
   "execution_count": 19,
   "metadata": {},
||||||| merged common ancestors
   "execution_count": 97,
   "metadata": {
    "collapsed": true
   },
=======
   "execution_count": null,
   "metadata": {},
>>>>>>> upstream/master
   "outputs": [],
   "source": [
    "df_val = df.iloc[sorted(val_idx)]"
   ]
  },
  {
   "cell_type": "code",
<<<<<<< HEAD
   "execution_count": 20,
||||||| merged common ancestors
   "execution_count": 90,
=======
   "execution_count": null,
>>>>>>> upstream/master
   "metadata": {},
   "outputs": [
    {
     "data": {
      "text/html": [
       "<div>\n",
       "<style scoped>\n",
       "    .dataframe tbody tr th:only-of-type {\n",
       "        vertical-align: middle;\n",
       "    }\n",
       "\n",
       "    .dataframe tbody tr th {\n",
       "        vertical-align: top;\n",
       "    }\n",
       "\n",
       "    .dataframe thead th {\n",
       "        text-align: right;\n",
       "    }\n",
       "</style>\n",
       "<table border=\"1\" class=\"dataframe\">\n",
       "  <thead>\n",
       "    <tr style=\"text-align: right;\">\n",
       "      <th></th>\n",
       "      <th>link</th>\n",
       "      <th>title</th>\n",
       "      <th>summary</th>\n",
       "    </tr>\n",
       "  </thead>\n",
       "  <tbody>\n",
       "    <tr>\n",
       "      <th>7363</th>\n",
       "      <td>arxiv.org/abs/1703.01703</td>\n",
       "      <td>Third-Person Imitation Learning</td>\n",
       "      <td>Reinforcement learning (RL) makes it possible ...</td>\n",
       "    </tr>\n",
       "    <tr>\n",
       "      <th>18948</th>\n",
       "      <td>arxiv.org/abs/1707.04615</td>\n",
       "      <td>On the Complexity of Learning Neural Networks</td>\n",
       "      <td>The stunning empirical successes of neural net...</td>\n",
       "    </tr>\n",
       "    <tr>\n",
       "      <th>27079</th>\n",
       "      <td>arxiv.org/abs/1710.03804</td>\n",
       "      <td>End-to-End Deep Learning for Steering Autonomo...</td>\n",
       "      <td>Steering a car through traffic is a complex ta...</td>\n",
       "    </tr>\n",
       "    <tr>\n",
       "      <th>26327</th>\n",
       "      <td>arxiv.org/abs/1710.00641</td>\n",
       "      <td>Improving speech recognition by revising gated...</td>\n",
       "      <td>Speech recognition is largely taking advantage...</td>\n",
       "    </tr>\n",
       "    <tr>\n",
       "      <th>26608</th>\n",
       "      <td>arxiv.org/abs/1710.01916</td>\n",
       "      <td>A self-organizing neural network architecture ...</td>\n",
       "      <td>The visual recognition of transitive actions c...</td>\n",
       "    </tr>\n",
       "    <tr>\n",
       "      <th>26262</th>\n",
       "      <td>arxiv.org/abs/1710.00421</td>\n",
       "      <td>Video Generation From Text</td>\n",
       "      <td>Generating videos from text has proven to be a...</td>\n",
       "    </tr>\n",
       "    <tr>\n",
       "      <th>24472</th>\n",
       "      <td>arxiv.org/abs/1709.04577</td>\n",
       "      <td>DeepVoting: An Explainable Framework for Seman...</td>\n",
       "      <td>In this paper, we study the task of detecting ...</td>\n",
       "    </tr>\n",
       "    <tr>\n",
       "      <th>9201</th>\n",
       "      <td>arxiv.org/abs/1703.08595</td>\n",
       "      <td>Low Precision Neural Networks using Subband De...</td>\n",
       "      <td>Large-scale deep neural networks (DNN) have be...</td>\n",
       "    </tr>\n",
       "    <tr>\n",
       "      <th>24148</th>\n",
       "      <td>arxiv.org/abs/1709.03423</td>\n",
       "      <td>Ensemble Methods as a Defense to Adversarial P...</td>\n",
       "      <td>Deep learning has become the state of the art ...</td>\n",
       "    </tr>\n",
       "    <tr>\n",
       "      <th>26655</th>\n",
       "      <td>arxiv.org/abs/1710.02095</td>\n",
       "      <td>Machine Translation Evaluation with Neural Net...</td>\n",
       "      <td>We present a framework for machine translation...</td>\n",
       "    </tr>\n",
       "  </tbody>\n",
       "</table>\n",
       "</div>"
      ],
      "text/plain": [
       "                           link  \\\n",
       "7363   arxiv.org/abs/1703.01703   \n",
       "18948  arxiv.org/abs/1707.04615   \n",
       "27079  arxiv.org/abs/1710.03804   \n",
       "26327  arxiv.org/abs/1710.00641   \n",
       "26608  arxiv.org/abs/1710.01916   \n",
       "26262  arxiv.org/abs/1710.00421   \n",
       "24472  arxiv.org/abs/1709.04577   \n",
       "9201   arxiv.org/abs/1703.08595   \n",
       "24148  arxiv.org/abs/1709.03423   \n",
       "26655  arxiv.org/abs/1710.02095   \n",
       "\n",
       "                                                   title  \\\n",
       "7363                     Third-Person Imitation Learning   \n",
       "18948      On the Complexity of Learning Neural Networks   \n",
       "27079  End-to-End Deep Learning for Steering Autonomo...   \n",
       "26327  Improving speech recognition by revising gated...   \n",
       "26608  A self-organizing neural network architecture ...   \n",
       "26262                         Video Generation From Text   \n",
       "24472  DeepVoting: An Explainable Framework for Seman...   \n",
       "9201   Low Precision Neural Networks using Subband De...   \n",
       "24148  Ensemble Methods as a Defense to Adversarial P...   \n",
       "26655  Machine Translation Evaluation with Neural Net...   \n",
       "\n",
       "                                                 summary  \n",
       "7363   Reinforcement learning (RL) makes it possible ...  \n",
       "18948  The stunning empirical successes of neural net...  \n",
       "27079  Steering a car through traffic is a complex ta...  \n",
       "26327  Speech recognition is largely taking advantage...  \n",
       "26608  The visual recognition of transitive actions c...  \n",
       "26262  Generating videos from text has proven to be a...  \n",
       "24472  In this paper, we study the task of detecting ...  \n",
       "9201   Large-scale deep neural networks (DNN) have be...  \n",
       "24148  Deep learning has become the state of the art ...  \n",
       "26655  We present a framework for machine translation...  "
      ]
     },
     "execution_count": 20,
     "metadata": {},
     "output_type": "execute_result"
    }
   ],
   "source": [
    "incorrect_yes = np.where((preds != val_y) & (val_y == 0))[0]\n",
    "most_incorrect_yes = np.argsort(-probs[incorrect_yes])\n",
    "txts = df_val.iloc[incorrect_yes[most_incorrect_yes[:10]]]\n",
    "txts[[\"link\", \"title\", \"summary\"]]"
   ]
  },
  {
   "cell_type": "code",
<<<<<<< HEAD
   "execution_count": 21,
   "metadata": {
    "scrolled": true
   },
||||||| merged common ancestors
   "execution_count": 106,
   "metadata": {
    "scrolled": true
   },
=======
   "execution_count": null,
   "metadata": {},
>>>>>>> upstream/master
   "outputs": [
    {
     "data": {
      "text/plain": [
       "'arxiv.org/abs/1703.01703 arxiv.org/abs/1707.04615 arxiv.org/abs/1710.03804 arxiv.org/abs/1710.00641 arxiv.org/abs/1710.01916 arxiv.org/abs/1710.00421 arxiv.org/abs/1709.04577 arxiv.org/abs/1703.08595 arxiv.org/abs/1709.03423 arxiv.org/abs/1710.02095'"
      ]
     },
<<<<<<< HEAD
     "execution_count": 21,
||||||| merged common ancestors
     "execution_count": 106,
=======
     "execution_count": null,
>>>>>>> upstream/master
     "metadata": {},
     "output_type": "execute_result"
    }
   ],
   "source": [
    "' '.join(txts.link.values)"
   ]
  },
  {
   "cell_type": "code",
<<<<<<< HEAD
   "execution_count": 22,
   "metadata": {},
||||||| merged common ancestors
   "execution_count": 115,
   "metadata": {
    "collapsed": true
   },
=======
   "execution_count": null,
   "metadata": {},
>>>>>>> upstream/master
   "outputs": [],
   "source": [
    "incorrect_no = np.where((preds != val_y) & (val_y == 1))[0]\n",
    "most_incorrect_no = np.argsort(probs[incorrect_no])\n",
    "txts = df_val.iloc[incorrect_no[most_incorrect_no[:10]]]"
   ]
  },
  {
   "cell_type": "code",
<<<<<<< HEAD
   "execution_count": 23,
||||||| merged common ancestors
   "execution_count": 117,
=======
   "execution_count": null,
>>>>>>> upstream/master
   "metadata": {},
   "outputs": [
    {
     "data": {
      "text/html": [
       "<div>\n",
       "<style scoped>\n",
       "    .dataframe tbody tr th:only-of-type {\n",
       "        vertical-align: middle;\n",
       "    }\n",
       "\n",
       "    .dataframe tbody tr th {\n",
       "        vertical-align: top;\n",
       "    }\n",
       "\n",
       "    .dataframe thead th {\n",
       "        text-align: right;\n",
       "    }\n",
       "</style>\n",
       "<table border=\"1\" class=\"dataframe\">\n",
       "  <thead>\n",
       "    <tr style=\"text-align: right;\">\n",
       "      <th></th>\n",
       "      <th>link</th>\n",
       "      <th>title</th>\n",
       "      <th>summary</th>\n",
       "    </tr>\n",
       "  </thead>\n",
       "  <tbody>\n",
       "    <tr>\n",
       "      <th>5211</th>\n",
       "      <td>arxiv.org/abs/1702.03152</td>\n",
       "      <td>A Variation of Levin Search for All Well-Defin...</td>\n",
       "      <td>In 1973, L.A. Levin published an algorithm tha...</td>\n",
       "    </tr>\n",
       "    <tr>\n",
       "      <th>5561</th>\n",
       "      <td>arxiv.org/abs/1702.04565</td>\n",
       "      <td>The Accuracy-Privacy Tradeoff of Mobile Crowds...</td>\n",
       "      <td>Mobile crowdsensing has emerged as an efficien...</td>\n",
       "    </tr>\n",
       "    <tr>\n",
       "      <th>17196</th>\n",
       "      <td>arxiv.org/abs/1706.08431</td>\n",
       "      <td>Bounds on the Satisfiability Threshold for Pow...</td>\n",
       "      <td>Propositional satisfiability (SAT) is one of t...</td>\n",
       "    </tr>\n",
       "    <tr>\n",
       "      <th>14475</th>\n",
       "      <td>arxiv.org/abs/1705.09328</td>\n",
       "      <td>Operation Frames and Clubs in Kidney Exchange</td>\n",
       "      <td>A kidney exchange is a centrally-administered ...</td>\n",
       "    </tr>\n",
       "    <tr>\n",
       "      <th>17996</th>\n",
       "      <td>arxiv.org/abs/1707.01123</td>\n",
       "      <td>LittleDarwin: a Feature-Rich and Extensible Mu...</td>\n",
       "      <td>Mutation testing is a well-studied method for ...</td>\n",
       "    </tr>\n",
       "    <tr>\n",
       "      <th>16551</th>\n",
       "      <td>arxiv.org/abs/1706.05858</td>\n",
       "      <td>Feature analysis of multidisciplinary scientif...</td>\n",
       "      <td>The features of collaboration behaviors are of...</td>\n",
       "    </tr>\n",
       "    <tr>\n",
       "      <th>17956</th>\n",
       "      <td>arxiv.org/abs/1707.00936</td>\n",
       "      <td>Window-of-interest based Multi-objective Evolu...</td>\n",
       "      <td>The set-based concept approach has been sugges...</td>\n",
       "    </tr>\n",
       "    <tr>\n",
       "      <th>6309</th>\n",
       "      <td>arxiv.org/abs/1702.07195</td>\n",
       "      <td>First Experiences Optimizing Smith-Waterman on...</td>\n",
       "      <td>The well-known Smith-Waterman (SW) algorithm i...</td>\n",
       "    </tr>\n",
       "    <tr>\n",
       "      <th>23216</th>\n",
       "      <td>arxiv.org/abs/1709.00092</td>\n",
       "      <td>RANK: Large-Scale Inference with Graphical Non...</td>\n",
       "      <td>Power and reproducibility are key to enabling ...</td>\n",
       "    </tr>\n",
       "    <tr>\n",
       "      <th>3710</th>\n",
       "      <td>arxiv.org/abs/1701.06246</td>\n",
       "      <td>Neural network representation of tensor networ...</td>\n",
       "      <td>We study the representational power of a Boltz...</td>\n",
       "    </tr>\n",
       "  </tbody>\n",
       "</table>\n",
       "</div>"
      ],
      "text/plain": [
       "                           link  \\\n",
       "5211   arxiv.org/abs/1702.03152   \n",
       "5561   arxiv.org/abs/1702.04565   \n",
       "17196  arxiv.org/abs/1706.08431   \n",
       "14475  arxiv.org/abs/1705.09328   \n",
       "17996  arxiv.org/abs/1707.01123   \n",
       "16551  arxiv.org/abs/1706.05858   \n",
       "17956  arxiv.org/abs/1707.00936   \n",
       "6309   arxiv.org/abs/1702.07195   \n",
       "23216  arxiv.org/abs/1709.00092   \n",
       "3710   arxiv.org/abs/1701.06246   \n",
       "\n",
       "                                                   title  \\\n",
       "5211   A Variation of Levin Search for All Well-Defin...   \n",
       "5561   The Accuracy-Privacy Tradeoff of Mobile Crowds...   \n",
       "17196  Bounds on the Satisfiability Threshold for Pow...   \n",
       "14475      Operation Frames and Clubs in Kidney Exchange   \n",
       "17996  LittleDarwin: a Feature-Rich and Extensible Mu...   \n",
       "16551  Feature analysis of multidisciplinary scientif...   \n",
       "17956  Window-of-interest based Multi-objective Evolu...   \n",
       "6309   First Experiences Optimizing Smith-Waterman on...   \n",
       "23216  RANK: Large-Scale Inference with Graphical Non...   \n",
       "3710   Neural network representation of tensor networ...   \n",
       "\n",
       "                                                 summary  \n",
       "5211   In 1973, L.A. Levin published an algorithm tha...  \n",
       "5561   Mobile crowdsensing has emerged as an efficien...  \n",
       "17196  Propositional satisfiability (SAT) is one of t...  \n",
       "14475  A kidney exchange is a centrally-administered ...  \n",
       "17996  Mutation testing is a well-studied method for ...  \n",
       "16551  The features of collaboration behaviors are of...  \n",
       "17956  The set-based concept approach has been sugges...  \n",
       "6309   The well-known Smith-Waterman (SW) algorithm i...  \n",
       "23216  Power and reproducibility are key to enabling ...  \n",
       "3710   We study the representational power of a Boltz...  "
      ]
     },
<<<<<<< HEAD
     "execution_count": 23,
||||||| merged common ancestors
     "execution_count": 117,
=======
     "execution_count": null,
>>>>>>> upstream/master
     "metadata": {},
     "output_type": "execute_result"
    }
   ],
   "source": [
    "txts[[\"link\", \"title\", \"summary\"]]"
   ]
  },
  {
   "cell_type": "code",
<<<<<<< HEAD
   "execution_count": 24,
   "metadata": {
    "scrolled": true
   },
||||||| merged common ancestors
   "execution_count": 119,
   "metadata": {
    "scrolled": true
   },
=======
   "execution_count": null,
   "metadata": {},
>>>>>>> upstream/master
   "outputs": [
    {
     "data": {
      "text/plain": [
       "'arxiv.org/abs/1702.03152 arxiv.org/abs/1702.04565 arxiv.org/abs/1706.08431 arxiv.org/abs/1705.09328 arxiv.org/abs/1707.01123 arxiv.org/abs/1706.05858 arxiv.org/abs/1707.00936 arxiv.org/abs/1702.07195 arxiv.org/abs/1709.00092 arxiv.org/abs/1701.06246'"
      ]
     },
<<<<<<< HEAD
     "execution_count": 24,
||||||| merged common ancestors
     "execution_count": 119,
=======
     "execution_count": null,
>>>>>>> upstream/master
     "metadata": {},
     "output_type": "execute_result"
    }
   ],
   "source": [
    "' '.join(txts.link.values)"
   ]
  },
  {
   "cell_type": "code",
<<<<<<< HEAD
   "execution_count": 25,
   "metadata": {},
||||||| merged common ancestors
   "execution_count": null,
   "metadata": {
    "collapsed": true
   },
=======
   "execution_count": null,
   "metadata": {},
>>>>>>> upstream/master
   "outputs": [],
   "source": [
    "to_review = np.where((preds > 0.8) & (val_y == 0))[0]\n",
    "to_review_idx = np.argsort(-probs[to_review])\n",
    "txts = df_val.iloc[to_review[to_review_idx]]"
   ]
  },
  {
   "cell_type": "code",
<<<<<<< HEAD
   "execution_count": 26,
||||||| merged common ancestors
   "execution_count": 130,
=======
   "execution_count": null,
>>>>>>> upstream/master
   "metadata": {},
   "outputs": [],
   "source": [
    "txt_html = ('<li><a href=\"http://' + txts.link + '\">' + txts.title.str.replace('\\n',' ') + '</a>: ' \n",
    "    + txts.summary.str.replace('\\n',' ') + '</li>').values"
   ]
  },
  {
   "cell_type": "code",
<<<<<<< HEAD
   "execution_count": 27,
   "metadata": {
    "scrolled": true
   },
||||||| merged common ancestors
   "execution_count": 136,
   "metadata": {
    "scrolled": true
   },
=======
   "execution_count": null,
   "metadata": {},
>>>>>>> upstream/master
   "outputs": [],
   "source": [
    "full_html = (f\"\"\"<!DOCTYPE html>\n",
    "<html>\n",
    "<head><title>Brundage Bot Backfill</title></head>\n",
    "<body>\n",
    "<ul>\n",
    "{os.linesep.join(txt_html)}\n",
    "</ul>\n",
    "</body>\n",
    "</html>\"\"\")"
   ]
  },
  {
   "cell_type": "markdown",
   "metadata": {},
   "source": [
    "## Learner"
   ]
  },
  {
   "cell_type": "code",
<<<<<<< HEAD
   "execution_count": 28,
   "metadata": {},
||||||| merged common ancestors
   "execution_count": 137,
   "metadata": {
    "collapsed": true
   },
=======
   "execution_count": null,
   "metadata": {},
>>>>>>> upstream/master
   "outputs": [],
   "source": [
    "veczr = CountVectorizer(ngram_range=(1,3), tokenizer=tokenize, max_features=vocab_size)\n",
    "\n",
    "trn_term_doc = veczr.fit_transform(trn)\n",
    "val_term_doc = veczr.transform(val)"
   ]
  },
  {
   "cell_type": "code",
<<<<<<< HEAD
   "execution_count": 29,
||||||| merged common ancestors
   "execution_count": 138,
=======
   "execution_count": null,
>>>>>>> upstream/master
   "metadata": {},
   "outputs": [
    {
     "data": {
      "text/plain": [
       "((24470, 200000), 10263165)"
      ]
     },
<<<<<<< HEAD
     "execution_count": 29,
||||||| merged common ancestors
     "execution_count": 138,
=======
     "execution_count": null,
>>>>>>> upstream/master
     "metadata": {},
     "output_type": "execute_result"
    }
   ],
   "source": [
    "trn_term_doc.shape, trn_term_doc.sum()"
   ]
  },
  {
   "cell_type": "code",
<<<<<<< HEAD
   "execution_count": 30,
   "metadata": {},
||||||| merged common ancestors
   "execution_count": 139,
   "metadata": {
    "collapsed": true
   },
=======
   "execution_count": null,
   "metadata": {},
>>>>>>> upstream/master
   "outputs": [],
   "source": [
    "md = TextClassifierData.from_bow(trn_term_doc, trn_y, val_term_doc, val_y, sl)"
   ]
  },
  {
   "cell_type": "code",
<<<<<<< HEAD
   "execution_count": 31,
   "metadata": {},
||||||| merged common ancestors
   "execution_count": 141,
   "metadata": {
    "collapsed": true
   },
=======
   "execution_count": null,
   "metadata": {},
>>>>>>> upstream/master
   "outputs": [],
   "source": [
    "learner = md.dotprod_nb_learner(r_adj=20)"
   ]
  },
  {
   "cell_type": "code",
<<<<<<< HEAD
   "execution_count": null,
   "metadata": {
    "scrolled": false
   },
||||||| merged common ancestors
   "execution_count": 142,
   "metadata": {
    "scrolled": false
   },
=======
   "execution_count": null,
   "metadata": {},
>>>>>>> upstream/master
   "outputs": [
    {
     "data": {
      "application/vnd.jupyter.widget-view+json": {
       "model_id": "3d2cc99c8d3b4b69aa1142a031fe2e46",
       "version_major": 2,
       "version_minor": 0
      },
      "text/plain": [
       "HBox(children=(IntProgress(value=0, description='Epoch', max=4), HTML(value='')))"
      ]
     },
     "metadata": {},
     "output_type": "display_data"
    },
    {
     "name": "stdout",
     "output_type": "stream",
     "text": [
      "  5%|▍         | 18/383 [00:00<00:17, 20.39it/s, loss=0.288]"
     ]
    }
   ],
   "source": [
    "learner.fit(0.02, 4, wds=1e-6, cycle_len=1)"
   ]
  },
  {
   "cell_type": "code",
   "execution_count": null,
   "metadata": {},
   "outputs": [],
   "source": [
    "from sklearn.metrics import precision_recall_curve\n",
    "import matplotlib.pyplot as plt\n",
    "\n",
    "def prec_at_6(preds,targs):\n",
    "    precision, recall, _ = precision_recall_curve(targs[:,1], preds[:,1])\n",
    "    return recall[precision>=0.6][0]"
   ]
  },
  {
   "cell_type": "code",
   "execution_count": null,
   "metadata": {},
   "outputs": [
    {
     "data": {
      "text/plain": [
       "0.71103327495621715"
      ]
     },
     "execution_count": null,
     "metadata": {},
     "output_type": "execute_result"
    }
   ],
   "source": [
    "prec_at_6(*learner.predict_with_targs())"
   ]
  },
  {
   "cell_type": "code",
   "execution_count": null,
   "metadata": {},
   "outputs": [],
   "source": []
  }
 ],
 "metadata": {
  "kernelspec": {
   "display_name": "Python 3",
   "language": "python",
   "name": "python3"
<<<<<<< HEAD
  },
  "language_info": {
   "codemirror_mode": {
    "name": "ipython",
    "version": 3
   },
   "file_extension": ".py",
   "mimetype": "text/x-python",
   "name": "python",
   "nbconvert_exporter": "python",
   "pygments_lexer": "ipython3",
   "version": "3.6.6"
  },
  "toc": {
   "colors": {
    "hover_highlight": "#DAA520",
    "navigate_num": "#000000",
    "navigate_text": "#333333",
    "running_highlight": "#FF0000",
    "selected_highlight": "#FFD700",
    "sidebar_border": "#EEEEEE",
    "wrapper_background": "#FFFFFF"
   },
   "moveMenuLeft": true,
   "nav_menu": {
    "height": "104px",
    "width": "251px"
   },
   "navigate_menu": true,
   "number_sections": true,
   "sideBar": true,
   "threshold": 4,
   "toc_cell": false,
   "toc_section_display": "block",
   "toc_window_display": false,
   "widenNotebook": false
||||||| merged common ancestors
  },
  "language_info": {
   "codemirror_mode": {
    "name": "ipython",
    "version": 3
   },
   "file_extension": ".py",
   "mimetype": "text/x-python",
   "name": "python",
   "nbconvert_exporter": "python",
   "pygments_lexer": "ipython3",
   "version": "3.6.2"
  },
  "toc": {
   "colors": {
    "hover_highlight": "#DAA520",
    "navigate_num": "#000000",
    "navigate_text": "#333333",
    "running_highlight": "#FF0000",
    "selected_highlight": "#FFD700",
    "sidebar_border": "#EEEEEE",
    "wrapper_background": "#FFFFFF"
   },
   "moveMenuLeft": true,
   "nav_menu": {
    "height": "104px",
    "width": "251px"
   },
   "navigate_menu": true,
   "number_sections": true,
   "sideBar": true,
   "threshold": 4,
   "toc_cell": false,
   "toc_section_display": "block",
   "toc_window_display": false,
   "widenNotebook": false
=======
>>>>>>> upstream/master
  }
 },
 "nbformat": 4,
 "nbformat_minor": 2
}
