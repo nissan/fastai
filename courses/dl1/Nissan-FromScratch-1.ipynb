{
 "cells": [
  {
   "cell_type": "markdown",
   "metadata": {},
   "source": [
    "Steps:\n",
    "- Enable data augmentation, and precompute=True\n",
    "- Use lr_find() to finmd highest learning rate where loss is clearly improving\n",
    "- Train last layer from pre-computed activations for 1-2 epochs\n",
    "- Train last layer with data augmentation (i.e. precompute=False) for 2-3 epochs with cycle_len=1\n",
    "- Unfreeze all layers\n",
    "- Set earlier layers to 3x-10x lower learning rate than next higher layer\n",
    "- Use lr_find() again\n",
    "- Train full network with cycle=mult=2 until over-fitting"
   ]
  },
  {
   "cell_type": "code",
   "execution_count": 1,
   "metadata": {},
   "outputs": [],
   "source": [
    "%reload_ext autoreload\n",
    "%autoreload 2\n",
    "%matplotlib inline"
   ]
  },
  {
   "cell_type": "code",
   "execution_count": 2,
   "metadata": {},
   "outputs": [
    {
     "name": "stderr",
     "output_type": "stream",
     "text": [
      "C:\\tools\\Anaconda3\\envs\\fastai\\lib\\site-packages\\sklearn\\ensemble\\weight_boosting.py:29: DeprecationWarning: numpy.core.umath_tests is an internal NumPy module and should not be imported. It will be removed in a future NumPy release.\n",
      "  from numpy.core.umath_tests import inner1d\n"
     ]
    }
   ],
   "source": [
    "from sklearn import metrics\n",
    "from fastai.conv_learner import *"
   ]
  },
  {
   "cell_type": "code",
   "execution_count": 3,
   "metadata": {},
   "outputs": [],
   "source": [
    "PATH = 'data/dogcatbreed/'"
   ]
  },
  {
   "cell_type": "code",
   "execution_count": 4,
   "metadata": {},
   "outputs": [],
   "source": [
    "bs=64\n",
    "f_model = resnet34"
   ]
  },
  {
   "cell_type": "code",
   "execution_count": 5,
   "metadata": {},
   "outputs": [],
   "source": [
    "# Data preparation steps if you are using Crestle:\n",
    "\n",
    "os.makedirs('data/dogcatbreed/models', exist_ok=True)\n",
    "os.makedirs('/cache/dogcatbreed/tmp', exist_ok=True)"
   ]
  },
  {
   "cell_type": "code",
   "execution_count": 6,
   "metadata": {},
   "outputs": [],
   "source": [
    "label_csv= f'{PATH}train.csv'\n",
    "n = len(list(open(label_csv))) - 1 #count row in file, exclude the header row\n",
    "val_idxs = get_cv_idxs(n) # function choses random 20% data for valdation set"
   ]
  },
  {
   "cell_type": "code",
   "execution_count": 7,
   "metadata": {},
   "outputs": [],
   "source": [
    "def get_data(sz, bs):\n",
    "    tfms = tfms_from_model(f_model, sz, aug_tfms=transforms_top_down, max_zoom=1.05)\n",
    "    return ImageClassifierData.from_csv(PATH, 'train', label_csv, tfms=tfms,\n",
    "                    suffix='.jpg', val_idxs=val_idxs, test_name='test', bs=bs)"
   ]
  },
  {
   "cell_type": "code",
   "execution_count": 8,
   "metadata": {},
   "outputs": [],
   "source": [
    "sz=64\n",
    "data = get_data(sz,bs)"
   ]
  },
  {
   "cell_type": "code",
   "execution_count": 9,
   "metadata": {},
   "outputs": [
    {
     "data": {
      "application/vnd.jupyter.widget-view+json": {
       "model_id": "350a11eec32c4e9c9a1092f32debc66d",
       "version_major": 2,
       "version_minor": 0
      },
      "text/plain": [
       "HBox(children=(IntProgress(value=0, max=6), HTML(value='')))"
      ]
     },
     "metadata": {},
     "output_type": "display_data"
    },
    {
     "name": "stdout",
     "output_type": "stream",
     "text": [
      "\n"
     ]
    }
   ],
   "source": [
    "data = data.resize(int(sz*1.3), 'tmp')"
   ]
  },
  {
   "cell_type": "code",
   "execution_count": 10,
   "metadata": {},
   "outputs": [],
   "source": [
    "learn = ConvLearner.pretrained(f_model, data, ps=0.5) #ps sets the dropout rate"
   ]
  },
  {
   "cell_type": "code",
   "execution_count": null,
   "metadata": {},
   "outputs": [],
   "source": [
    "lrf=learn.lr_find()\n",
    "learn.sched.plot()"
   ]
  },
  {
   "cell_type": "code",
   "execution_count": 13,
   "metadata": {},
   "outputs": [],
   "source": [
    "lr = 1e-2"
   ]
  },
  {
   "cell_type": "code",
   "execution_count": null,
   "metadata": {},
   "outputs": [],
   "source": [
    "learn.fit(lr, 3, cycle_len=1, cycle_mult=2)"
   ]
  },
  {
   "cell_type": "code",
   "execution_count": 14,
   "metadata": {},
   "outputs": [],
   "source": [
    "lrs = np.array([lr/9,lr/3,lr])"
   ]
  },
  {
   "cell_type": "code",
   "execution_count": null,
   "metadata": {},
   "outputs": [],
   "source": [
    "learn.unfreeze()\n",
    "learn.bn_freeze(True)\n",
    "learn.fit(lrs, 3, cycle_len=1, cycle_mult=2)"
   ]
  },
  {
   "cell_type": "code",
   "execution_count": null,
   "metadata": {},
   "outputs": [],
   "source": [
    "learn.save(f'{sz}')"
   ]
  },
  {
   "cell_type": "code",
   "execution_count": null,
   "metadata": {},
   "outputs": [],
   "source": [
    "learn.sched.plot_loss()"
   ]
  },
  {
   "cell_type": "code",
   "execution_count": null,
   "metadata": {},
   "outputs": [],
   "source": [
    "sz=128"
   ]
  },
  {
   "cell_type": "code",
   "execution_count": null,
   "metadata": {},
   "outputs": [],
   "source": [
    "learn.set_data(get_data(sz,bs))\n",
    "learn.freeze()\n",
    "learn.fit(lr, 3, cycle_len=1, cycle_mult=2)"
   ]
  },
  {
   "cell_type": "code",
   "execution_count": null,
   "metadata": {},
   "outputs": [],
   "source": [
    "learn.unfreeze()\n",
    "learn.bn_freeze(True)\n",
    "learn.fit(lrs, 3, cycle_len=1, cycle_mult=2)\n",
    "learn.save(f'{sz}')"
   ]
  },
  {
   "cell_type": "code",
   "execution_count": 11,
   "metadata": {},
   "outputs": [],
   "source": [
    "sz=128\n",
    "learn.load(f'{sz}')\n",
    "sz=256"
   ]
  },
  {
   "cell_type": "code",
   "execution_count": 15,
   "metadata": {},
   "outputs": [
    {
     "data": {
      "application/vnd.jupyter.widget-view+json": {
       "model_id": "ec466375e8b044c18bb5a9f2cd65cfdd",
       "version_major": 2,
       "version_minor": 0
      },
      "text/plain": [
       "HBox(children=(IntProgress(value=0, description='Epoch', max=7), HTML(value='')))"
      ]
     },
     "metadata": {},
     "output_type": "display_data"
    },
    {
     "name": "stdout",
     "output_type": "stream",
     "text": [
      "epoch      trn_loss   val_loss   accuracy                                                                              \n",
      "    0      0.664571   0.343478   0.890402  \n",
      "    1      0.614456   0.345738   0.886998                                                                              \n",
      "    2      0.560548   0.31998    0.890402                                                                              \n",
      "    3      0.61169    0.335146   0.892444                                                                              \n",
      "    4      0.567239   0.308664   0.903336                                                                              \n",
      "    5      0.568852   0.307665   0.89857                                                                               \n",
      "    6      0.520257   0.29815    0.904697                                                                              \n",
      "\n"
     ]
    },
    {
     "data": {
      "text/plain": [
       "[array([0.29815]), 0.9046970729603907]"
      ]
     },
     "execution_count": 15,
     "metadata": {},
     "output_type": "execute_result"
    }
   ],
   "source": [
    "learn.set_data(get_data(sz,16))\n",
    "learn.freeze()\n",
    "learn.fit(lr, 3, cycle_len=1, cycle_mult=2)"
   ]
  },
  {
   "cell_type": "code",
   "execution_count": 16,
   "metadata": {},
   "outputs": [
    {
     "data": {
      "application/vnd.jupyter.widget-view+json": {
       "model_id": "b1d32ccd84584dbcbd93f9663d7ed808",
       "version_major": 2,
       "version_minor": 0
      },
      "text/plain": [
       "HBox(children=(IntProgress(value=0, description='Epoch', max=7), HTML(value='')))"
      ]
     },
     "metadata": {},
     "output_type": "display_data"
    },
    {
     "name": "stdout",
     "output_type": "stream",
     "text": [
      "epoch      trn_loss   val_loss   accuracy                                                                              \n",
      "    0      0.995478   0.503094   0.840027  \n",
      "    1      1.290986   0.727568   0.758339                                                                              \n",
      "    2      0.578011   0.397641   0.862491                                                                              \n",
      "    3      1.22854    0.909402   0.707284                                                                              \n",
      "    4      0.807114   0.557884   0.827774                                                                              \n",
      "    5      0.489458   0.400343   0.872022                                                                              \n",
      "    6      0.397656   0.353152   0.88904                                                                               \n",
      "\n"
     ]
    }
   ],
   "source": [
    "learn.unfreeze()\n",
    "learn.bn_freeze(True)\n",
    "learn.fit(lrs, 3, cycle_len=1, cycle_mult=2)\n",
    "learn.save(f'{sz}')"
   ]
  },
  {
   "cell_type": "code",
   "execution_count": 17,
   "metadata": {},
   "outputs": [
    {
     "data": {
      "application/vnd.jupyter.widget-view+json": {
       "model_id": "b66f9616e88c45d79685a49b18825e55",
       "version_major": 2,
       "version_minor": 0
      },
      "text/plain": [
       "HBox(children=(IntProgress(value=0, description='Epoch', max=7), HTML(value='')))"
      ]
     },
     "metadata": {},
     "output_type": "display_data"
    },
    {
     "name": "stdout",
     "output_type": "stream",
     "text": [
      "epoch      trn_loss   val_loss   accuracy                                                                              \n",
      "    0      0.414596   0.347009   0.882914  \n",
      "    1      0.348801   0.339398   0.891763                                                                              \n",
      "    2      0.346371   0.343235   0.890402                                                                              \n",
      "    3      0.419045   0.353102   0.885636                                                                              \n",
      "    4      0.365495   0.348788   0.87951                                                                               \n",
      "    5      0.330214   0.343765   0.885636                                                                              \n",
      "    6      0.296161   0.342165   0.883594                                                                              \n",
      "\n"
     ]
    },
    {
     "data": {
      "text/plain": [
       "[array([0.34217]), 0.8835942819866702]"
      ]
     },
     "execution_count": 17,
     "metadata": {},
     "output_type": "execute_result"
    }
   ],
   "source": [
    "sz=299\n",
    "learn.set_data(get_data(sz,16))\n",
    "learn.freeze()\n",
    "learn.fit(lr, 3, cycle_len=1, cycle_mult=2)"
   ]
  },
  {
   "cell_type": "code",
   "execution_count": 18,
   "metadata": {},
   "outputs": [
    {
     "data": {
      "application/vnd.jupyter.widget-view+json": {
       "model_id": "0dd1da773176442d8e634fed5b7c40a3",
       "version_major": 2,
       "version_minor": 0
      },
      "text/plain": [
       "HBox(children=(IntProgress(value=0, description='Epoch', max=7), HTML(value='')))"
      ]
     },
     "metadata": {},
     "output_type": "display_data"
    },
    {
     "name": "stdout",
     "output_type": "stream",
     "text": [
      "epoch      trn_loss   val_loss   accuracy                                                                              \n",
      "    0      0.494519   0.408743   0.868618  \n",
      "    1      0.764036   0.562647   0.810756                                                                              \n",
      "    2      0.356399   0.351099   0.882914                                                                              \n",
      "    3      0.871881   0.628604   0.795099                                                                              \n",
      "    4      0.605914   0.438012   0.85228                                                                               \n",
      "    5      0.370129   0.336898   0.885636                                                                              \n",
      "    6      0.288081   0.318677   0.901293                                                                              \n",
      "\n"
     ]
    }
   ],
   "source": [
    "learn.unfreeze()\n",
    "learn.bn_freeze(True)\n",
    "learn.fit(lrs, 3, cycle_len=1, cycle_mult=2)\n",
    "learn.save(f'{sz}')"
   ]
  },
  {
   "cell_type": "code",
   "execution_count": 19,
   "metadata": {},
   "outputs": [
    {
     "name": "stdout",
     "output_type": "stream",
     "text": [
      "                                                                                                                       \r"
     ]
    },
    {
     "data": {
      "text/plain": [
       "(0.8951667801225324, 0.31617706290602854)"
      ]
     },
     "execution_count": 19,
     "metadata": {},
     "output_type": "execute_result"
    }
   ],
   "source": [
    "log_preds, y = learn.TTA()\n",
    "probs = np.mean(np.exp(log_preds),0)\n",
    "accuracy_np(probs, y), metrics.log_loss(y, probs)"
   ]
  },
  {
   "cell_type": "markdown",
   "metadata": {},
   "source": [
    "# Run on test data now and create a submission"
   ]
  },
  {
   "cell_type": "code",
   "execution_count": 20,
   "metadata": {},
   "outputs": [
    {
     "name": "stdout",
     "output_type": "stream",
     "text": [
      "                                                                                                                       \r"
     ]
    }
   ],
   "source": [
    "log_preds,y = learn.TTA(is_test=True) #use test dataset not validation dataset\n",
    "probs = np.mean(np.exp(log_preds),0)"
   ]
  },
  {
   "cell_type": "code",
   "execution_count": 21,
   "metadata": {},
   "outputs": [
    {
     "data": {
      "text/html": [
       "<div>\n",
       "<style scoped>\n",
       "    .dataframe tbody tr th:only-of-type {\n",
       "        vertical-align: middle;\n",
       "    }\n",
       "\n",
       "    .dataframe tbody tr th {\n",
       "        vertical-align: top;\n",
       "    }\n",
       "\n",
       "    .dataframe thead th {\n",
       "        text-align: right;\n",
       "    }\n",
       "</style>\n",
       "<table border=\"1\" class=\"dataframe\">\n",
       "  <thead>\n",
       "    <tr style=\"text-align: right;\">\n",
       "      <th></th>\n",
       "      <th>id</th>\n",
       "      <th>abyssinian</th>\n",
       "      <th>american_bulldog</th>\n",
       "      <th>american_pit_bull_terrier</th>\n",
       "      <th>basset_hound</th>\n",
       "      <th>beagle</th>\n",
       "      <th>bengal</th>\n",
       "      <th>birman</th>\n",
       "      <th>bombay</th>\n",
       "      <th>boxer</th>\n",
       "      <th>...</th>\n",
       "      <th>russian_blue</th>\n",
       "      <th>saint_bernard</th>\n",
       "      <th>samoyed</th>\n",
       "      <th>scottish_terrier</th>\n",
       "      <th>shiba_inu</th>\n",
       "      <th>siamese</th>\n",
       "      <th>sphynx</th>\n",
       "      <th>staffordshire_bull_terrier</th>\n",
       "      <th>wheaten_terrier</th>\n",
       "      <th>yorkshire_terrier</th>\n",
       "    </tr>\n",
       "  </thead>\n",
       "  <tbody>\n",
       "    <tr>\n",
       "      <th>0</th>\n",
       "      <td>0006246bf61f5801e125c305d2ed25e2</td>\n",
       "      <td>2.681797e-04</td>\n",
       "      <td>2.959661e-03</td>\n",
       "      <td>2.162147e-03</td>\n",
       "      <td>5.902693e-04</td>\n",
       "      <td>8.331216e-04</td>\n",
       "      <td>3.257815e-04</td>\n",
       "      <td>2.498083e-03</td>\n",
       "      <td>0.000353</td>\n",
       "      <td>1.220311e-02</td>\n",
       "      <td>...</td>\n",
       "      <td>0.001132</td>\n",
       "      <td>2.347799e-03</td>\n",
       "      <td>1.992941e-04</td>\n",
       "      <td>3.260463e-04</td>\n",
       "      <td>2.118262e-03</td>\n",
       "      <td>8.098780e-02</td>\n",
       "      <td>2.141491e-04</td>\n",
       "      <td>6.761466e-03</td>\n",
       "      <td>4.934667e-04</td>\n",
       "      <td>1.267245e-04</td>\n",
       "    </tr>\n",
       "    <tr>\n",
       "      <th>1</th>\n",
       "      <td>001e73b6915f4128065470cdd3766fcd</td>\n",
       "      <td>6.488925e-05</td>\n",
       "      <td>1.721284e-07</td>\n",
       "      <td>1.599076e-08</td>\n",
       "      <td>5.144778e-08</td>\n",
       "      <td>5.711307e-09</td>\n",
       "      <td>5.432115e-03</td>\n",
       "      <td>1.974599e-08</td>\n",
       "      <td>0.000010</td>\n",
       "      <td>4.102268e-08</td>\n",
       "      <td>...</td>\n",
       "      <td>0.000197</td>\n",
       "      <td>4.511386e-09</td>\n",
       "      <td>8.563491e-08</td>\n",
       "      <td>9.062567e-08</td>\n",
       "      <td>4.008244e-08</td>\n",
       "      <td>6.193928e-08</td>\n",
       "      <td>2.614930e-05</td>\n",
       "      <td>1.698273e-08</td>\n",
       "      <td>1.101904e-07</td>\n",
       "      <td>5.389499e-08</td>\n",
       "    </tr>\n",
       "    <tr>\n",
       "      <th>2</th>\n",
       "      <td>002d5910de023eddce8358edf169c07f</td>\n",
       "      <td>1.344918e-06</td>\n",
       "      <td>5.133011e-04</td>\n",
       "      <td>1.534123e-05</td>\n",
       "      <td>6.781430e-07</td>\n",
       "      <td>9.542901e-06</td>\n",
       "      <td>1.196019e-06</td>\n",
       "      <td>5.962776e-06</td>\n",
       "      <td>0.000002</td>\n",
       "      <td>2.877464e-06</td>\n",
       "      <td>...</td>\n",
       "      <td>0.000056</td>\n",
       "      <td>1.439581e-04</td>\n",
       "      <td>9.224401e-01</td>\n",
       "      <td>7.171273e-06</td>\n",
       "      <td>3.711433e-03</td>\n",
       "      <td>1.696454e-06</td>\n",
       "      <td>2.421740e-06</td>\n",
       "      <td>2.817564e-04</td>\n",
       "      <td>3.323782e-05</td>\n",
       "      <td>6.531671e-08</td>\n",
       "    </tr>\n",
       "    <tr>\n",
       "      <th>3</th>\n",
       "      <td>003b7dec4fe65ec846854c7597617a23</td>\n",
       "      <td>6.620718e-07</td>\n",
       "      <td>1.225802e-04</td>\n",
       "      <td>6.207456e-02</td>\n",
       "      <td>6.473377e-05</td>\n",
       "      <td>9.905028e-06</td>\n",
       "      <td>1.093506e-06</td>\n",
       "      <td>9.512871e-09</td>\n",
       "      <td>0.000005</td>\n",
       "      <td>7.516094e-04</td>\n",
       "      <td>...</td>\n",
       "      <td>0.000028</td>\n",
       "      <td>2.004240e-07</td>\n",
       "      <td>6.014229e-08</td>\n",
       "      <td>1.088908e-06</td>\n",
       "      <td>1.469549e-06</td>\n",
       "      <td>2.830627e-07</td>\n",
       "      <td>8.495577e-06</td>\n",
       "      <td>1.403855e-01</td>\n",
       "      <td>1.845076e-07</td>\n",
       "      <td>1.013325e-07</td>\n",
       "    </tr>\n",
       "    <tr>\n",
       "      <th>4</th>\n",
       "      <td>004955e30603d8c06c1ff917736eb418</td>\n",
       "      <td>9.827052e-07</td>\n",
       "      <td>8.363490e-10</td>\n",
       "      <td>1.925780e-09</td>\n",
       "      <td>5.034797e-09</td>\n",
       "      <td>4.374346e-09</td>\n",
       "      <td>2.123180e-07</td>\n",
       "      <td>5.158247e-09</td>\n",
       "      <td>0.999656</td>\n",
       "      <td>3.182263e-08</td>\n",
       "      <td>...</td>\n",
       "      <td>0.000072</td>\n",
       "      <td>2.177004e-10</td>\n",
       "      <td>2.074316e-09</td>\n",
       "      <td>9.892935e-07</td>\n",
       "      <td>2.390029e-09</td>\n",
       "      <td>1.666318e-07</td>\n",
       "      <td>2.348233e-08</td>\n",
       "      <td>9.611413e-09</td>\n",
       "      <td>9.252313e-10</td>\n",
       "      <td>2.335749e-08</td>\n",
       "    </tr>\n",
       "  </tbody>\n",
       "</table>\n",
       "<p>5 rows × 38 columns</p>\n",
       "</div>"
      ],
      "text/plain": [
       "                                 id    abyssinian  american_bulldog  \\\n",
       "0  0006246bf61f5801e125c305d2ed25e2  2.681797e-04      2.959661e-03   \n",
       "1  001e73b6915f4128065470cdd3766fcd  6.488925e-05      1.721284e-07   \n",
       "2  002d5910de023eddce8358edf169c07f  1.344918e-06      5.133011e-04   \n",
       "3  003b7dec4fe65ec846854c7597617a23  6.620718e-07      1.225802e-04   \n",
       "4  004955e30603d8c06c1ff917736eb418  9.827052e-07      8.363490e-10   \n",
       "\n",
       "   american_pit_bull_terrier  basset_hound        beagle        bengal  \\\n",
       "0               2.162147e-03  5.902693e-04  8.331216e-04  3.257815e-04   \n",
       "1               1.599076e-08  5.144778e-08  5.711307e-09  5.432115e-03   \n",
       "2               1.534123e-05  6.781430e-07  9.542901e-06  1.196019e-06   \n",
       "3               6.207456e-02  6.473377e-05  9.905028e-06  1.093506e-06   \n",
       "4               1.925780e-09  5.034797e-09  4.374346e-09  2.123180e-07   \n",
       "\n",
       "         birman    bombay         boxer        ...          russian_blue  \\\n",
       "0  2.498083e-03  0.000353  1.220311e-02        ...              0.001132   \n",
       "1  1.974599e-08  0.000010  4.102268e-08        ...              0.000197   \n",
       "2  5.962776e-06  0.000002  2.877464e-06        ...              0.000056   \n",
       "3  9.512871e-09  0.000005  7.516094e-04        ...              0.000028   \n",
       "4  5.158247e-09  0.999656  3.182263e-08        ...              0.000072   \n",
       "\n",
       "   saint_bernard       samoyed  scottish_terrier     shiba_inu       siamese  \\\n",
       "0   2.347799e-03  1.992941e-04      3.260463e-04  2.118262e-03  8.098780e-02   \n",
       "1   4.511386e-09  8.563491e-08      9.062567e-08  4.008244e-08  6.193928e-08   \n",
       "2   1.439581e-04  9.224401e-01      7.171273e-06  3.711433e-03  1.696454e-06   \n",
       "3   2.004240e-07  6.014229e-08      1.088908e-06  1.469549e-06  2.830627e-07   \n",
       "4   2.177004e-10  2.074316e-09      9.892935e-07  2.390029e-09  1.666318e-07   \n",
       "\n",
       "         sphynx  staffordshire_bull_terrier  wheaten_terrier  \\\n",
       "0  2.141491e-04                6.761466e-03     4.934667e-04   \n",
       "1  2.614930e-05                1.698273e-08     1.101904e-07   \n",
       "2  2.421740e-06                2.817564e-04     3.323782e-05   \n",
       "3  8.495577e-06                1.403855e-01     1.845076e-07   \n",
       "4  2.348233e-08                9.611413e-09     9.252313e-10   \n",
       "\n",
       "   yorkshire_terrier  \n",
       "0       1.267245e-04  \n",
       "1       5.389499e-08  \n",
       "2       6.531671e-08  \n",
       "3       1.013325e-07  \n",
       "4       2.335749e-08  \n",
       "\n",
       "[5 rows x 38 columns]"
      ]
     },
     "execution_count": 21,
     "metadata": {},
     "output_type": "execute_result"
    }
   ],
   "source": [
    "df = pd.DataFrame(probs)\n",
    "df.columns = data.classes\n",
    "df.insert(0, 'id', [o[5:-4] for o in data.test_ds.fnames])\n",
    "df.head()"
   ]
  },
  {
   "cell_type": "code",
   "execution_count": 22,
   "metadata": {},
   "outputs": [
    {
     "data": {
      "text/html": [
       "<a href='data/dogcatbreed//subm/fs1-subm1.gz' target='_blank'>data/dogcatbreed//subm/fs1-subm1.gz</a><br>"
      ],
      "text/plain": [
       "C:\\Users\\nissan.dookeran\\Documents\\Github\\fastai\\courses\\dl1\\data\\dogcatbreed\\subm\\fs1-subm1.gz"
      ]
     },
     "execution_count": 22,
     "metadata": {},
     "output_type": "execute_result"
    }
   ],
   "source": [
    "SUBM = f'{PATH}/subm/'\n",
    "os.makedirs(SUBM, exist_ok=True)\n",
    "df.to_csv(f'{SUBM}fs1-subm1.gz', compression='gzip', index=False)\n",
    "FileLink(f'{SUBM}fs1-subm1.gz')"
   ]
  },
  {
   "cell_type": "code",
   "execution_count": null,
   "metadata": {},
   "outputs": [],
   "source": []
  }
 ],
 "metadata": {
  "kernelspec": {
   "display_name": "Python 3",
   "language": "python",
   "name": "python3"
  },
  "language_info": {
   "codemirror_mode": {
    "name": "ipython",
    "version": 3
   },
   "file_extension": ".py",
   "mimetype": "text/x-python",
   "name": "python",
   "nbconvert_exporter": "python",
   "pygments_lexer": "ipython3",
   "version": "3.6.6"
  }
 },
 "nbformat": 4,
 "nbformat_minor": 2
}
