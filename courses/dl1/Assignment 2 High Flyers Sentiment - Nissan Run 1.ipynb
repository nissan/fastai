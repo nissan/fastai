{
 "cells": [
  {
   "cell_type": "code",
   "execution_count": 1,
   "metadata": {},
   "outputs": [],
   "source": [
    "%reload_ext autoreload\n",
    "%autoreload 2\n",
    "%matplotlib inline\n",
    "\n",
    "from fastai.model import fit\n",
    "from fastai.dataset import *\n",
    "\n",
    "import torchtext\n",
    "from torchtext import vocab, data\n",
    "from torchtext.datasets import language_modeling\n",
    "\n",
    "from fastai.rnn_reg import *\n",
    "from fastai.rnn_train import *\n",
    "from fastai.nlp import *\n",
    "from fastai.lm_rnn import *\n",
    "\n",
    "import dill as Pickle\n",
    "import spacy\n",
    "import random\n",
    "\n",
    "from fastai.structured import *\n",
    "from fastai.column_data import *"
   ]
  },
  {
   "cell_type": "code",
   "execution_count": 2,
   "metadata": {},
   "outputs": [],
   "source": [
    "bs,bptt = 64,70"
   ]
  },
  {
   "cell_type": "markdown",
   "metadata": {
    "collapsed": true
   },
   "source": [
    "## Language modeling"
   ]
  },
  {
   "cell_type": "markdown",
   "metadata": {},
   "source": [
    "### Data"
   ]
  },
  {
   "cell_type": "code",
   "execution_count": 3,
   "metadata": {},
   "outputs": [],
   "source": [
    "import pandas as pd"
   ]
  },
  {
   "cell_type": "code",
   "execution_count": 4,
   "metadata": {},
   "outputs": [],
   "source": [
    "PATH='data/high-flyers/'\n",
    "\n",
    "df_tweets = pd.read_csv(f'{PATH}train.csv', index_col=0)\n",
    "df_test = pd.read_csv(f'{PATH}test.csv', index_col=0)"
   ]
  },
  {
   "cell_type": "code",
   "execution_count": 5,
   "metadata": {},
   "outputs": [
    {
     "data": {
      "text/html": [
       "<div>\n",
       "<style scoped>\n",
       "    .dataframe tbody tr th:only-of-type {\n",
       "        vertical-align: middle;\n",
       "    }\n",
       "\n",
       "    .dataframe tbody tr th {\n",
       "        vertical-align: top;\n",
       "    }\n",
       "\n",
       "    .dataframe thead th {\n",
       "        text-align: right;\n",
       "    }\n",
       "</style>\n",
       "<table border=\"1\" class=\"dataframe\">\n",
       "  <thead>\n",
       "    <tr style=\"text-align: right;\">\n",
       "      <th></th>\n",
       "      <th>text</th>\n",
       "      <th>airline</th>\n",
       "      <th>tweet_location</th>\n",
       "      <th>user_timezone</th>\n",
       "      <th>sentiment</th>\n",
       "    </tr>\n",
       "    <tr>\n",
       "      <th>id</th>\n",
       "      <th></th>\n",
       "      <th></th>\n",
       "      <th></th>\n",
       "      <th></th>\n",
       "      <th></th>\n",
       "    </tr>\n",
       "  </thead>\n",
       "  <tbody>\n",
       "    <tr>\n",
       "      <th>0</th>\n",
       "      <td>@JetBlue great flight! Great view! :-) http://...</td>\n",
       "      <td>Delta</td>\n",
       "      <td>NaN</td>\n",
       "      <td>NaN</td>\n",
       "      <td>positive</td>\n",
       "    </tr>\n",
       "    <tr>\n",
       "      <th>1</th>\n",
       "      <td>@united they're not, actually. gate agent was ...</td>\n",
       "      <td>United</td>\n",
       "      <td>chicago</td>\n",
       "      <td>NaN</td>\n",
       "      <td>negative</td>\n",
       "    </tr>\n",
       "    <tr>\n",
       "      <th>2</th>\n",
       "      <td>@AmericanAir No worries they called back 4 hrs...</td>\n",
       "      <td>American</td>\n",
       "      <td>Dallas, Texas</td>\n",
       "      <td>NaN</td>\n",
       "      <td>negative</td>\n",
       "    </tr>\n",
       "    <tr>\n",
       "      <th>3</th>\n",
       "      <td>@united thank you. There was one here a few mo...</td>\n",
       "      <td>United</td>\n",
       "      <td>New York, NY</td>\n",
       "      <td>America/New_York</td>\n",
       "      <td>positive</td>\n",
       "    </tr>\n",
       "    <tr>\n",
       "      <th>4</th>\n",
       "      <td>@united Brothers luggage was lost on Copa Airl...</td>\n",
       "      <td>United</td>\n",
       "      <td>Kearney, Nebraska</td>\n",
       "      <td>Central Time (US &amp; Canada)</td>\n",
       "      <td>negative</td>\n",
       "    </tr>\n",
       "  </tbody>\n",
       "</table>\n",
       "</div>"
      ],
      "text/plain": [
       "                                                 text   airline  \\\n",
       "id                                                                \n",
       "0   @JetBlue great flight! Great view! :-) http://...     Delta   \n",
       "1   @united they're not, actually. gate agent was ...    United   \n",
       "2   @AmericanAir No worries they called back 4 hrs...  American   \n",
       "3   @united thank you. There was one here a few mo...    United   \n",
       "4   @united Brothers luggage was lost on Copa Airl...    United   \n",
       "\n",
       "       tweet_location               user_timezone sentiment  \n",
       "id                                                           \n",
       "0                 NaN                         NaN  positive  \n",
       "1             chicago                         NaN  negative  \n",
       "2       Dallas, Texas                         NaN  negative  \n",
       "3        New York, NY            America/New_York  positive  \n",
       "4   Kearney, Nebraska  Central Time (US & Canada)  negative  "
      ]
     },
     "metadata": {},
     "output_type": "display_data"
    }
   ],
   "source": [
    "from IPython.display import HTML, display\n",
    "display(df_tweets.head())"
   ]
  },
  {
   "cell_type": "code",
   "execution_count": 6,
   "metadata": {},
   "outputs": [
    {
     "data": {
      "text/html": [
       "<div>\n",
       "<style scoped>\n",
       "    .dataframe tbody tr th:only-of-type {\n",
       "        vertical-align: middle;\n",
       "    }\n",
       "\n",
       "    .dataframe tbody tr th {\n",
       "        vertical-align: top;\n",
       "    }\n",
       "\n",
       "    .dataframe thead th {\n",
       "        text-align: right;\n",
       "    }\n",
       "</style>\n",
       "<table border=\"1\" class=\"dataframe\">\n",
       "  <thead>\n",
       "    <tr style=\"text-align: right;\">\n",
       "      <th></th>\n",
       "      <th>text</th>\n",
       "      <th>airline</th>\n",
       "      <th>tweet_location</th>\n",
       "      <th>user_timezone</th>\n",
       "      <th>sentiment</th>\n",
       "    </tr>\n",
       "  </thead>\n",
       "  <tbody>\n",
       "    <tr>\n",
       "      <th>count</th>\n",
       "      <td>10387</td>\n",
       "      <td>10387</td>\n",
       "      <td>6972</td>\n",
       "      <td>6901</td>\n",
       "      <td>10387</td>\n",
       "    </tr>\n",
       "    <tr>\n",
       "      <th>unique</th>\n",
       "      <td>10258</td>\n",
       "      <td>6</td>\n",
       "      <td>2429</td>\n",
       "      <td>76</td>\n",
       "      <td>2</td>\n",
       "    </tr>\n",
       "    <tr>\n",
       "      <th>top</th>\n",
       "      <td>@JetBlue thanks!</td>\n",
       "      <td>United</td>\n",
       "      <td>Washington, DC</td>\n",
       "      <td>Eastern Time (US &amp; Canada)</td>\n",
       "      <td>negative</td>\n",
       "    </tr>\n",
       "    <tr>\n",
       "      <th>freq</th>\n",
       "      <td>5</td>\n",
       "      <td>2822</td>\n",
       "      <td>120</td>\n",
       "      <td>2673</td>\n",
       "      <td>8242</td>\n",
       "    </tr>\n",
       "    <tr>\n",
       "      <th>counts</th>\n",
       "      <td>10387</td>\n",
       "      <td>10387</td>\n",
       "      <td>6972</td>\n",
       "      <td>6901</td>\n",
       "      <td>10387</td>\n",
       "    </tr>\n",
       "    <tr>\n",
       "      <th>uniques</th>\n",
       "      <td>10258</td>\n",
       "      <td>6</td>\n",
       "      <td>2429</td>\n",
       "      <td>76</td>\n",
       "      <td>2</td>\n",
       "    </tr>\n",
       "    <tr>\n",
       "      <th>missing</th>\n",
       "      <td>0</td>\n",
       "      <td>0</td>\n",
       "      <td>3415</td>\n",
       "      <td>3486</td>\n",
       "      <td>0</td>\n",
       "    </tr>\n",
       "    <tr>\n",
       "      <th>missing_perc</th>\n",
       "      <td>0%</td>\n",
       "      <td>0%</td>\n",
       "      <td>32.88%</td>\n",
       "      <td>33.56%</td>\n",
       "      <td>0%</td>\n",
       "    </tr>\n",
       "    <tr>\n",
       "      <th>types</th>\n",
       "      <td>categorical</td>\n",
       "      <td>categorical</td>\n",
       "      <td>categorical</td>\n",
       "      <td>categorical</td>\n",
       "      <td>bool</td>\n",
       "    </tr>\n",
       "  </tbody>\n",
       "</table>\n",
       "</div>"
      ],
      "text/plain": [
       "                          text      airline  tweet_location  \\\n",
       "count                    10387        10387            6972   \n",
       "unique                   10258            6            2429   \n",
       "top           @JetBlue thanks!       United  Washington, DC   \n",
       "freq                         5         2822             120   \n",
       "counts                   10387        10387            6972   \n",
       "uniques                  10258            6            2429   \n",
       "missing                      0            0            3415   \n",
       "missing_perc                0%           0%          32.88%   \n",
       "types              categorical  categorical     categorical   \n",
       "\n",
       "                           user_timezone sentiment  \n",
       "count                               6901     10387  \n",
       "unique                                76         2  \n",
       "top           Eastern Time (US & Canada)  negative  \n",
       "freq                                2673      8242  \n",
       "counts                              6901     10387  \n",
       "uniques                               76         2  \n",
       "missing                             3486         0  \n",
       "missing_perc                      33.56%        0%  \n",
       "types                        categorical      bool  "
      ]
     },
     "metadata": {},
     "output_type": "display_data"
    }
   ],
   "source": [
    "display(DataFrameSummary(df_tweets).summary())"
   ]
  },
  {
   "cell_type": "code",
   "execution_count": 7,
   "metadata": {},
   "outputs": [],
   "source": [
    "df_tweets = df_tweets.drop(columns=[\"airline\", \"tweet_location\", \"user_timezone\"])"
   ]
  },
  {
   "cell_type": "code",
   "execution_count": 8,
   "metadata": {},
   "outputs": [],
   "source": [
    "my_tok = spacy.load('en')\n",
    "# TEXT = data.Field(lower=True, tokenize=my_tok)\n",
    "TEXT = data.Field(lower=True, tokenize=\"spacy\")"
   ]
  },
  {
   "cell_type": "code",
   "execution_count": 9,
   "metadata": {},
   "outputs": [],
   "source": [
    "os.makedirs(f'{PATH}trn/positive', exist_ok=True)\n",
    "os.makedirs(f'{PATH}val/positive', exist_ok=True)\n",
    "os.makedirs(f'{PATH}trn/negative', exist_ok=True)\n",
    "os.makedirs(f'{PATH}val/negative', exist_ok=True)\n",
    "os.makedirs(f'{PATH}all/trn', exist_ok=True)\n",
    "os.makedirs(f'{PATH}all/val', exist_ok=True)\n",
    "os.makedirs(f'{PATH}models', exist_ok=True)"
   ]
  },
  {
   "cell_type": "code",
   "execution_count": 10,
   "metadata": {},
   "outputs": [
    {
     "data": {
      "text/html": [
       "<div>\n",
       "<style scoped>\n",
       "    .dataframe tbody tr th:only-of-type {\n",
       "        vertical-align: middle;\n",
       "    }\n",
       "\n",
       "    .dataframe tbody tr th {\n",
       "        vertical-align: top;\n",
       "    }\n",
       "\n",
       "    .dataframe thead th {\n",
       "        text-align: right;\n",
       "    }\n",
       "</style>\n",
       "<table border=\"1\" class=\"dataframe\">\n",
       "  <thead>\n",
       "    <tr style=\"text-align: right;\">\n",
       "      <th></th>\n",
       "      <th>text</th>\n",
       "      <th>sentiment</th>\n",
       "    </tr>\n",
       "    <tr>\n",
       "      <th>id</th>\n",
       "      <th></th>\n",
       "      <th></th>\n",
       "    </tr>\n",
       "  </thead>\n",
       "  <tbody>\n",
       "    <tr>\n",
       "      <th>8954</th>\n",
       "      <td>@USAirways figure it out, have had 2 Cancelled...</td>\n",
       "      <td>negative</td>\n",
       "    </tr>\n",
       "    <tr>\n",
       "      <th>6495</th>\n",
       "      <td>@AmericanAir checked in at Des Moines, lay ove...</td>\n",
       "      <td>negative</td>\n",
       "    </tr>\n",
       "    <tr>\n",
       "      <th>4184</th>\n",
       "      <td>@united more people would catch their flights ...</td>\n",
       "      <td>negative</td>\n",
       "    </tr>\n",
       "    <tr>\n",
       "      <th>7015</th>\n",
       "      <td>@AmericanAir I can't!!!  No one can't get to \"...</td>\n",
       "      <td>negative</td>\n",
       "    </tr>\n",
       "    <tr>\n",
       "      <th>5860</th>\n",
       "      <td>@USAirways Now I am probably going to miss my ...</td>\n",
       "      <td>negative</td>\n",
       "    </tr>\n",
       "  </tbody>\n",
       "</table>\n",
       "</div>"
      ],
      "text/plain": [
       "                                                   text sentiment\n",
       "id                                                               \n",
       "8954  @USAirways figure it out, have had 2 Cancelled...  negative\n",
       "6495  @AmericanAir checked in at Des Moines, lay ove...  negative\n",
       "4184  @united more people would catch their flights ...  negative\n",
       "7015  @AmericanAir I can't!!!  No one can't get to \"...  negative\n",
       "5860  @USAirways Now I am probably going to miss my ...  negative"
      ]
     },
     "execution_count": 10,
     "metadata": {},
     "output_type": "execute_result"
    }
   ],
   "source": [
    "val_idxs = get_cv_idxs(len(df_tweets))\n",
    "df_val = df_tweets.loc[val_idxs]\n",
    "df_val.head()"
   ]
  },
  {
   "cell_type": "code",
   "execution_count": 11,
   "metadata": {},
   "outputs": [
    {
     "data": {
      "text/html": [
       "<div>\n",
       "<style scoped>\n",
       "    .dataframe tbody tr th:only-of-type {\n",
       "        vertical-align: middle;\n",
       "    }\n",
       "\n",
       "    .dataframe tbody tr th {\n",
       "        vertical-align: top;\n",
       "    }\n",
       "\n",
       "    .dataframe thead th {\n",
       "        text-align: right;\n",
       "    }\n",
       "</style>\n",
       "<table border=\"1\" class=\"dataframe\">\n",
       "  <thead>\n",
       "    <tr style=\"text-align: right;\">\n",
       "      <th></th>\n",
       "      <th>text</th>\n",
       "      <th>sentiment</th>\n",
       "    </tr>\n",
       "    <tr>\n",
       "      <th>id</th>\n",
       "      <th></th>\n",
       "      <th></th>\n",
       "    </tr>\n",
       "  </thead>\n",
       "  <tbody>\n",
       "    <tr>\n",
       "      <th>1</th>\n",
       "      <td>@united they're not, actually. gate agent was ...</td>\n",
       "      <td>negative</td>\n",
       "    </tr>\n",
       "    <tr>\n",
       "      <th>2</th>\n",
       "      <td>@AmericanAir No worries they called back 4 hrs...</td>\n",
       "      <td>negative</td>\n",
       "    </tr>\n",
       "    <tr>\n",
       "      <th>4</th>\n",
       "      <td>@united Brothers luggage was lost on Copa Airl...</td>\n",
       "      <td>negative</td>\n",
       "    </tr>\n",
       "    <tr>\n",
       "      <th>5</th>\n",
       "      <td>@AmericanAir Great, thanks. Followed.</td>\n",
       "      <td>positive</td>\n",
       "    </tr>\n",
       "    <tr>\n",
       "      <th>6</th>\n",
       "      <td>@USAirways You all work hard at making sure th...</td>\n",
       "      <td>positive</td>\n",
       "    </tr>\n",
       "    <tr>\n",
       "      <th>7</th>\n",
       "      <td>@united we have been told that it's lost...you...</td>\n",
       "      <td>negative</td>\n",
       "    </tr>\n",
       "    <tr>\n",
       "      <th>9</th>\n",
       "      <td>@united we got it, thanks.</td>\n",
       "      <td>positive</td>\n",
       "    </tr>\n",
       "    <tr>\n",
       "      <th>11</th>\n",
       "      <td>@AmericanAir ahhhh your silence is golden now....</td>\n",
       "      <td>negative</td>\n",
       "    </tr>\n",
       "    <tr>\n",
       "      <th>12</th>\n",
       "      <td>@SouthwestAir looks like you are up and runnin...</td>\n",
       "      <td>negative</td>\n",
       "    </tr>\n",
       "    <tr>\n",
       "      <th>13</th>\n",
       "      <td>@AmericanAir trying to change my flight and yo...</td>\n",
       "      <td>negative</td>\n",
       "    </tr>\n",
       "    <tr>\n",
       "      <th>15</th>\n",
       "      <td>@united at its worse. Can't figure how to pack...</td>\n",
       "      <td>negative</td>\n",
       "    </tr>\n",
       "    <tr>\n",
       "      <th>16</th>\n",
       "      <td>@SouthwestAir Thx to customer service rep ALEX...</td>\n",
       "      <td>positive</td>\n",
       "    </tr>\n",
       "    <tr>\n",
       "      <th>17</th>\n",
       "      <td>@JetBlue @martysg Spoke to Corp. Customer Supp...</td>\n",
       "      <td>negative</td>\n",
       "    </tr>\n",
       "    <tr>\n",
       "      <th>18</th>\n",
       "      <td>@JetBlue A320 pulling into the gate as the sun...</td>\n",
       "      <td>positive</td>\n",
       "    </tr>\n",
       "    <tr>\n",
       "      <th>21</th>\n",
       "      <td>@united I'm 0/3 for Flight Booking Problems wi...</td>\n",
       "      <td>negative</td>\n",
       "    </tr>\n",
       "  </tbody>\n",
       "</table>\n",
       "</div>"
      ],
      "text/plain": [
       "                                                 text sentiment\n",
       "id                                                             \n",
       "1   @united they're not, actually. gate agent was ...  negative\n",
       "2   @AmericanAir No worries they called back 4 hrs...  negative\n",
       "4   @united Brothers luggage was lost on Copa Airl...  negative\n",
       "5               @AmericanAir Great, thanks. Followed.  positive\n",
       "6   @USAirways You all work hard at making sure th...  positive\n",
       "7   @united we have been told that it's lost...you...  negative\n",
       "9                          @united we got it, thanks.  positive\n",
       "11  @AmericanAir ahhhh your silence is golden now....  negative\n",
       "12  @SouthwestAir looks like you are up and runnin...  negative\n",
       "13  @AmericanAir trying to change my flight and yo...  negative\n",
       "15  @united at its worse. Can't figure how to pack...  negative\n",
       "16  @SouthwestAir Thx to customer service rep ALEX...  positive\n",
       "17  @JetBlue @martysg Spoke to Corp. Customer Supp...  negative\n",
       "18  @JetBlue A320 pulling into the gate as the sun...  positive\n",
       "21  @united I'm 0/3 for Flight Booking Problems wi...  negative"
      ]
     },
     "execution_count": 11,
     "metadata": {},
     "output_type": "execute_result"
    }
   ],
   "source": [
    "df_trn = df_tweets.drop(df_tweets.index[val_idxs])\n",
    "df_trn[:15]"
   ]
  },
  {
   "cell_type": "code",
   "execution_count": 12,
   "metadata": {},
   "outputs": [],
   "source": [
    "md = LanguageModelData.from_dataframes(f'{PATH}all/', TEXT, \"text\",df_trn, df_val,test_df=df_test, bs=bs, bptt=bptt, min_freq=10)\n",
    "# LanguageModelData.from_text_files(f'{PATH}all/', TEXT, **FILES, bs=bs, bptt=bptt, min_freq=10)"
   ]
  },
  {
   "cell_type": "code",
   "execution_count": 13,
   "metadata": {},
   "outputs": [],
   "source": [
    "os.makedirs(f'{PATH}models', exist_ok=True)\n",
    "Pickle.dump(TEXT, open(f'{PATH}models/TEXT.pkl','wb'))"
   ]
  },
  {
   "cell_type": "code",
   "execution_count": 14,
   "metadata": {},
   "outputs": [
    {
     "data": {
      "text/plain": [
       "(45, 1385, 1, 206924)"
      ]
     },
     "execution_count": 14,
     "metadata": {},
     "output_type": "execute_result"
    }
   ],
   "source": [
    "len(md.trn_dl), md.nt, len(md.trn_ds), len(md.trn_ds[0].text)"
   ]
  },
  {
   "cell_type": "code",
   "execution_count": 15,
   "metadata": {},
   "outputs": [
    {
     "data": {
      "text/plain": [
       "['<unk>', '<pad>', '.', '<', '>', 'eos', 'to', 'i', 'the', '!', 'you', 'a']"
      ]
     },
     "execution_count": 15,
     "metadata": {},
     "output_type": "execute_result"
    }
   ],
   "source": [
    "TEXT.vocab.itos[:12]"
   ]
  },
  {
   "cell_type": "code",
   "execution_count": 16,
   "metadata": {},
   "outputs": [
    {
     "data": {
      "text/plain": [
       "\"@united they 're not , actually . gate agent was so rude . now standing in a line waiting for reflight booking problems . missed the only flight to sti . awful . < eos > @americanair no worries they called back 4 hrs late flightr while i was asleep and took an additional $ 200 fee . so by aa standards everything 's gr8 < eos > @united brothers luggage was lost on copa airlines flight 635 . he 's competing sunday for the 2015 panamerican cross country cup . please help < eos > @americanair great , thanks . followed . < eos > @usairways you all work hard at making sure things flow smoothly . keeping positive . < eos > @united we have been told that it 's lost ... you guys do n't know where it is < eos > @united we got it ,\""
      ]
     },
     "execution_count": 16,
     "metadata": {},
     "output_type": "execute_result"
    }
   ],
   "source": [
    "' '.join(md.trn_ds[0].text[:150])"
   ]
  },
  {
   "cell_type": "code",
   "execution_count": null,
   "metadata": {},
   "outputs": [],
   "source": []
  },
  {
   "cell_type": "markdown",
   "metadata": {},
   "source": [
    "### Train"
   ]
  },
  {
   "cell_type": "code",
   "execution_count": 17,
   "metadata": {},
   "outputs": [],
   "source": [
    "em_sz = 200\n",
    "nh = 500\n",
    "nl = 3\n",
    "opt_fn = partial(optim.Adam, betas=(0.7, 0.99))"
   ]
  },
  {
   "cell_type": "code",
   "execution_count": 18,
   "metadata": {},
   "outputs": [],
   "source": [
    "learner = md.get_model(opt_fn, em_sz, nh, nl,\n",
    "#    dropout=0.05, dropouth=0.1, dropouti=0.05, dropoute=0.02, wdrop=0.2)\n",
    " dropout=0.4, dropouth=0.3, dropouti=0.65, dropoute=0.1, wdrop=0.5)\n",
    "#                dropouti=0.05, dropout=0.05, wdrop=0.1, dropoute=0.02, dropouth=0.05)\n",
    "learner.reg_fn = partial(seq2seq_reg, alpha=2, beta=1)\n",
    "learner.clip=0.3"
   ]
  },
  {
   "cell_type": "code",
   "execution_count": 19,
   "metadata": {},
   "outputs": [
    {
     "data": {
      "application/vnd.jupyter.widget-view+json": {
       "model_id": "0c08e00afd5d4a60bbfc6ac9fd564106",
       "version_major": 2,
       "version_minor": 0
      },
      "text/plain": [
       "HBox(children=(IntProgress(value=0, description='Epoch', max=1), HTML(value='')))"
      ]
     },
     "metadata": {},
     "output_type": "display_data"
    },
    {
     "name": "stdout",
     "output_type": "stream",
     "text": [
      "epoch      trn_loss   val_loss                                                                                         \n",
      "    0      21.368705  213.356294\n",
      "\n"
     ]
    }
   ],
   "source": [
    "learner.lr_find()"
   ]
  },
  {
   "cell_type": "code",
   "execution_count": 20,
   "metadata": {},
   "outputs": [
    {
     "data": {
      "image/png": "[encoded data removed]",
      "text/plain": [
       "<Figure size 432x288 with 1 Axes>"
      ]
     },
     "metadata": {
      "needs_background": "light"
     },
     "output_type": "display_data"
    }
   ],
   "source": [
    "learner.sched.plot_lr()"
   ]
  },
  {
   "cell_type": "code",
   "execution_count": 21,
   "metadata": {},
   "outputs": [
    {
     "data": {
      "image/png": "[encoded data removed]",
      "text/plain": [
       "<Figure size 432x288 with 1 Axes>"
      ]
     },
     "metadata": {
      "needs_background": "light"
     },
     "output_type": "display_data"
    }
   ],
   "source": [
    "learner.sched.plot()"
   ]
  },
  {
   "cell_type": "code",
   "execution_count": 22,
   "metadata": {},
   "outputs": [
    {
     "data": {
      "application/vnd.jupyter.widget-view+json": {
       "model_id": "c2d75cd417ee471c9bf4a4bd517dc737",
       "version_major": 2,
       "version_minor": 0
      },
      "text/plain": [
       "HBox(children=(IntProgress(value=0, description='Epoch', max=1), HTML(value='')))"
      ]
     },
     "metadata": {},
     "output_type": "display_data"
    },
    {
     "name": "stdout",
     "output_type": "stream",
     "text": [
      "epoch      trn_loss   val_loss                                                                                         \n",
      "    0      5.688803   5.295673  \n",
      "\n"
     ]
    },
    {
     "data": {
      "text/plain": [
       "[array([5.29567])]"
      ]
     },
     "execution_count": 22,
     "metadata": {},
     "output_type": "execute_result"
    }
   ],
   "source": [
    "learner.fit(1e-3, 1, wds=1e-6)"
   ]
  },
  {
   "cell_type": "code",
   "execution_count": 23,
   "metadata": {},
   "outputs": [
    {
     "data": {
      "application/vnd.jupyter.widget-view+json": {
       "model_id": "dae1238327a6452d9a25fd2ce9f025d2",
       "version_major": 2,
       "version_minor": 0
      },
      "text/plain": [
       "HBox(children=(IntProgress(value=0, description='Epoch', max=31), HTML(value='')))"
      ]
     },
     "metadata": {},
     "output_type": "display_data"
    },
    {
     "name": "stdout",
     "output_type": "stream",
     "text": [
      "epoch      trn_loss   val_loss                                                                                         \n",
      "    0      5.12666    4.977058  \n",
      "    1      4.998202   4.817785                                                                                         \n",
      "    2      4.939106   4.794363                                                                                         \n",
      "    3      4.881836   4.729558                                                                                         \n",
      "    4      4.820913   4.677393                                                                                         \n",
      "    5      4.775653   4.647077                                                                                         \n",
      "    6      4.739502   4.634803                                                                                         \n",
      "    7      4.710849   4.534355                                                                                         \n",
      "    8      4.64661    4.472784                                                                                         \n",
      "    9      4.596198   4.424513                                                                                         \n",
      "    10     4.552218   4.388664                                                                                         \n",
      "    11     4.514754   4.369972                                                                                         \n",
      "    12     4.495265   4.354082                                                                                         \n",
      "    13     4.468878   4.346616                                                                                         \n",
      "    14     4.459774   4.343551                                                                                         \n",
      "    15     4.452521   4.296348                                                                                         \n",
      "    16     4.429455   4.263313                                                                                         \n",
      "    17     4.397484   4.215607                                                                                         \n",
      "    18     4.35422    4.169661                                                                                         \n",
      "    19     4.3187     4.142063                                                                                         \n",
      "    20     4.286889   4.11224                                                                                          \n",
      "    21     4.259834   4.08894                                                                                          \n",
      "    22     4.242684   4.073426                                                                                         \n",
      "    23     4.231677   4.056048                                                                                         \n",
      "    24     4.208963   4.045229                                                                                         \n",
      "    25     4.198547   4.037819                                                                                         \n",
      "    26     4.184954   4.032193                                                                                         \n",
      "    27     4.18028    4.030241                                                                                         \n",
      "    28     4.175482   4.028629                                                                                         \n",
      "    29     4.170674   4.02565                                                                                          \n",
      "    30     4.17378    4.031566                                                                                         \n",
      "\n"
     ]
    },
    {
     "data": {
      "text/plain": [
       "[array([4.03157])]"
      ]
     },
     "execution_count": 23,
     "metadata": {},
     "output_type": "execute_result"
    }
   ],
   "source": [
    "learner.fit(1e-3, 5, wds=1e-6, cycle_len=1, cycle_mult=2)"
   ]
  },
  {
   "cell_type": "code",
   "execution_count": 24,
   "metadata": {},
   "outputs": [],
   "source": [
    "learner.save_encoder('adam2_enc')"
   ]
  },
  {
   "cell_type": "code",
   "execution_count": 25,
   "metadata": {
    "scrolled": true
   },
   "outputs": [
    {
     "data": {
      "application/vnd.jupyter.widget-view+json": {
       "model_id": "3370a8d0667e4833af6498e0f9e72ec7",
       "version_major": 2,
       "version_minor": 0
      },
      "text/plain": [
       "HBox(children=(IntProgress(value=0, description='Epoch', max=10), HTML(value='')))"
      ]
     },
     "metadata": {},
     "output_type": "display_data"
    },
    {
     "name": "stdout",
     "output_type": "stream",
     "text": [
      "epoch      trn_loss   val_loss                                                                                         \n",
      "    0      4.178659   4.01914   \n",
      "    1      4.159839   3.993429                                                                                         \n",
      "    2      4.147677   3.984192                                                                                         \n",
      "    3      4.13752    3.976264                                                                                         \n",
      "    4      4.125748   3.974524                                                                                         \n",
      "    5      4.131714   3.962364                                                                                         \n",
      "    6      4.122435   3.947075                                                                                         \n",
      "    7      4.107541   3.933145                                                                                         \n",
      "    8      4.092735   3.928082                                                                                         \n",
      "    9      4.080006   3.927112                                                                                         \n",
      "\n"
     ]
    },
    {
     "data": {
      "text/plain": [
       "[array([3.92711])]"
      ]
     },
     "execution_count": 25,
     "metadata": {},
     "output_type": "execute_result"
    }
   ],
   "source": [
    "learner.fit(1e-3, 2, wds=1e-6, cycle_len=5, cycle_save_name='adam3_10')"
   ]
  },
  {
   "cell_type": "code",
   "execution_count": 26,
   "metadata": {},
   "outputs": [],
   "source": [
    "learner.save_encoder('adam3_10_enc')"
   ]
  },
  {
   "cell_type": "code",
   "execution_count": 27,
   "metadata": {},
   "outputs": [
    {
     "data": {
      "application/vnd.jupyter.widget-view+json": {
       "model_id": "a88b306c86b340bba31a574952d2782e",
       "version_major": 2,
       "version_minor": 0
      },
      "text/plain": [
       "HBox(children=(IntProgress(value=0, description='Epoch', max=15), HTML(value='')))"
      ]
     },
     "metadata": {},
     "output_type": "display_data"
    },
    {
     "name": "stdout",
     "output_type": "stream",
     "text": [
      "epoch      trn_loss   val_loss                                                                                         \n",
      "    0      4.07322    3.91568   \n",
      "    1      4.066833   3.908705                                                                                         \n",
      "    2      4.070822   3.898839                                                                                         \n",
      "    3      4.058646   3.892055                                                                                         \n",
      "    4      4.051196   3.885876                                                                                         \n",
      "    5      4.04822    3.875123                                                                                         \n",
      "    6      4.042858   3.862752                                                                                         \n",
      "    7      4.027628   3.857687                                                                                         \n",
      "    8      4.019458   3.846951                                                                                         \n",
      "    9      4.011262   3.847016                                                                                         \n",
      "    10     4.004536   3.845302                                                                                         \n",
      "    11     3.9985     3.82519                                                                                          \n",
      "    12     3.985896   3.818352                                                                                         \n",
      "    13     3.987425   3.814953                                                                                         \n",
      "    14     3.976005   3.812654                                                                                         \n",
      "\n"
     ]
    },
    {
     "data": {
      "text/plain": [
       "[array([3.81265])]"
      ]
     },
     "execution_count": 27,
     "metadata": {},
     "output_type": "execute_result"
    }
   ],
   "source": [
    "learner.fit(1e-3, 3, wds=1e-6, cycle_len=5, cycle_save_name='adam3_25')"
   ]
  },
  {
   "cell_type": "code",
   "execution_count": 28,
   "metadata": {},
   "outputs": [],
   "source": [
    "learner.save_encoder('adam3_25_enc')"
   ]
  },
  {
   "cell_type": "code",
   "execution_count": 30,
   "metadata": {},
   "outputs": [
    {
     "data": {
      "application/vnd.jupyter.widget-view+json": {
       "model_id": "dd26efa85efc499aa360602114aabd64",
       "version_major": 2,
       "version_minor": 0
      },
      "text/plain": [
       "HBox(children=(IntProgress(value=0, description='Epoch', max=50), HTML(value='')))"
      ]
     },
     "metadata": {},
     "output_type": "display_data"
    },
    {
     "name": "stdout",
     "output_type": "stream",
     "text": [
      "epoch      trn_loss   val_loss                                                                                         \n",
      "    0      3.978437   3.812648  \n",
      "    1      3.974185   3.804595                                                                                         \n",
      "    2      3.966544   3.792382                                                                                         \n",
      "    3      3.958479   3.789141                                                                                         \n",
      "    4      3.950547   3.787175                                                                                         \n",
      "    5      3.950432   3.779466                                                                                         \n",
      "    6      3.942114   3.776699                                                                                         \n",
      "    7      3.92976    3.762214                                                                                         \n",
      "    8      3.921063   3.761068                                                                                         \n",
      "    9      3.909934   3.758194                                                                                         \n",
      "    10     3.917994   3.757272                                                                                         \n",
      "    11     3.905067   3.744491                                                                                         \n",
      "    12     3.895806   3.744135                                                                                         \n",
      "    13     3.897804   3.73376                                                                                          \n",
      "    14     3.887237   3.734951                                                                                         \n",
      "    15     3.885553   3.731873                                                                                         \n",
      "    16     3.895191   3.722008                                                                                         \n",
      "    17     3.884895   3.717117                                                                                         \n",
      "    18     3.874691   3.713795                                                                                         \n",
      "    19     3.872851   3.715362                                                                                         \n",
      "    20     3.867782   3.710115                                                                                         \n",
      "    21     3.863396   3.71328                                                                                          \n",
      "    22     3.850558   3.699105                                                                                         \n",
      "    23     3.838409   3.69434                                                                                          \n",
      "    24     3.841602   3.698334                                                                                         \n",
      "    25     3.844744   3.690737                                                                                         \n",
      "    26     3.838307   3.685396                                                                                         \n",
      "    27     3.828232   3.681403                                                                                         \n",
      "    28     3.816493   3.678568                                                                                         \n",
      "    29     3.81077    3.678977                                                                                         \n",
      "    30     3.817957   3.67593                                                                                          \n",
      "    31     3.817521   3.671729                                                                                         \n",
      "    32     3.809019   3.663173                                                                                         \n",
      "    33     3.810206   3.661616                                                                                         \n",
      "    34     3.800317   3.664339                                                                                         \n",
      "    35     3.810941   3.664961                                                                                         \n",
      "    36     3.806398   3.656217                                                                                         \n",
      "    37     3.795077   3.647336                                                                                         \n",
      "    38     3.783309   3.651546                                                                                         \n",
      "    39     3.78298    3.650579                                                                                         \n",
      "    40     3.782293   3.651309                                                                                         \n",
      "    41     3.785944   3.642843                                                                                         \n",
      "    42     3.774324   3.638661                                                                                         \n",
      "    43     3.764916   3.638607                                                                                         \n",
      "    44     3.758716   3.637342                                                                                         \n",
      "    45     3.776763   3.633634                                                                                         \n",
      "    46     3.773403   3.630161                                                                                         \n",
      "    47     3.75856    3.625417                                                                                         \n",
      "    48     3.740369   3.624535                                                                                         \n",
      "    49     3.752778   3.624623                                                                                         \n",
      "\n"
     ]
    },
    {
     "data": {
      "text/plain": [
       "[array([3.62462])]"
      ]
     },
     "execution_count": 30,
     "metadata": {},
     "output_type": "execute_result"
    }
   ],
   "source": [
    "learner.fit(1e-3, 10, wds=1e-6, cycle_len=5, cycle_save_name='adam3_75')"
   ]
  },
  {
   "cell_type": "code",
   "execution_count": 31,
   "metadata": {},
   "outputs": [],
   "source": [
    "learner.save_encoder('adam3_75_enc')"
   ]
  },
  {
   "cell_type": "code",
   "execution_count": 32,
   "metadata": {},
   "outputs": [
    {
     "data": {
      "application/vnd.jupyter.widget-view+json": {
       "model_id": "752d335649a947429a84cae453372bea",
       "version_major": 2,
       "version_minor": 0
      },
      "text/plain": [
       "HBox(children=(IntProgress(value=0, description='Epoch', max=25), HTML(value='')))"
      ]
     },
     "metadata": {},
     "output_type": "display_data"
    },
    {
     "name": "stdout",
     "output_type": "stream",
     "text": [
      "epoch      trn_loss   val_loss                                                                                         \n",
      "    0      3.754348   3.625409  \n",
      "    1      3.740435   3.624799                                                                                         \n",
      "    2      3.741626   3.618994                                                                                         \n",
      "    3      3.749905   3.615592                                                                                         \n",
      "    4      3.734734   3.613788                                                                                         \n",
      "    5      3.741356   3.614287                                                                                         \n",
      "    6      3.732443   3.611029                                                                                         \n",
      "    7      3.729356   3.608173                                                                                         \n",
      "    8      3.721046   3.60213                                                                                          \n",
      "    9      3.704512   3.60231                                                                                          \n",
      "    10     3.716837   3.604088                                                                                         \n",
      "    11     3.713066   3.604275                                                                                         \n",
      "    12     3.707641   3.597393                                                                                         \n",
      "    13     3.702236   3.596276                                                                                         \n",
      "    14     3.699805   3.595323                                                                                         \n",
      "    15     3.723758   3.593468                                                                                         \n",
      "    16     3.715307   3.590268                                                                                         \n",
      "    17     3.699547   3.593805                                                                                         \n",
      "    18     3.699236   3.592179                                                                                         \n",
      "    19     3.683283   3.586982                                                                                         \n",
      "    20     3.679949   3.589912                                                                                         \n",
      "    21     3.694332   3.584604                                                                                         \n",
      "    22     3.687095   3.580816                                                                                         \n",
      "    23     3.674388   3.577253                                                                                         \n",
      "    24     3.667597   3.583188                                                                                         \n",
      "\n"
     ]
    },
    {
     "data": {
      "text/plain": [
       "[array([3.58319])]"
      ]
     },
     "execution_count": 32,
     "metadata": {},
     "output_type": "execute_result"
    }
   ],
   "source": [
    "learner.fit(1e-3, 5, wds=1e-6, cycle_len=5, cycle_save_name='adam3_100')"
   ]
  },
  {
   "cell_type": "code",
   "execution_count": 33,
   "metadata": {},
   "outputs": [],
   "source": [
    "learner.save_encoder('adam3_100_enc')"
   ]
  },
  {
   "cell_type": "code",
   "execution_count": 34,
   "metadata": {},
   "outputs": [
    {
     "data": {
      "application/vnd.jupyter.widget-view+json": {
       "model_id": "4c8104505f7e4253a0c12f3c74627e4b",
       "version_major": 2,
       "version_minor": 0
      },
      "text/plain": [
       "HBox(children=(IntProgress(value=0, description='Epoch'), HTML(value='')))"
      ]
     },
     "metadata": {},
     "output_type": "display_data"
    },
    {
     "name": "stdout",
     "output_type": "stream",
     "text": [
      "epoch      trn_loss   val_loss                                                                                         \n",
      "    0      3.678796   3.584266  \n",
      "    1      3.685788   3.582912                                                                                         \n",
      "    2      3.676908   3.576729                                                                                         \n",
      "    3      3.675447   3.576769                                                                                         \n",
      "    4      3.668058   3.574025                                                                                         \n",
      "    5      3.65365    3.570879                                                                                         \n",
      "    6      3.644165   3.570837                                                                                         \n",
      "    7      3.645287   3.565569                                                                                         \n",
      "    8      3.650614   3.565465                                                                                         \n",
      "    9      3.654681   3.566963                                                                                         \n",
      "    10     3.663684   3.571709                                                                                         \n",
      "    11     3.65719    3.564982                                                                                         \n",
      "    12     3.648191   3.563765                                                                                         \n",
      "    13     3.635175   3.560617                                                                                         \n",
      "    14     3.632264   3.558861                                                                                         \n",
      "    15     3.638102   3.561611                                                                                         \n",
      "    16     3.620742   3.559239                                                                                         \n",
      "    17     3.617473   3.559593                                                                                         \n",
      "    18     3.614156   3.555443                                                                                         \n",
      "    19     3.615497   3.556314                                                                                         \n",
      "    20     3.627838   3.562497                                                                                         \n",
      "    21     3.640636   3.556841                                                                                         \n",
      "    22     3.628199   3.551466                                                                                         \n",
      "    23     3.623932   3.549889                                                                                         \n",
      "    24     3.619581   3.549264                                                                                         \n",
      "    25     3.610836   3.549852                                                                                         \n",
      "    26     3.610824   3.551464                                                                                         \n",
      "    27     3.59938    3.544113                                                                                         \n",
      "    28     3.594181   3.546472                                                                                         \n",
      "    29     3.590896   3.548413                                                                                         \n",
      "    30     3.600378   3.556099                                                                                         \n",
      "    31     3.609642   3.546693                                                                                         \n",
      "    32     3.613893   3.549309                                                                                         \n",
      "    33     3.605709   3.54359                                                                                          \n",
      "    34     3.601355   3.541901                                                                                         \n",
      "    35     3.592446   3.542438                                                                                         \n",
      "    36     3.604411   3.538307                                                                                         \n",
      "    37     3.604089   3.537572                                                                                         \n",
      "    38     3.595072   3.542074                                                                                         \n",
      "    39     3.577357   3.542788                                                                                         \n",
      "    40     3.589041   3.540291                                                                                         \n",
      "    41     3.594215   3.536583                                                                                         \n",
      "    42     3.57779    3.535152                                                                                         \n",
      "    43     3.57511    3.535593                                                                                         \n",
      "    44     3.578642   3.533346                                                                                         \n",
      "    45     3.575924   3.536077                                                                                         \n",
      "    46     3.569866   3.536704                                                                                         \n",
      "    47     3.566184   3.532476                                                                                         \n",
      "    48     3.553187   3.532591                                                                                         \n",
      "    49     3.56825    3.535274                                                                                         \n",
      "    50     3.571278   3.533715                                                                                         \n",
      "    51     3.569428   3.537098                                                                                         \n",
      "    52     3.5723     3.533907                                                                                         \n",
      "    53     3.566526   3.530446                                                                                         \n",
      "    54     3.556215   3.528174                                                                                         \n",
      "    55     3.540973   3.529358                                                                                         \n",
      "    56     3.534266   3.527593                                                                                         \n",
      "    57     3.532163   3.529854                                                                                         \n",
      "    58     3.532025   3.530881                                                                                         \n",
      "    59     3.533873   3.529438                                                                                         \n",
      "    60     3.534076   3.52906                                                                                          \n",
      "    61     3.53519    3.525865                                                                                         \n",
      "    62     3.549702   3.52799                                                                                          \n",
      "    63     3.545458   3.524641                                                                                         \n",
      "    64     3.540072   3.528544                                                                                         \n",
      "    65     3.533183   3.522526                                                                                         \n",
      "    66     3.52845    3.525019                                                                                         \n"
     ]
    },
    {
     "name": "stdout",
     "output_type": "stream",
     "text": [
      "    67     3.530028   3.521126                                                                                         \n",
      "    68     3.513159   3.528753                                                                                         \n",
      "    69     3.529771   3.522946                                                                                         \n",
      "    70     3.542992   3.519819                                                                                         \n",
      "    71     3.544266   3.517152                                                                                         \n",
      "    72     3.536444   3.524752                                                                                         \n",
      "    73     3.527029   3.519743                                                                                         \n",
      "    74     3.522312   3.519403                                                                                         \n",
      "    75     3.513475   3.523525                                                                                         \n",
      "    76     3.521167   3.518361                                                                                         \n",
      "    77     3.512061   3.519409                                                                                         \n",
      "    78     3.517134   3.520005                                                                                         \n",
      "    79     3.514862   3.51865                                                                                          \n",
      "    80     3.516714   3.519887                                                                                         \n",
      "    81     3.52787    3.514459                                                                                         \n",
      "    82     3.518583   3.521257                                                                                         \n",
      "    83     3.525829   3.514164                                                                                         \n",
      "    84     3.509808   3.522745                                                                                         \n",
      "    85     3.504916   3.514223                                                                                         \n",
      "    86     3.502385   3.515047                                                                                         \n",
      "    87     3.513611   3.514074                                                                                         \n",
      "    88     3.493839   3.515274                                                                                         \n",
      "    89     3.490594   3.514268                                                                                         \n",
      "    90     3.498048   3.510165                                                                                         \n",
      "    91     3.501224   3.514254                                                                                         \n",
      "    92     3.499093   3.514849                                                                                         \n",
      "    93     3.498941   3.513965                                                                                         \n",
      "    94     3.499217   3.514919                                                                                         \n",
      "    95     3.486764   3.513571                                                                                         \n",
      "    96     3.493986   3.512746                                                                                         \n",
      "    97     3.489351   3.514347                                                                                         \n",
      "    98     3.478264   3.513219                                                                                         \n",
      "    99     3.477862   3.517629                                                                                         \n",
      "\n"
     ]
    },
    {
     "data": {
      "text/plain": [
       "[array([3.51763])]"
      ]
     },
     "execution_count": 34,
     "metadata": {},
     "output_type": "execute_result"
    }
   ],
   "source": [
    "learner.fit(1e-3, 10, wds=1e-6, cycle_len=10, cycle_save_name='adam3_200')"
   ]
  },
  {
   "cell_type": "code",
   "execution_count": 35,
   "metadata": {},
   "outputs": [],
   "source": [
    "learner.save_encoder('adam3_200_enc')"
   ]
  },
  {
   "cell_type": "markdown",
   "metadata": {},
   "source": [
    "### Test"
   ]
  },
  {
   "cell_type": "code",
   "execution_count": 36,
   "metadata": {},
   "outputs": [],
   "source": [
    "def proc_str(s): return TEXT.preprocess(TEXT.tokenize(s))\n",
    "def num_str(s): return TEXT.numericalize([proc_str(s)])"
   ]
  },
  {
   "cell_type": "code",
   "execution_count": 37,
   "metadata": {},
   "outputs": [],
   "source": [
    "m=learner.model"
   ]
  },
  {
   "cell_type": "code",
   "execution_count": 38,
   "metadata": {},
   "outputs": [],
   "source": [
    "s=\"\"\"service that is\"\"\""
   ]
  },
  {
   "cell_type": "code",
   "execution_count": 39,
   "metadata": {},
   "outputs": [],
   "source": [
    "def sample_model(m, s, l=50):\n",
    "    t = num_str(s)\n",
    "    m[0].bs=1\n",
    "    m.eval()\n",
    "    m.reset()\n",
    "    res,*_ = m(t)\n",
    "    print('...', end='')\n",
    "\n",
    "    for i in range(l):\n",
    "        n=res[-1].topk(2)[1]\n",
    "        n = n[1] if n.data[0]==0 else n[0]\n",
    "        word = TEXT.vocab.itos[n.data[0]]\n",
    "        print(word, end=' ')\n",
    "        if word=='<eos>': break\n",
    "        res,*_ = m(n[0].unsqueeze(0))\n",
    "\n",
    "    m[0].bs=bs"
   ]
  },
  {
   "cell_type": "code",
   "execution_count": 40,
   "metadata": {},
   "outputs": [
    {
     "name": "stdout",
     "output_type": "stream",
     "text": [
      "...cancelled flightled .   i 'm not sure what happened . < eos > @united i 'm trying to get to a gate . i 'm not sure what happened . < eos > @united i 'm trying to get to a gate . i 'm not sure what happened "
     ]
    }
   ],
   "source": [
    "sample_model(m,\"flight was\")"
   ]
  },
  {
   "cell_type": "code",
   "execution_count": 41,
   "metadata": {},
   "outputs": [
    {
     "name": "stdout",
     "output_type": "stream",
     "text": [
      "...not working . < eos > @united i 'm trying to get to a gate . i 'm not sure what happened . < eos > @united i 'm trying to get to a gate . i 'm not sure what happened . < eos > @united i 'm trying "
     ]
    }
   ],
   "source": [
    "sample_model(m,\"people are\")"
   ]
  },
  {
   "cell_type": "code",
   "execution_count": 42,
   "metadata": {},
   "outputs": [
    {
     "name": "stdout",
     "output_type": "stream",
     "text": [
      "...n't working . < eos > @united i 'm trying to get to a gate . i 'm not sure what happened . < eos > @united i 'm trying to get to a gate . i 'm not sure what happened . < eos > @united i 'm trying "
     ]
    }
   ],
   "source": [
    "sample_model(m,\"food was\")"
   ]
  },
  {
   "cell_type": "code",
   "execution_count": 43,
   "metadata": {},
   "outputs": [
    {
     "name": "stdout",
     "output_type": "stream",
     "text": [
      "...a very long day . < eos > @united i 'm trying to get to a gate . i 'm not sure what happened . < eos > @united i 'm trying to get to a gate . i 'm not sure what happened . < eos > @united i "
     ]
    }
   ],
   "source": [
    "sample_model(m,\"ride was \")"
   ]
  },
  {
   "cell_type": "code",
   "execution_count": 44,
   "metadata": {},
   "outputs": [
    {
     "name": "stdout",
     "output_type": "stream",
     "text": [
      "...cancelled flightled .   i 'm not sure what happened . < eos > @united i 'm trying to get to a gate . i 'm not sure what happened . < eos > @united i 'm trying to get to a gate . i 'm not sure what happened "
     ]
    }
   ],
   "source": [
    "sample_model(m,\"checkin was \")"
   ]
  },
  {
   "cell_type": "code",
   "execution_count": 45,
   "metadata": {},
   "outputs": [
    {
     "name": "stdout",
     "output_type": "stream",
     "text": [
      "...n't working . < eos > @united i 'm trying to get to a gate . i 'm not sure what happened . < eos > @united i 'm trying to get to a gate . i 'm not sure what happened . < eos > @united i 'm trying "
     ]
    }
   ],
   "source": [
    "sample_model(m,\"check in was \")"
   ]
  },
  {
   "cell_type": "markdown",
   "metadata": {},
   "source": [
    "### Sentiment"
   ]
  },
  {
   "cell_type": "code",
   "execution_count": 60,
   "metadata": {},
   "outputs": [],
   "source": [
    "TEXT = Pickle.load(open(f'{PATH}models/TEXTLOCAL.pkl','rb'))"
   ]
  },
  {
   "cell_type": "code",
   "execution_count": 61,
   "metadata": {},
   "outputs": [],
   "source": [
    "from torchtext import data\n",
    "\n",
    "class DataFrameDataset(data.Dataset):\n",
    "\n",
    "    def __init__(self, df, text_field, label_field, is_test=False, **kwargs):\n",
    "        fields = [('text', text_field), ('label', label_field)]\n",
    "        examples = []\n",
    "        for i, row in df.iterrows():\n",
    "            label = row.sentiment if not is_test else None\n",
    "            text = row.text\n",
    "            examples.append(data.Example.fromlist([text, label], fields))\n",
    "\n",
    "        super().__init__(examples, fields, **kwargs)\n",
    "\n",
    "    @staticmethod\n",
    "    def sort_key(ex):\n",
    "        return len(ex.text)\n",
    "\n",
    "    @classmethod\n",
    "    def splits(cls, text_field, label_field, train_df, val_df=None, test_df=None, **kwargs):\n",
    "        train_data, val_data, test_data = (None, None, None)\n",
    "\n",
    "        if train_df is not None:\n",
    "            train_data = cls(train_df.copy(), text_field, label_field, **kwargs)\n",
    "        if val_df is not None:\n",
    "            val_data = cls(val_df.copy(), text_field, label_field, **kwargs)\n",
    "        if test_df is not None:\n",
    "            test_data = cls(test_df.copy(), text_field, label_field, True, **kwargs)\n",
    "\n",
    "        return tuple(d for d in (train_data, val_data, test_data) if d is not None)\n",
    "        "
   ]
  },
  {
   "cell_type": "code",
   "execution_count": 62,
   "metadata": {},
   "outputs": [],
   "source": [
    "TWEET_LABEL = data.Field(sequential=False)\n",
    "splits = DataFrameDataset.splits(TEXT, TWEET_LABEL, train_df=df_trn, val_df=df_val, test_df=df_test)\n",
    "\n",
    "#train_ds, val_ds, test_ds = DataFrameDataset.splits(\n",
    "#  text_field=TEXT_FIELD, label_field=LABEL_FIELD, train_df=train_df, val_df=val_df, test_df=test_df)"
   ]
  },
  {
   "cell_type": "code",
   "execution_count": 63,
   "metadata": {},
   "outputs": [],
   "source": [
    "md2 = TextData.from_splits(PATH, splits, bs)"
   ]
  },
  {
   "cell_type": "code",
   "execution_count": 64,
   "metadata": {},
   "outputs": [],
   "source": [
    "#            dropout=0.3, dropouti=0.4, wdrop=0.3, dropoute=0.05, dropouth=0.2)"
   ]
  },
  {
   "cell_type": "code",
   "execution_count": 65,
   "metadata": {},
   "outputs": [],
   "source": [
    "from sklearn.metrics import precision_recall_curve\n",
    "import matplotlib.pyplot as plt\n",
    "\n",
    "def prec_at_6(preds,targs):\n",
    "    precision, recall, _ = precision_recall_curve(targs==2, preds[:,2])\n",
    "    print(recall[precision>=0.6][0])\n",
    "    return recall[precision>=0.6][0]"
   ]
  },
  {
   "cell_type": "code",
   "execution_count": 66,
   "metadata": {},
   "outputs": [],
   "source": [
    "# dropout=0.4, dropouth=0.3, dropouti=0.65, dropoute=0.1, wdrop=0.5\n",
    "m3 = md2.get_model(opt_fn, 1500, bptt, emb_sz=em_sz, n_hid=nh, n_layers=nl, \n",
    "           dropout=0.1, dropouti=0.65, wdrop=0.5, dropoute=0.1, dropouth=0.3)\n",
    "m3.data.test_dl.src.sort = False\n",
    "m3.data.test_dl.src.sort_within_batch = False\n",
    "m3.data.test_dl.src.shuffle = False\n",
    "m3.reg_fn = partial(seq2seq_reg, alpha=2, beta=1)\n",
    "m3.clip=25."
   ]
  },
  {
   "cell_type": "code",
   "execution_count": 68,
   "metadata": {},
   "outputs": [],
   "source": [
    "# this notebook has a mess of some things going under 'all/' others not, so a little hack here\n",
    "# !ln -sf ../all/models/adam3_20_enc.h5 {PATH}models/adam3_20_enc.h5\n",
    "# m3.load_encoder(f'../all/models/adam3_200_enc')\n",
    "lrs=np.array([1e-4,1e-3,1e-3,1e-2,3e-2])"
   ]
  },
  {
   "cell_type": "code",
   "execution_count": 69,
   "metadata": {
    "scrolled": true
   },
   "outputs": [
    {
     "data": {
      "application/vnd.jupyter.widget-view+json": {
       "model_id": "d827841385244d4295ecdc052c9d2ebb",
       "version_major": 2,
       "version_minor": 0
      },
      "text/plain": [
       "HBox(children=(IntProgress(value=0, description='Epoch', max=50), HTML(value='')))"
      ]
     },
     "metadata": {},
     "output_type": "display_data"
    },
    {
     "name": "stdout",
     "output_type": "stream",
     "text": [
      "epoch      trn_loss   val_loss   accuracy                                                                              \n",
      "    0      0.583223   0.480726   0.846302  \n",
      "    1      0.543773   0.614593   0.848951                                                                              \n",
      "    2      0.525686   0.6005     0.846302                                                                              \n",
      "    3      0.517787   0.441307   0.846302                                                                              \n",
      "    4      0.523625   0.469441   0.846302                                                                              \n",
      "    5      0.533002   0.495153   0.846302                                                                              \n",
      "    6      0.519408   0.4665     0.846302                                                                              \n",
      "    7      0.521557   0.564306   0.846302                                                                              \n",
      "    8      0.527891   0.438202   0.846302                                                                              \n",
      "    9      0.521096   0.434986   0.846302                                                                              \n",
      "    10     0.519748   0.47086    0.846302                                                                              \n",
      "    11     0.514198   0.427518   0.846302                                                                              \n",
      "    12     0.513552   0.439654   0.846302                                                                              \n",
      "    13     0.517272   0.462703   0.846302                                                                              \n",
      "    14     0.521637   0.459532   0.846302                                                                              \n",
      "    15     0.513981   0.426147   0.846302                                                                              \n",
      "    16     0.525644   0.515705   0.846302                                                                              \n",
      "    17     0.512946   0.432953   0.846302                                                                              \n",
      "    18     0.519136   0.462142   0.846302                                                                              \n",
      "    19     0.522955   0.492278   0.846302                                                                              \n",
      "    20     0.519824   0.45615    0.846302                                                                              \n",
      "    21     0.51337    0.434083   0.846302                                                                              \n",
      "    22     0.517141   0.461441   0.846302                                                                              \n",
      "    23     0.514237   0.498497   0.846302                                                                              \n",
      "    24     0.524683   0.483193   0.846302                                                                              \n",
      "    25     0.520573   0.444345   0.846302                                                                              \n",
      "    26     0.517998   0.427762   0.846302                                                                              \n",
      "    27     0.511418   0.513678   0.846302                                                                              \n",
      "    28     0.522582   0.432879   0.846302                                                                              \n",
      "    29     0.51447    0.467756   0.846302                                                                              \n",
      "    30     0.513707   0.43237    0.846302                                                                              \n",
      "    31     0.516724   0.435124   0.846302                                                                              \n",
      "    32     0.517747   0.483655   0.846302                                                                              \n",
      "    33     0.517257   0.439423   0.846302                                                                              \n",
      "    34     0.516963   0.510777   0.846178                                                                              \n",
      "    35     0.524365   0.430151   0.846302                                                                              \n",
      "    36     0.512112   0.437651   0.846302                                                                              \n",
      "    37     0.520473   0.430003   0.846302                                                                              \n",
      "    38     0.51713    0.436375   0.846302                                                                              \n",
      "    39     0.516349   0.450097   0.846302                                                                              \n",
      "    40     0.52343    0.448515   0.846302                                                                              \n",
      "    41     0.522921   0.429697   0.846302                                                                              \n",
      "    42     0.525743   0.427635   0.846302                                                                              \n",
      "    43     0.525017   0.456086   0.846302                                                                              \n",
      "    44     0.523364   0.471336   0.846302                                                                              \n",
      "    45     0.52424    0.464801   0.846302                                                                              \n",
      "    46     0.524158   0.451094   0.846302                                                                              \n",
      "    47     0.508      0.476327   0.846302                                                                              \n",
      "    48     0.518337   0.452696   0.846302                                                                              \n",
      "    49     0.516371   0.441187   0.846302                                                                              \n",
      "\n"
     ]
    },
    {
     "data": {
      "application/vnd.jupyter.widget-view+json": {
       "model_id": "6450f9fb97cf4b93bea23fa847d40b4e",
       "version_major": 2,
       "version_minor": 0
      },
      "text/plain": [
       "HBox(children=(IntProgress(value=0, description='Epoch', max=10), HTML(value='')))"
      ]
     },
     "metadata": {},
     "output_type": "display_data"
    },
    {
     "name": "stdout",
     "output_type": "stream",
     "text": [
      "epoch      trn_loss   val_loss   accuracy                                                                              \n",
      "    0      0.457214   0.367931   0.850213  \n",
      "    1      0.409889   0.360693   0.85011                                                                               \n",
      "    2      0.363726   0.318136   0.870667                                                                              \n",
      "    3      0.351859   0.305403   0.875882                                                                              \n",
      "    4      0.33383    0.292627   0.877924                                                                              \n",
      "    5      0.318742   0.272327   0.894708                                                                              \n",
      "    6      0.314524   0.25865    0.895998                                                                              \n",
      "    7      0.302379   0.273806   0.894446                                                                              \n",
      "    8      0.286062   0.252924   0.900006                                                                              \n",
      "    9      0.283542   0.220524   0.910609                                                                              \n",
      "\n"
     ]
    },
    {
     "data": {
      "text/plain": [
       "[array([0.22052]), 0.9106088731462593]"
      ]
     },
     "execution_count": 69,
     "metadata": {},
     "output_type": "execute_result"
    }
   ],
   "source": [
    "m3.freeze_to(-1)\n",
    "m3.fit(lrs/2, 50, metrics=[accuracy])\n",
    "m3.unfreeze()\n",
    "m3.fit(lrs, 10, metrics=[accuracy], cycle_len=1)"
   ]
  },
  {
   "cell_type": "code",
   "execution_count": 70,
   "metadata": {},
   "outputs": [
    {
     "name": "stdout",
     "output_type": "stream",
     "text": [
      "0.8701923076923077\n"
     ]
    },
    {
     "data": {
      "text/plain": [
       "0.8701923076923077"
      ]
     },
     "execution_count": 70,
     "metadata": {},
     "output_type": "execute_result"
    }
   ],
   "source": [
    "prec_at_6(*m3.predict_with_targs())"
   ]
  },
  {
   "cell_type": "code",
   "execution_count": 71,
   "metadata": {},
   "outputs": [
    {
     "data": {
      "application/vnd.jupyter.widget-view+json": {
       "model_id": "b02156c821ba43f2bedaf7ed7caf2694",
       "version_major": 2,
       "version_minor": 0
      },
      "text/plain": [
       "HBox(children=(IntProgress(value=0, description='Epoch', max=8), HTML(value='')))"
      ]
     },
     "metadata": {},
     "output_type": "display_data"
    },
    {
     "name": "stdout",
     "output_type": "stream",
     "text": [
      "epoch      trn_loss   val_loss   accuracy                                                                              \n",
      "    0      0.293429   0.221622   0.914485  \n",
      "    1      0.275973   0.409686   0.843556                                                                              \n",
      "    2      0.246802   0.200208   0.922053                                                                              \n",
      "    3      0.251552   0.200446   0.923916                                                                              \n",
      "    4      0.289702   0.247237   0.90429                                                                               \n",
      "    5      0.247068   0.215495   0.924613                                                                              \n",
      "    6      0.241371   0.185676   0.931319                                                                              \n",
      "    7      0.226764   0.187045   0.929793                                                                              \n",
      "\n"
     ]
    },
    {
     "data": {
      "text/plain": [
       "[array([0.18705]), 0.9297934757952658]"
      ]
     },
     "execution_count": 71,
     "metadata": {},
     "output_type": "execute_result"
    }
   ],
   "source": [
    "m3.fit(lrs, 2, metrics=[accuracy], cycle_len=4, cycle_save_name='twt2')"
   ]
  },
  {
   "cell_type": "code",
   "execution_count": 72,
   "metadata": {},
   "outputs": [
    {
     "name": "stdout",
     "output_type": "stream",
     "text": [
      "0.9350961538461539\n"
     ]
    },
    {
     "data": {
      "text/plain": [
       "0.9350961538461539"
      ]
     },
     "execution_count": 72,
     "metadata": {},
     "output_type": "execute_result"
    }
   ],
   "source": [
    "prec_at_6(*m3.predict_with_targs())"
   ]
  },
  {
   "cell_type": "code",
   "execution_count": 73,
   "metadata": {},
   "outputs": [
    {
     "data": {
      "application/vnd.jupyter.widget-view+json": {
       "model_id": "b8a3c9c5096e41119b6565daf271a1bb",
       "version_major": 2,
       "version_minor": 0
      },
      "text/plain": [
       "HBox(children=(IntProgress(value=0, description='Epoch', max=8), HTML(value='')))"
      ]
     },
     "metadata": {},
     "output_type": "display_data"
    },
    {
     "name": "stdout",
     "output_type": "stream",
     "text": [
      "epoch      trn_loss   val_loss   accuracy                                                                              \n",
      "    0      0.241381   0.210753   0.927614  \n",
      "    1      0.222766   0.195378   0.927269                                                                              \n",
      "    2      0.249513   0.215806   0.918308                                                                              \n",
      "    3      0.216153   0.187724   0.928945                                                                              \n",
      "    4      0.238234   0.183029   0.93316                                                                               \n",
      "    5      0.210874   0.213885   0.926207                                                                              \n",
      "    6      0.225888   0.278593   0.908229                                                                              \n",
      "    7      0.210458   0.171082   0.936623                                                                              \n",
      "\n"
     ]
    },
    {
     "data": {
      "text/plain": [
       "[array([0.17108]), 0.9366229459939414]"
      ]
     },
     "execution_count": 73,
     "metadata": {},
     "output_type": "execute_result"
    }
   ],
   "source": [
    "m3.fit(lrs, 4, metrics=[accuracy], cycle_len=2, cycle_save_name='twt3')"
   ]
  },
  {
   "cell_type": "code",
   "execution_count": 74,
   "metadata": {},
   "outputs": [
    {
     "name": "stdout",
     "output_type": "stream",
     "text": [
      "0.9375\n"
     ]
    },
    {
     "data": {
      "text/plain": [
       "0.9375"
      ]
     },
     "execution_count": 74,
     "metadata": {},
     "output_type": "execute_result"
    }
   ],
   "source": [
    "prec_at_6(*m3.predict_with_targs())"
   ]
  },
  {
   "cell_type": "code",
   "execution_count": 75,
   "metadata": {},
   "outputs": [
    {
     "data": {
      "application/vnd.jupyter.widget-view+json": {
       "model_id": "19ddc21873184b2d965dc6774fda568f",
       "version_major": 2,
       "version_minor": 0
      },
      "text/plain": [
       "HBox(children=(IntProgress(value=0, description='Epoch', max=8), HTML(value='')))"
      ]
     },
     "metadata": {},
     "output_type": "display_data"
    },
    {
     "name": "stdout",
     "output_type": "stream",
     "text": [
      "epoch      trn_loss   val_loss   accuracy                                                                              \n",
      "    0      0.214923   0.18094    0.937202  \n",
      "    1      0.196306   0.178792   0.935009                                                                              \n",
      "    2      0.23358    0.246619   0.925675                                                                              \n",
      "    3      0.193025   0.267457   0.934237                                                                              \n",
      "    4      0.210598   0.276671   0.914141                                                                              \n",
      "    5      0.198304   0.218365   0.929601                                                                              \n",
      "    6      0.228355   0.238541   0.921654                                                                              \n",
      "    7      0.179211   0.170985   0.939804                                                                              \n",
      "\n"
     ]
    },
    {
     "data": {
      "text/plain": [
       "[array([0.17099]), 0.9398036071006826]"
      ]
     },
     "execution_count": 75,
     "metadata": {},
     "output_type": "execute_result"
    }
   ],
   "source": [
    "m3.fit(lrs, 4, metrics=[accuracy], cycle_len=2, cycle_save_name='twt4')"
   ]
  },
  {
   "cell_type": "code",
   "execution_count": 76,
   "metadata": {},
   "outputs": [
    {
     "name": "stdout",
     "output_type": "stream",
     "text": [
      "0.9375\n"
     ]
    },
    {
     "data": {
      "text/plain": [
       "0.9375"
      ]
     },
     "execution_count": 76,
     "metadata": {},
     "output_type": "execute_result"
    }
   ],
   "source": [
    "prec_at_6(*m3.predict_with_targs())"
   ]
  },
  {
   "cell_type": "code",
   "execution_count": 77,
   "metadata": {},
   "outputs": [
    {
     "data": {
      "text/html": [
       "<a href='data/high-flyers/sub8.csv' target='_blank'>data/high-flyers/sub8.csv</a><br>"
      ],
      "text/plain": [
       "C:\\Users\\nissan.dookeran\\Documents\\Github\\fastai\\courses\\dl1\\data\\high-flyers\\sub8.csv"
      ]
     },
     "execution_count": 77,
     "metadata": {},
     "output_type": "execute_result"
    }
   ],
   "source": [
    "\n",
    "# rnn_model = md2.get_model(opt_fn, 1500, bptt, emb_sz=em_sz, n_hid=nh, n_layers=nl, \n",
    "#           dropout=0.1, dropouti=0.65, wdrop=0.5, dropoute=0.1, dropouth=0.3)\n",
    "\n",
    "# ...\n",
    "\n",
    "# rnn_model.data.test_dl.src.sort = False\n",
    "# rnn_model.data.test_dl.src.sort_within_batch = False\n",
    "# rnn_model.data.test_dl.src.shuffle = False\n",
    "\n",
    "probs = m3.predict(is_test=True)\n",
    "preds = np.argmax(probs, axis=1)\n",
    "\n",
    "pd.DataFrame({\n",
    "    'id': df_test.index,\n",
    "    'sentiment': [TWEET_LABEL.vocab.itos[p] for p in preds]}).to_csv('data/high-flyers/sub8.csv', index=False)\n",
    "    \n",
    "FileLink('data/high-flyers/sub8.csv')"
   ]
  },
  {
   "cell_type": "code",
   "execution_count": null,
   "metadata": {},
   "outputs": [],
   "source": []
  }
 ],
 "metadata": {
  "kernelspec": {
   "display_name": "Python 3",
   "language": "python",
   "name": "python3"
  },
  "language_info": {
   "codemirror_mode": {
    "name": "ipython",
    "version": 3
   },
   "file_extension": ".py",
   "mimetype": "text/x-python",
   "name": "python",
   "nbconvert_exporter": "python",
   "pygments_lexer": "ipython3",
   "version": "3.6.6"
  },
  "toc": {
   "colors": {
    "hover_highlight": "#DAA520",
    "navigate_num": "#000000",
    "navigate_text": "#333333",
    "running_highlight": "#FF0000",
    "selected_highlight": "#FFD700",
    "sidebar_border": "#EEEEEE",
    "wrapper_background": "#FFFFFF"
   },
   "moveMenuLeft": true,
   "nav_menu": {
    "height": "123px",
    "width": "251px"
   },
   "navigate_menu": true,
   "number_sections": true,
   "sideBar": true,
   "threshold": 4,
   "toc_cell": false,
   "toc_section_display": "block",
   "toc_window_display": false,
   "widenNotebook": false
  }
 },
 "nbformat": 4,
 "nbformat_minor": 2
}
