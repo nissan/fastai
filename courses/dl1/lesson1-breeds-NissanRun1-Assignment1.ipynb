{
 "cells": [
  {
   "cell_type": "markdown",
   "metadata": {},
   "source": [
    "# Dogs breeds\n",
    "\n",
    "https://youtu.be/JNxcznsrRb8?t=1h31m8s"
   ]
  },
  {
   "cell_type": "code",
   "execution_count": 1,
   "metadata": {},
   "outputs": [],
   "source": [
    "%reload_ext autoreload\n",
    "%autoreload 2\n",
    "%matplotlib inline"
   ]
  },
  {
   "cell_type": "code",
   "execution_count": 2,
   "metadata": {},
   "outputs": [
    {
     "name": "stderr",
     "output_type": "stream",
     "text": [
      "C:\\tools\\Anaconda3\\envs\\fastai\\lib\\site-packages\\sklearn\\ensemble\\weight_boosting.py:29: DeprecationWarning: numpy.core.umath_tests is an internal NumPy module and should not be imported. It will be removed in a future NumPy release.\n",
      "  from numpy.core.umath_tests import inner1d\n"
     ]
    }
   ],
   "source": [
    "from fastai.imports import *\n",
    "from fastai.torch_imports import *\n",
    "from fastai.transforms import *\n",
    "from fastai.conv_learner import *\n",
    "from fastai.model import *\n",
    "from fastai.dataset import *\n",
    "from fastai.sgdr import *\n",
    "from fastai.plots import *"
   ]
  },
  {
   "cell_type": "code",
   "execution_count": 3,
   "metadata": {},
   "outputs": [],
   "source": [
    "torch.cuda.set_device(0)"
   ]
  },
  {
   "cell_type": "markdown",
   "metadata": {},
   "source": [
    "Kaggle Dog Breed Identification. Get data from https://www.kaggle.com/c/dog-breed-identification"
   ]
  },
  {
   "cell_type": "code",
   "execution_count": 4,
   "metadata": {},
   "outputs": [],
   "source": [
    "PATH = \"data/dogcatbreed/\"\n",
    "sz = 224\n",
    "arch = resnext101_64\n",
    "bs = 58"
   ]
  },
  {
   "cell_type": "code",
   "execution_count": 5,
   "metadata": {},
   "outputs": [],
   "source": [
    "label_csv = f'{PATH}train.csv'\n",
    "n = len(list(open(label_csv))) - 1 # header is not counted (-1)\n",
    "val_idxs = get_cv_idxs(n) # random 20% data for validation set"
   ]
  },
  {
   "cell_type": "code",
   "execution_count": 6,
   "metadata": {},
   "outputs": [
    {
     "data": {
      "text/plain": [
       "7349"
      ]
     },
     "execution_count": 6,
     "metadata": {},
     "output_type": "execute_result"
    }
   ],
   "source": [
    "n"
   ]
  },
  {
   "cell_type": "code",
   "execution_count": 7,
   "metadata": {},
   "outputs": [
    {
     "data": {
      "text/plain": [
       "1469"
      ]
     },
     "execution_count": 7,
     "metadata": {},
     "output_type": "execute_result"
    }
   ],
   "source": [
    "len(val_idxs)"
   ]
  },
  {
   "cell_type": "code",
   "execution_count": 8,
   "metadata": {},
   "outputs": [],
   "source": [
    "# If you haven't downloaded weights.tgz yet, download the file.\n",
    "#     http://forums.fast.ai/t/error-when-trying-to-use-resnext50/7555\n",
    "#     http://forums.fast.ai/t/lesson-2-in-class-discussion/7452/222\n",
    "#!wget -O fastai/weights.tgz http://files.fast.ai/models/weights.tgz"
   ]
  },
  {
   "cell_type": "code",
   "execution_count": 9,
   "metadata": {},
   "outputs": [],
   "source": [
    "#!tar xvfz fastai/weights.tgz -C fastai"
   ]
  },
  {
   "cell_type": "markdown",
   "metadata": {},
   "source": [
    "## Initial exploration"
   ]
  },
  {
   "cell_type": "code",
   "execution_count": 10,
   "metadata": {
    "scrolled": true
   },
   "outputs": [
    {
     "name": "stdout",
     "output_type": "stream",
     "text": [
      "\n",
      "\n",
      "    Directory: C:\\Users\\nissan.dookeran\\Documents\\Github\\fastai\\courses\\dl1\\data\\dogcatbreed\n",
      "\n",
      "\n",
      "Mode                LastWriteTime         Length Name                                                                  \n",
      "----                -------------         ------ ----                                                                  \n",
      "d-----        3/08/2018   3:55 PM                test                                                                  \n",
      "d-----        3/08/2018   6:00 PM                tmp                                                                   \n",
      "d-----        3/08/2018   3:54 PM                train                                                                 \n",
      "-a----        3/08/2018   4:38 PM        1746967 sample_submission.csv                                                 \n",
      "-a----       31/07/2018   6:26 PM         335581 train.csv                                                             \n",
      "\n",
      "\n"
     ]
    }
   ],
   "source": [
    "!Powershell -Command \"Get-ChildItem {PATH}\""
   ]
  },
  {
   "cell_type": "code",
   "execution_count": 11,
   "metadata": {},
   "outputs": [],
   "source": [
    "label_df = pd.read_csv(label_csv)"
   ]
  },
  {
   "cell_type": "code",
   "execution_count": 12,
   "metadata": {},
   "outputs": [
    {
     "data": {
      "text/html": [
       "<div>\n",
       "<style scoped>\n",
       "    .dataframe tbody tr th:only-of-type {\n",
       "        vertical-align: middle;\n",
       "    }\n",
       "\n",
       "    .dataframe tbody tr th {\n",
       "        vertical-align: top;\n",
       "    }\n",
       "\n",
       "    .dataframe thead th {\n",
       "        text-align: right;\n",
       "    }\n",
       "</style>\n",
       "<table border=\"1\" class=\"dataframe\">\n",
       "  <thead>\n",
       "    <tr style=\"text-align: right;\">\n",
       "      <th></th>\n",
       "      <th>id</th>\n",
       "      <th>breed</th>\n",
       "    </tr>\n",
       "  </thead>\n",
       "  <tbody>\n",
       "    <tr>\n",
       "      <th>0</th>\n",
       "      <td>b0234bf14351b079397d8685b2907e8d</td>\n",
       "      <td>keeshond</td>\n",
       "    </tr>\n",
       "    <tr>\n",
       "      <th>1</th>\n",
       "      <td>378e20d6c6c2f08fb0d9dce02b22caf4</td>\n",
       "      <td>newfoundland</td>\n",
       "    </tr>\n",
       "    <tr>\n",
       "      <th>2</th>\n",
       "      <td>b900795a1441629688fcd8935def1e4e</td>\n",
       "      <td>great_pyrenees</td>\n",
       "    </tr>\n",
       "    <tr>\n",
       "      <th>3</th>\n",
       "      <td>a8d369de5c7ef297d19316a19ab24501</td>\n",
       "      <td>great_pyrenees</td>\n",
       "    </tr>\n",
       "    <tr>\n",
       "      <th>4</th>\n",
       "      <td>8bff692933224c78840b10d3c1c22a16</td>\n",
       "      <td>leonberger</td>\n",
       "    </tr>\n",
       "  </tbody>\n",
       "</table>\n",
       "</div>"
      ],
      "text/plain": [
       "                                 id           breed\n",
       "0  b0234bf14351b079397d8685b2907e8d        keeshond\n",
       "1  378e20d6c6c2f08fb0d9dce02b22caf4    newfoundland\n",
       "2  b900795a1441629688fcd8935def1e4e  great_pyrenees\n",
       "3  a8d369de5c7ef297d19316a19ab24501  great_pyrenees\n",
       "4  8bff692933224c78840b10d3c1c22a16      leonberger"
      ]
     },
     "execution_count": 12,
     "metadata": {},
     "output_type": "execute_result"
    }
   ],
   "source": [
    "label_df.head()"
   ]
  },
  {
   "cell_type": "code",
   "execution_count": 13,
   "metadata": {
    "scrolled": true
   },
   "outputs": [
    {
     "data": {
      "text/html": [
       "<div>\n",
       "<style scoped>\n",
       "    .dataframe tbody tr th:only-of-type {\n",
       "        vertical-align: middle;\n",
       "    }\n",
       "\n",
       "    .dataframe tbody tr th {\n",
       "        vertical-align: top;\n",
       "    }\n",
       "\n",
       "    .dataframe thead th {\n",
       "        text-align: right;\n",
       "    }\n",
       "</style>\n",
       "<table border=\"1\" class=\"dataframe\">\n",
       "  <thead>\n",
       "    <tr style=\"text-align: right;\">\n",
       "      <th></th>\n",
       "      <th>id</th>\n",
       "    </tr>\n",
       "    <tr>\n",
       "      <th>breed</th>\n",
       "      <th></th>\n",
       "    </tr>\n",
       "  </thead>\n",
       "  <tbody>\n",
       "    <tr>\n",
       "      <th>yorkshire_terrier</th>\n",
       "      <td>200</td>\n",
       "    </tr>\n",
       "    <tr>\n",
       "      <th>samoyed</th>\n",
       "      <td>200</td>\n",
       "    </tr>\n",
       "    <tr>\n",
       "      <th>russian_blue</th>\n",
       "      <td>200</td>\n",
       "    </tr>\n",
       "    <tr>\n",
       "      <th>ragdoll</th>\n",
       "      <td>200</td>\n",
       "    </tr>\n",
       "    <tr>\n",
       "      <th>pug</th>\n",
       "      <td>200</td>\n",
       "    </tr>\n",
       "    <tr>\n",
       "      <th>pomeranian</th>\n",
       "      <td>200</td>\n",
       "    </tr>\n",
       "    <tr>\n",
       "      <th>persian</th>\n",
       "      <td>200</td>\n",
       "    </tr>\n",
       "    <tr>\n",
       "      <th>miniature_pinscher</th>\n",
       "      <td>200</td>\n",
       "    </tr>\n",
       "    <tr>\n",
       "      <th>maine_coon</th>\n",
       "      <td>200</td>\n",
       "    </tr>\n",
       "    <tr>\n",
       "      <th>leonberger</th>\n",
       "      <td>200</td>\n",
       "    </tr>\n",
       "    <tr>\n",
       "      <th>american_bulldog</th>\n",
       "      <td>200</td>\n",
       "    </tr>\n",
       "    <tr>\n",
       "      <th>japanese_chin</th>\n",
       "      <td>200</td>\n",
       "    </tr>\n",
       "    <tr>\n",
       "      <th>havanese</th>\n",
       "      <td>200</td>\n",
       "    </tr>\n",
       "    <tr>\n",
       "      <th>great_pyrenees</th>\n",
       "      <td>200</td>\n",
       "    </tr>\n",
       "    <tr>\n",
       "      <th>german_shorthaired</th>\n",
       "      <td>200</td>\n",
       "    </tr>\n",
       "    <tr>\n",
       "      <th>english_setter</th>\n",
       "      <td>200</td>\n",
       "    </tr>\n",
       "    <tr>\n",
       "      <th>shiba_inu</th>\n",
       "      <td>200</td>\n",
       "    </tr>\n",
       "    <tr>\n",
       "      <th>chihuahua</th>\n",
       "      <td>200</td>\n",
       "    </tr>\n",
       "    <tr>\n",
       "      <th>british_shorthair</th>\n",
       "      <td>200</td>\n",
       "    </tr>\n",
       "    <tr>\n",
       "      <th>sphynx</th>\n",
       "      <td>200</td>\n",
       "    </tr>\n",
       "    <tr>\n",
       "      <th>wheaten_terrier</th>\n",
       "      <td>200</td>\n",
       "    </tr>\n",
       "    <tr>\n",
       "      <th>birman</th>\n",
       "      <td>200</td>\n",
       "    </tr>\n",
       "    <tr>\n",
       "      <th>bengal</th>\n",
       "      <td>200</td>\n",
       "    </tr>\n",
       "    <tr>\n",
       "      <th>beagle</th>\n",
       "      <td>200</td>\n",
       "    </tr>\n",
       "    <tr>\n",
       "      <th>basset_hound</th>\n",
       "      <td>200</td>\n",
       "    </tr>\n",
       "    <tr>\n",
       "      <th>american_pit_bull_terrier</th>\n",
       "      <td>200</td>\n",
       "    </tr>\n",
       "    <tr>\n",
       "      <th>saint_bernard</th>\n",
       "      <td>200</td>\n",
       "    </tr>\n",
       "    <tr>\n",
       "      <th>siamese</th>\n",
       "      <td>199</td>\n",
       "    </tr>\n",
       "    <tr>\n",
       "      <th>scottish_terrier</th>\n",
       "      <td>199</td>\n",
       "    </tr>\n",
       "    <tr>\n",
       "      <th>keeshond</th>\n",
       "      <td>199</td>\n",
       "    </tr>\n",
       "    <tr>\n",
       "      <th>boxer</th>\n",
       "      <td>199</td>\n",
       "    </tr>\n",
       "    <tr>\n",
       "      <th>abyssinian</th>\n",
       "      <td>198</td>\n",
       "    </tr>\n",
       "    <tr>\n",
       "      <th>newfoundland</th>\n",
       "      <td>196</td>\n",
       "    </tr>\n",
       "    <tr>\n",
       "      <th>english_cocker_spaniel</th>\n",
       "      <td>196</td>\n",
       "    </tr>\n",
       "    <tr>\n",
       "      <th>egyptian_mau</th>\n",
       "      <td>190</td>\n",
       "    </tr>\n",
       "    <tr>\n",
       "      <th>staffordshire_bull_terrier</th>\n",
       "      <td>189</td>\n",
       "    </tr>\n",
       "    <tr>\n",
       "      <th>bombay</th>\n",
       "      <td>184</td>\n",
       "    </tr>\n",
       "  </tbody>\n",
       "</table>\n",
       "</div>"
      ],
      "text/plain": [
       "                             id\n",
       "breed                          \n",
       "yorkshire_terrier           200\n",
       "samoyed                     200\n",
       "russian_blue                200\n",
       "ragdoll                     200\n",
       "pug                         200\n",
       "pomeranian                  200\n",
       "persian                     200\n",
       "miniature_pinscher          200\n",
       "maine_coon                  200\n",
       "leonberger                  200\n",
       "american_bulldog            200\n",
       "japanese_chin               200\n",
       "havanese                    200\n",
       "great_pyrenees              200\n",
       "german_shorthaired          200\n",
       "english_setter              200\n",
       "shiba_inu                   200\n",
       "chihuahua                   200\n",
       "british_shorthair           200\n",
       "sphynx                      200\n",
       "wheaten_terrier             200\n",
       "birman                      200\n",
       "bengal                      200\n",
       "beagle                      200\n",
       "basset_hound                200\n",
       "american_pit_bull_terrier   200\n",
       "saint_bernard               200\n",
       "siamese                     199\n",
       "scottish_terrier            199\n",
       "keeshond                    199\n",
       "boxer                       199\n",
       "abyssinian                  198\n",
       "newfoundland                196\n",
       "english_cocker_spaniel      196\n",
       "egyptian_mau                190\n",
       "staffordshire_bull_terrier  189\n",
       "bombay                      184"
      ]
     },
     "execution_count": 13,
     "metadata": {},
     "output_type": "execute_result"
    }
   ],
   "source": [
    "label_df.pivot_table(index=\"breed\", aggfunc=len).sort_values('id', ascending=False)"
   ]
  },
  {
   "cell_type": "code",
   "execution_count": 14,
   "metadata": {
    "run_control": {
     "marked": true
    }
   },
   "outputs": [],
   "source": [
    "tfms = tfms_from_model(arch, sz, aug_tfms=transforms_side_on, max_zoom=1.1)\n",
    "data = ImageClassifierData.from_csv(PATH, 'train', f'{PATH}train.csv', test_name='test', # we need to specify where the test set is if you want to submit to Kaggle competitions\n",
    "                                   val_idxs=val_idxs, suffix='.jpg', tfms=tfms, bs=bs)"
   ]
  },
  {
   "cell_type": "code",
   "execution_count": 15,
   "metadata": {
    "scrolled": true
   },
   "outputs": [
    {
     "data": {
      "text/plain": [
       "'data/dogcatbreed/train\\\\000a8443ac7c40053b19e526e08af73e.jpg'"
      ]
     },
     "execution_count": 15,
     "metadata": {},
     "output_type": "execute_result"
    }
   ],
   "source": [
    "fn = PATH + data.trn_ds.fnames[0]; fn"
   ]
  },
  {
   "cell_type": "code",
   "execution_count": 16,
   "metadata": {},
   "outputs": [
    {
     "data": {
      "image/png": "[encoded data removed]",
      "text/plain": [
       "<PIL.JpegImagePlugin.JpegImageFile image mode=RGB size=500x333 at 0x14A75626A58>"
      ]
     },
     "execution_count": 16,
     "metadata": {},
     "output_type": "execute_result"
    }
   ],
   "source": [
    "img = PIL.Image.open(fn); img"
   ]
  },
  {
   "cell_type": "code",
   "execution_count": 17,
   "metadata": {},
   "outputs": [
    {
     "data": {
      "text/plain": [
       "(500, 333)"
      ]
     },
     "execution_count": 17,
     "metadata": {},
     "output_type": "execute_result"
    }
   ],
   "source": [
    "img.size"
   ]
  },
  {
   "cell_type": "code",
   "execution_count": 18,
   "metadata": {},
   "outputs": [],
   "source": [
    "size_d = {k: PIL.Image.open(PATH + k).size for k in data.trn_ds.fnames}"
   ]
  },
  {
   "cell_type": "code",
   "execution_count": 19,
   "metadata": {},
   "outputs": [],
   "source": [
    "row_sz, col_sz = list(zip(*size_d.values()))"
   ]
  },
  {
   "cell_type": "code",
   "execution_count": 20,
   "metadata": {},
   "outputs": [],
   "source": [
    "row_sz = np.array(row_sz); col_sz = np.array(col_sz)"
   ]
  },
  {
   "cell_type": "code",
   "execution_count": 21,
   "metadata": {},
   "outputs": [
    {
     "data": {
      "text/plain": [
       "array([500, 500, 300, 300, 330])"
      ]
     },
     "execution_count": 21,
     "metadata": {},
     "output_type": "execute_result"
    }
   ],
   "source": [
    "row_sz[:5]"
   ]
  },
  {
   "cell_type": "code",
   "execution_count": 22,
   "metadata": {},
   "outputs": [
    {
     "data": {
      "image/png": "[encoded data removed]",
      "text/plain": [
       "<Figure size 432x288 with 1 Axes>"
      ]
     },
     "metadata": {},
     "output_type": "display_data"
    }
   ],
   "source": [
    "plt.hist(row_sz);"
   ]
  },
  {
   "cell_type": "code",
   "execution_count": 23,
   "metadata": {
    "scrolled": true
   },
   "outputs": [
    {
     "data": {
      "text/plain": [
       "(array([  78.,  242., 1744.,  317., 3404.,   45.,   16.,    5.,    2.,    2.]),\n",
       " array([114. , 201.6, 289.2, 376.8, 464.4, 552. , 639.6, 727.2, 814.8, 902.4, 990. ]),\n",
       " <a list of 10 Patch objects>)"
      ]
     },
     "execution_count": 23,
     "metadata": {},
     "output_type": "execute_result"
    },
    {
     "data": {
      "image/png": "[encoded data removed]",
      "text/plain": [
       "<Figure size 432x288 with 1 Axes>"
      ]
     },
     "metadata": {},
     "output_type": "display_data"
    }
   ],
   "source": [
    "plt.hist(row_sz[row_sz < 1000])"
   ]
  },
  {
   "cell_type": "code",
   "execution_count": 24,
   "metadata": {},
   "outputs": [
    {
     "data": {
      "image/png": "[encoded data removed]",
      "text/plain": [
       "<Figure size 432x288 with 1 Axes>"
      ]
     },
     "metadata": {},
     "output_type": "display_data"
    }
   ],
   "source": [
    "plt.hist(col_sz);"
   ]
  },
  {
   "cell_type": "code",
   "execution_count": 25,
   "metadata": {
    "scrolled": false
   },
   "outputs": [
    {
     "data": {
      "text/plain": [
       "(array([  45.,  460., 1927., 1589., 1795.,   24.,    2.,    6.,   11.,    5.]),\n",
       " array([103. , 188.9, 274.8, 360.7, 446.6, 532.5, 618.4, 704.3, 790.2, 876.1, 962. ]),\n",
       " <a list of 10 Patch objects>)"
      ]
     },
     "execution_count": 25,
     "metadata": {},
     "output_type": "execute_result"
    },
    {
     "data": {
      "image/png": "[encoded data removed]",
      "text/plain": [
       "<Figure size 432x288 with 1 Axes>"
      ]
     },
     "metadata": {},
     "output_type": "display_data"
    }
   ],
   "source": [
    "plt.hist(col_sz[col_sz < 1000])"
   ]
  },
  {
   "cell_type": "code",
   "execution_count": 26,
   "metadata": {
    "scrolled": true
   },
   "outputs": [
    {
     "data": {
      "text/plain": [
       "(5880, 6849)"
      ]
     },
     "execution_count": 26,
     "metadata": {},
     "output_type": "execute_result"
    }
   ],
   "source": [
    "len(data.trn_ds), len(data.test_ds)"
   ]
  },
  {
   "cell_type": "code",
   "execution_count": 27,
   "metadata": {},
   "outputs": [
    {
     "data": {
      "text/plain": [
       "(37,\n",
       " ['abyssinian',\n",
       "  'american_bulldog',\n",
       "  'american_pit_bull_terrier',\n",
       "  'basset_hound',\n",
       "  'beagle'])"
      ]
     },
     "execution_count": 27,
     "metadata": {},
     "output_type": "execute_result"
    }
   ],
   "source": [
    "len(data.classes), data.classes[:5]"
   ]
  },
  {
   "cell_type": "markdown",
   "metadata": {},
   "source": [
    "## Initial model"
   ]
  },
  {
   "cell_type": "code",
   "execution_count": 28,
   "metadata": {},
   "outputs": [],
   "source": [
    "def get_data(sz, bs): # sz: image size, bs: batch size\n",
    "    tmfs = tfms_from_model(arch, sz, aug_tfms=transforms_side_on, max_zoom=1.1)\n",
    "    data = ImageClassifierData.from_csv(PATH, 'train', f'{PATH}train.csv', test_name='test',\n",
    "                                       val_idxs=val_idxs, suffix='.jpg', tfms=tfms, bs=bs)\n",
    "    \n",
    "    # http://forums.fast.ai/t/how-to-train-on-the-full-dataset-using-imageclassifierdata-from-csv/7761/13\n",
    "    # http://forums.fast.ai/t/how-to-train-on-the-full-dataset-using-imageclassifierdata-from-csv/7761/37\n",
    "    return data if sz > 300 else data.resize(340, 'tmp') # Reading the jpgs and resizing is slow for big images, so resizing them all to 340 first saves time\n",
    "\n",
    "#Source:   \n",
    "#    def resize(self, targ, new_path):\n",
    "#        new_ds = []\n",
    "#        dls = [self.trn_dl,self.val_dl,self.fix_dl,self.aug_dl]\n",
    "#        if self.test_dl: dls += [self.test_dl, self.test_aug_dl]\n",
    "#        else: dls += [None,None]\n",
    "#        t = tqdm_notebook(dls)\n",
    "#        for dl in t: new_ds.append(self.resized(dl, targ, new_path))\n",
    "#        t.close()\n",
    "#        return self.__class__(new_ds[0].path, new_ds, self.bs, self.num_workers, self.classes)\n",
    "#File:      ~/fastai/courses/dl1/fastai/dataset.py"
   ]
  },
  {
   "cell_type": "markdown",
   "metadata": {},
   "source": [
    "### Precompute"
   ]
  },
  {
   "cell_type": "code",
   "execution_count": 29,
   "metadata": {},
   "outputs": [
    {
     "data": {
      "application/vnd.jupyter.widget-view+json": {
       "model_id": "173c650d06104a47bbedf842afe5cae1",
       "version_major": 2,
       "version_minor": 0
      },
      "text/plain": [
       "HBox(children=(IntProgress(value=0, max=6), HTML(value='')))"
      ]
     },
     "metadata": {},
     "output_type": "display_data"
    },
    {
     "name": "stdout",
     "output_type": "stream",
     "text": [
      "\n"
     ]
    }
   ],
   "source": [
    "data = get_data(sz, bs)"
   ]
  },
  {
   "cell_type": "code",
   "execution_count": 30,
   "metadata": {},
   "outputs": [
    {
     "name": "stdout",
     "output_type": "stream",
     "text": [
      "100%|████████████████████████████████████████████████████████████████████████████████| 102/102 [03:22<00:00,  1.98s/it]\n",
      "100%|██████████████████████████████████████████████████████████████████████████████████| 26/26 [00:50<00:00,  1.96s/it]\n",
      "100%|████████████████████████████████████████████████████████████████████████████████| 119/119 [03:52<00:00,  1.95s/it]\n"
     ]
    }
   ],
   "source": [
    "learn = ConvLearner.pretrained(arch, data, precompute=True)"
   ]
  },
  {
   "cell_type": "code",
   "execution_count": 31,
   "metadata": {},
   "outputs": [
    {
     "data": {
      "application/vnd.jupyter.widget-view+json": {
       "model_id": "be2d33fd6e84441989fbddc633746810",
       "version_major": 2,
       "version_minor": 0
      },
      "text/plain": [
       "HBox(children=(IntProgress(value=0, description='Epoch', max=5), HTML(value='')))"
      ]
     },
     "metadata": {},
     "output_type": "display_data"
    },
    {
     "name": "stdout",
     "output_type": "stream",
     "text": [
      "epoch      trn_loss   val_loss   accuracy                                                                              \n",
      "    0      0.518949   0.240855   0.929884  \n",
      "    1      0.261587   0.204508   0.927161                                                                              \n",
      "    2      0.178574   0.203608   0.926481                                                                              \n",
      "    3      0.142948   0.199266   0.929884                                                                              \n",
      "    4      0.11595    0.204777   0.930565                                                                              \n",
      "\n"
     ]
    },
    {
     "data": {
      "text/plain": [
       "[array([0.20478]), 0.9305650153234754]"
      ]
     },
     "execution_count": 31,
     "metadata": {},
     "output_type": "execute_result"
    }
   ],
   "source": [
    "learn.fit(1e-2, 5)"
   ]
  },
  {
   "cell_type": "markdown",
   "metadata": {},
   "source": [
    "### Augment"
   ]
  },
  {
   "cell_type": "code",
   "execution_count": 32,
   "metadata": {},
   "outputs": [],
   "source": [
    "from sklearn import metrics"
   ]
  },
  {
   "cell_type": "code",
   "execution_count": 33,
   "metadata": {},
   "outputs": [
    {
     "data": {
      "application/vnd.jupyter.widget-view+json": {
       "model_id": "4e5013f7e4f44eb0ac793d032aff38fe",
       "version_major": 2,
       "version_minor": 0
      },
      "text/plain": [
       "HBox(children=(IntProgress(value=0, max=6), HTML(value='')))"
      ]
     },
     "metadata": {},
     "output_type": "display_data"
    },
    {
     "name": "stdout",
     "output_type": "stream",
     "text": [
      "\n"
     ]
    }
   ],
   "source": [
    "data = get_data(sz, bs)"
   ]
  },
  {
   "cell_type": "code",
   "execution_count": 34,
   "metadata": {},
   "outputs": [],
   "source": [
    "learn = ConvLearner.pretrained(arch, data, precompute=True, ps=0.5)"
   ]
  },
  {
   "cell_type": "code",
   "execution_count": 35,
   "metadata": {},
   "outputs": [
    {
     "data": {
      "application/vnd.jupyter.widget-view+json": {
       "model_id": "18ed459364224f468a01e82a2deb2ffd",
       "version_major": 2,
       "version_minor": 0
      },
      "text/plain": [
       "HBox(children=(IntProgress(value=0, description='Epoch', max=2), HTML(value='')))"
      ]
     },
     "metadata": {},
     "output_type": "display_data"
    },
    {
     "name": "stdout",
     "output_type": "stream",
     "text": [
      "epoch      trn_loss   val_loss   accuracy                                                                              \n",
      "    0      0.646854   0.268172   0.923758  \n",
      "    1      0.329252   0.236605   0.927842                                                                              \n",
      "\n"
     ]
    },
    {
     "data": {
      "text/plain": [
       "[array([0.2366]), 0.9278420678525656]"
      ]
     },
     "execution_count": 35,
     "metadata": {},
     "output_type": "execute_result"
    }
   ],
   "source": [
    "learn.fit(1e-2, 2)"
   ]
  },
  {
   "cell_type": "code",
   "execution_count": 36,
   "metadata": {},
   "outputs": [],
   "source": [
    "learn.precompute = False"
   ]
  },
  {
   "cell_type": "code",
   "execution_count": 37,
   "metadata": {},
   "outputs": [
    {
     "data": {
      "application/vnd.jupyter.widget-view+json": {
       "model_id": "fd1e41030dd248958cb07fa35a97eb53",
       "version_major": 2,
       "version_minor": 0
      },
      "text/plain": [
       "HBox(children=(IntProgress(value=0, description='Epoch', max=5), HTML(value='')))"
      ]
     },
     "metadata": {},
     "output_type": "display_data"
    },
    {
     "name": "stdout",
     "output_type": "stream",
     "text": [
      "epoch      trn_loss   val_loss   accuracy                                                                              \n",
      "    0      0.281717   0.216017   0.932607  \n",
      "    1      0.258899   0.205963   0.93533                                                                               \n",
      "    2      0.24032    0.1992     0.932607                                                                              \n",
      "    3      0.223276   0.202065   0.93533                                                                               \n",
      "    4      0.196845   0.197096   0.933288                                                                              \n",
      "\n"
     ]
    },
    {
     "data": {
      "text/plain": [
       "[array([0.1971]), 0.9332879575602127]"
      ]
     },
     "execution_count": 37,
     "metadata": {},
     "output_type": "execute_result"
    }
   ],
   "source": [
    "learn.fit(1e-2, 5, cycle_len=1)"
   ]
  },
  {
   "cell_type": "code",
   "execution_count": 38,
   "metadata": {},
   "outputs": [],
   "source": [
    "learn.save('224_pre')"
   ]
  },
  {
   "cell_type": "code",
   "execution_count": 39,
   "metadata": {},
   "outputs": [],
   "source": [
    "learn.load('224_pre')"
   ]
  },
  {
   "cell_type": "markdown",
   "metadata": {},
   "source": [
    "## Increase size"
   ]
  },
  {
   "cell_type": "code",
   "execution_count": 40,
   "metadata": {
    "scrolled": true
   },
   "outputs": [
    {
     "data": {
      "application/vnd.jupyter.widget-view+json": {
       "model_id": "c4203d697a354ddd937ecf442d7f3ee8",
       "version_major": 2,
       "version_minor": 0
      },
      "text/plain": [
       "HBox(children=(IntProgress(value=0, max=6), HTML(value='')))"
      ]
     },
     "metadata": {},
     "output_type": "display_data"
    },
    {
     "name": "stdout",
     "output_type": "stream",
     "text": [
      "\n"
     ]
    }
   ],
   "source": [
    "# Starting training on small images for a few epochs, then switching to bigger images, and continuing training is an amazingly effective way to avoid overfitting.\n",
    "\n",
    "# http://forums.fast.ai/t/planet-classification-challenge/7824/96\n",
    "# set_data doesn’t change the model at all. It just gives it new data to train with.\n",
    "learn.set_data(get_data(299, bs)) \n",
    "learn.freeze()\n",
    "\n",
    "#Source:   \n",
    "#    def set_data(self, data, precompute=False):\n",
    "#        super().set_data(data)\n",
    "#        if precompute:\n",
    "#            self.unfreeze()\n",
    "#            self.save_fc1()\n",
    "#            self.freeze()\n",
    "#            self.precompute = True\n",
    "#        else:\n",
    "#            self.freeze()\n",
    "#File:      ~/fastai/courses/dl1/fastai/conv_learner.py"
   ]
  },
  {
   "cell_type": "code",
   "execution_count": 41,
   "metadata": {},
   "outputs": [
    {
     "data": {
      "text/plain": [
       "OrderedDict([('Conv2d-1',\n",
       "              OrderedDict([('input_shape', [-1, 3, 224, 224]),\n",
       "                           ('output_shape', [-1, 64, 112, 112]),\n",
       "                           ('trainable', False),\n",
       "                           ('nb_params', 9408)])),\n",
       "             ('BatchNorm2d-2',\n",
       "              OrderedDict([('input_shape', [-1, 64, 112, 112]),\n",
       "                           ('output_shape', [-1, 64, 112, 112]),\n",
       "                           ('trainable', False),\n",
       "                           ('nb_params', 128)])),\n",
       "             ('ReLU-3',\n",
       "              OrderedDict([('input_shape', [-1, 64, 112, 112]),\n",
       "                           ('output_shape', [-1, 64, 112, 112]),\n",
       "                           ('nb_params', 0)])),\n",
       "             ('MaxPool2d-4',\n",
       "              OrderedDict([('input_shape', [-1, 64, 112, 112]),\n",
       "                           ('output_shape', [-1, 64, 56, 56]),\n",
       "                           ('nb_params', 0)])),\n",
       "             ('Conv2d-5',\n",
       "              OrderedDict([('input_shape', [-1, 64, 56, 56]),\n",
       "                           ('output_shape', [-1, 256, 56, 56]),\n",
       "                           ('trainable', False),\n",
       "                           ('nb_params', 16384)])),\n",
       "             ('BatchNorm2d-6',\n",
       "              OrderedDict([('input_shape', [-1, 256, 56, 56]),\n",
       "                           ('output_shape', [-1, 256, 56, 56]),\n",
       "                           ('trainable', False),\n",
       "                           ('nb_params', 512)])),\n",
       "             ('ReLU-7',\n",
       "              OrderedDict([('input_shape', [-1, 256, 56, 56]),\n",
       "                           ('output_shape', [-1, 256, 56, 56]),\n",
       "                           ('nb_params', 0)])),\n",
       "             ('Conv2d-8',\n",
       "              OrderedDict([('input_shape', [-1, 256, 56, 56]),\n",
       "                           ('output_shape', [-1, 256, 56, 56]),\n",
       "                           ('trainable', False),\n",
       "                           ('nb_params', 9216)])),\n",
       "             ('BatchNorm2d-9',\n",
       "              OrderedDict([('input_shape', [-1, 256, 56, 56]),\n",
       "                           ('output_shape', [-1, 256, 56, 56]),\n",
       "                           ('trainable', False),\n",
       "                           ('nb_params', 512)])),\n",
       "             ('ReLU-10',\n",
       "              OrderedDict([('input_shape', [-1, 256, 56, 56]),\n",
       "                           ('output_shape', [-1, 256, 56, 56]),\n",
       "                           ('nb_params', 0)])),\n",
       "             ('Conv2d-11',\n",
       "              OrderedDict([('input_shape', [-1, 256, 56, 56]),\n",
       "                           ('output_shape', [-1, 256, 56, 56]),\n",
       "                           ('trainable', False),\n",
       "                           ('nb_params', 65536)])),\n",
       "             ('BatchNorm2d-12',\n",
       "              OrderedDict([('input_shape', [-1, 256, 56, 56]),\n",
       "                           ('output_shape', [-1, 256, 56, 56]),\n",
       "                           ('trainable', False),\n",
       "                           ('nb_params', 512)])),\n",
       "             ('Conv2d-13',\n",
       "              OrderedDict([('input_shape', [-1, 64, 56, 56]),\n",
       "                           ('output_shape', [-1, 256, 56, 56]),\n",
       "                           ('trainable', False),\n",
       "                           ('nb_params', 16384)])),\n",
       "             ('BatchNorm2d-14',\n",
       "              OrderedDict([('input_shape', [-1, 256, 56, 56]),\n",
       "                           ('output_shape', [-1, 256, 56, 56]),\n",
       "                           ('trainable', False),\n",
       "                           ('nb_params', 512)])),\n",
       "             ('ReLU-15',\n",
       "              OrderedDict([('input_shape', [-1, 256, 56, 56]),\n",
       "                           ('output_shape', [-1, 256, 56, 56]),\n",
       "                           ('nb_params', 0)])),\n",
       "             ('Conv2d-16',\n",
       "              OrderedDict([('input_shape', [-1, 256, 56, 56]),\n",
       "                           ('output_shape', [-1, 256, 56, 56]),\n",
       "                           ('trainable', False),\n",
       "                           ('nb_params', 65536)])),\n",
       "             ('BatchNorm2d-17',\n",
       "              OrderedDict([('input_shape', [-1, 256, 56, 56]),\n",
       "                           ('output_shape', [-1, 256, 56, 56]),\n",
       "                           ('trainable', False),\n",
       "                           ('nb_params', 512)])),\n",
       "             ('ReLU-18',\n",
       "              OrderedDict([('input_shape', [-1, 256, 56, 56]),\n",
       "                           ('output_shape', [-1, 256, 56, 56]),\n",
       "                           ('nb_params', 0)])),\n",
       "             ('Conv2d-19',\n",
       "              OrderedDict([('input_shape', [-1, 256, 56, 56]),\n",
       "                           ('output_shape', [-1, 256, 56, 56]),\n",
       "                           ('trainable', False),\n",
       "                           ('nb_params', 9216)])),\n",
       "             ('BatchNorm2d-20',\n",
       "              OrderedDict([('input_shape', [-1, 256, 56, 56]),\n",
       "                           ('output_shape', [-1, 256, 56, 56]),\n",
       "                           ('trainable', False),\n",
       "                           ('nb_params', 512)])),\n",
       "             ('ReLU-21',\n",
       "              OrderedDict([('input_shape', [-1, 256, 56, 56]),\n",
       "                           ('output_shape', [-1, 256, 56, 56]),\n",
       "                           ('nb_params', 0)])),\n",
       "             ('Conv2d-22',\n",
       "              OrderedDict([('input_shape', [-1, 256, 56, 56]),\n",
       "                           ('output_shape', [-1, 256, 56, 56]),\n",
       "                           ('trainable', False),\n",
       "                           ('nb_params', 65536)])),\n",
       "             ('BatchNorm2d-23',\n",
       "              OrderedDict([('input_shape', [-1, 256, 56, 56]),\n",
       "                           ('output_shape', [-1, 256, 56, 56]),\n",
       "                           ('trainable', False),\n",
       "                           ('nb_params', 512)])),\n",
       "             ('ReLU-24',\n",
       "              OrderedDict([('input_shape', [-1, 256, 56, 56]),\n",
       "                           ('output_shape', [-1, 256, 56, 56]),\n",
       "                           ('nb_params', 0)])),\n",
       "             ('Conv2d-25',\n",
       "              OrderedDict([('input_shape', [-1, 256, 56, 56]),\n",
       "                           ('output_shape', [-1, 256, 56, 56]),\n",
       "                           ('trainable', False),\n",
       "                           ('nb_params', 65536)])),\n",
       "             ('BatchNorm2d-26',\n",
       "              OrderedDict([('input_shape', [-1, 256, 56, 56]),\n",
       "                           ('output_shape', [-1, 256, 56, 56]),\n",
       "                           ('trainable', False),\n",
       "                           ('nb_params', 512)])),\n",
       "             ('ReLU-27',\n",
       "              OrderedDict([('input_shape', [-1, 256, 56, 56]),\n",
       "                           ('output_shape', [-1, 256, 56, 56]),\n",
       "                           ('nb_params', 0)])),\n",
       "             ('Conv2d-28',\n",
       "              OrderedDict([('input_shape', [-1, 256, 56, 56]),\n",
       "                           ('output_shape', [-1, 256, 56, 56]),\n",
       "                           ('trainable', False),\n",
       "                           ('nb_params', 9216)])),\n",
       "             ('BatchNorm2d-29',\n",
       "              OrderedDict([('input_shape', [-1, 256, 56, 56]),\n",
       "                           ('output_shape', [-1, 256, 56, 56]),\n",
       "                           ('trainable', False),\n",
       "                           ('nb_params', 512)])),\n",
       "             ('ReLU-30',\n",
       "              OrderedDict([('input_shape', [-1, 256, 56, 56]),\n",
       "                           ('output_shape', [-1, 256, 56, 56]),\n",
       "                           ('nb_params', 0)])),\n",
       "             ('Conv2d-31',\n",
       "              OrderedDict([('input_shape', [-1, 256, 56, 56]),\n",
       "                           ('output_shape', [-1, 256, 56, 56]),\n",
       "                           ('trainable', False),\n",
       "                           ('nb_params', 65536)])),\n",
       "             ('BatchNorm2d-32',\n",
       "              OrderedDict([('input_shape', [-1, 256, 56, 56]),\n",
       "                           ('output_shape', [-1, 256, 56, 56]),\n",
       "                           ('trainable', False),\n",
       "                           ('nb_params', 512)])),\n",
       "             ('ReLU-33',\n",
       "              OrderedDict([('input_shape', [-1, 256, 56, 56]),\n",
       "                           ('output_shape', [-1, 256, 56, 56]),\n",
       "                           ('nb_params', 0)])),\n",
       "             ('Conv2d-34',\n",
       "              OrderedDict([('input_shape', [-1, 256, 56, 56]),\n",
       "                           ('output_shape', [-1, 512, 56, 56]),\n",
       "                           ('trainable', False),\n",
       "                           ('nb_params', 131072)])),\n",
       "             ('BatchNorm2d-35',\n",
       "              OrderedDict([('input_shape', [-1, 512, 56, 56]),\n",
       "                           ('output_shape', [-1, 512, 56, 56]),\n",
       "                           ('trainable', False),\n",
       "                           ('nb_params', 1024)])),\n",
       "             ('ReLU-36',\n",
       "              OrderedDict([('input_shape', [-1, 512, 56, 56]),\n",
       "                           ('output_shape', [-1, 512, 56, 56]),\n",
       "                           ('nb_params', 0)])),\n",
       "             ('Conv2d-37',\n",
       "              OrderedDict([('input_shape', [-1, 512, 56, 56]),\n",
       "                           ('output_shape', [-1, 512, 28, 28]),\n",
       "                           ('trainable', False),\n",
       "                           ('nb_params', 36864)])),\n",
       "             ('BatchNorm2d-38',\n",
       "              OrderedDict([('input_shape', [-1, 512, 28, 28]),\n",
       "                           ('output_shape', [-1, 512, 28, 28]),\n",
       "                           ('trainable', False),\n",
       "                           ('nb_params', 1024)])),\n",
       "             ('ReLU-39',\n",
       "              OrderedDict([('input_shape', [-1, 512, 28, 28]),\n",
       "                           ('output_shape', [-1, 512, 28, 28]),\n",
       "                           ('nb_params', 0)])),\n",
       "             ('Conv2d-40',\n",
       "              OrderedDict([('input_shape', [-1, 512, 28, 28]),\n",
       "                           ('output_shape', [-1, 512, 28, 28]),\n",
       "                           ('trainable', False),\n",
       "                           ('nb_params', 262144)])),\n",
       "             ('BatchNorm2d-41',\n",
       "              OrderedDict([('input_shape', [-1, 512, 28, 28]),\n",
       "                           ('output_shape', [-1, 512, 28, 28]),\n",
       "                           ('trainable', False),\n",
       "                           ('nb_params', 1024)])),\n",
       "             ('Conv2d-42',\n",
       "              OrderedDict([('input_shape', [-1, 256, 56, 56]),\n",
       "                           ('output_shape', [-1, 512, 28, 28]),\n",
       "                           ('trainable', False),\n",
       "                           ('nb_params', 131072)])),\n",
       "             ('BatchNorm2d-43',\n",
       "              OrderedDict([('input_shape', [-1, 512, 28, 28]),\n",
       "                           ('output_shape', [-1, 512, 28, 28]),\n",
       "                           ('trainable', False),\n",
       "                           ('nb_params', 1024)])),\n",
       "             ('ReLU-44',\n",
       "              OrderedDict([('input_shape', [-1, 512, 28, 28]),\n",
       "                           ('output_shape', [-1, 512, 28, 28]),\n",
       "                           ('nb_params', 0)])),\n",
       "             ('Conv2d-45',\n",
       "              OrderedDict([('input_shape', [-1, 512, 28, 28]),\n",
       "                           ('output_shape', [-1, 512, 28, 28]),\n",
       "                           ('trainable', False),\n",
       "                           ('nb_params', 262144)])),\n",
       "             ('BatchNorm2d-46',\n",
       "              OrderedDict([('input_shape', [-1, 512, 28, 28]),\n",
       "                           ('output_shape', [-1, 512, 28, 28]),\n",
       "                           ('trainable', False),\n",
       "                           ('nb_params', 1024)])),\n",
       "             ('ReLU-47',\n",
       "              OrderedDict([('input_shape', [-1, 512, 28, 28]),\n",
       "                           ('output_shape', [-1, 512, 28, 28]),\n",
       "                           ('nb_params', 0)])),\n",
       "             ('Conv2d-48',\n",
       "              OrderedDict([('input_shape', [-1, 512, 28, 28]),\n",
       "                           ('output_shape', [-1, 512, 28, 28]),\n",
       "                           ('trainable', False),\n",
       "                           ('nb_params', 36864)])),\n",
       "             ('BatchNorm2d-49',\n",
       "              OrderedDict([('input_shape', [-1, 512, 28, 28]),\n",
       "                           ('output_shape', [-1, 512, 28, 28]),\n",
       "                           ('trainable', False),\n",
       "                           ('nb_params', 1024)])),\n",
       "             ('ReLU-50',\n",
       "              OrderedDict([('input_shape', [-1, 512, 28, 28]),\n",
       "                           ('output_shape', [-1, 512, 28, 28]),\n",
       "                           ('nb_params', 0)])),\n",
       "             ('Conv2d-51',\n",
       "              OrderedDict([('input_shape', [-1, 512, 28, 28]),\n",
       "                           ('output_shape', [-1, 512, 28, 28]),\n",
       "                           ('trainable', False),\n",
       "                           ('nb_params', 262144)])),\n",
       "             ('BatchNorm2d-52',\n",
       "              OrderedDict([('input_shape', [-1, 512, 28, 28]),\n",
       "                           ('output_shape', [-1, 512, 28, 28]),\n",
       "                           ('trainable', False),\n",
       "                           ('nb_params', 1024)])),\n",
       "             ('ReLU-53',\n",
       "              OrderedDict([('input_shape', [-1, 512, 28, 28]),\n",
       "                           ('output_shape', [-1, 512, 28, 28]),\n",
       "                           ('nb_params', 0)])),\n",
       "             ('Conv2d-54',\n",
       "              OrderedDict([('input_shape', [-1, 512, 28, 28]),\n",
       "                           ('output_shape', [-1, 512, 28, 28]),\n",
       "                           ('trainable', False),\n",
       "                           ('nb_params', 262144)])),\n",
       "             ('BatchNorm2d-55',\n",
       "              OrderedDict([('input_shape', [-1, 512, 28, 28]),\n",
       "                           ('output_shape', [-1, 512, 28, 28]),\n",
       "                           ('trainable', False),\n",
       "                           ('nb_params', 1024)])),\n",
       "             ('ReLU-56',\n",
       "              OrderedDict([('input_shape', [-1, 512, 28, 28]),\n",
       "                           ('output_shape', [-1, 512, 28, 28]),\n",
       "                           ('nb_params', 0)])),\n",
       "             ('Conv2d-57',\n",
       "              OrderedDict([('input_shape', [-1, 512, 28, 28]),\n",
       "                           ('output_shape', [-1, 512, 28, 28]),\n",
       "                           ('trainable', False),\n",
       "                           ('nb_params', 36864)])),\n",
       "             ('BatchNorm2d-58',\n",
       "              OrderedDict([('input_shape', [-1, 512, 28, 28]),\n",
       "                           ('output_shape', [-1, 512, 28, 28]),\n",
       "                           ('trainable', False),\n",
       "                           ('nb_params', 1024)])),\n",
       "             ('ReLU-59',\n",
       "              OrderedDict([('input_shape', [-1, 512, 28, 28]),\n",
       "                           ('output_shape', [-1, 512, 28, 28]),\n",
       "                           ('nb_params', 0)])),\n",
       "             ('Conv2d-60',\n",
       "              OrderedDict([('input_shape', [-1, 512, 28, 28]),\n",
       "                           ('output_shape', [-1, 512, 28, 28]),\n",
       "                           ('trainable', False),\n",
       "                           ('nb_params', 262144)])),\n",
       "             ('BatchNorm2d-61',\n",
       "              OrderedDict([('input_shape', [-1, 512, 28, 28]),\n",
       "                           ('output_shape', [-1, 512, 28, 28]),\n",
       "                           ('trainable', False),\n",
       "                           ('nb_params', 1024)])),\n",
       "             ('ReLU-62',\n",
       "              OrderedDict([('input_shape', [-1, 512, 28, 28]),\n",
       "                           ('output_shape', [-1, 512, 28, 28]),\n",
       "                           ('nb_params', 0)])),\n",
       "             ('Conv2d-63',\n",
       "              OrderedDict([('input_shape', [-1, 512, 28, 28]),\n",
       "                           ('output_shape', [-1, 512, 28, 28]),\n",
       "                           ('trainable', False),\n",
       "                           ('nb_params', 262144)])),\n",
       "             ('BatchNorm2d-64',\n",
       "              OrderedDict([('input_shape', [-1, 512, 28, 28]),\n",
       "                           ('output_shape', [-1, 512, 28, 28]),\n",
       "                           ('trainable', False),\n",
       "                           ('nb_params', 1024)])),\n",
       "             ('ReLU-65',\n",
       "              OrderedDict([('input_shape', [-1, 512, 28, 28]),\n",
       "                           ('output_shape', [-1, 512, 28, 28]),\n",
       "                           ('nb_params', 0)])),\n",
       "             ('Conv2d-66',\n",
       "              OrderedDict([('input_shape', [-1, 512, 28, 28]),\n",
       "                           ('output_shape', [-1, 512, 28, 28]),\n",
       "                           ('trainable', False),\n",
       "                           ('nb_params', 36864)])),\n",
       "             ('BatchNorm2d-67',\n",
       "              OrderedDict([('input_shape', [-1, 512, 28, 28]),\n",
       "                           ('output_shape', [-1, 512, 28, 28]),\n",
       "                           ('trainable', False),\n",
       "                           ('nb_params', 1024)])),\n",
       "             ('ReLU-68',\n",
       "              OrderedDict([('input_shape', [-1, 512, 28, 28]),\n",
       "                           ('output_shape', [-1, 512, 28, 28]),\n",
       "                           ('nb_params', 0)])),\n",
       "             ('Conv2d-69',\n",
       "              OrderedDict([('input_shape', [-1, 512, 28, 28]),\n",
       "                           ('output_shape', [-1, 512, 28, 28]),\n",
       "                           ('trainable', False),\n",
       "                           ('nb_params', 262144)])),\n",
       "             ('BatchNorm2d-70',\n",
       "              OrderedDict([('input_shape', [-1, 512, 28, 28]),\n",
       "                           ('output_shape', [-1, 512, 28, 28]),\n",
       "                           ('trainable', False),\n",
       "                           ('nb_params', 1024)])),\n",
       "             ('ReLU-71',\n",
       "              OrderedDict([('input_shape', [-1, 512, 28, 28]),\n",
       "                           ('output_shape', [-1, 512, 28, 28]),\n",
       "                           ('nb_params', 0)])),\n",
       "             ('Conv2d-72',\n",
       "              OrderedDict([('input_shape', [-1, 512, 28, 28]),\n",
       "                           ('output_shape', [-1, 1024, 28, 28]),\n",
       "                           ('trainable', False),\n",
       "                           ('nb_params', 524288)])),\n",
       "             ('BatchNorm2d-73',\n",
       "              OrderedDict([('input_shape', [-1, 1024, 28, 28]),\n",
       "                           ('output_shape', [-1, 1024, 28, 28]),\n",
       "                           ('trainable', False),\n",
       "                           ('nb_params', 2048)])),\n",
       "             ('ReLU-74',\n",
       "              OrderedDict([('input_shape', [-1, 1024, 28, 28]),\n",
       "                           ('output_shape', [-1, 1024, 28, 28]),\n",
       "                           ('nb_params', 0)])),\n",
       "             ('Conv2d-75',\n",
       "              OrderedDict([('input_shape', [-1, 1024, 28, 28]),\n",
       "                           ('output_shape', [-1, 1024, 14, 14]),\n",
       "                           ('trainable', False),\n",
       "                           ('nb_params', 147456)])),\n",
       "             ('BatchNorm2d-76',\n",
       "              OrderedDict([('input_shape', [-1, 1024, 14, 14]),\n",
       "                           ('output_shape', [-1, 1024, 14, 14]),\n",
       "                           ('trainable', False),\n",
       "                           ('nb_params', 2048)])),\n",
       "             ('ReLU-77',\n",
       "              OrderedDict([('input_shape', [-1, 1024, 14, 14]),\n",
       "                           ('output_shape', [-1, 1024, 14, 14]),\n",
       "                           ('nb_params', 0)])),\n",
       "             ('Conv2d-78',\n",
       "              OrderedDict([('input_shape', [-1, 1024, 14, 14]),\n",
       "                           ('output_shape', [-1, 1024, 14, 14]),\n",
       "                           ('trainable', False),\n",
       "                           ('nb_params', 1048576)])),\n",
       "             ('BatchNorm2d-79',\n",
       "              OrderedDict([('input_shape', [-1, 1024, 14, 14]),\n",
       "                           ('output_shape', [-1, 1024, 14, 14]),\n",
       "                           ('trainable', False),\n",
       "                           ('nb_params', 2048)])),\n",
       "             ('Conv2d-80',\n",
       "              OrderedDict([('input_shape', [-1, 512, 28, 28]),\n",
       "                           ('output_shape', [-1, 1024, 14, 14]),\n",
       "                           ('trainable', False),\n",
       "                           ('nb_params', 524288)])),\n",
       "             ('BatchNorm2d-81',\n",
       "              OrderedDict([('input_shape', [-1, 1024, 14, 14]),\n",
       "                           ('output_shape', [-1, 1024, 14, 14]),\n",
       "                           ('trainable', False),\n",
       "                           ('nb_params', 2048)])),\n",
       "             ('ReLU-82',\n",
       "              OrderedDict([('input_shape', [-1, 1024, 14, 14]),\n",
       "                           ('output_shape', [-1, 1024, 14, 14]),\n",
       "                           ('nb_params', 0)])),\n",
       "             ('Conv2d-83',\n",
       "              OrderedDict([('input_shape', [-1, 1024, 14, 14]),\n",
       "                           ('output_shape', [-1, 1024, 14, 14]),\n",
       "                           ('trainable', False),\n",
       "                           ('nb_params', 1048576)])),\n",
       "             ('BatchNorm2d-84',\n",
       "              OrderedDict([('input_shape', [-1, 1024, 14, 14]),\n",
       "                           ('output_shape', [-1, 1024, 14, 14]),\n",
       "                           ('trainable', False),\n",
       "                           ('nb_params', 2048)])),\n",
       "             ('ReLU-85',\n",
       "              OrderedDict([('input_shape', [-1, 1024, 14, 14]),\n",
       "                           ('output_shape', [-1, 1024, 14, 14]),\n",
       "                           ('nb_params', 0)])),\n",
       "             ('Conv2d-86',\n",
       "              OrderedDict([('input_shape', [-1, 1024, 14, 14]),\n",
       "                           ('output_shape', [-1, 1024, 14, 14]),\n",
       "                           ('trainable', False),\n",
       "                           ('nb_params', 147456)])),\n",
       "             ('BatchNorm2d-87',\n",
       "              OrderedDict([('input_shape', [-1, 1024, 14, 14]),\n",
       "                           ('output_shape', [-1, 1024, 14, 14]),\n",
       "                           ('trainable', False),\n",
       "                           ('nb_params', 2048)])),\n",
       "             ('ReLU-88',\n",
       "              OrderedDict([('input_shape', [-1, 1024, 14, 14]),\n",
       "                           ('output_shape', [-1, 1024, 14, 14]),\n",
       "                           ('nb_params', 0)])),\n",
       "             ('Conv2d-89',\n",
       "              OrderedDict([('input_shape', [-1, 1024, 14, 14]),\n",
       "                           ('output_shape', [-1, 1024, 14, 14]),\n",
       "                           ('trainable', False),\n",
       "                           ('nb_params', 1048576)])),\n",
       "             ('BatchNorm2d-90',\n",
       "              OrderedDict([('input_shape', [-1, 1024, 14, 14]),\n",
       "                           ('output_shape', [-1, 1024, 14, 14]),\n",
       "                           ('trainable', False),\n",
       "                           ('nb_params', 2048)])),\n",
       "             ('ReLU-91',\n",
       "              OrderedDict([('input_shape', [-1, 1024, 14, 14]),\n",
       "                           ('output_shape', [-1, 1024, 14, 14]),\n",
       "                           ('nb_params', 0)])),\n",
       "             ('Conv2d-92',\n",
       "              OrderedDict([('input_shape', [-1, 1024, 14, 14]),\n",
       "                           ('output_shape', [-1, 1024, 14, 14]),\n",
       "                           ('trainable', False),\n",
       "                           ('nb_params', 1048576)])),\n",
       "             ('BatchNorm2d-93',\n",
       "              OrderedDict([('input_shape', [-1, 1024, 14, 14]),\n",
       "                           ('output_shape', [-1, 1024, 14, 14]),\n",
       "                           ('trainable', False),\n",
       "                           ('nb_params', 2048)])),\n",
       "             ('ReLU-94',\n",
       "              OrderedDict([('input_shape', [-1, 1024, 14, 14]),\n",
       "                           ('output_shape', [-1, 1024, 14, 14]),\n",
       "                           ('nb_params', 0)])),\n",
       "             ('Conv2d-95',\n",
       "              OrderedDict([('input_shape', [-1, 1024, 14, 14]),\n",
       "                           ('output_shape', [-1, 1024, 14, 14]),\n",
       "                           ('trainable', False),\n",
       "                           ('nb_params', 147456)])),\n",
       "             ('BatchNorm2d-96',\n",
       "              OrderedDict([('input_shape', [-1, 1024, 14, 14]),\n",
       "                           ('output_shape', [-1, 1024, 14, 14]),\n",
       "                           ('trainable', False),\n",
       "                           ('nb_params', 2048)])),\n",
       "             ('ReLU-97',\n",
       "              OrderedDict([('input_shape', [-1, 1024, 14, 14]),\n",
       "                           ('output_shape', [-1, 1024, 14, 14]),\n",
       "                           ('nb_params', 0)])),\n",
       "             ('Conv2d-98',\n",
       "              OrderedDict([('input_shape', [-1, 1024, 14, 14]),\n",
       "                           ('output_shape', [-1, 1024, 14, 14]),\n",
       "                           ('trainable', False),\n",
       "                           ('nb_params', 1048576)])),\n",
       "             ('BatchNorm2d-99',\n",
       "              OrderedDict([('input_shape', [-1, 1024, 14, 14]),\n",
       "                           ('output_shape', [-1, 1024, 14, 14]),\n",
       "                           ('trainable', False),\n",
       "                           ('nb_params', 2048)])),\n",
       "             ('ReLU-100',\n",
       "              OrderedDict([('input_shape', [-1, 1024, 14, 14]),\n",
       "                           ('output_shape', [-1, 1024, 14, 14]),\n",
       "                           ('nb_params', 0)])),\n",
       "             ('Conv2d-101',\n",
       "              OrderedDict([('input_shape', [-1, 1024, 14, 14]),\n",
       "                           ('output_shape', [-1, 1024, 14, 14]),\n",
       "                           ('trainable', False),\n",
       "                           ('nb_params', 1048576)])),\n",
       "             ('BatchNorm2d-102',\n",
       "              OrderedDict([('input_shape', [-1, 1024, 14, 14]),\n",
       "                           ('output_shape', [-1, 1024, 14, 14]),\n",
       "                           ('trainable', False),\n",
       "                           ('nb_params', 2048)])),\n",
       "             ('ReLU-103',\n",
       "              OrderedDict([('input_shape', [-1, 1024, 14, 14]),\n",
       "                           ('output_shape', [-1, 1024, 14, 14]),\n",
       "                           ('nb_params', 0)])),\n",
       "             ('Conv2d-104',\n",
       "              OrderedDict([('input_shape', [-1, 1024, 14, 14]),\n",
       "                           ('output_shape', [-1, 1024, 14, 14]),\n",
       "                           ('trainable', False),\n",
       "                           ('nb_params', 147456)])),\n",
       "             ('BatchNorm2d-105',\n",
       "              OrderedDict([('input_shape', [-1, 1024, 14, 14]),\n",
       "                           ('output_shape', [-1, 1024, 14, 14]),\n",
       "                           ('trainable', False),\n",
       "                           ('nb_params', 2048)])),\n",
       "             ('ReLU-106',\n",
       "              OrderedDict([('input_shape', [-1, 1024, 14, 14]),\n",
       "                           ('output_shape', [-1, 1024, 14, 14]),\n",
       "                           ('nb_params', 0)])),\n",
       "             ('Conv2d-107',\n",
       "              OrderedDict([('input_shape', [-1, 1024, 14, 14]),\n",
       "                           ('output_shape', [-1, 1024, 14, 14]),\n",
       "                           ('trainable', False),\n",
       "                           ('nb_params', 1048576)])),\n",
       "             ('BatchNorm2d-108',\n",
       "              OrderedDict([('input_shape', [-1, 1024, 14, 14]),\n",
       "                           ('output_shape', [-1, 1024, 14, 14]),\n",
       "                           ('trainable', False),\n",
       "                           ('nb_params', 2048)])),\n",
       "             ('ReLU-109',\n",
       "              OrderedDict([('input_shape', [-1, 1024, 14, 14]),\n",
       "                           ('output_shape', [-1, 1024, 14, 14]),\n",
       "                           ('nb_params', 0)])),\n",
       "             ('Conv2d-110',\n",
       "              OrderedDict([('input_shape', [-1, 1024, 14, 14]),\n",
       "                           ('output_shape', [-1, 1024, 14, 14]),\n",
       "                           ('trainable', False),\n",
       "                           ('nb_params', 1048576)])),\n",
       "             ('BatchNorm2d-111',\n",
       "              OrderedDict([('input_shape', [-1, 1024, 14, 14]),\n",
       "                           ('output_shape', [-1, 1024, 14, 14]),\n",
       "                           ('trainable', False),\n",
       "                           ('nb_params', 2048)])),\n",
       "             ('ReLU-112',\n",
       "              OrderedDict([('input_shape', [-1, 1024, 14, 14]),\n",
       "                           ('output_shape', [-1, 1024, 14, 14]),\n",
       "                           ('nb_params', 0)])),\n",
       "             ('Conv2d-113',\n",
       "              OrderedDict([('input_shape', [-1, 1024, 14, 14]),\n",
       "                           ('output_shape', [-1, 1024, 14, 14]),\n",
       "                           ('trainable', False),\n",
       "                           ('nb_params', 147456)])),\n",
       "             ('BatchNorm2d-114',\n",
       "              OrderedDict([('input_shape', [-1, 1024, 14, 14]),\n",
       "                           ('output_shape', [-1, 1024, 14, 14]),\n",
       "                           ('trainable', False),\n",
       "                           ('nb_params', 2048)])),\n",
       "             ('ReLU-115',\n",
       "              OrderedDict([('input_shape', [-1, 1024, 14, 14]),\n",
       "                           ('output_shape', [-1, 1024, 14, 14]),\n",
       "                           ('nb_params', 0)])),\n",
       "             ('Conv2d-116',\n",
       "              OrderedDict([('input_shape', [-1, 1024, 14, 14]),\n",
       "                           ('output_shape', [-1, 1024, 14, 14]),\n",
       "                           ('trainable', False),\n",
       "                           ('nb_params', 1048576)])),\n",
       "             ('BatchNorm2d-117',\n",
       "              OrderedDict([('input_shape', [-1, 1024, 14, 14]),\n",
       "                           ('output_shape', [-1, 1024, 14, 14]),\n",
       "                           ('trainable', False),\n",
       "                           ('nb_params', 2048)])),\n",
       "             ('ReLU-118',\n",
       "              OrderedDict([('input_shape', [-1, 1024, 14, 14]),\n",
       "                           ('output_shape', [-1, 1024, 14, 14]),\n",
       "                           ('nb_params', 0)])),\n",
       "             ('Conv2d-119',\n",
       "              OrderedDict([('input_shape', [-1, 1024, 14, 14]),\n",
       "                           ('output_shape', [-1, 1024, 14, 14]),\n",
       "                           ('trainable', False),\n",
       "                           ('nb_params', 1048576)])),\n",
       "             ('BatchNorm2d-120',\n",
       "              OrderedDict([('input_shape', [-1, 1024, 14, 14]),\n",
       "                           ('output_shape', [-1, 1024, 14, 14]),\n",
       "                           ('trainable', False),\n",
       "                           ('nb_params', 2048)])),\n",
       "             ('ReLU-121',\n",
       "              OrderedDict([('input_shape', [-1, 1024, 14, 14]),\n",
       "                           ('output_shape', [-1, 1024, 14, 14]),\n",
       "                           ('nb_params', 0)])),\n",
       "             ('Conv2d-122',\n",
       "              OrderedDict([('input_shape', [-1, 1024, 14, 14]),\n",
       "                           ('output_shape', [-1, 1024, 14, 14]),\n",
       "                           ('trainable', False),\n",
       "                           ('nb_params', 147456)])),\n",
       "             ('BatchNorm2d-123',\n",
       "              OrderedDict([('input_shape', [-1, 1024, 14, 14]),\n",
       "                           ('output_shape', [-1, 1024, 14, 14]),\n",
       "                           ('trainable', False),\n",
       "                           ('nb_params', 2048)])),\n",
       "             ('ReLU-124',\n",
       "              OrderedDict([('input_shape', [-1, 1024, 14, 14]),\n",
       "                           ('output_shape', [-1, 1024, 14, 14]),\n",
       "                           ('nb_params', 0)])),\n",
       "             ('Conv2d-125',\n",
       "              OrderedDict([('input_shape', [-1, 1024, 14, 14]),\n",
       "                           ('output_shape', [-1, 1024, 14, 14]),\n",
       "                           ('trainable', False),\n",
       "                           ('nb_params', 1048576)])),\n",
       "             ('BatchNorm2d-126',\n",
       "              OrderedDict([('input_shape', [-1, 1024, 14, 14]),\n",
       "                           ('output_shape', [-1, 1024, 14, 14]),\n",
       "                           ('trainable', False),\n",
       "                           ('nb_params', 2048)])),\n",
       "             ('ReLU-127',\n",
       "              OrderedDict([('input_shape', [-1, 1024, 14, 14]),\n",
       "                           ('output_shape', [-1, 1024, 14, 14]),\n",
       "                           ('nb_params', 0)])),\n",
       "             ('Conv2d-128',\n",
       "              OrderedDict([('input_shape', [-1, 1024, 14, 14]),\n",
       "                           ('output_shape', [-1, 1024, 14, 14]),\n",
       "                           ('trainable', False),\n",
       "                           ('nb_params', 1048576)])),\n",
       "             ('BatchNorm2d-129',\n",
       "              OrderedDict([('input_shape', [-1, 1024, 14, 14]),\n",
       "                           ('output_shape', [-1, 1024, 14, 14]),\n",
       "                           ('trainable', False),\n",
       "                           ('nb_params', 2048)])),\n",
       "             ('ReLU-130',\n",
       "              OrderedDict([('input_shape', [-1, 1024, 14, 14]),\n",
       "                           ('output_shape', [-1, 1024, 14, 14]),\n",
       "                           ('nb_params', 0)])),\n",
       "             ('Conv2d-131',\n",
       "              OrderedDict([('input_shape', [-1, 1024, 14, 14]),\n",
       "                           ('output_shape', [-1, 1024, 14, 14]),\n",
       "                           ('trainable', False),\n",
       "                           ('nb_params', 147456)])),\n",
       "             ('BatchNorm2d-132',\n",
       "              OrderedDict([('input_shape', [-1, 1024, 14, 14]),\n",
       "                           ('output_shape', [-1, 1024, 14, 14]),\n",
       "                           ('trainable', False),\n",
       "                           ('nb_params', 2048)])),\n",
       "             ('ReLU-133',\n",
       "              OrderedDict([('input_shape', [-1, 1024, 14, 14]),\n",
       "                           ('output_shape', [-1, 1024, 14, 14]),\n",
       "                           ('nb_params', 0)])),\n",
       "             ('Conv2d-134',\n",
       "              OrderedDict([('input_shape', [-1, 1024, 14, 14]),\n",
       "                           ('output_shape', [-1, 1024, 14, 14]),\n",
       "                           ('trainable', False),\n",
       "                           ('nb_params', 1048576)])),\n",
       "             ('BatchNorm2d-135',\n",
       "              OrderedDict([('input_shape', [-1, 1024, 14, 14]),\n",
       "                           ('output_shape', [-1, 1024, 14, 14]),\n",
       "                           ('trainable', False),\n",
       "                           ('nb_params', 2048)])),\n",
       "             ('ReLU-136',\n",
       "              OrderedDict([('input_shape', [-1, 1024, 14, 14]),\n",
       "                           ('output_shape', [-1, 1024, 14, 14]),\n",
       "                           ('nb_params', 0)])),\n",
       "             ('Conv2d-137',\n",
       "              OrderedDict([('input_shape', [-1, 1024, 14, 14]),\n",
       "                           ('output_shape', [-1, 1024, 14, 14]),\n",
       "                           ('trainable', False),\n",
       "                           ('nb_params', 1048576)])),\n",
       "             ('BatchNorm2d-138',\n",
       "              OrderedDict([('input_shape', [-1, 1024, 14, 14]),\n",
       "                           ('output_shape', [-1, 1024, 14, 14]),\n",
       "                           ('trainable', False),\n",
       "                           ('nb_params', 2048)])),\n",
       "             ('ReLU-139',\n",
       "              OrderedDict([('input_shape', [-1, 1024, 14, 14]),\n",
       "                           ('output_shape', [-1, 1024, 14, 14]),\n",
       "                           ('nb_params', 0)])),\n",
       "             ('Conv2d-140',\n",
       "              OrderedDict([('input_shape', [-1, 1024, 14, 14]),\n",
       "                           ('output_shape', [-1, 1024, 14, 14]),\n",
       "                           ('trainable', False),\n",
       "                           ('nb_params', 147456)])),\n",
       "             ('BatchNorm2d-141',\n",
       "              OrderedDict([('input_shape', [-1, 1024, 14, 14]),\n",
       "                           ('output_shape', [-1, 1024, 14, 14]),\n",
       "                           ('trainable', False),\n",
       "                           ('nb_params', 2048)])),\n",
       "             ('ReLU-142',\n",
       "              OrderedDict([('input_shape', [-1, 1024, 14, 14]),\n",
       "                           ('output_shape', [-1, 1024, 14, 14]),\n",
       "                           ('nb_params', 0)])),\n",
       "             ('Conv2d-143',\n",
       "              OrderedDict([('input_shape', [-1, 1024, 14, 14]),\n",
       "                           ('output_shape', [-1, 1024, 14, 14]),\n",
       "                           ('trainable', False),\n",
       "                           ('nb_params', 1048576)])),\n",
       "             ('BatchNorm2d-144',\n",
       "              OrderedDict([('input_shape', [-1, 1024, 14, 14]),\n",
       "                           ('output_shape', [-1, 1024, 14, 14]),\n",
       "                           ('trainable', False),\n",
       "                           ('nb_params', 2048)])),\n",
       "             ('ReLU-145',\n",
       "              OrderedDict([('input_shape', [-1, 1024, 14, 14]),\n",
       "                           ('output_shape', [-1, 1024, 14, 14]),\n",
       "                           ('nb_params', 0)])),\n",
       "             ('Conv2d-146',\n",
       "              OrderedDict([('input_shape', [-1, 1024, 14, 14]),\n",
       "                           ('output_shape', [-1, 1024, 14, 14]),\n",
       "                           ('trainable', False),\n",
       "                           ('nb_params', 1048576)])),\n",
       "             ('BatchNorm2d-147',\n",
       "              OrderedDict([('input_shape', [-1, 1024, 14, 14]),\n",
       "                           ('output_shape', [-1, 1024, 14, 14]),\n",
       "                           ('trainable', False),\n",
       "                           ('nb_params', 2048)])),\n",
       "             ('ReLU-148',\n",
       "              OrderedDict([('input_shape', [-1, 1024, 14, 14]),\n",
       "                           ('output_shape', [-1, 1024, 14, 14]),\n",
       "                           ('nb_params', 0)])),\n",
       "             ('Conv2d-149',\n",
       "              OrderedDict([('input_shape', [-1, 1024, 14, 14]),\n",
       "                           ('output_shape', [-1, 1024, 14, 14]),\n",
       "                           ('trainable', False),\n",
       "                           ('nb_params', 147456)])),\n",
       "             ('BatchNorm2d-150',\n",
       "              OrderedDict([('input_shape', [-1, 1024, 14, 14]),\n",
       "                           ('output_shape', [-1, 1024, 14, 14]),\n",
       "                           ('trainable', False),\n",
       "                           ('nb_params', 2048)])),\n",
       "             ('ReLU-151',\n",
       "              OrderedDict([('input_shape', [-1, 1024, 14, 14]),\n",
       "                           ('output_shape', [-1, 1024, 14, 14]),\n",
       "                           ('nb_params', 0)])),\n",
       "             ('Conv2d-152',\n",
       "              OrderedDict([('input_shape', [-1, 1024, 14, 14]),\n",
       "                           ('output_shape', [-1, 1024, 14, 14]),\n",
       "                           ('trainable', False),\n",
       "                           ('nb_params', 1048576)])),\n",
       "             ('BatchNorm2d-153',\n",
       "              OrderedDict([('input_shape', [-1, 1024, 14, 14]),\n",
       "                           ('output_shape', [-1, 1024, 14, 14]),\n",
       "                           ('trainable', False),\n",
       "                           ('nb_params', 2048)])),\n",
       "             ('ReLU-154',\n",
       "              OrderedDict([('input_shape', [-1, 1024, 14, 14]),\n",
       "                           ('output_shape', [-1, 1024, 14, 14]),\n",
       "                           ('nb_params', 0)])),\n",
       "             ('Conv2d-155',\n",
       "              OrderedDict([('input_shape', [-1, 1024, 14, 14]),\n",
       "                           ('output_shape', [-1, 1024, 14, 14]),\n",
       "                           ('trainable', False),\n",
       "                           ('nb_params', 1048576)])),\n",
       "             ('BatchNorm2d-156',\n",
       "              OrderedDict([('input_shape', [-1, 1024, 14, 14]),\n",
       "                           ('output_shape', [-1, 1024, 14, 14]),\n",
       "                           ('trainable', False),\n",
       "                           ('nb_params', 2048)])),\n",
       "             ('ReLU-157',\n",
       "              OrderedDict([('input_shape', [-1, 1024, 14, 14]),\n",
       "                           ('output_shape', [-1, 1024, 14, 14]),\n",
       "                           ('nb_params', 0)])),\n",
       "             ('Conv2d-158',\n",
       "              OrderedDict([('input_shape', [-1, 1024, 14, 14]),\n",
       "                           ('output_shape', [-1, 1024, 14, 14]),\n",
       "                           ('trainable', False),\n",
       "                           ('nb_params', 147456)])),\n",
       "             ('BatchNorm2d-159',\n",
       "              OrderedDict([('input_shape', [-1, 1024, 14, 14]),\n",
       "                           ('output_shape', [-1, 1024, 14, 14]),\n",
       "                           ('trainable', False),\n",
       "                           ('nb_params', 2048)])),\n",
       "             ('ReLU-160',\n",
       "              OrderedDict([('input_shape', [-1, 1024, 14, 14]),\n",
       "                           ('output_shape', [-1, 1024, 14, 14]),\n",
       "                           ('nb_params', 0)])),\n",
       "             ('Conv2d-161',\n",
       "              OrderedDict([('input_shape', [-1, 1024, 14, 14]),\n",
       "                           ('output_shape', [-1, 1024, 14, 14]),\n",
       "                           ('trainable', False),\n",
       "                           ('nb_params', 1048576)])),\n",
       "             ('BatchNorm2d-162',\n",
       "              OrderedDict([('input_shape', [-1, 1024, 14, 14]),\n",
       "                           ('output_shape', [-1, 1024, 14, 14]),\n",
       "                           ('trainable', False),\n",
       "                           ('nb_params', 2048)])),\n",
       "             ('ReLU-163',\n",
       "              OrderedDict([('input_shape', [-1, 1024, 14, 14]),\n",
       "                           ('output_shape', [-1, 1024, 14, 14]),\n",
       "                           ('nb_params', 0)])),\n",
       "             ('Conv2d-164',\n",
       "              OrderedDict([('input_shape', [-1, 1024, 14, 14]),\n",
       "                           ('output_shape', [-1, 1024, 14, 14]),\n",
       "                           ('trainable', False),\n",
       "                           ('nb_params', 1048576)])),\n",
       "             ('BatchNorm2d-165',\n",
       "              OrderedDict([('input_shape', [-1, 1024, 14, 14]),\n",
       "                           ('output_shape', [-1, 1024, 14, 14]),\n",
       "                           ('trainable', False),\n",
       "                           ('nb_params', 2048)])),\n",
       "             ('ReLU-166',\n",
       "              OrderedDict([('input_shape', [-1, 1024, 14, 14]),\n",
       "                           ('output_shape', [-1, 1024, 14, 14]),\n",
       "                           ('nb_params', 0)])),\n",
       "             ('Conv2d-167',\n",
       "              OrderedDict([('input_shape', [-1, 1024, 14, 14]),\n",
       "                           ('output_shape', [-1, 1024, 14, 14]),\n",
       "                           ('trainable', False),\n",
       "                           ('nb_params', 147456)])),\n",
       "             ('BatchNorm2d-168',\n",
       "              OrderedDict([('input_shape', [-1, 1024, 14, 14]),\n",
       "                           ('output_shape', [-1, 1024, 14, 14]),\n",
       "                           ('trainable', False),\n",
       "                           ('nb_params', 2048)])),\n",
       "             ('ReLU-169',\n",
       "              OrderedDict([('input_shape', [-1, 1024, 14, 14]),\n",
       "                           ('output_shape', [-1, 1024, 14, 14]),\n",
       "                           ('nb_params', 0)])),\n",
       "             ('Conv2d-170',\n",
       "              OrderedDict([('input_shape', [-1, 1024, 14, 14]),\n",
       "                           ('output_shape', [-1, 1024, 14, 14]),\n",
       "                           ('trainable', False),\n",
       "                           ('nb_params', 1048576)])),\n",
       "             ('BatchNorm2d-171',\n",
       "              OrderedDict([('input_shape', [-1, 1024, 14, 14]),\n",
       "                           ('output_shape', [-1, 1024, 14, 14]),\n",
       "                           ('trainable', False),\n",
       "                           ('nb_params', 2048)])),\n",
       "             ('ReLU-172',\n",
       "              OrderedDict([('input_shape', [-1, 1024, 14, 14]),\n",
       "                           ('output_shape', [-1, 1024, 14, 14]),\n",
       "                           ('nb_params', 0)])),\n",
       "             ('Conv2d-173',\n",
       "              OrderedDict([('input_shape', [-1, 1024, 14, 14]),\n",
       "                           ('output_shape', [-1, 1024, 14, 14]),\n",
       "                           ('trainable', False),\n",
       "                           ('nb_params', 1048576)])),\n",
       "             ('BatchNorm2d-174',\n",
       "              OrderedDict([('input_shape', [-1, 1024, 14, 14]),\n",
       "                           ('output_shape', [-1, 1024, 14, 14]),\n",
       "                           ('trainable', False),\n",
       "                           ('nb_params', 2048)])),\n",
       "             ('ReLU-175',\n",
       "              OrderedDict([('input_shape', [-1, 1024, 14, 14]),\n",
       "                           ('output_shape', [-1, 1024, 14, 14]),\n",
       "                           ('nb_params', 0)])),\n",
       "             ('Conv2d-176',\n",
       "              OrderedDict([('input_shape', [-1, 1024, 14, 14]),\n",
       "                           ('output_shape', [-1, 1024, 14, 14]),\n",
       "                           ('trainable', False),\n",
       "                           ('nb_params', 147456)])),\n",
       "             ('BatchNorm2d-177',\n",
       "              OrderedDict([('input_shape', [-1, 1024, 14, 14]),\n",
       "                           ('output_shape', [-1, 1024, 14, 14]),\n",
       "                           ('trainable', False),\n",
       "                           ('nb_params', 2048)])),\n",
       "             ('ReLU-178',\n",
       "              OrderedDict([('input_shape', [-1, 1024, 14, 14]),\n",
       "                           ('output_shape', [-1, 1024, 14, 14]),\n",
       "                           ('nb_params', 0)])),\n",
       "             ('Conv2d-179',\n",
       "              OrderedDict([('input_shape', [-1, 1024, 14, 14]),\n",
       "                           ('output_shape', [-1, 1024, 14, 14]),\n",
       "                           ('trainable', False),\n",
       "                           ('nb_params', 1048576)])),\n",
       "             ('BatchNorm2d-180',\n",
       "              OrderedDict([('input_shape', [-1, 1024, 14, 14]),\n",
       "                           ('output_shape', [-1, 1024, 14, 14]),\n",
       "                           ('trainable', False),\n",
       "                           ('nb_params', 2048)])),\n",
       "             ('ReLU-181',\n",
       "              OrderedDict([('input_shape', [-1, 1024, 14, 14]),\n",
       "                           ('output_shape', [-1, 1024, 14, 14]),\n",
       "                           ('nb_params', 0)])),\n",
       "             ('Conv2d-182',\n",
       "              OrderedDict([('input_shape', [-1, 1024, 14, 14]),\n",
       "                           ('output_shape', [-1, 1024, 14, 14]),\n",
       "                           ('trainable', False),\n",
       "                           ('nb_params', 1048576)])),\n",
       "             ('BatchNorm2d-183',\n",
       "              OrderedDict([('input_shape', [-1, 1024, 14, 14]),\n",
       "                           ('output_shape', [-1, 1024, 14, 14]),\n",
       "                           ('trainable', False),\n",
       "                           ('nb_params', 2048)])),\n",
       "             ('ReLU-184',\n",
       "              OrderedDict([('input_shape', [-1, 1024, 14, 14]),\n",
       "                           ('output_shape', [-1, 1024, 14, 14]),\n",
       "                           ('nb_params', 0)])),\n",
       "             ('Conv2d-185',\n",
       "              OrderedDict([('input_shape', [-1, 1024, 14, 14]),\n",
       "                           ('output_shape', [-1, 1024, 14, 14]),\n",
       "                           ('trainable', False),\n",
       "                           ('nb_params', 147456)])),\n",
       "             ('BatchNorm2d-186',\n",
       "              OrderedDict([('input_shape', [-1, 1024, 14, 14]),\n",
       "                           ('output_shape', [-1, 1024, 14, 14]),\n",
       "                           ('trainable', False),\n",
       "                           ('nb_params', 2048)])),\n",
       "             ('ReLU-187',\n",
       "              OrderedDict([('input_shape', [-1, 1024, 14, 14]),\n",
       "                           ('output_shape', [-1, 1024, 14, 14]),\n",
       "                           ('nb_params', 0)])),\n",
       "             ('Conv2d-188',\n",
       "              OrderedDict([('input_shape', [-1, 1024, 14, 14]),\n",
       "                           ('output_shape', [-1, 1024, 14, 14]),\n",
       "                           ('trainable', False),\n",
       "                           ('nb_params', 1048576)])),\n",
       "             ('BatchNorm2d-189',\n",
       "              OrderedDict([('input_shape', [-1, 1024, 14, 14]),\n",
       "                           ('output_shape', [-1, 1024, 14, 14]),\n",
       "                           ('trainable', False),\n",
       "                           ('nb_params', 2048)])),\n",
       "             ('ReLU-190',\n",
       "              OrderedDict([('input_shape', [-1, 1024, 14, 14]),\n",
       "                           ('output_shape', [-1, 1024, 14, 14]),\n",
       "                           ('nb_params', 0)])),\n",
       "             ('Conv2d-191',\n",
       "              OrderedDict([('input_shape', [-1, 1024, 14, 14]),\n",
       "                           ('output_shape', [-1, 1024, 14, 14]),\n",
       "                           ('trainable', False),\n",
       "                           ('nb_params', 1048576)])),\n",
       "             ('BatchNorm2d-192',\n",
       "              OrderedDict([('input_shape', [-1, 1024, 14, 14]),\n",
       "                           ('output_shape', [-1, 1024, 14, 14]),\n",
       "                           ('trainable', False),\n",
       "                           ('nb_params', 2048)])),\n",
       "             ('ReLU-193',\n",
       "              OrderedDict([('input_shape', [-1, 1024, 14, 14]),\n",
       "                           ('output_shape', [-1, 1024, 14, 14]),\n",
       "                           ('nb_params', 0)])),\n",
       "             ('Conv2d-194',\n",
       "              OrderedDict([('input_shape', [-1, 1024, 14, 14]),\n",
       "                           ('output_shape', [-1, 1024, 14, 14]),\n",
       "                           ('trainable', False),\n",
       "                           ('nb_params', 147456)])),\n",
       "             ('BatchNorm2d-195',\n",
       "              OrderedDict([('input_shape', [-1, 1024, 14, 14]),\n",
       "                           ('output_shape', [-1, 1024, 14, 14]),\n",
       "                           ('trainable', False),\n",
       "                           ('nb_params', 2048)])),\n",
       "             ('ReLU-196',\n",
       "              OrderedDict([('input_shape', [-1, 1024, 14, 14]),\n",
       "                           ('output_shape', [-1, 1024, 14, 14]),\n",
       "                           ('nb_params', 0)])),\n",
       "             ('Conv2d-197',\n",
       "              OrderedDict([('input_shape', [-1, 1024, 14, 14]),\n",
       "                           ('output_shape', [-1, 1024, 14, 14]),\n",
       "                           ('trainable', False),\n",
       "                           ('nb_params', 1048576)])),\n",
       "             ('BatchNorm2d-198',\n",
       "              OrderedDict([('input_shape', [-1, 1024, 14, 14]),\n",
       "                           ('output_shape', [-1, 1024, 14, 14]),\n",
       "                           ('trainable', False),\n",
       "                           ('nb_params', 2048)])),\n",
       "             ('ReLU-199',\n",
       "              OrderedDict([('input_shape', [-1, 1024, 14, 14]),\n",
       "                           ('output_shape', [-1, 1024, 14, 14]),\n",
       "                           ('nb_params', 0)])),\n",
       "             ('Conv2d-200',\n",
       "              OrderedDict([('input_shape', [-1, 1024, 14, 14]),\n",
       "                           ('output_shape', [-1, 1024, 14, 14]),\n",
       "                           ('trainable', False),\n",
       "                           ('nb_params', 1048576)])),\n",
       "             ('BatchNorm2d-201',\n",
       "              OrderedDict([('input_shape', [-1, 1024, 14, 14]),\n",
       "                           ('output_shape', [-1, 1024, 14, 14]),\n",
       "                           ('trainable', False),\n",
       "                           ('nb_params', 2048)])),\n",
       "             ('ReLU-202',\n",
       "              OrderedDict([('input_shape', [-1, 1024, 14, 14]),\n",
       "                           ('output_shape', [-1, 1024, 14, 14]),\n",
       "                           ('nb_params', 0)])),\n",
       "             ('Conv2d-203',\n",
       "              OrderedDict([('input_shape', [-1, 1024, 14, 14]),\n",
       "                           ('output_shape', [-1, 1024, 14, 14]),\n",
       "                           ('trainable', False),\n",
       "                           ('nb_params', 147456)])),\n",
       "             ('BatchNorm2d-204',\n",
       "              OrderedDict([('input_shape', [-1, 1024, 14, 14]),\n",
       "                           ('output_shape', [-1, 1024, 14, 14]),\n",
       "                           ('trainable', False),\n",
       "                           ('nb_params', 2048)])),\n",
       "             ('ReLU-205',\n",
       "              OrderedDict([('input_shape', [-1, 1024, 14, 14]),\n",
       "                           ('output_shape', [-1, 1024, 14, 14]),\n",
       "                           ('nb_params', 0)])),\n",
       "             ('Conv2d-206',\n",
       "              OrderedDict([('input_shape', [-1, 1024, 14, 14]),\n",
       "                           ('output_shape', [-1, 1024, 14, 14]),\n",
       "                           ('trainable', False),\n",
       "                           ('nb_params', 1048576)])),\n",
       "             ('BatchNorm2d-207',\n",
       "              OrderedDict([('input_shape', [-1, 1024, 14, 14]),\n",
       "                           ('output_shape', [-1, 1024, 14, 14]),\n",
       "                           ('trainable', False),\n",
       "                           ('nb_params', 2048)])),\n",
       "             ('ReLU-208',\n",
       "              OrderedDict([('input_shape', [-1, 1024, 14, 14]),\n",
       "                           ('output_shape', [-1, 1024, 14, 14]),\n",
       "                           ('nb_params', 0)])),\n",
       "             ('Conv2d-209',\n",
       "              OrderedDict([('input_shape', [-1, 1024, 14, 14]),\n",
       "                           ('output_shape', [-1, 1024, 14, 14]),\n",
       "                           ('trainable', False),\n",
       "                           ('nb_params', 1048576)])),\n",
       "             ('BatchNorm2d-210',\n",
       "              OrderedDict([('input_shape', [-1, 1024, 14, 14]),\n",
       "                           ('output_shape', [-1, 1024, 14, 14]),\n",
       "                           ('trainable', False),\n",
       "                           ('nb_params', 2048)])),\n",
       "             ('ReLU-211',\n",
       "              OrderedDict([('input_shape', [-1, 1024, 14, 14]),\n",
       "                           ('output_shape', [-1, 1024, 14, 14]),\n",
       "                           ('nb_params', 0)])),\n",
       "             ('Conv2d-212',\n",
       "              OrderedDict([('input_shape', [-1, 1024, 14, 14]),\n",
       "                           ('output_shape', [-1, 1024, 14, 14]),\n",
       "                           ('trainable', False),\n",
       "                           ('nb_params', 147456)])),\n",
       "             ('BatchNorm2d-213',\n",
       "              OrderedDict([('input_shape', [-1, 1024, 14, 14]),\n",
       "                           ('output_shape', [-1, 1024, 14, 14]),\n",
       "                           ('trainable', False),\n",
       "                           ('nb_params', 2048)])),\n",
       "             ('ReLU-214',\n",
       "              OrderedDict([('input_shape', [-1, 1024, 14, 14]),\n",
       "                           ('output_shape', [-1, 1024, 14, 14]),\n",
       "                           ('nb_params', 0)])),\n",
       "             ('Conv2d-215',\n",
       "              OrderedDict([('input_shape', [-1, 1024, 14, 14]),\n",
       "                           ('output_shape', [-1, 1024, 14, 14]),\n",
       "                           ('trainable', False),\n",
       "                           ('nb_params', 1048576)])),\n",
       "             ('BatchNorm2d-216',\n",
       "              OrderedDict([('input_shape', [-1, 1024, 14, 14]),\n",
       "                           ('output_shape', [-1, 1024, 14, 14]),\n",
       "                           ('trainable', False),\n",
       "                           ('nb_params', 2048)])),\n",
       "             ('ReLU-217',\n",
       "              OrderedDict([('input_shape', [-1, 1024, 14, 14]),\n",
       "                           ('output_shape', [-1, 1024, 14, 14]),\n",
       "                           ('nb_params', 0)])),\n",
       "             ('Conv2d-218',\n",
       "              OrderedDict([('input_shape', [-1, 1024, 14, 14]),\n",
       "                           ('output_shape', [-1, 1024, 14, 14]),\n",
       "                           ('trainable', False),\n",
       "                           ('nb_params', 1048576)])),\n",
       "             ('BatchNorm2d-219',\n",
       "              OrderedDict([('input_shape', [-1, 1024, 14, 14]),\n",
       "                           ('output_shape', [-1, 1024, 14, 14]),\n",
       "                           ('trainable', False),\n",
       "                           ('nb_params', 2048)])),\n",
       "             ('ReLU-220',\n",
       "              OrderedDict([('input_shape', [-1, 1024, 14, 14]),\n",
       "                           ('output_shape', [-1, 1024, 14, 14]),\n",
       "                           ('nb_params', 0)])),\n",
       "             ('Conv2d-221',\n",
       "              OrderedDict([('input_shape', [-1, 1024, 14, 14]),\n",
       "                           ('output_shape', [-1, 1024, 14, 14]),\n",
       "                           ('trainable', False),\n",
       "                           ('nb_params', 147456)])),\n",
       "             ('BatchNorm2d-222',\n",
       "              OrderedDict([('input_shape', [-1, 1024, 14, 14]),\n",
       "                           ('output_shape', [-1, 1024, 14, 14]),\n",
       "                           ('trainable', False),\n",
       "                           ('nb_params', 2048)])),\n",
       "             ('ReLU-223',\n",
       "              OrderedDict([('input_shape', [-1, 1024, 14, 14]),\n",
       "                           ('output_shape', [-1, 1024, 14, 14]),\n",
       "                           ('nb_params', 0)])),\n",
       "             ('Conv2d-224',\n",
       "              OrderedDict([('input_shape', [-1, 1024, 14, 14]),\n",
       "                           ('output_shape', [-1, 1024, 14, 14]),\n",
       "                           ('trainable', False),\n",
       "                           ('nb_params', 1048576)])),\n",
       "             ('BatchNorm2d-225',\n",
       "              OrderedDict([('input_shape', [-1, 1024, 14, 14]),\n",
       "                           ('output_shape', [-1, 1024, 14, 14]),\n",
       "                           ('trainable', False),\n",
       "                           ('nb_params', 2048)])),\n",
       "             ('ReLU-226',\n",
       "              OrderedDict([('input_shape', [-1, 1024, 14, 14]),\n",
       "                           ('output_shape', [-1, 1024, 14, 14]),\n",
       "                           ('nb_params', 0)])),\n",
       "             ('Conv2d-227',\n",
       "              OrderedDict([('input_shape', [-1, 1024, 14, 14]),\n",
       "                           ('output_shape', [-1, 1024, 14, 14]),\n",
       "                           ('trainable', False),\n",
       "                           ('nb_params', 1048576)])),\n",
       "             ('BatchNorm2d-228',\n",
       "              OrderedDict([('input_shape', [-1, 1024, 14, 14]),\n",
       "                           ('output_shape', [-1, 1024, 14, 14]),\n",
       "                           ('trainable', False),\n",
       "                           ('nb_params', 2048)])),\n",
       "             ('ReLU-229',\n",
       "              OrderedDict([('input_shape', [-1, 1024, 14, 14]),\n",
       "                           ('output_shape', [-1, 1024, 14, 14]),\n",
       "                           ('nb_params', 0)])),\n",
       "             ('Conv2d-230',\n",
       "              OrderedDict([('input_shape', [-1, 1024, 14, 14]),\n",
       "                           ('output_shape', [-1, 1024, 14, 14]),\n",
       "                           ('trainable', False),\n",
       "                           ('nb_params', 147456)])),\n",
       "             ('BatchNorm2d-231',\n",
       "              OrderedDict([('input_shape', [-1, 1024, 14, 14]),\n",
       "                           ('output_shape', [-1, 1024, 14, 14]),\n",
       "                           ('trainable', False),\n",
       "                           ('nb_params', 2048)])),\n",
       "             ('ReLU-232',\n",
       "              OrderedDict([('input_shape', [-1, 1024, 14, 14]),\n",
       "                           ('output_shape', [-1, 1024, 14, 14]),\n",
       "                           ('nb_params', 0)])),\n",
       "             ('Conv2d-233',\n",
       "              OrderedDict([('input_shape', [-1, 1024, 14, 14]),\n",
       "                           ('output_shape', [-1, 1024, 14, 14]),\n",
       "                           ('trainable', False),\n",
       "                           ('nb_params', 1048576)])),\n",
       "             ('BatchNorm2d-234',\n",
       "              OrderedDict([('input_shape', [-1, 1024, 14, 14]),\n",
       "                           ('output_shape', [-1, 1024, 14, 14]),\n",
       "                           ('trainable', False),\n",
       "                           ('nb_params', 2048)])),\n",
       "             ('ReLU-235',\n",
       "              OrderedDict([('input_shape', [-1, 1024, 14, 14]),\n",
       "                           ('output_shape', [-1, 1024, 14, 14]),\n",
       "                           ('nb_params', 0)])),\n",
       "             ('Conv2d-236',\n",
       "              OrderedDict([('input_shape', [-1, 1024, 14, 14]),\n",
       "                           ('output_shape', [-1, 1024, 14, 14]),\n",
       "                           ('trainable', False),\n",
       "                           ('nb_params', 1048576)])),\n",
       "             ('BatchNorm2d-237',\n",
       "              OrderedDict([('input_shape', [-1, 1024, 14, 14]),\n",
       "                           ('output_shape', [-1, 1024, 14, 14]),\n",
       "                           ('trainable', False),\n",
       "                           ('nb_params', 2048)])),\n",
       "             ('ReLU-238',\n",
       "              OrderedDict([('input_shape', [-1, 1024, 14, 14]),\n",
       "                           ('output_shape', [-1, 1024, 14, 14]),\n",
       "                           ('nb_params', 0)])),\n",
       "             ('Conv2d-239',\n",
       "              OrderedDict([('input_shape', [-1, 1024, 14, 14]),\n",
       "                           ('output_shape', [-1, 1024, 14, 14]),\n",
       "                           ('trainable', False),\n",
       "                           ('nb_params', 147456)])),\n",
       "             ('BatchNorm2d-240',\n",
       "              OrderedDict([('input_shape', [-1, 1024, 14, 14]),\n",
       "                           ('output_shape', [-1, 1024, 14, 14]),\n",
       "                           ('trainable', False),\n",
       "                           ('nb_params', 2048)])),\n",
       "             ('ReLU-241',\n",
       "              OrderedDict([('input_shape', [-1, 1024, 14, 14]),\n",
       "                           ('output_shape', [-1, 1024, 14, 14]),\n",
       "                           ('nb_params', 0)])),\n",
       "             ('Conv2d-242',\n",
       "              OrderedDict([('input_shape', [-1, 1024, 14, 14]),\n",
       "                           ('output_shape', [-1, 1024, 14, 14]),\n",
       "                           ('trainable', False),\n",
       "                           ('nb_params', 1048576)])),\n",
       "             ('BatchNorm2d-243',\n",
       "              OrderedDict([('input_shape', [-1, 1024, 14, 14]),\n",
       "                           ('output_shape', [-1, 1024, 14, 14]),\n",
       "                           ('trainable', False),\n",
       "                           ('nb_params', 2048)])),\n",
       "             ('ReLU-244',\n",
       "              OrderedDict([('input_shape', [-1, 1024, 14, 14]),\n",
       "                           ('output_shape', [-1, 1024, 14, 14]),\n",
       "                           ('nb_params', 0)])),\n",
       "             ('Conv2d-245',\n",
       "              OrderedDict([('input_shape', [-1, 1024, 14, 14]),\n",
       "                           ('output_shape', [-1, 1024, 14, 14]),\n",
       "                           ('trainable', False),\n",
       "                           ('nb_params', 1048576)])),\n",
       "             ('BatchNorm2d-246',\n",
       "              OrderedDict([('input_shape', [-1, 1024, 14, 14]),\n",
       "                           ('output_shape', [-1, 1024, 14, 14]),\n",
       "                           ('trainable', False),\n",
       "                           ('nb_params', 2048)])),\n",
       "             ('ReLU-247',\n",
       "              OrderedDict([('input_shape', [-1, 1024, 14, 14]),\n",
       "                           ('output_shape', [-1, 1024, 14, 14]),\n",
       "                           ('nb_params', 0)])),\n",
       "             ('Conv2d-248',\n",
       "              OrderedDict([('input_shape', [-1, 1024, 14, 14]),\n",
       "                           ('output_shape', [-1, 1024, 14, 14]),\n",
       "                           ('trainable', False),\n",
       "                           ('nb_params', 147456)])),\n",
       "             ('BatchNorm2d-249',\n",
       "              OrderedDict([('input_shape', [-1, 1024, 14, 14]),\n",
       "                           ('output_shape', [-1, 1024, 14, 14]),\n",
       "                           ('trainable', False),\n",
       "                           ('nb_params', 2048)])),\n",
       "             ('ReLU-250',\n",
       "              OrderedDict([('input_shape', [-1, 1024, 14, 14]),\n",
       "                           ('output_shape', [-1, 1024, 14, 14]),\n",
       "                           ('nb_params', 0)])),\n",
       "             ('Conv2d-251',\n",
       "              OrderedDict([('input_shape', [-1, 1024, 14, 14]),\n",
       "                           ('output_shape', [-1, 1024, 14, 14]),\n",
       "                           ('trainable', False),\n",
       "                           ('nb_params', 1048576)])),\n",
       "             ('BatchNorm2d-252',\n",
       "              OrderedDict([('input_shape', [-1, 1024, 14, 14]),\n",
       "                           ('output_shape', [-1, 1024, 14, 14]),\n",
       "                           ('trainable', False),\n",
       "                           ('nb_params', 2048)])),\n",
       "             ('ReLU-253',\n",
       "              OrderedDict([('input_shape', [-1, 1024, 14, 14]),\n",
       "                           ('output_shape', [-1, 1024, 14, 14]),\n",
       "                           ('nb_params', 0)])),\n",
       "             ('Conv2d-254',\n",
       "              OrderedDict([('input_shape', [-1, 1024, 14, 14]),\n",
       "                           ('output_shape', [-1, 1024, 14, 14]),\n",
       "                           ('trainable', False),\n",
       "                           ('nb_params', 1048576)])),\n",
       "             ('BatchNorm2d-255',\n",
       "              OrderedDict([('input_shape', [-1, 1024, 14, 14]),\n",
       "                           ('output_shape', [-1, 1024, 14, 14]),\n",
       "                           ('trainable', False),\n",
       "                           ('nb_params', 2048)])),\n",
       "             ('ReLU-256',\n",
       "              OrderedDict([('input_shape', [-1, 1024, 14, 14]),\n",
       "                           ('output_shape', [-1, 1024, 14, 14]),\n",
       "                           ('nb_params', 0)])),\n",
       "             ('Conv2d-257',\n",
       "              OrderedDict([('input_shape', [-1, 1024, 14, 14]),\n",
       "                           ('output_shape', [-1, 1024, 14, 14]),\n",
       "                           ('trainable', False),\n",
       "                           ('nb_params', 147456)])),\n",
       "             ('BatchNorm2d-258',\n",
       "              OrderedDict([('input_shape', [-1, 1024, 14, 14]),\n",
       "                           ('output_shape', [-1, 1024, 14, 14]),\n",
       "                           ('trainable', False),\n",
       "                           ('nb_params', 2048)])),\n",
       "             ('ReLU-259',\n",
       "              OrderedDict([('input_shape', [-1, 1024, 14, 14]),\n",
       "                           ('output_shape', [-1, 1024, 14, 14]),\n",
       "                           ('nb_params', 0)])),\n",
       "             ('Conv2d-260',\n",
       "              OrderedDict([('input_shape', [-1, 1024, 14, 14]),\n",
       "                           ('output_shape', [-1, 1024, 14, 14]),\n",
       "                           ('trainable', False),\n",
       "                           ('nb_params', 1048576)])),\n",
       "             ('BatchNorm2d-261',\n",
       "              OrderedDict([('input_shape', [-1, 1024, 14, 14]),\n",
       "                           ('output_shape', [-1, 1024, 14, 14]),\n",
       "                           ('trainable', False),\n",
       "                           ('nb_params', 2048)])),\n",
       "             ('ReLU-262',\n",
       "              OrderedDict([('input_shape', [-1, 1024, 14, 14]),\n",
       "                           ('output_shape', [-1, 1024, 14, 14]),\n",
       "                           ('nb_params', 0)])),\n",
       "             ('Conv2d-263',\n",
       "              OrderedDict([('input_shape', [-1, 1024, 14, 14]),\n",
       "                           ('output_shape', [-1, 1024, 14, 14]),\n",
       "                           ('trainable', False),\n",
       "                           ('nb_params', 1048576)])),\n",
       "             ('BatchNorm2d-264',\n",
       "              OrderedDict([('input_shape', [-1, 1024, 14, 14]),\n",
       "                           ('output_shape', [-1, 1024, 14, 14]),\n",
       "                           ('trainable', False),\n",
       "                           ('nb_params', 2048)])),\n",
       "             ('ReLU-265',\n",
       "              OrderedDict([('input_shape', [-1, 1024, 14, 14]),\n",
       "                           ('output_shape', [-1, 1024, 14, 14]),\n",
       "                           ('nb_params', 0)])),\n",
       "             ('Conv2d-266',\n",
       "              OrderedDict([('input_shape', [-1, 1024, 14, 14]),\n",
       "                           ('output_shape', [-1, 1024, 14, 14]),\n",
       "                           ('trainable', False),\n",
       "                           ('nb_params', 147456)])),\n",
       "             ('BatchNorm2d-267',\n",
       "              OrderedDict([('input_shape', [-1, 1024, 14, 14]),\n",
       "                           ('output_shape', [-1, 1024, 14, 14]),\n",
       "                           ('trainable', False),\n",
       "                           ('nb_params', 2048)])),\n",
       "             ('ReLU-268',\n",
       "              OrderedDict([('input_shape', [-1, 1024, 14, 14]),\n",
       "                           ('output_shape', [-1, 1024, 14, 14]),\n",
       "                           ('nb_params', 0)])),\n",
       "             ('Conv2d-269',\n",
       "              OrderedDict([('input_shape', [-1, 1024, 14, 14]),\n",
       "                           ('output_shape', [-1, 1024, 14, 14]),\n",
       "                           ('trainable', False),\n",
       "                           ('nb_params', 1048576)])),\n",
       "             ('BatchNorm2d-270',\n",
       "              OrderedDict([('input_shape', [-1, 1024, 14, 14]),\n",
       "                           ('output_shape', [-1, 1024, 14, 14]),\n",
       "                           ('trainable', False),\n",
       "                           ('nb_params', 2048)])),\n",
       "             ('ReLU-271',\n",
       "              OrderedDict([('input_shape', [-1, 1024, 14, 14]),\n",
       "                           ('output_shape', [-1, 1024, 14, 14]),\n",
       "                           ('nb_params', 0)])),\n",
       "             ('Conv2d-272',\n",
       "              OrderedDict([('input_shape', [-1, 1024, 14, 14]),\n",
       "                           ('output_shape', [-1, 1024, 14, 14]),\n",
       "                           ('trainable', False),\n",
       "                           ('nb_params', 1048576)])),\n",
       "             ('BatchNorm2d-273',\n",
       "              OrderedDict([('input_shape', [-1, 1024, 14, 14]),\n",
       "                           ('output_shape', [-1, 1024, 14, 14]),\n",
       "                           ('trainable', False),\n",
       "                           ('nb_params', 2048)])),\n",
       "             ('ReLU-274',\n",
       "              OrderedDict([('input_shape', [-1, 1024, 14, 14]),\n",
       "                           ('output_shape', [-1, 1024, 14, 14]),\n",
       "                           ('nb_params', 0)])),\n",
       "             ('Conv2d-275',\n",
       "              OrderedDict([('input_shape', [-1, 1024, 14, 14]),\n",
       "                           ('output_shape', [-1, 1024, 14, 14]),\n",
       "                           ('trainable', False),\n",
       "                           ('nb_params', 147456)])),\n",
       "             ('BatchNorm2d-276',\n",
       "              OrderedDict([('input_shape', [-1, 1024, 14, 14]),\n",
       "                           ('output_shape', [-1, 1024, 14, 14]),\n",
       "                           ('trainable', False),\n",
       "                           ('nb_params', 2048)])),\n",
       "             ('ReLU-277',\n",
       "              OrderedDict([('input_shape', [-1, 1024, 14, 14]),\n",
       "                           ('output_shape', [-1, 1024, 14, 14]),\n",
       "                           ('nb_params', 0)])),\n",
       "             ('Conv2d-278',\n",
       "              OrderedDict([('input_shape', [-1, 1024, 14, 14]),\n",
       "                           ('output_shape', [-1, 1024, 14, 14]),\n",
       "                           ('trainable', False),\n",
       "                           ('nb_params', 1048576)])),\n",
       "             ('BatchNorm2d-279',\n",
       "              OrderedDict([('input_shape', [-1, 1024, 14, 14]),\n",
       "                           ('output_shape', [-1, 1024, 14, 14]),\n",
       "                           ('trainable', False),\n",
       "                           ('nb_params', 2048)])),\n",
       "             ('ReLU-280',\n",
       "              OrderedDict([('input_shape', [-1, 1024, 14, 14]),\n",
       "                           ('output_shape', [-1, 1024, 14, 14]),\n",
       "                           ('nb_params', 0)])),\n",
       "             ('Conv2d-281',\n",
       "              OrderedDict([('input_shape', [-1, 1024, 14, 14]),\n",
       "                           ('output_shape', [-1, 2048, 14, 14]),\n",
       "                           ('trainable', False),\n",
       "                           ('nb_params', 2097152)])),\n",
       "             ('BatchNorm2d-282',\n",
       "              OrderedDict([('input_shape', [-1, 2048, 14, 14]),\n",
       "                           ('output_shape', [-1, 2048, 14, 14]),\n",
       "                           ('trainable', False),\n",
       "                           ('nb_params', 4096)])),\n",
       "             ('ReLU-283',\n",
       "              OrderedDict([('input_shape', [-1, 2048, 14, 14]),\n",
       "                           ('output_shape', [-1, 2048, 14, 14]),\n",
       "                           ('nb_params', 0)])),\n",
       "             ('Conv2d-284',\n",
       "              OrderedDict([('input_shape', [-1, 2048, 14, 14]),\n",
       "                           ('output_shape', [-1, 2048, 7, 7]),\n",
       "                           ('trainable', False),\n",
       "                           ('nb_params', 589824)])),\n",
       "             ('BatchNorm2d-285',\n",
       "              OrderedDict([('input_shape', [-1, 2048, 7, 7]),\n",
       "                           ('output_shape', [-1, 2048, 7, 7]),\n",
       "                           ('trainable', False),\n",
       "                           ('nb_params', 4096)])),\n",
       "             ('ReLU-286',\n",
       "              OrderedDict([('input_shape', [-1, 2048, 7, 7]),\n",
       "                           ('output_shape', [-1, 2048, 7, 7]),\n",
       "                           ('nb_params', 0)])),\n",
       "             ('Conv2d-287',\n",
       "              OrderedDict([('input_shape', [-1, 2048, 7, 7]),\n",
       "                           ('output_shape', [-1, 2048, 7, 7]),\n",
       "                           ('trainable', False),\n",
       "                           ('nb_params', 4194304)])),\n",
       "             ('BatchNorm2d-288',\n",
       "              OrderedDict([('input_shape', [-1, 2048, 7, 7]),\n",
       "                           ('output_shape', [-1, 2048, 7, 7]),\n",
       "                           ('trainable', False),\n",
       "                           ('nb_params', 4096)])),\n",
       "             ('Conv2d-289',\n",
       "              OrderedDict([('input_shape', [-1, 1024, 14, 14]),\n",
       "                           ('output_shape', [-1, 2048, 7, 7]),\n",
       "                           ('trainable', False),\n",
       "                           ('nb_params', 2097152)])),\n",
       "             ('BatchNorm2d-290',\n",
       "              OrderedDict([('input_shape', [-1, 2048, 7, 7]),\n",
       "                           ('output_shape', [-1, 2048, 7, 7]),\n",
       "                           ('trainable', False),\n",
       "                           ('nb_params', 4096)])),\n",
       "             ('ReLU-291',\n",
       "              OrderedDict([('input_shape', [-1, 2048, 7, 7]),\n",
       "                           ('output_shape', [-1, 2048, 7, 7]),\n",
       "                           ('nb_params', 0)])),\n",
       "             ('Conv2d-292',\n",
       "              OrderedDict([('input_shape', [-1, 2048, 7, 7]),\n",
       "                           ('output_shape', [-1, 2048, 7, 7]),\n",
       "                           ('trainable', False),\n",
       "                           ('nb_params', 4194304)])),\n",
       "             ('BatchNorm2d-293',\n",
       "              OrderedDict([('input_shape', [-1, 2048, 7, 7]),\n",
       "                           ('output_shape', [-1, 2048, 7, 7]),\n",
       "                           ('trainable', False),\n",
       "                           ('nb_params', 4096)])),\n",
       "             ('ReLU-294',\n",
       "              OrderedDict([('input_shape', [-1, 2048, 7, 7]),\n",
       "                           ('output_shape', [-1, 2048, 7, 7]),\n",
       "                           ('nb_params', 0)])),\n",
       "             ('Conv2d-295',\n",
       "              OrderedDict([('input_shape', [-1, 2048, 7, 7]),\n",
       "                           ('output_shape', [-1, 2048, 7, 7]),\n",
       "                           ('trainable', False),\n",
       "                           ('nb_params', 589824)])),\n",
       "             ('BatchNorm2d-296',\n",
       "              OrderedDict([('input_shape', [-1, 2048, 7, 7]),\n",
       "                           ('output_shape', [-1, 2048, 7, 7]),\n",
       "                           ('trainable', False),\n",
       "                           ('nb_params', 4096)])),\n",
       "             ('ReLU-297',\n",
       "              OrderedDict([('input_shape', [-1, 2048, 7, 7]),\n",
       "                           ('output_shape', [-1, 2048, 7, 7]),\n",
       "                           ('nb_params', 0)])),\n",
       "             ('Conv2d-298',\n",
       "              OrderedDict([('input_shape', [-1, 2048, 7, 7]),\n",
       "                           ('output_shape', [-1, 2048, 7, 7]),\n",
       "                           ('trainable', False),\n",
       "                           ('nb_params', 4194304)])),\n",
       "             ('BatchNorm2d-299',\n",
       "              OrderedDict([('input_shape', [-1, 2048, 7, 7]),\n",
       "                           ('output_shape', [-1, 2048, 7, 7]),\n",
       "                           ('trainable', False),\n",
       "                           ('nb_params', 4096)])),\n",
       "             ('ReLU-300',\n",
       "              OrderedDict([('input_shape', [-1, 2048, 7, 7]),\n",
       "                           ('output_shape', [-1, 2048, 7, 7]),\n",
       "                           ('nb_params', 0)])),\n",
       "             ('Conv2d-301',\n",
       "              OrderedDict([('input_shape', [-1, 2048, 7, 7]),\n",
       "                           ('output_shape', [-1, 2048, 7, 7]),\n",
       "                           ('trainable', False),\n",
       "                           ('nb_params', 4194304)])),\n",
       "             ('BatchNorm2d-302',\n",
       "              OrderedDict([('input_shape', [-1, 2048, 7, 7]),\n",
       "                           ('output_shape', [-1, 2048, 7, 7]),\n",
       "                           ('trainable', False),\n",
       "                           ('nb_params', 4096)])),\n",
       "             ('ReLU-303',\n",
       "              OrderedDict([('input_shape', [-1, 2048, 7, 7]),\n",
       "                           ('output_shape', [-1, 2048, 7, 7]),\n",
       "                           ('nb_params', 0)])),\n",
       "             ('Conv2d-304',\n",
       "              OrderedDict([('input_shape', [-1, 2048, 7, 7]),\n",
       "                           ('output_shape', [-1, 2048, 7, 7]),\n",
       "                           ('trainable', False),\n",
       "                           ('nb_params', 589824)])),\n",
       "             ('BatchNorm2d-305',\n",
       "              OrderedDict([('input_shape', [-1, 2048, 7, 7]),\n",
       "                           ('output_shape', [-1, 2048, 7, 7]),\n",
       "                           ('trainable', False),\n",
       "                           ('nb_params', 4096)])),\n",
       "             ('ReLU-306',\n",
       "              OrderedDict([('input_shape', [-1, 2048, 7, 7]),\n",
       "                           ('output_shape', [-1, 2048, 7, 7]),\n",
       "                           ('nb_params', 0)])),\n",
       "             ('Conv2d-307',\n",
       "              OrderedDict([('input_shape', [-1, 2048, 7, 7]),\n",
       "                           ('output_shape', [-1, 2048, 7, 7]),\n",
       "                           ('trainable', False),\n",
       "                           ('nb_params', 4194304)])),\n",
       "             ('BatchNorm2d-308',\n",
       "              OrderedDict([('input_shape', [-1, 2048, 7, 7]),\n",
       "                           ('output_shape', [-1, 2048, 7, 7]),\n",
       "                           ('trainable', False),\n",
       "                           ('nb_params', 4096)])),\n",
       "             ('ReLU-309',\n",
       "              OrderedDict([('input_shape', [-1, 2048, 7, 7]),\n",
       "                           ('output_shape', [-1, 2048, 7, 7]),\n",
       "                           ('nb_params', 0)])),\n",
       "             ('AdaptiveMaxPool2d-310',\n",
       "              OrderedDict([('input_shape', [-1, 2048, 7, 7]),\n",
       "                           ('output_shape', [-1, 2048, 1, 1]),\n",
       "                           ('nb_params', 0)])),\n",
       "             ('AdaptiveAvgPool2d-311',\n",
       "              OrderedDict([('input_shape', [-1, 2048, 7, 7]),\n",
       "                           ('output_shape', [-1, 2048, 1, 1]),\n",
       "                           ('nb_params', 0)])),\n",
       "             ('AdaptiveConcatPool2d-312',\n",
       "              OrderedDict([('input_shape', [-1, 2048, 7, 7]),\n",
       "                           ('output_shape', [-1, 4096, 1, 1]),\n",
       "                           ('nb_params', 0)])),\n",
       "             ('Flatten-313',\n",
       "              OrderedDict([('input_shape', [-1, 4096, 1, 1]),\n",
       "                           ('output_shape', [-1, 4096]),\n",
       "                           ('nb_params', 0)])),\n",
       "             ('BatchNorm1d-314',\n",
       "              OrderedDict([('input_shape', [-1, 4096]),\n",
       "                           ('output_shape', [-1, 4096]),\n",
       "                           ('trainable', True),\n",
       "                           ('nb_params', 8192)])),\n",
       "             ('Dropout-315',\n",
       "              OrderedDict([('input_shape', [-1, 4096]),\n",
       "                           ('output_shape', [-1, 4096]),\n",
       "                           ('nb_params', 0)])),\n",
       "             ('Linear-316',\n",
       "              OrderedDict([('input_shape', [-1, 4096]),\n",
       "                           ('output_shape', [-1, 512]),\n",
       "                           ('trainable', True),\n",
       "                           ('nb_params', 2097664)])),\n",
       "             ('ReLU-317',\n",
       "              OrderedDict([('input_shape', [-1, 512]),\n",
       "                           ('output_shape', [-1, 512]),\n",
       "                           ('nb_params', 0)])),\n",
       "             ('BatchNorm1d-318',\n",
       "              OrderedDict([('input_shape', [-1, 512]),\n",
       "                           ('output_shape', [-1, 512]),\n",
       "                           ('trainable', True),\n",
       "                           ('nb_params', 1024)])),\n",
       "             ('Dropout-319',\n",
       "              OrderedDict([('input_shape', [-1, 512]),\n",
       "                           ('output_shape', [-1, 512]),\n",
       "                           ('nb_params', 0)])),\n",
       "             ('Linear-320',\n",
       "              OrderedDict([('input_shape', [-1, 512]),\n",
       "                           ('output_shape', [-1, 37]),\n",
       "                           ('trainable', True),\n",
       "                           ('nb_params', 18981)])),\n",
       "             ('LogSoftmax-321',\n",
       "              OrderedDict([('input_shape', [-1, 37]),\n",
       "                           ('output_shape', [-1, 37]),\n",
       "                           ('nb_params', 0)]))])"
      ]
     },
     "execution_count": 41,
     "metadata": {},
     "output_type": "execute_result"
    }
   ],
   "source": [
    "learn.summary()"
   ]
  },
  {
   "cell_type": "code",
   "execution_count": 42,
   "metadata": {},
   "outputs": [
    {
     "data": {
      "application/vnd.jupyter.widget-view+json": {
       "model_id": "c7f19f3c2edf4d2fa268b3d52c13eee7",
       "version_major": 2,
       "version_minor": 0
      },
      "text/plain": [
       "HBox(children=(IntProgress(value=0, description='Epoch', max=3), HTML(value='')))"
      ]
     },
     "metadata": {},
     "output_type": "display_data"
    },
    {
     "name": "stdout",
     "output_type": "stream",
     "text": [
      "epoch      trn_loss   val_loss   accuracy                                                                              \n",
      "    0      0.187994   0.197671   0.93533   \n",
      "    1      0.183297   0.191265   0.938053                                                                              \n",
      "    2      0.179325   0.192477   0.938053                                                                              \n",
      "\n"
     ]
    },
    {
     "data": {
      "text/plain": [
       "[array([0.19248]), 0.9380531029444799]"
      ]
     },
     "execution_count": 42,
     "metadata": {},
     "output_type": "execute_result"
    }
   ],
   "source": [
    "learn.fit(1e-2, 3, cycle_len=1)"
   ]
  },
  {
   "cell_type": "markdown",
   "metadata": {},
   "source": [
    "Validation loss is much lower than training loss. This is a sign of underfitting. Cycle_len=1 may be too short. Let's set cycle_mult=2 to find better parameter."
   ]
  },
  {
   "cell_type": "code",
   "execution_count": 43,
   "metadata": {},
   "outputs": [
    {
     "data": {
      "application/vnd.jupyter.widget-view+json": {
       "model_id": "aae5413bcecd49d6aca055cb7c1cf3d4",
       "version_major": 2,
       "version_minor": 0
      },
      "text/plain": [
       "HBox(children=(IntProgress(value=0, description='Epoch', max=7), HTML(value='')))"
      ]
     },
     "metadata": {},
     "output_type": "display_data"
    },
    {
     "name": "stdout",
     "output_type": "stream",
     "text": [
      "epoch      trn_loss   val_loss   accuracy                                                                              \n",
      "    0      0.167227   0.193778   0.934649  \n",
      "    1      0.165063   0.1878     0.936692                                                                              \n",
      "    2      0.153432   0.187338   0.93533                                                                               \n",
      "    3      0.162182   0.186619   0.939415                                                                              \n",
      "    4      0.149597   0.187994   0.934649                                                                              \n",
      "    5      0.136034   0.183853   0.939415                                                                              \n",
      "    6      0.12923    0.184903   0.939415                                                                              \n",
      "\n"
     ]
    },
    {
     "data": {
      "text/plain": [
       "[array([0.1849]), 0.939414569356151]"
      ]
     },
     "execution_count": 43,
     "metadata": {},
     "output_type": "execute_result"
    }
   ],
   "source": [
    "# When you are under fitting, it means cycle_len=1 is too short (learning rate is getting reset before it had the chance to zoom in properly).\n",
    "learn.fit(1e-2, 3, cycle_len=1, cycle_mult=2) # 1+2+4 = 7 epochs"
   ]
  },
  {
   "cell_type": "markdown",
   "metadata": {},
   "source": [
    "Training loss and validation loss are getting closer and smaller. We are on right track."
   ]
  },
  {
   "cell_type": "code",
   "execution_count": 44,
   "metadata": {
    "scrolled": true
   },
   "outputs": [
    {
     "name": "stdout",
     "output_type": "stream",
     "text": [
      "                                                                                                                       \r"
     ]
    },
    {
     "data": {
      "text/plain": [
       "(0.9360108917631041, 0.17570000522604548)"
      ]
     },
     "execution_count": 44,
     "metadata": {},
     "output_type": "execute_result"
    }
   ],
   "source": [
    "log_preds, y = learn.TTA() # (5, 2044, 120), (2044,)\n",
    "probs = np.mean(np.exp(log_preds),0)\n",
    "accuracy_np(probs, y), metrics.log_loss(y, probs)"
   ]
  },
  {
   "cell_type": "code",
   "execution_count": 45,
   "metadata": {},
   "outputs": [
    {
     "data": {
      "text/plain": [
       "(1469, array([13,  8, 31, 24, 36], dtype=int64))"
      ]
     },
     "execution_count": 45,
     "metadata": {},
     "output_type": "execute_result"
    }
   ],
   "source": [
    "len(data.val_ds.y), data.val_ds.y[:5]"
   ]
  },
  {
   "cell_type": "code",
   "execution_count": 46,
   "metadata": {},
   "outputs": [],
   "source": [
    "learn.save('299_pre')"
   ]
  },
  {
   "cell_type": "code",
   "execution_count": 47,
   "metadata": {},
   "outputs": [],
   "source": [
    "learn.load('299_pre')"
   ]
  },
  {
   "cell_type": "code",
   "execution_count": 48,
   "metadata": {
    "scrolled": true
   },
   "outputs": [
    {
     "data": {
      "application/vnd.jupyter.widget-view+json": {
       "model_id": "0bc3616bda95499daaa96c782a7bd056",
       "version_major": 2,
       "version_minor": 0
      },
      "text/plain": [
       "HBox(children=(IntProgress(value=0, description='Epoch', max=2), HTML(value='')))"
      ]
     },
     "metadata": {},
     "output_type": "display_data"
    },
    {
     "name": "stdout",
     "output_type": "stream",
     "text": [
      "epoch      trn_loss   val_loss   accuracy                                                                              \n",
      "    0      0.142866   0.186005   0.943499  \n",
      "    1      0.137315   0.18595    0.943499                                                                              \n",
      "\n"
     ]
    },
    {
     "data": {
      "text/plain": [
       "[array([0.18595]), 0.9434989803579082]"
      ]
     },
     "execution_count": 48,
     "metadata": {},
     "output_type": "execute_result"
    }
   ],
   "source": [
    "learn.fit(1e-2, 1, cycle_len=2) # 1+1 = 2 epochs"
   ]
  },
  {
   "cell_type": "code",
   "execution_count": 49,
   "metadata": {},
   "outputs": [],
   "source": [
    "learn.save('299_pre')"
   ]
  },
  {
   "cell_type": "code",
   "execution_count": 50,
   "metadata": {},
   "outputs": [
    {
     "name": "stdout",
     "output_type": "stream",
     "text": [
      "                                                                                                                       \r"
     ]
    },
    {
     "data": {
      "text/plain": [
       "(0.9400953029271614, 0.18039428913418132)"
      ]
     },
     "execution_count": 50,
     "metadata": {},
     "output_type": "execute_result"
    }
   ],
   "source": [
    "log_preds, y = learn.TTA()\n",
    "probs = np.mean(np.exp(log_preds),0)\n",
    "accuracy_np(probs, y), metrics.log_loss(y, probs)"
   ]
  },
  {
   "cell_type": "markdown",
   "metadata": {},
   "source": [
    "This dataset is so similar to ImageNet dataset. Training convolution layers doesn't help much. We are not going to unfreeze."
   ]
  },
  {
   "cell_type": "markdown",
   "metadata": {},
   "source": [
    "## Create submission\n",
    "\n",
    "https://youtu.be/9C06ZPF8Uuc?t=1905"
   ]
  },
  {
   "cell_type": "code",
   "execution_count": 51,
   "metadata": {},
   "outputs": [
    {
     "data": {
      "text/plain": [
       "['abyssinian',\n",
       " 'american_bulldog',\n",
       " 'american_pit_bull_terrier',\n",
       " 'basset_hound',\n",
       " 'beagle',\n",
       " 'bengal',\n",
       " 'birman',\n",
       " 'bombay',\n",
       " 'boxer',\n",
       " 'british_shorthair',\n",
       " 'chihuahua',\n",
       " 'egyptian_mau',\n",
       " 'english_cocker_spaniel',\n",
       " 'english_setter',\n",
       " 'german_shorthaired',\n",
       " 'great_pyrenees',\n",
       " 'havanese',\n",
       " 'japanese_chin',\n",
       " 'keeshond',\n",
       " 'leonberger',\n",
       " 'maine_coon',\n",
       " 'miniature_pinscher',\n",
       " 'newfoundland',\n",
       " 'persian',\n",
       " 'pomeranian',\n",
       " 'pug',\n",
       " 'ragdoll',\n",
       " 'russian_blue',\n",
       " 'saint_bernard',\n",
       " 'samoyed',\n",
       " 'scottish_terrier',\n",
       " 'shiba_inu',\n",
       " 'siamese',\n",
       " 'sphynx',\n",
       " 'staffordshire_bull_terrier',\n",
       " 'wheaten_terrier',\n",
       " 'yorkshire_terrier']"
      ]
     },
     "execution_count": 51,
     "metadata": {},
     "output_type": "execute_result"
    }
   ],
   "source": [
    "data.classes"
   ]
  },
  {
   "cell_type": "code",
   "execution_count": 52,
   "metadata": {},
   "outputs": [
    {
     "data": {
      "text/plain": [
       "['test\\\\0006246bf61f5801e125c305d2ed25e2.jpg',\n",
       " 'test\\\\001e73b6915f4128065470cdd3766fcd.jpg',\n",
       " 'test\\\\002d5910de023eddce8358edf169c07f.jpg',\n",
       " 'test\\\\003b7dec4fe65ec846854c7597617a23.jpg',\n",
       " 'test\\\\004955e30603d8c06c1ff917736eb418.jpg',\n",
       " 'test\\\\006698c81695d7249438abe28fcc14aa.jpg',\n",
       " 'test\\\\0067ecf8de1202baef9064a1bcbce6c3.jpg',\n",
       " 'test\\\\0091c20924fb3fe05c1639b19b98fe3f.jpg',\n",
       " 'test\\\\00a5981bbe7cdc374385c46792219b90.jpg',\n",
       " 'test\\\\00aa13b24da06a2f4ffef1742d2c400d.jpg',\n",
       " 'test\\\\00afaa4f2a5e18df354294671081b8c8.jpg',\n",
       " 'test\\\\00b79452a6a98c02d9489189b16f5cc8.jpg',\n",
       " 'test\\\\00bb022c5622be19209010e94b82cdae.jpg',\n",
       " 'test\\\\00bbb23263b12d84fd41f04b83367a7d.jpg',\n",
       " 'test\\\\00d1c95ec4752fbeeb372484ca65ffde.jpg',\n",
       " 'test\\\\00e5bb8a838164b484caafeb0bc6ffb2.jpg',\n",
       " 'test\\\\00f0b3a43e973b3611f06836a2bc6180.jpg',\n",
       " 'test\\\\00f3feb014bd7f15ead675f43c7c4664.jpg',\n",
       " 'test\\\\011e1e752a5b51e53082cd7f7633db13.jpg',\n",
       " 'test\\\\0129e7168fc7a522ffae0fe60b8f0dbf.jpg',\n",
       " 'test\\\\013167adb9fbc93923f9c0789599ec95.jpg',\n",
       " 'test\\\\01391072e31e7165e95910d1135766db.jpg',\n",
       " 'test\\\\013da9dd07c969adef0b4e3d2dd3d5d6.jpg',\n",
       " 'test\\\\01463d18e080961e0bac0782ff55e5f8.jpg',\n",
       " 'test\\\\01469a21726d06a854c6463daaffc9d4.jpg',\n",
       " 'test\\\\015719bf871d59e23e6ed9db3535c39a.jpg',\n",
       " 'test\\\\0158fe9cead91d1b027b795984737614.jpg',\n",
       " 'test\\\\015ef0c87e98d366227cc75813f48d01.jpg',\n",
       " 'test\\\\015f85041ea0ebd36fb02fefd5e200c8.jpg',\n",
       " 'test\\\\015ff69a281a99621fb3540de2eb30f1.jpg',\n",
       " 'test\\\\0160ecaa22c2946cfa62fd8e689e1f82.jpg',\n",
       " 'test\\\\0167c7e9273a4289b867d4c1238390ed.jpg',\n",
       " 'test\\\\01686471f80a8cb6140253568ef48006.jpg',\n",
       " 'test\\\\01734878c05d2dded8c726a622fdba9e.jpg',\n",
       " 'test\\\\017813103ef615c6e4e41c106f0d8540.jpg',\n",
       " 'test\\\\0188bed9647ab3c0f81dc3e4b5589baa.jpg',\n",
       " 'test\\\\018d2df4c73e8d9e1c4aa59ee8ff4047.jpg',\n",
       " 'test\\\\01b53ab60d1307f1db2f793377d3af08.jpg',\n",
       " 'test\\\\01b97d1d9b7e9aa82a1fb2cad53310bf.jpg',\n",
       " 'test\\\\01bee20559863d06ba57d3f2f6fd7533.jpg',\n",
       " 'test\\\\01c3d8dfa9413db0e4f8e03ea70ce9ce.jpg',\n",
       " 'test\\\\01c99f434d8173c202f5643af62b0315.jpg',\n",
       " 'test\\\\01d24656ad4fff7bce51ac81a556d61a.jpg',\n",
       " 'test\\\\01d88c67f92f4c998c9c3edb04604b5f.jpg',\n",
       " 'test\\\\01d99d2803dac9c4d8e95d91947bb144.jpg',\n",
       " 'test\\\\01dad33a7318485e4915988ace46fa52.jpg',\n",
       " 'test\\\\01eec73aea3174e3b417003c309d11f5.jpg',\n",
       " 'test\\\\01f7b14257db57b9090f9d92accd097a.jpg',\n",
       " 'test\\\\0202a0001ff1ee6720b1ecb431d57084.jpg',\n",
       " 'test\\\\020a5a9c4c78ba7c211bac87f8fd40da.jpg',\n",
       " 'test\\\\0219d056409b3b29171b3b2ed66edcf7.jpg',\n",
       " 'test\\\\022918a82f87a38ba23bde166db6ee2a.jpg',\n",
       " 'test\\\\022d692b53ff94ffdaa0b83f457c0e6f.jpg',\n",
       " 'test\\\\0231eb7f88992a37edac4899584122b7.jpg',\n",
       " 'test\\\\023896c1562bafb358a2b2b7759d059b.jpg',\n",
       " 'test\\\\023fb285bf9850ccc10287a3a8db3603.jpg',\n",
       " 'test\\\\0241b8dc48f77343c706ea3ce3af6482.jpg',\n",
       " 'test\\\\024cf4b49c3c023c7834a1c0e0da523b.jpg',\n",
       " 'test\\\\024dd8a8181a5ce1fba1644c09d618b7.jpg',\n",
       " 'test\\\\025684419d6b129e2fa55ff7a4b19849.jpg',\n",
       " 'test\\\\025b9a08762dc87b7dbbacb9be077ece.jpg',\n",
       " 'test\\\\0266467d9bd8d79b5c982df6156d9b3b.jpg',\n",
       " 'test\\\\027cb38e2b1a6428d777e361380cc9e8.jpg',\n",
       " 'test\\\\0284fd676c23382c5e91fab5e3542c16.jpg',\n",
       " 'test\\\\0290c18054d0587be5c10819c5f38a14.jpg',\n",
       " 'test\\\\029101f17a922ac54a4eb64b82f6533f.jpg',\n",
       " 'test\\\\0294e70bfebdd2b0557a5742a0e186c7.jpg',\n",
       " 'test\\\\02984105562f9f34075a98f858ad5456.jpg',\n",
       " 'test\\\\02a18579c0f8c3919bef3efe8eda0852.jpg',\n",
       " 'test\\\\02a53ca200ecf6e0815272c47070d66e.jpg',\n",
       " 'test\\\\02a582f44b8c219ec11ee156bf4ccedb.jpg',\n",
       " 'test\\\\02a5eb9afe8b891ad8acbee10ac321a2.jpg',\n",
       " 'test\\\\02b25bcd12655592b721037fa1571019.jpg',\n",
       " 'test\\\\02bb51ad32f9e8b994209161b275d5f5.jpg',\n",
       " 'test\\\\02c7556c1541ae58ac3d2117fad0ffe8.jpg',\n",
       " 'test\\\\02e07f2c92bdae2b824a4140704bd93a.jpg',\n",
       " 'test\\\\02ef8ea52d259261a5d56619a70dbeb0.jpg',\n",
       " 'test\\\\02fd02887afd9d9876767608d04e41a5.jpg',\n",
       " 'test\\\\02fe534fdae4be1c8d3e1dca6b07714e.jpg',\n",
       " 'test\\\\03022ffc0fa97f721fd27e83066ae3a8.jpg',\n",
       " 'test\\\\0304799aa4dfcfe47f264dbc136c0f11.jpg',\n",
       " 'test\\\\030a65dd3c2b6941b7231591d7c8da50.jpg',\n",
       " 'test\\\\03143317e6d07fb16f0f3963e8c579e0.jpg',\n",
       " 'test\\\\031a78b15f547270519f637458a20dba.jpg',\n",
       " 'test\\\\03339af5f29b7fa333760566cf9abe9d.jpg',\n",
       " 'test\\\\0334cc54619c71ef1464b2f30d25a9c5.jpg',\n",
       " 'test\\\\033a1a04a5f94953c8a388e39cb71013.jpg',\n",
       " 'test\\\\033faf6d9fca77f29d3529b55e7abba8.jpg',\n",
       " 'test\\\\0340fdabf9c0ad7c6e0d6e01155187c9.jpg',\n",
       " 'test\\\\034ff061fb1cd16c90bfc69732844e87.jpg',\n",
       " 'test\\\\0353b7517f72a8720e5e59e19cb80858.jpg',\n",
       " 'test\\\\036c0c5b41328a203d5679ff965dd0cc.jpg',\n",
       " 'test\\\\037f3281a50f837dc0d745c57befcdec.jpg',\n",
       " 'test\\\\0380ec596d7d00078c574b86ee2b6503.jpg',\n",
       " 'test\\\\038fbca4d4b5d9a1e00a7baa96ea1b61.jpg',\n",
       " 'test\\\\039b8d315ad3bf292d8f248699a36dbb.jpg',\n",
       " 'test\\\\03bc63b77bec853adcb65719a21459ce.jpg',\n",
       " 'test\\\\03c0883011e130699a37d680a6704ad1.jpg',\n",
       " 'test\\\\03cfdac76523f5f4b8c0db2a125ed616.jpg',\n",
       " 'test\\\\03d12937e7061e775a8764b32cfab285.jpg',\n",
       " 'test\\\\03d7814e9a4e054e5361749b6dd8dd4f.jpg',\n",
       " 'test\\\\03f456c9f5c4d36c351de5c8d98afcf4.jpg',\n",
       " 'test\\\\0400500fa3d63f4e0f4a7e6eb4a768d1.jpg',\n",
       " 'test\\\\0403a22306e2dcc6da0acfbdc0762e55.jpg',\n",
       " 'test\\\\040807b71bacd2f5ff0d81c6fd5be596.jpg',\n",
       " 'test\\\\040aaa6af4f9c8fd018f7eefc7639802.jpg',\n",
       " 'test\\\\041b1ff430dba0db84cc117296fc9291.jpg',\n",
       " 'test\\\\041f92585c5b2a1f9d65567fba8c7726.jpg',\n",
       " 'test\\\\044e5047bc6d80b7694fce7f357b4cbd.jpg',\n",
       " 'test\\\\0466b529220cd8c56b421b98c325dfb7.jpg',\n",
       " 'test\\\\046f430848825a0dbd4c9c8321291a5b.jpg',\n",
       " 'test\\\\0472862dc038fb09429696bc186517be.jpg',\n",
       " 'test\\\\0498cfb8aae1383c049e8ccdd85f3abf.jpg',\n",
       " 'test\\\\04a24afcbb4f17715a9c3eae40df6afb.jpg',\n",
       " 'test\\\\04b0b5a46faf35813b583aca8d41f411.jpg',\n",
       " 'test\\\\04c871844b496f2a9c17b4bdb58caab3.jpg',\n",
       " 'test\\\\04ca1a04dff9a29a943bc50701c6e8d2.jpg',\n",
       " 'test\\\\04d0c7416e1073a18295480350e14027.jpg',\n",
       " 'test\\\\04d28fd946619b63eaac7bbc09734fcb.jpg',\n",
       " 'test\\\\04d454d6dea32ccd95b207d2ae8d5680.jpg',\n",
       " 'test\\\\04d5268a3b612014b2025fce58f65ac6.jpg',\n",
       " 'test\\\\04d712dfde9c0f82420e0b0ee09f6d97.jpg',\n",
       " 'test\\\\04dbc66d8e4559769bb38a92cd6f7d9d.jpg',\n",
       " 'test\\\\04dd08300b02e1803ce3e9b69cea9edc.jpg',\n",
       " 'test\\\\04e663ec1e5e4f48a6ecea90765971b0.jpg',\n",
       " 'test\\\\04e81a7cf5749b46aa156d0b11277e39.jpg',\n",
       " 'test\\\\04e911632763f998056cd7e27f112874.jpg',\n",
       " 'test\\\\04f0725be748b7268d628c86eaff1e5e.jpg',\n",
       " 'test\\\\04f348f89237450041164bd38625a345.jpg',\n",
       " 'test\\\\04fb19e26066589a5e4586b2fa6381fd.jpg',\n",
       " 'test\\\\050098035bf704f58b199f1fcb6bde71.jpg',\n",
       " 'test\\\\05029f168aa330f35f5954bd94890f4c.jpg',\n",
       " 'test\\\\0514989d4b5003977553506b02e9925d.jpg',\n",
       " 'test\\\\05169e0f72370d5c723c60555d9d9370.jpg',\n",
       " 'test\\\\051eaf6d2f90f4910c7152343362270d.jpg',\n",
       " 'test\\\\05292ae368555ae1dbde635f071b0369.jpg',\n",
       " 'test\\\\053c6f06522c624c0415ffa1ce8efbc7.jpg',\n",
       " 'test\\\\053c94dffafc5f1cd5994f76bebb6818.jpg',\n",
       " 'test\\\\054f94634e32147d72d77ac505ef3e5f.jpg',\n",
       " 'test\\\\05572f82de4f01b1e6f280b0b62a8334.jpg',\n",
       " 'test\\\\055e7659ae2d231213949fe77250e07c.jpg',\n",
       " 'test\\\\05640f18f5c0807dd96697e31fc5d8ba.jpg',\n",
       " 'test\\\\05775a54ee3a30373d7141eaecd4071d.jpg',\n",
       " 'test\\\\0580a791acbe79ff41fce247ddc0ae61.jpg',\n",
       " 'test\\\\05899bfa09930e0f882015ee4001a2d3.jpg',\n",
       " 'test\\\\05933ec886111ee97ba542962cd853b8.jpg',\n",
       " 'test\\\\05a9e8e13d461b352dfd114bc9fca573.jpg',\n",
       " 'test\\\\05b6599d517a6404b4a406c07f02f769.jpg',\n",
       " 'test\\\\05bb16ec91b639cbd089e579d315057d.jpg',\n",
       " 'test\\\\05bedb9013920f230d333346adfe61ab.jpg',\n",
       " 'test\\\\05d9b086d92232728122f7ddea797822.jpg',\n",
       " 'test\\\\05e5241517881e7e51fe6fc741d693b5.jpg',\n",
       " 'test\\\\05e6732da35fa601c58c089e2ba9e01d.jpg',\n",
       " 'test\\\\05f2463dac640866ed10c17b967adf8b.jpg',\n",
       " 'test\\\\05f5c97c31e623a061b31a040c5fbe98.jpg',\n",
       " 'test\\\\05fc90d38e2468528ad10b5ce0bff46f.jpg',\n",
       " 'test\\\\05feed10c1bd4be2fcfaa9785cbeaf9f.jpg',\n",
       " 'test\\\\060d7cee4ab3ad25149b788d47a662a9.jpg',\n",
       " 'test\\\\06178691446d9f5b0fdd6e82fb287f31.jpg',\n",
       " 'test\\\\061a83088ac96e11b4f95d5cd3f8092f.jpg',\n",
       " 'test\\\\062529ebda0161aea533a7d1388ece33.jpg',\n",
       " 'test\\\\063737dc56be25252b19e7b163a4047a.jpg',\n",
       " 'test\\\\063dae5455bb2a8558006a77bf28b471.jpg',\n",
       " 'test\\\\063e0ed9b7e42a7f25d215d68a7f6ea3.jpg',\n",
       " 'test\\\\06523c489b034243730d518424385099.jpg',\n",
       " 'test\\\\0658f0fc3ff11f09d60bc34bea4cf13f.jpg',\n",
       " 'test\\\\0675849b6f08ad701a59dc35f8faab8b.jpg',\n",
       " 'test\\\\069a5c744fe57f707e023c9fb4e2ac8f.jpg',\n",
       " 'test\\\\06a5d83f6e78384d584ca904c53ba1e2.jpg',\n",
       " 'test\\\\06ac5af68843e7e378de854a0ec0f1eb.jpg',\n",
       " 'test\\\\06ac7335d85354d2afe945c037bd1109.jpg',\n",
       " 'test\\\\06af37dac237da1f1b8da95a9cdc1328.jpg',\n",
       " 'test\\\\06bf0d5572d56f7465100e7c1ddeddde.jpg',\n",
       " 'test\\\\06c61bcbf2ecd1295dd9a282ae253546.jpg',\n",
       " 'test\\\\06c95d7b0c833549628b0553cf6ba617.jpg',\n",
       " 'test\\\\06cbeaee32c95ff7346f8b03d43b2952.jpg',\n",
       " 'test\\\\06d1641ce5829b15b63279edfff41a8b.jpg',\n",
       " 'test\\\\06d2f77ac9e6a520aa8497936831d793.jpg',\n",
       " 'test\\\\06e19535241be1125f9f7f11dde436c5.jpg',\n",
       " 'test\\\\06e234a68b4d6065d69834d6ed1f34ce.jpg',\n",
       " 'test\\\\06e8da642374a513de2cb7b238a3921a.jpg',\n",
       " 'test\\\\06ec0c672d59a46319099bc2814ee02c.jpg',\n",
       " 'test\\\\06f318f1dd178e738f675bb88a5adb84.jpg',\n",
       " 'test\\\\06fc6f68339211cb154523adddd6d900.jpg',\n",
       " 'test\\\\0708ebdb67da7bcd788a6979b856230c.jpg',\n",
       " 'test\\\\070d4c85724ea36b274fe55aff79551b.jpg',\n",
       " 'test\\\\071f4ede403a0a53ff2948a95ecbaace.jpg',\n",
       " 'test\\\\07237b3046ed0b83c12942b4a5ff9c07.jpg',\n",
       " 'test\\\\072e48f2f70ae0601f2a28ffe14b90f9.jpg',\n",
       " 'test\\\\0731edc2dd55c35d93bc045507c44e12.jpg',\n",
       " 'test\\\\075fbd3e508041de83643a4fd6be71f2.jpg',\n",
       " 'test\\\\0770207e80de77870342abb2b665376e.jpg',\n",
       " 'test\\\\07717aa085aa08e4e2b4fdb299a5ad40.jpg',\n",
       " 'test\\\\077aa1a6fcb8262af7791e6de7042e7d.jpg',\n",
       " 'test\\\\0784933601bec19e5024f3f1749c2297.jpg',\n",
       " 'test\\\\0784d8e5ab47b032bd1754b505204635.jpg',\n",
       " 'test\\\\07a4cdeb2eaae0d604db203efa8978dc.jpg',\n",
       " 'test\\\\07b8c0fba4a467b76f300ebca5b03b8d.jpg',\n",
       " 'test\\\\07bcf4e882ae521ec6ddfd0bb2a608db.jpg',\n",
       " 'test\\\\07ce62ec24557d2ae6329fe3da2b9734.jpg',\n",
       " 'test\\\\07d240de4709a9217c483e4f83e4aa46.jpg',\n",
       " 'test\\\\07d9b08eaa0a26f9771ee72f21e2b29d.jpg',\n",
       " 'test\\\\07e4fe760f25d5160628921333556c8b.jpg',\n",
       " 'test\\\\07ec76cc16ef0c53f53c0297b2886450.jpg',\n",
       " 'test\\\\07f19c4033bd2f4ee1888271a64c5486.jpg',\n",
       " 'test\\\\07fd4cabb70cc07c0d00efb897ac76fe.jpg',\n",
       " 'test\\\\080a08a91879566bd5a982063add4876.jpg',\n",
       " 'test\\\\080bb171342f1cc4e11426b97311b176.jpg',\n",
       " 'test\\\\080d081c0af01fecf9d96c78ad4460ec.jpg',\n",
       " 'test\\\\0812baf5bd7cbc7b149e49c8611d9046.jpg',\n",
       " 'test\\\\081d6cb1f901f09b1ce5e60136ee5ad8.jpg',\n",
       " 'test\\\\0820cd00c0563f5673ad6198c7c29a1c.jpg',\n",
       " 'test\\\\0827ea65a4461296428f0b675f56811b.jpg',\n",
       " 'test\\\\082da69dee57db3bd6fdcfed07bd13c8.jpg',\n",
       " 'test\\\\0835fedcd91a9176b1e4d49d05994c97.jpg',\n",
       " 'test\\\\084008ee237d994158948fc7da82b5a5.jpg',\n",
       " 'test\\\\0842e010b8587c4aa0cc4b680b6011fc.jpg',\n",
       " 'test\\\\085b52ea8caf4defb6433c5c61a08e29.jpg',\n",
       " 'test\\\\0871649407cd200319f2bd65e2e65557.jpg',\n",
       " 'test\\\\087e81239733ba7422ec84189056a00e.jpg',\n",
       " 'test\\\\0885916fda793cab18688c2785e356d3.jpg',\n",
       " 'test\\\\0894e40580946a5b629a94312986f56e.jpg',\n",
       " 'test\\\\08a628ee16c16fc72f2e800170b3da64.jpg',\n",
       " 'test\\\\08aaff6ba564dcde8eff211658c1ec85.jpg',\n",
       " 'test\\\\08b37f91e83faf2120281ae8d2cda60e.jpg',\n",
       " 'test\\\\08bbef9274d2086f73f2ebb3baa16f35.jpg',\n",
       " 'test\\\\08c1a04d450aa0984d097e00052f36da.jpg',\n",
       " 'test\\\\08c5089dda0da2106a996c40ad8babed.jpg',\n",
       " 'test\\\\08d18f89575b585b86bb2c2e1ac3d706.jpg',\n",
       " 'test\\\\08d4041425d6e8daaee6ae2a4c7a3b2d.jpg',\n",
       " 'test\\\\08d4c7e304644e9b4ed461e24db02d90.jpg',\n",
       " 'test\\\\08e07a06ca42db25aac3ddd8f66d3947.jpg',\n",
       " 'test\\\\08e1d9725f34c3c0ca76ba6784b0c631.jpg',\n",
       " 'test\\\\0900039f6502c5c4418f5b712f0dc94e.jpg',\n",
       " 'test\\\\090d93fddcb6c6a222b8043c2362526b.jpg',\n",
       " 'test\\\\090fdcdc201a970769c3f09fbc2c7fd9.jpg',\n",
       " 'test\\\\0911ba8cebcee2faae5fdd0ca953e9c1.jpg',\n",
       " 'test\\\\092122b3a7886b3bd4ad16196c325555.jpg',\n",
       " 'test\\\\092aafac417a8829183cafae185ec86e.jpg',\n",
       " 'test\\\\093264d0e7a634e02b747db711a34894.jpg',\n",
       " 'test\\\\0937cf30b0be0449350cf729dd1b6cc0.jpg',\n",
       " 'test\\\\0941260343df16d8d62682611c1220e7.jpg',\n",
       " 'test\\\\09441e5fd94bf722af5b5bfc2676638f.jpg',\n",
       " 'test\\\\0951d03925673fad198167adf078f186.jpg',\n",
       " 'test\\\\0969439b2d8737867b864753e5187917.jpg',\n",
       " 'test\\\\096fa5173aa6d34d0a41484c188ee59d.jpg',\n",
       " 'test\\\\097a40d5e54eee104025d2d4cf9692f4.jpg',\n",
       " 'test\\\\099a150e83972a433492a59c2fbe98e0.jpg',\n",
       " 'test\\\\099b7fb984b6673131fa0f2010383d2a.jpg',\n",
       " 'test\\\\099d0593171c54aa92ad6f7b21b61230.jpg',\n",
       " 'test\\\\099db6e6d725f27df7d7be75bef00979.jpg',\n",
       " 'test\\\\09ae7e40dd3c3cbdfa2304654014be6b.jpg',\n",
       " 'test\\\\09b0e426059d8ee1c0dd1d7fde6eb8c5.jpg',\n",
       " 'test\\\\09bccdbd8ea394a6c58bedf0d8dfd490.jpg',\n",
       " 'test\\\\09bd5191335ad3d5bf5a3b5e1cf86537.jpg',\n",
       " 'test\\\\09fb630623b3ae614511cef4c7a21063.jpg',\n",
       " 'test\\\\0a0a599ecfbc050d764d2f5cfb39dea1.jpg',\n",
       " 'test\\\\0a116193f931c24cac25e4a7ed8c89cb.jpg',\n",
       " 'test\\\\0a1559ddd346143aa4b78f03f4b79734.jpg',\n",
       " 'test\\\\0a15f50911fbd69c7f0d921f313ce4db.jpg',\n",
       " 'test\\\\0a1d79402574d8958b3bf6006ffeb52e.jpg',\n",
       " 'test\\\\0a1dfc18c8c8381f05f8ad9d2b4509b5.jpg',\n",
       " 'test\\\\0a25e7fe3131a04b8683607a189dcba7.jpg',\n",
       " 'test\\\\0a27702196614b5c0baa864a52b86db1.jpg',\n",
       " 'test\\\\0a2ccccb260808db9a985b61416b3000.jpg',\n",
       " 'test\\\\0a346e650664b230aa51c58f2144cb7e.jpg',\n",
       " 'test\\\\0a39ac4d467a9cc1af006c9c7d997938.jpg',\n",
       " 'test\\\\0a41379f0095ffaf77484d034c852bda.jpg',\n",
       " 'test\\\\0a509f789068b30a4c2f99b89d2062eb.jpg',\n",
       " 'test\\\\0a65682f43c31b93753a025007768788.jpg',\n",
       " 'test\\\\0a71b28ccc0147f56a415929e000ff38.jpg',\n",
       " 'test\\\\0a7bb5713e0cdc8d4de8eb7320454fe3.jpg',\n",
       " 'test\\\\0a876dfacfdabc170818581a2e6e6d54.jpg',\n",
       " 'test\\\\0a8b0c290768633cc2940ad076d961e7.jpg',\n",
       " 'test\\\\0a9c72f9db202d3c13e46b9a902f4a6c.jpg',\n",
       " 'test\\\\0aa29904a5fe988a41cc1b680e4d7b77.jpg',\n",
       " 'test\\\\0aa462866c75006a3d25bc209842a702.jpg',\n",
       " 'test\\\\0ac613e6ed8a5f36ef140fa390449ea1.jpg',\n",
       " 'test\\\\0ac7e15724f80ac6d2c86a0a4b1aa821.jpg',\n",
       " 'test\\\\0ac81e7d0c47c3377683c1b5ab43b0fb.jpg',\n",
       " 'test\\\\0acc523897d38c9440054d3c4aa9e363.jpg',\n",
       " 'test\\\\0ad4cf7b35f62b8ff9c73f481594fbdd.jpg',\n",
       " 'test\\\\0ae13c9bb7c45d74366f9cd11ce2a385.jpg',\n",
       " 'test\\\\0af411ba74df0749e78d596262a4bc5f.jpg',\n",
       " 'test\\\\0b0a1f59b03dd100f44ec78006f474c1.jpg',\n",
       " 'test\\\\0b0cf90a440fb4194a89715cb6d62dbc.jpg',\n",
       " 'test\\\\0b0d4b77b1494ca873f4311cc88a9fde.jpg',\n",
       " 'test\\\\0b175aa159ccd78a833d09251143427d.jpg',\n",
       " 'test\\\\0b6d148ddaed6ddbe436da7d142376ec.jpg',\n",
       " 'test\\\\0b6dc2e395f13ed6166f2b7f5ea6f25b.jpg',\n",
       " 'test\\\\0b75c4bfdcb3d4e1e9f2bd5c1d96bd9c.jpg',\n",
       " 'test\\\\0b783b2c6d8aa254f3e90187725263aa.jpg',\n",
       " 'test\\\\0b867e53c1d233ce9fe49d54549a2323.jpg',\n",
       " 'test\\\\0b8db371249d52a6d8d2158e55d94efb.jpg',\n",
       " 'test\\\\0b91f1d54f932dc6382dc69f197900cf.jpg',\n",
       " 'test\\\\0b98251cfc043127f9c21c369d967ca5.jpg',\n",
       " 'test\\\\0b9f348d582d84e3f533d832519987c8.jpg',\n",
       " 'test\\\\0baac191b10bb129d04fb1cf163d9932.jpg',\n",
       " 'test\\\\0bbbd8708e596f2625bf598e57da0481.jpg',\n",
       " 'test\\\\0bc71c380ff7a0be65a171df5314b02d.jpg',\n",
       " 'test\\\\0bd1dd65df15b49f43379801e0e90e80.jpg',\n",
       " 'test\\\\0bdc9969224bdff526cc6748cf8bd8c0.jpg',\n",
       " 'test\\\\0bdc9fa5d54599b5fb51f4805bcb22a5.jpg',\n",
       " 'test\\\\0be379c26ea8157ab663f32e87c50611.jpg',\n",
       " 'test\\\\0bf1d0a0be01e4461e7018a3110e23a8.jpg',\n",
       " 'test\\\\0bf37559cfa3c40deba7c75524c6bb1d.jpg',\n",
       " 'test\\\\0c0753b0057a2f8db2ff040d916b016d.jpg',\n",
       " 'test\\\\0c11932de9b51e14fe32729a8f3bf9c5.jpg',\n",
       " 'test\\\\0c15ad6c48a76155b4553686160ad040.jpg',\n",
       " 'test\\\\0c1f5ad215a2814550d6eff790a323f9.jpg',\n",
       " 'test\\\\0c392d2d5c731481957f7db5dc6991e4.jpg',\n",
       " 'test\\\\0c5bee94c7a6904b9af775e24e84b3f9.jpg',\n",
       " 'test\\\\0c67b88d3cc20cb798f8225e775f3685.jpg',\n",
       " 'test\\\\0c6f4344da66abc2918fdb1bfa74ca60.jpg',\n",
       " 'test\\\\0c72c625654f8bf1d692d4ff4518eb78.jpg',\n",
       " 'test\\\\0c885235b7233762d4d85f27bd600028.jpg',\n",
       " 'test\\\\0c8c14034eb25f2b2724c0f53b252c47.jpg',\n",
       " 'test\\\\0c9a7cc22a3db6fcfdd18c807c468158.jpg',\n",
       " 'test\\\\0cb379c227862067c7907ca3d0d812a1.jpg',\n",
       " 'test\\\\0ccd91d204207e4b750aaa15cf8125e1.jpg',\n",
       " 'test\\\\0cd7775f6134dbd95567b1117dac2946.jpg',\n",
       " 'test\\\\0ce7670d796e9e31ac31713fff8005b6.jpg',\n",
       " 'test\\\\0cf3ee625ad39856c23eea11b1d801df.jpg',\n",
       " 'test\\\\0cf8b5c184ce4f5635e215f2af331506.jpg',\n",
       " 'test\\\\0d01ec8fa2fa784eabe391e1bafc42c5.jpg',\n",
       " 'test\\\\0d02ba0cd6e9a4efe03222cb869e19fe.jpg',\n",
       " 'test\\\\0d1325b310c40de4373f39b2d248adb5.jpg',\n",
       " 'test\\\\0d3a12fd3f68decc694da04b57e61d8c.jpg',\n",
       " 'test\\\\0d3df97f8fc1db9c0bffb3ac0e294097.jpg',\n",
       " 'test\\\\0d41039328ef92138c89ef403482c9bf.jpg',\n",
       " 'test\\\\0d4ec840c1db49efd9ea0f2dd0a7c66e.jpg',\n",
       " 'test\\\\0d5fdceb35d6d9723d82e35f031979a1.jpg',\n",
       " 'test\\\\0d7db7ff842f89a36b58fa2541de2a6c.jpg',\n",
       " 'test\\\\0d7f0d2247589f2fd493db0e171cea24.jpg',\n",
       " 'test\\\\0d862b6b5f133f939907f856ae1f95d2.jpg',\n",
       " 'test\\\\0d8e597082beff1bd4080eb744eaa773.jpg',\n",
       " 'test\\\\0d912f3f39fb2811ac01d4d9a8bfcef0.jpg',\n",
       " 'test\\\\0d92f9f093fe363ad97fe27675981f1d.jpg',\n",
       " 'test\\\\0da06e257e605e5fe42eac9e1100e62c.jpg',\n",
       " 'test\\\\0da25dd516713de7c7412e52a30ef606.jpg',\n",
       " 'test\\\\0db37ad705d1458ba6b8392a6b904466.jpg',\n",
       " 'test\\\\0dc1064a99d6b21485f3f758b2dfd8e0.jpg',\n",
       " 'test\\\\0dc1e32b499ed0ab930b802cb8dbbe18.jpg',\n",
       " 'test\\\\0ddd4e5b324e781d436585110392a71e.jpg',\n",
       " 'test\\\\0de1043fd9c1eca1855c1333c07136df.jpg',\n",
       " 'test\\\\0df0d34c294266934f333602f1342acf.jpg',\n",
       " 'test\\\\0dff68e089e1d5d2469a2cdce8ea1c00.jpg',\n",
       " 'test\\\\0e038e1500eec0aa11fc82cdb4214a44.jpg',\n",
       " 'test\\\\0e088e4fa85f08ed13829691445a3320.jpg',\n",
       " 'test\\\\0e0954cf878ac238ae4e01dcbb7ae624.jpg',\n",
       " 'test\\\\0e1916ca138fb4b0ebb2a08e657b4c35.jpg',\n",
       " 'test\\\\0e1e99fd39ab1fab3afbc3ca81b8922d.jpg',\n",
       " 'test\\\\0e28f58289dd74d65fd7ba1972d27e1e.jpg',\n",
       " 'test\\\\0e2cc575cff3ad872378ef99a288ab35.jpg',\n",
       " 'test\\\\0e2e640b11f60ae0769bca010bdc6ecc.jpg',\n",
       " 'test\\\\0e310b618964b924e3b97e66512a7bc0.jpg',\n",
       " 'test\\\\0e33892c28fa8adc234f9a23dea0a764.jpg',\n",
       " 'test\\\\0e3869d848664a9a6d6b0f30201419c9.jpg',\n",
       " 'test\\\\0e3bdab6384bf0e4654bb6ae091d4492.jpg',\n",
       " 'test\\\\0e4443eb72f23cc3cc4d29b032111567.jpg',\n",
       " 'test\\\\0e50034267efee4f7bcfd62dc1b5f809.jpg',\n",
       " 'test\\\\0e6920a55088974bd9ad6e2d5d6e5d2d.jpg',\n",
       " 'test\\\\0e6bce6899fae841f79024afbdf7db1d.jpg',\n",
       " 'test\\\\0e8478430ca203f37e5ccb102a6bcf65.jpg',\n",
       " 'test\\\\0e9b775b7a252cde132821fd71d72969.jpg',\n",
       " 'test\\\\0eaed7b9d28d4fd0c0e171b6bb358fc4.jpg',\n",
       " 'test\\\\0eb422c159314f9c905bc43cc6167669.jpg',\n",
       " 'test\\\\0ebb647786d08ce49470de8b5355198b.jpg',\n",
       " 'test\\\\0ec0ba254a2e47af2e53bb87558dad16.jpg',\n",
       " 'test\\\\0ec3bbc188caf04134280e5a95f00446.jpg',\n",
       " 'test\\\\0ec670fd70f5e89c3d2727df9f2a5398.jpg',\n",
       " 'test\\\\0ec71d5a848f152c1c11c182fe2e50d8.jpg',\n",
       " 'test\\\\0ed20777dc9b13d529a2bfb5701671ae.jpg',\n",
       " 'test\\\\0edd8fbec9eccc6310f0bccc651e96c3.jpg',\n",
       " 'test\\\\0edf564d8d6266b06b98815ff3aa422d.jpg',\n",
       " 'test\\\\0efa007088f326bbc072c34315f3edb8.jpg',\n",
       " 'test\\\\0efb23e9857a7a91cca713b66fe0e858.jpg',\n",
       " 'test\\\\0efca6523e33c761add9140fb2da55fb.jpg',\n",
       " 'test\\\\0efce63cf4c085888a2772125dfe7aaa.jpg',\n",
       " 'test\\\\0f116b06f6516a3321c6d451f131c2fc.jpg',\n",
       " 'test\\\\0f343b0931126a20f133d67c2b018a3b.jpg',\n",
       " 'test\\\\0f4a36c4a3ee08de2cb188696ee51696.jpg',\n",
       " 'test\\\\0f4e578c873e719c7117e9926d4575bc.jpg',\n",
       " 'test\\\\0f55f8520f5d8d8cf37e4304ec81b49d.jpg',\n",
       " 'test\\\\0f810edc4764e31999a8dfe30b2405ec.jpg',\n",
       " 'test\\\\0f817bccddf220e277a1a338947f6dfe.jpg',\n",
       " 'test\\\\0f8c3143c89558456078d9ee5c328024.jpg',\n",
       " 'test\\\\0f920b318099067931645536f9dd233c.jpg',\n",
       " 'test\\\\0f991f7b56eda55c7a55b9529352f0dc.jpg',\n",
       " 'test\\\\0f9ca85f84120a5fdb5e1f808fc2a343.jpg',\n",
       " 'test\\\\0fa3729e59dab2bbe592db77f922b027.jpg',\n",
       " 'test\\\\0faa930ba37ef88103b043f0e16dbd9a.jpg',\n",
       " 'test\\\\0fb170e3cf1da866db873d9fd2fa843c.jpg',\n",
       " 'test\\\\0fb569bd35d44c9ffa7d4728af4e734f.jpg',\n",
       " 'test\\\\0fc0070ac3c55350cea3a418dfb3ec59.jpg',\n",
       " 'test\\\\0fc406027f9efce46c1026770fe44b53.jpg',\n",
       " 'test\\\\0fcb8875c4998c522f5279fbdd58a8f3.jpg',\n",
       " 'test\\\\0fd4e117693cf2829c530d4a2ef7c8ba.jpg',\n",
       " 'test\\\\0fdfceda7b7c945d50da53e5e3058f8e.jpg',\n",
       " 'test\\\\0fe54ae0e2fe112f840c012f5fc56b80.jpg',\n",
       " 'test\\\\0fe8b6ff202a2b826cb73fc50d089e9b.jpg',\n",
       " 'test\\\\0ff413d7509ff289feae8c8fcd25b387.jpg',\n",
       " 'test\\\\100ef2028867d7bc6101cf98f8e5674c.jpg',\n",
       " 'test\\\\103699d777d0304adfe836ca4b609bc8.jpg',\n",
       " 'test\\\\1036f4aae37bd39b2ecc451c487e33c1.jpg',\n",
       " 'test\\\\103d53195831078faabdacc784b0eeb7.jpg',\n",
       " 'test\\\\104380b54a9230343250be09622bdfb6.jpg',\n",
       " 'test\\\\10533d0a8baaaa0cbf467965f2605c04.jpg',\n",
       " 'test\\\\105d25c8bd94ddea38d9f1e5cfe17b0e.jpg',\n",
       " 'test\\\\106db0567e89c3ab14c198d1e33a980e.jpg',\n",
       " 'test\\\\106f773dd929ab1821b41cd8789f1b3e.jpg',\n",
       " 'test\\\\107251685e64c2cc8943d95b89ca4d30.jpg',\n",
       " 'test\\\\1079e8f69138f626c4065e314d2ba525.jpg',\n",
       " 'test\\\\107ea5e45048022b43068c629c827ede.jpg',\n",
       " 'test\\\\109071511d084d628bbf736c8bace7a2.jpg',\n",
       " 'test\\\\109301166b52e8d1e86b4f537e03b161.jpg',\n",
       " 'test\\\\109c836de2bda4cab3a3b2cfe1cfd2fa.jpg',\n",
       " 'test\\\\109e96e557137c2132d143619052e8aa.jpg',\n",
       " 'test\\\\10a23d5c673900044d1ddd0dfc89c46c.jpg',\n",
       " 'test\\\\10ba6c95e2be70f0a42d4373ec62a6c9.jpg',\n",
       " 'test\\\\10d17e3968a32007e77d5a27e40cb52e.jpg',\n",
       " 'test\\\\10e83161901e20a5b76b849458110174.jpg',\n",
       " 'test\\\\10f11afd78fa5556a39def4010e6396f.jpg',\n",
       " 'test\\\\10fba33e77c369a47db11a3626c16177.jpg',\n",
       " 'test\\\\10ff153deab14324dd8c758dc9bf4669.jpg',\n",
       " 'test\\\\111310aad95d2270b78c93882f441bf1.jpg',\n",
       " 'test\\\\1119725912eeab4e89809c94b3667239.jpg',\n",
       " 'test\\\\111ea4c4190542c3e1e479d2c5654f0e.jpg',\n",
       " 'test\\\\1135e286fb5224ef530f4ce0ec4a2835.jpg',\n",
       " 'test\\\\1135f790ccad3d4ed0a231d9452f16a8.jpg',\n",
       " 'test\\\\11517da3555a2ab5dcb44cd614c2e92c.jpg',\n",
       " 'test\\\\117007deac01acfeab6f3aaf7c368467.jpg',\n",
       " 'test\\\\1176cc8f60df5f9b06e9cdbf6318fde5.jpg',\n",
       " 'test\\\\117b9ab1dd4a93207369417823fb9257.jpg',\n",
       " 'test\\\\117c034c053cbe7b15aefb117f1b1444.jpg',\n",
       " 'test\\\\118156ecbe2699d256f3f5c1f32c581f.jpg',\n",
       " 'test\\\\118db038cff249fc1b96f7a8f2b27620.jpg',\n",
       " 'test\\\\118e1660013e0e4cf3484c325b4d8253.jpg',\n",
       " 'test\\\\1196d1cf2e9f45c18ee1a058d476d7f0.jpg',\n",
       " 'test\\\\11b1eeada5df474b77ce3a7ce3c65338.jpg',\n",
       " 'test\\\\11be6f5a9a46d74dfe7fdee344937b9f.jpg',\n",
       " 'test\\\\11c4b005848de37b4e1de683d5dc68b6.jpg',\n",
       " 'test\\\\11e647c3e0d710efa8adf6bf60a72fa0.jpg',\n",
       " 'test\\\\11ee2a8bf46495b0f3511b8d4445ab34.jpg',\n",
       " 'test\\\\11f0b2d798de620a4828d57c0c221a41.jpg',\n",
       " 'test\\\\11fb42c26eca6e94c1d76f5fe1795137.jpg',\n",
       " 'test\\\\12054f91007824f851ea2ca6dda0f69d.jpg',\n",
       " 'test\\\\120bc01b4688cadcaf28acca2edc6497.jpg',\n",
       " 'test\\\\120ea252e954b4e04d9abfbe30823be9.jpg',\n",
       " 'test\\\\120f19a17e73a4048c85ba50382f2274.jpg',\n",
       " 'test\\\\12108beb1d891f8b1b4d19d8eb7888cb.jpg',\n",
       " 'test\\\\12252f903d3931a24371918c05c8f598.jpg',\n",
       " 'test\\\\122945cd43ef89794519cc5748c8303a.jpg',\n",
       " 'test\\\\1229df03e013e7db1833e9a5e7861dd0.jpg',\n",
       " 'test\\\\12345d5cf46fd8c01f0627c384816c97.jpg',\n",
       " 'test\\\\125863dbbbb069fd535aaf5f8b17bfbe.jpg',\n",
       " 'test\\\\1268b3656a9b07a7c18f2184cf46e8fc.jpg',\n",
       " 'test\\\\1278b138fc6119bd3d58dd7a006b0071.jpg',\n",
       " 'test\\\\1282b7d52dd8ed2f6eeade756d6b2674.jpg',\n",
       " 'test\\\\128b8c0fbda994fba5f10f40288d3744.jpg',\n",
       " 'test\\\\128e5d8a837d1d9b540b96013e4c9f19.jpg',\n",
       " 'test\\\\12932d768bbb107983df20dbe1a6f6b0.jpg',\n",
       " 'test\\\\129df0936850cc72f7621b28c6fddb43.jpg',\n",
       " 'test\\\\12a4d8de4b35f58963f759411a5d8dab.jpg',\n",
       " 'test\\\\12ae73fe4d4e4157470e1d14ef989066.jpg',\n",
       " 'test\\\\12d7fdbf4e7bb599d2e67d156909ff92.jpg',\n",
       " 'test\\\\12d98b6fdfc52a0904263764bb3b653a.jpg',\n",
       " 'test\\\\12e15e2bbfd5ef074550a2a023c74f73.jpg',\n",
       " 'test\\\\12eb9b8ddd74934830f7b0d7418b0cca.jpg',\n",
       " 'test\\\\12ed45070dfe8e1a22ee7a37571de92c.jpg',\n",
       " 'test\\\\12f01c93444adc0d1142dddc71e67571.jpg',\n",
       " 'test\\\\12f9c448daf782c4bb2873c9247776de.jpg',\n",
       " 'test\\\\12fa1cd0cfb57817fae11f4a90716eb7.jpg',\n",
       " 'test\\\\12fd03cb2c6ca29c87540fddac1988f4.jpg',\n",
       " 'test\\\\12fe488ef31d703eaf531f34ac45197b.jpg',\n",
       " 'test\\\\13047b25e064f56c58d309e534a1f56d.jpg',\n",
       " 'test\\\\131ad619982d6c7c0753ac8e3498b09d.jpg',\n",
       " 'test\\\\131e038ebef437fdc30c19a886094ca5.jpg',\n",
       " 'test\\\\13276cad7113fae3199db664d14b54e2.jpg',\n",
       " 'test\\\\1328d8d41c6dff2520d90d0dd41fdf7c.jpg',\n",
       " 'test\\\\132d775154beb8551dd7844f1b78ed89.jpg',\n",
       " 'test\\\\133098412ced18e8b4e034eafe1a7fc5.jpg',\n",
       " 'test\\\\1334fea405119b7796d4a790d17f945c.jpg',\n",
       " 'test\\\\133721bdf7a6b19e6e0256c199fb2d32.jpg',\n",
       " 'test\\\\133d5de718be6eb100549af6312c083a.jpg',\n",
       " 'test\\\\13597b023f2775a43d9a91e819cbce1e.jpg',\n",
       " 'test\\\\135999bd0a78d4391c0796b4ec2aa6c0.jpg',\n",
       " 'test\\\\136dc7f821488e0bf6ace843532cb18b.jpg',\n",
       " 'test\\\\13722ea2041fcc70a7e26bf442632287.jpg',\n",
       " 'test\\\\137f85dbd53f83b4f1e66a9b30fde7e5.jpg',\n",
       " 'test\\\\138708e5eca0a51336d839594c662e6c.jpg',\n",
       " 'test\\\\138dd8f5c5acbcb3ec868989deba6dbe.jpg',\n",
       " 'test\\\\1394a0f14fb9d4321bbfba1762d02fca.jpg',\n",
       " 'test\\\\1395507212cdc044485e8469537c24d0.jpg',\n",
       " 'test\\\\13b631b7d365cbbabf196888a1cc5d6c.jpg',\n",
       " 'test\\\\13b8c6da42da9dce69ad6739ab5196ed.jpg',\n",
       " 'test\\\\13bf3b60baca98eda3a904fa91c91ebf.jpg',\n",
       " 'test\\\\13c0e3429240138312864fa12af4f74b.jpg',\n",
       " 'test\\\\13c934e05be4dd354f38d5629b018e4d.jpg',\n",
       " 'test\\\\13cacb82b004ab4cea9089f6d4c8c1f8.jpg',\n",
       " 'test\\\\13d1b247882324ade5e27cb5823168ce.jpg',\n",
       " 'test\\\\13d5a20150da14ea69691b6ea5f6c3a6.jpg',\n",
       " 'test\\\\13e02a9c5f7b5bdb41e411db08ddff84.jpg',\n",
       " 'test\\\\13ec51946b9a3f74ec17944d1abbe03a.jpg',\n",
       " 'test\\\\140003c8b1001ebe59fe2fb402fe87b9.jpg',\n",
       " 'test\\\\14023c5f36dd6f539da21a4b7f531c87.jpg',\n",
       " 'test\\\\140aad5e4fdb1e38804eb7dad2e90f0f.jpg',\n",
       " 'test\\\\140c9ca3949af5c5de21b4c0b0bec912.jpg',\n",
       " 'test\\\\141033b04dbdf2810f6873362e68a546.jpg',\n",
       " 'test\\\\141701ee53250dbfda764f09e4d0b498.jpg',\n",
       " 'test\\\\141b3e3b6e054b5e56fa261e56c07a0b.jpg',\n",
       " 'test\\\\1436fbc8f4ee0448dc3f2c4f2f450d95.jpg',\n",
       " 'test\\\\144be2aeb87e1213b37551154d312086.jpg',\n",
       " 'test\\\\145a20637bd75bd40e39cfa58940c008.jpg',\n",
       " 'test\\\\1460eaa499cb0d959b1447297fe59e33.jpg',\n",
       " 'test\\\\1461a38b872613aa02dbc798423cce11.jpg',\n",
       " 'test\\\\1475726cec1df287c40f50dd8f3866f5.jpg',\n",
       " 'test\\\\14762c3e8627424238fb703b0cd75209.jpg',\n",
       " 'test\\\\1477fccb6f5105178b8a4959217a35a0.jpg',\n",
       " 'test\\\\147cc0c6fb9aacd6ed5160e1e5ecd2e2.jpg',\n",
       " 'test\\\\147d314b82bd27dfc9ac3eb225755e39.jpg',\n",
       " 'test\\\\14800414cadc5a5225cfc88a0ad0df5f.jpg',\n",
       " 'test\\\\14833d001f5d9d9d1c52a16365c17b93.jpg',\n",
       " 'test\\\\148693d2fbe9ed330f88b84805fe7d44.jpg',\n",
       " 'test\\\\14943bfb282714c8c96dfe12c4101bc5.jpg',\n",
       " 'test\\\\149e9d3008eb45be7b0b57c19065d57b.jpg',\n",
       " 'test\\\\14a30d933028439c3d5c72aa442a8549.jpg',\n",
       " 'test\\\\14abd447d80c2b8e22faf33dddd3b9d5.jpg',\n",
       " 'test\\\\14c4e1ab76cf430c499e8509ca488f54.jpg',\n",
       " 'test\\\\14cb043bce71e268d3afd06e6dd6e1fd.jpg',\n",
       " 'test\\\\14db47f1cef6503784fd7f6b09b106a8.jpg',\n",
       " 'test\\\\14f0fa909920cc3feb6f0868f38b685b.jpg',\n",
       " 'test\\\\150a9a1694ef0ba0dc9ee5466185dbe0.jpg',\n",
       " 'test\\\\150e417e9553e535eb079c8a29cb03b7.jpg',\n",
       " 'test\\\\15120767b40b12ccc180202acd5b968a.jpg',\n",
       " 'test\\\\1512dae100faa6b917cea7a598af5690.jpg',\n",
       " 'test\\\\151cd0f77aa7639085f8fdc6164b578e.jpg',\n",
       " 'test\\\\152a4bd89a501352b76a8d2ec2d603bf.jpg',\n",
       " 'test\\\\152ab9559e71d070dda655e84b0e73d8.jpg',\n",
       " 'test\\\\15347c2376a68c021d63a3ccce765d94.jpg',\n",
       " 'test\\\\1539514ff1567b9d7a6da8edc1c5d992.jpg',\n",
       " 'test\\\\1539c7ceb89922ba1376c3c0bf2a295f.jpg',\n",
       " 'test\\\\153a5896b15f08b9958895743d19f664.jpg',\n",
       " 'test\\\\154824919ae85da2be304f56c948f553.jpg',\n",
       " 'test\\\\154f7303907f0b7608dd9edaeb8d6342.jpg',\n",
       " 'test\\\\15515c8f78cd413805bb7f98233d23b4.jpg',\n",
       " 'test\\\\1564c2c2b4f3e985ba46621499d914d9.jpg',\n",
       " 'test\\\\1565290913ebcff0954d9ff358dbc375.jpg',\n",
       " 'test\\\\156703ddb27cec5de033ec6d6bb688f4.jpg',\n",
       " 'test\\\\1567dc990ef4f04dee83ee29f429e0aa.jpg',\n",
       " 'test\\\\1582f0a19f7c129f7bf258c87dd177bd.jpg',\n",
       " 'test\\\\158861bb7ce2aa0e4deac529e3de7c8d.jpg',\n",
       " 'test\\\\15888a6c2730f0f814c3f62e9b45c637.jpg',\n",
       " 'test\\\\158dcc23eb00b13874b0de3092788130.jpg',\n",
       " 'test\\\\1595ed4372d33dbecabbfd411c6c8f46.jpg',\n",
       " 'test\\\\15989ca65152308235a73a8ea9490ec8.jpg',\n",
       " 'test\\\\159ba4b9bfa1f259ab6ebf50a09da952.jpg',\n",
       " 'test\\\\159f8c1a86b05e28f7f9ce79a172d7ab.jpg',\n",
       " 'test\\\\15db23a783eb20ad2b9774d2cc49c3be.jpg',\n",
       " 'test\\\\15deebb449a7eca786d9707c0cfac21e.jpg',\n",
       " 'test\\\\15f5431180d5ab3236c58f89d80cdbd9.jpg',\n",
       " 'test\\\\16058bb60c3aaceca55c7d459852d9b7.jpg',\n",
       " 'test\\\\16066d9d0453d5e41c47705025023706.jpg',\n",
       " 'test\\\\16203d0b01bb1e2df8b627cd08cc9d44.jpg',\n",
       " 'test\\\\162655ab7f6b76ff08c6790232eb9ce9.jpg',\n",
       " 'test\\\\162a89b8c5de96ac5fae28bcab45b1a3.jpg',\n",
       " 'test\\\\163a9ea711173ea8cde8027015fa5b8e.jpg',\n",
       " 'test\\\\16487a97c49ea634d2d1a59ac4c98dfc.jpg',\n",
       " 'test\\\\164ce561a9eac244e97eefef06bf29c5.jpg',\n",
       " 'test\\\\1666ba51af756693678da9efc443ef44.jpg',\n",
       " 'test\\\\166f796dd739b4612ac7de4d760bb712.jpg',\n",
       " 'test\\\\1676f8933ed2635edd2fcf92b76d4066.jpg',\n",
       " 'test\\\\167801ebcbcc7fa238fe2c62900c6f8a.jpg',\n",
       " 'test\\\\16817cf69d3740d49c68bac66397c7e3.jpg',\n",
       " 'test\\\\1681f47bd5f4a89f10395c5b75c76fa6.jpg',\n",
       " 'test\\\\1681ffc6e046c7af98c9e6c232a3fe0a.jpg',\n",
       " 'test\\\\16856cc9a870df9d8e450a0d96e112aa.jpg',\n",
       " 'test\\\\169a4fa63895b1419bb0f63b09c9022c.jpg',\n",
       " 'test\\\\169be914e1ef93f81d18e26b44100887.jpg',\n",
       " 'test\\\\169c3d1a8d44b218ea02407da9d18f29.jpg',\n",
       " 'test\\\\169c7a31eb0d6b96e4eae21bec189582.jpg',\n",
       " 'test\\\\169ea42279045251a3ae8a15ae249e39.jpg',\n",
       " 'test\\\\16a42de533d0166721a72f631f5c6f43.jpg',\n",
       " 'test\\\\16aa58d0ef425e3865a2c51d1f5c0fd3.jpg',\n",
       " 'test\\\\16b41a8dee51a47cf362ec449b2a4ab0.jpg',\n",
       " 'test\\\\16b4876738963fc2fa321b1cfe86d7b5.jpg',\n",
       " 'test\\\\16c3bcd09c845ece82474d4126c59c06.jpg',\n",
       " 'test\\\\16d0afd1232c0588a9b10820775eeecf.jpg',\n",
       " 'test\\\\16e0e49c4411f43fe3ecc3ac5f98a9ee.jpg',\n",
       " 'test\\\\16f91630dda3ffce2bf89227b20571f6.jpg',\n",
       " 'test\\\\1707d9bba29e31f5068bd58e6c207efa.jpg',\n",
       " 'test\\\\1711d978a8dd27848c9eeaecb28363dd.jpg',\n",
       " 'test\\\\171e1cf0083aff4af17b9756f2067f1f.jpg',\n",
       " 'test\\\\17240404cc21fa5bd98a4a03b059f656.jpg',\n",
       " 'test\\\\172859324c8266ac9d89d2896406f01f.jpg',\n",
       " 'test\\\\174dd930129aabe1739c4ceb4aee97b8.jpg',\n",
       " 'test\\\\17536ccbe836e9925123bcb6f1dae7a0.jpg',\n",
       " 'test\\\\175b6d3035eaaf10bcc78b54ab021ecf.jpg',\n",
       " 'test\\\\175f11e55bc79c85bb6b265f617ed0e6.jpg',\n",
       " 'test\\\\1768c6f1ee92b5eb45395c82935ec184.jpg',\n",
       " 'test\\\\176dd19fb67ce4efe90a6227d99cc1dc.jpg',\n",
       " 'test\\\\176f5a715f15b395ab3e050026593792.jpg',\n",
       " 'test\\\\1777fbfcbe7030046404dbacf4921056.jpg',\n",
       " 'test\\\\179b7f2f1bcb465615bdbb4c24af6113.jpg',\n",
       " 'test\\\\17a8d138548573e5e82313d9b8e1991f.jpg',\n",
       " 'test\\\\17bc2c55ee8c88e2d941edd435077306.jpg',\n",
       " 'test\\\\17ce6040ac834fd23bf1ec78ec3c13d2.jpg',\n",
       " 'test\\\\17db9e9de5b1f7a163da3408c5c399c3.jpg',\n",
       " 'test\\\\17dc36a4f4ed46ce5398bb9b8ef02b5f.jpg',\n",
       " 'test\\\\17dcaf22ffd8ba3b6d14a327e3c819f6.jpg',\n",
       " 'test\\\\17e59415a8aa333328d0fc96172e7f6c.jpg',\n",
       " 'test\\\\17e923956d12089573df0054d4010e41.jpg',\n",
       " 'test\\\\17ef7f5a8eae5baa85124590796eac2a.jpg',\n",
       " 'test\\\\17fb28e2c411acb7bfd6e3eaab34685f.jpg',\n",
       " 'test\\\\180d01d8af026c6d9d00f2e46c8133ae.jpg',\n",
       " 'test\\\\180e9f0f5b0454091381322ce8188290.jpg',\n",
       " 'test\\\\1811c4409cde6dc895b7d64dc955f8a5.jpg',\n",
       " 'test\\\\182003cfb77e935f7d5337cb67f9992d.jpg',\n",
       " 'test\\\\18412ecf95f7d37728e82f88932e60e8.jpg',\n",
       " 'test\\\\18413bfe5a3f3e07d27140cb4c995480.jpg',\n",
       " 'test\\\\18446ba7b1c3243e92cffd5be52f605c.jpg',\n",
       " 'test\\\\18449c1cf0be942485227a9a3007ae3f.jpg',\n",
       " 'test\\\\1844e4c83466e17b5d21fec7048724cb.jpg',\n",
       " 'test\\\\18478ddc73e028d1a1034c7a45d4059d.jpg',\n",
       " 'test\\\\18532bc27a6d0133fd23067bef3f7e83.jpg',\n",
       " 'test\\\\186129784bd76837125350e15ff96118.jpg',\n",
       " 'test\\\\186ed9e814131abf9b1ed68b4bf02fe4.jpg',\n",
       " 'test\\\\1885ba34235a7d9cb3fd0fa831d05642.jpg',\n",
       " 'test\\\\1888143c4c695a0a8562259829f961ad.jpg',\n",
       " 'test\\\\188820da4e3ffe520816516c8169808b.jpg',\n",
       " 'test\\\\18977c54e56747e7817c63b7aa8d682c.jpg',\n",
       " 'test\\\\1898fa3f1ed834d92efe626d16a85c70.jpg',\n",
       " 'test\\\\189a804eaa46ce838e487ab062642981.jpg',\n",
       " 'test\\\\189d11bfa9e2c475721c8d91cfd8c2fd.jpg',\n",
       " 'test\\\\189e08a8b26252fba660d1ea603e67a2.jpg',\n",
       " 'test\\\\18ac3b6c288b80857b79f6fae12574ef.jpg',\n",
       " 'test\\\\18b58ae090fcb592dd07f1aefc73cd88.jpg',\n",
       " 'test\\\\18b77975210f1e67cdeedc23056261f5.jpg',\n",
       " 'test\\\\18c9ba1ed42332c6fe777b552d72b189.jpg',\n",
       " 'test\\\\18ca200446f6cf3c3815a7864aaa00c0.jpg',\n",
       " 'test\\\\18d2bb7d385394edc67212b4035cb922.jpg',\n",
       " 'test\\\\18d34e4b616fcf95b202ef6d0479f373.jpg',\n",
       " 'test\\\\18ed71dfb57d0b80d5bf2d298ecb554e.jpg',\n",
       " 'test\\\\18f3957081340ee72e67be8d474ed432.jpg',\n",
       " 'test\\\\18f9ee30fc72c44bae7de72112aa18fd.jpg',\n",
       " 'test\\\\19050ac771e0f176ae4d4a368bd19c1a.jpg',\n",
       " 'test\\\\19073169626626c88ef9b07eef21d050.jpg',\n",
       " 'test\\\\1910ed19eb4cb4bbe59739a893164ea0.jpg',\n",
       " 'test\\\\1917beba4a7a00a39b151f0d9434aac7.jpg',\n",
       " 'test\\\\1922467925a9f5bc1e278f64c08ebffa.jpg',\n",
       " 'test\\\\1922bbf926c7d759b5ec5065efd0f2e6.jpg',\n",
       " 'test\\\\193c3cd73aaf94eaa8a698b6b7b23aef.jpg',\n",
       " 'test\\\\194044d01a221681855d8c11eaf72093.jpg',\n",
       " 'test\\\\19553c49e27b9ad9185e83f6b2231d47.jpg',\n",
       " 'test\\\\19595d8ccd9eee2a2401cce46a41e92d.jpg',\n",
       " 'test\\\\196596938f37495545b50f50fc012de0.jpg',\n",
       " 'test\\\\197e776b59675275bd01610dfe414e50.jpg',\n",
       " 'test\\\\199b627f2b48d54ae6ea5b18f52a1720.jpg',\n",
       " 'test\\\\19a167cbf43523d7a0d6175b8fd7f0d4.jpg',\n",
       " 'test\\\\19a2e4dbb2b0ecb9947f011a942a2f80.jpg',\n",
       " 'test\\\\19b1d080e9b290e1820d891a8183cb2e.jpg',\n",
       " 'test\\\\19b2c0e4a06eccfb9d29f54f3992ad2e.jpg',\n",
       " 'test\\\\19c55b6aa760d80b828127613ebdd257.jpg',\n",
       " 'test\\\\19e16496e9d26d9fa5825311088e8b02.jpg',\n",
       " 'test\\\\19e2a53aa53c97e3dda25a7c4f78b43a.jpg',\n",
       " 'test\\\\1a0274f3989ba1487da15435cb106e05.jpg',\n",
       " 'test\\\\1a0af0938775ea6fb9c06b98ecc01c71.jpg',\n",
       " 'test\\\\1a160c41933fc7a71abdde7c909718e9.jpg',\n",
       " 'test\\\\1a61157bb9a9350a16ac7ad2642f83e8.jpg',\n",
       " 'test\\\\1a642d6514e6c7da6bcd1e71f821e5e1.jpg',\n",
       " 'test\\\\1a6514b5e65eeab78790c78c5cdd5953.jpg',\n",
       " 'test\\\\1a6bf84723f4e07dc1f35f162acec19b.jpg',\n",
       " 'test\\\\1a6d7ca66c730e4183bc52a02cdda4f2.jpg',\n",
       " 'test\\\\1a6dba104399834dafdd18933221d5e3.jpg',\n",
       " 'test\\\\1a76a8215b77d2ccc163ffc6ca3715a6.jpg',\n",
       " 'test\\\\1a7c3b4c28eb0673aa12037a2b9739f0.jpg',\n",
       " 'test\\\\1a877b7b83298cdb47da75382a689f99.jpg',\n",
       " 'test\\\\1a9be2c7d2c86630b47608a9c46f25ea.jpg',\n",
       " 'test\\\\1a9f6d593f1d125c46f25dfbd8f5a113.jpg',\n",
       " 'test\\\\1ab45e82dbc93f84308d3cd27871ee59.jpg',\n",
       " 'test\\\\1abb17feb041b691d63d02523fabfa77.jpg',\n",
       " 'test\\\\1abeaa026f91df513620f598c3211dc5.jpg',\n",
       " 'test\\\\1acbdaa4dd25ee28d6ca60bed2f96e50.jpg',\n",
       " 'test\\\\1adcb05e97a9d3de3c80d399692829b7.jpg',\n",
       " 'test\\\\1ae17d4009cce51ba79fbfebd9b8a513.jpg',\n",
       " 'test\\\\1af01eba17fc3edfe5b12cd17be43a9e.jpg',\n",
       " 'test\\\\1af20a0c7eb9e8ba7584bdbb5c696dca.jpg',\n",
       " 'test\\\\1af2a620a3f29a6c02b308666b3333b1.jpg',\n",
       " 'test\\\\1b009825e657042a39336ca794c82170.jpg',\n",
       " 'test\\\\1b09d4b3b183d0e78c9627ba6b0f925e.jpg',\n",
       " 'test\\\\1b11bdd8a83ad201adc04ecd58d3f167.jpg',\n",
       " 'test\\\\1b19271d76c6a747fc9557557de07aa2.jpg',\n",
       " 'test\\\\1b23388abce35c949c9031f769269c6e.jpg',\n",
       " 'test\\\\1b24073ea1495dac6239250e6e543e8f.jpg',\n",
       " 'test\\\\1b2929e82b50f19532abc0df4e26d1ef.jpg',\n",
       " 'test\\\\1b6366f4b177f07c718aca5caa0cbd6d.jpg',\n",
       " 'test\\\\1b6f93de89d8e595db772736b7e24073.jpg',\n",
       " 'test\\\\1b7561c719e7212ed647ccdb504e7fe8.jpg',\n",
       " 'test\\\\1b7807d214ce793eb85331415a396779.jpg',\n",
       " 'test\\\\1b796e6a40cb110ddaa47eec086a1164.jpg',\n",
       " 'test\\\\1b84c35ce6ed901573051ec6808427d1.jpg',\n",
       " 'test\\\\1b9566a98c65d8ca35271032fa35fed1.jpg',\n",
       " 'test\\\\1b97a2326088aebd470fedcb06013829.jpg',\n",
       " 'test\\\\1bb3f933f0b35c7a3787cb2fb44beba4.jpg',\n",
       " 'test\\\\1bbd2f00a8506a80154d41bacb24131d.jpg',\n",
       " 'test\\\\1bbdb400783d6f6533ce14b2184e5b3f.jpg',\n",
       " 'test\\\\1bc1304a923b500a02ea8588f8ada774.jpg',\n",
       " 'test\\\\1bc869006b65fb633facc11227d087f4.jpg',\n",
       " 'test\\\\1bcab5399c50035a7264016551e5e39c.jpg',\n",
       " 'test\\\\1bd0e113496a02407d10c4a46a22a803.jpg',\n",
       " 'test\\\\1bdb69441007767c3b7bc5e99336d8d3.jpg',\n",
       " 'test\\\\1bdda85b4c4b4e911b963f3c16e492aa.jpg',\n",
       " 'test\\\\1be6d5a75628f844ae5b8e4bcc5942df.jpg',\n",
       " 'test\\\\1bf37c0336c12ccaa1c62386acacc858.jpg',\n",
       " 'test\\\\1bfac55f37835bdd353e49156690f8b3.jpg',\n",
       " 'test\\\\1bfdf5e2f2f273e49a2ab324a4bb657a.jpg',\n",
       " 'test\\\\1c13dbf04c6fea859d48bd666617b47e.jpg',\n",
       " 'test\\\\1c156ff4bd48cf9e0d63f85758d99760.jpg',\n",
       " 'test\\\\1c1ab8ffd20a2b27f9be0251b597042f.jpg',\n",
       " 'test\\\\1c3f6667d880bbd0aca1bcb95a12e185.jpg',\n",
       " 'test\\\\1c425d1815aa79785eeecbe7a12b59e9.jpg',\n",
       " 'test\\\\1c527950e47b9266eef36b4037e02eb7.jpg',\n",
       " 'test\\\\1c58975d8f66c90ab328a00e19c5ac2a.jpg',\n",
       " 'test\\\\1c6271e6c8d2a68dd7696be2073ffbf7.jpg',\n",
       " 'test\\\\1c6ba5bacfc45a6a7e036c360efe7991.jpg',\n",
       " 'test\\\\1c6e6f0781e11d4c37da19db8dde49d5.jpg',\n",
       " 'test\\\\1c7345950eadd220fc6725d87e5e5040.jpg',\n",
       " 'test\\\\1c73c5a8c2f6b66e8afcd7753288dcb1.jpg',\n",
       " 'test\\\\1c792d81049812afff544b4741401b78.jpg',\n",
       " 'test\\\\1c920801aa88d000ce966facc8ba734a.jpg',\n",
       " 'test\\\\1c94f1009ff65c0a499040c0d1ae082f.jpg',\n",
       " 'test\\\\1c95eb40a91846c83c141c846892cb4b.jpg',\n",
       " 'test\\\\1c97f8134f4b574cae11451e9e822ce8.jpg',\n",
       " 'test\\\\1c9bfae4976829d8d07f695eef28c8fe.jpg',\n",
       " 'test\\\\1c9c0d4edf2eea0b012f850896d28cea.jpg',\n",
       " 'test\\\\1c9e99e48a495fe81d388fdb4900e59f.jpg',\n",
       " 'test\\\\1cacfe3322587a288b1a51c65ea44a5b.jpg',\n",
       " 'test\\\\1cb31ca502386a11a3e97a60042e6d77.jpg',\n",
       " 'test\\\\1cb5fbb6404db6deba56350d2e12607b.jpg',\n",
       " 'test\\\\1cd1bc72442bd3359f7ebf04ba8cb84f.jpg',\n",
       " 'test\\\\1d01418de3e11d379f47620329d14dc6.jpg',\n",
       " 'test\\\\1d05a99eea7a550248bc8ca0770b2d7e.jpg',\n",
       " 'test\\\\1d0ba84a212e3f9198ae7e3958d30f48.jpg',\n",
       " 'test\\\\1d108b60143a93024b35da4bed9e191e.jpg',\n",
       " 'test\\\\1d18bba1b7d68191d60aab004b396c80.jpg',\n",
       " 'test\\\\1d1b30472362243ed74dc7df7e0e69bb.jpg',\n",
       " 'test\\\\1d2cc3db4ca2aa2a13600852ba990b7d.jpg',\n",
       " 'test\\\\1d45a657643f86f803afec4c38b6a13d.jpg',\n",
       " 'test\\\\1d4e998e3512562a01b307cb95947ef9.jpg',\n",
       " 'test\\\\1d68033e57401a5647888e4b547f9b85.jpg',\n",
       " 'test\\\\1d8109606a8d7e6a5f542b2517e0dcc7.jpg',\n",
       " 'test\\\\1d96fe57e161349c97daa2a05b0fd74b.jpg',\n",
       " 'test\\\\1d9bd73b5513399348a74640831eb8e3.jpg',\n",
       " 'test\\\\1d9ddefeb8903ed5223c2cccbd262917.jpg',\n",
       " 'test\\\\1da21f2470813ace46e1bc7bae8e07db.jpg',\n",
       " 'test\\\\1da3543de618fa161d2e84443171dcbb.jpg',\n",
       " 'test\\\\1db1bd9f0f3d2c261347ca9b278351e8.jpg',\n",
       " 'test\\\\1db67f324f50a9597042bc2418eaddbc.jpg',\n",
       " 'test\\\\1dc439aca90bbdf4c4c9a31543252fe3.jpg',\n",
       " 'test\\\\1dd363281981c97c14f7d2473f09eff8.jpg',\n",
       " 'test\\\\1dd69f505b6b0a993b58a03ae51ada0c.jpg',\n",
       " 'test\\\\1dded778a001b2d236e7cb387a7f4f99.jpg',\n",
       " 'test\\\\1de0748288a8e51eb42d94e86305a913.jpg',\n",
       " 'test\\\\1e0a569975733aceeeb6bc41d73f49c0.jpg',\n",
       " 'test\\\\1e0c07385523246c460d1525edbb97e5.jpg',\n",
       " 'test\\\\1e0edd50013bc785e4f3c251f563d466.jpg',\n",
       " 'test\\\\1e0f9ee823d59986522323b7f5b9cd65.jpg',\n",
       " 'test\\\\1e14f41894502ffef8f072c4bb96b6f3.jpg',\n",
       " 'test\\\\1e196d66525db672f694a5edaffcdc04.jpg',\n",
       " 'test\\\\1e2516c7ea7924176b4f723ba88d7b75.jpg',\n",
       " 'test\\\\1e2c4b42471371ec752d3b41dff1cef8.jpg',\n",
       " 'test\\\\1e3093c3dbb5c136c34f0d070fb08eea.jpg',\n",
       " 'test\\\\1e50d8c9ce91b1245201ac0097987478.jpg',\n",
       " 'test\\\\1e5d9500f9021b59a40234cb07412a23.jpg',\n",
       " 'test\\\\1e73bd3f51f2e7b9e90d899afa16d6bd.jpg',\n",
       " 'test\\\\1e8c5733578c5d295a9c7c4bd0f4d447.jpg',\n",
       " 'test\\\\1e8c687e17bd3c87eb9ea8bf10c55a28.jpg',\n",
       " 'test\\\\1ea3b76135bb4a589027d6243075a936.jpg',\n",
       " 'test\\\\1ea4df53ae102bf2c24130e679b66d2d.jpg',\n",
       " 'test\\\\1ea5ae4f1cf7d4daacd3ddfa53d15d48.jpg',\n",
       " 'test\\\\1eaad3aef9da154260d08d8c9fc41dc0.jpg',\n",
       " 'test\\\\1ead6762955392f68a8fc7d87dfb59dc.jpg',\n",
       " 'test\\\\1eb29d02e82d0f5ef507ebd70d6eaa56.jpg',\n",
       " 'test\\\\1ec303df328f9ab7aa905fecf210c0d2.jpg',\n",
       " 'test\\\\1ecb98b527529a503d856491cece5bf9.jpg',\n",
       " 'test\\\\1ed251c2edd6edaf8bd3ca5445ebc651.jpg',\n",
       " 'test\\\\1ee8979b22bbbb46dd05abeb8cfd6127.jpg',\n",
       " 'test\\\\1eea9b695b880d866baa674a989b8daf.jpg',\n",
       " 'test\\\\1ef0dd39f3e292cb93ad6ffaebe33c83.jpg',\n",
       " 'test\\\\1ef1aaf8fbe3ad9100e6af91ce2813e1.jpg',\n",
       " 'test\\\\1ef5e829303a139ce967440e0cdca10c.jpg',\n",
       " 'test\\\\1efda054ad869e12d70819dd7a3a7edc.jpg',\n",
       " 'test\\\\1f04a44605cb42e2b6b8b84e8f43b18d.jpg',\n",
       " 'test\\\\1f1f07f8c5a03ace7a6425a19b8a632a.jpg',\n",
       " 'test\\\\1f393e41d5b1331db119f35a14de6094.jpg',\n",
       " 'test\\\\1f59669b5708cfc7264e2958bc2ae505.jpg',\n",
       " 'test\\\\1f5a33d40f2ae9c9e7fc37e677a89258.jpg',\n",
       " 'test\\\\1f5ebe8a949ae06911f0e486689f19e1.jpg',\n",
       " 'test\\\\1f676ebf223bb966f989ed84c639369f.jpg',\n",
       " 'test\\\\1f68db919171071beba52af97403e158.jpg',\n",
       " 'test\\\\1f6f075c17ff27e20663bd2d98515458.jpg',\n",
       " 'test\\\\1f7234059dbdcaffd22e8c0645b45993.jpg',\n",
       " 'test\\\\1f7865cf08541f3e4a0de5f2e88150de.jpg',\n",
       " 'test\\\\1f78af7f304372bec2e848bb0d30297c.jpg',\n",
       " 'test\\\\1f8dc9e63e9bf7f1ed20b99b444945aa.jpg',\n",
       " 'test\\\\1f8e1bd743b64cab67076d64d359d4f1.jpg',\n",
       " 'test\\\\1fb20e4a02ba1ad84aca9d99fb1921cc.jpg',\n",
       " 'test\\\\1fb6eda4b95a848e9134bac9e806e151.jpg',\n",
       " 'test\\\\1fbc75414c4f91b3a004754d92768f69.jpg',\n",
       " 'test\\\\1fbebb0d852b8f4cadcece4ef64beb46.jpg',\n",
       " 'test\\\\1fe40fda3c18616bcb17ac8d690b4fb4.jpg',\n",
       " 'test\\\\1fecf932c64b45cdc3b2a68b543020cf.jpg',\n",
       " 'test\\\\1ff29c3655904086ee5fd8a998dcf491.jpg',\n",
       " 'test\\\\20059d007362aedb8bac5d3ba0a01eda.jpg',\n",
       " 'test\\\\200734e955235dd039cb04d742373188.jpg',\n",
       " 'test\\\\201a283953dd776219032893ad92dc2b.jpg',\n",
       " 'test\\\\201ba3b89d3cd89005336b7fd14b410e.jpg',\n",
       " 'test\\\\20232394774cf1efcb5625627ca3a35c.jpg',\n",
       " 'test\\\\202da7f89848920a7d843bd99763c769.jpg',\n",
       " 'test\\\\203768ce527e10bf6e6874d1fbf25dc6.jpg',\n",
       " 'test\\\\2038a7e3d45d427d54386f196fb20a1e.jpg',\n",
       " 'test\\\\203acec05476bb39b6106b731b5f68bf.jpg',\n",
       " 'test\\\\203f65d54bb0156b60af3dde4eef1f37.jpg',\n",
       " 'test\\\\20509c26c1dd210a110304f2fb775a69.jpg',\n",
       " 'test\\\\20541a3f7ee7d4c18f83aa189a1d8f31.jpg',\n",
       " 'test\\\\2072cdb4b6dfb000fb7a3693e42ef113.jpg',\n",
       " 'test\\\\207733ad7a406e5f068356ee7312a98d.jpg',\n",
       " 'test\\\\2084edb55d944a7176eea2fec2de018c.jpg',\n",
       " 'test\\\\208cb66c32d678731d41ef441ce69384.jpg',\n",
       " 'test\\\\208ef5a11813583fe2dee80995713af0.jpg',\n",
       " 'test\\\\209b13be674414b269105145c4da872d.jpg',\n",
       " 'test\\\\20a5e5cd43e2adf340eba73485533448.jpg',\n",
       " 'test\\\\20a8dd2cfd38e619d65b917e39332585.jpg',\n",
       " 'test\\\\20ab4748ba537536027813d9dbacaefb.jpg',\n",
       " 'test\\\\20b10089e460cd06f791c0ab6c67f828.jpg',\n",
       " 'test\\\\20b11624137ae4e6218a7d6c136cbb34.jpg',\n",
       " 'test\\\\20bb1f69b2219755c7afc1f6bd35445b.jpg',\n",
       " 'test\\\\20cf240f2b0a14c1dc1e474a74cf7985.jpg',\n",
       " 'test\\\\20fb13ef8b1ea0d3ff853e4e8c086406.jpg',\n",
       " 'test\\\\212410430aa1e2c6be13d50f0e2e7711.jpg',\n",
       " 'test\\\\21298896b9db82c33dd2c42e5126c4de.jpg',\n",
       " 'test\\\\213581ea1c4e2fa86e66227673da9542.jpg',\n",
       " 'test\\\\2137363a8eb7a264d120a221e4b61ec8.jpg',\n",
       " 'test\\\\213e635dac590095b5681a944a5713a2.jpg',\n",
       " 'test\\\\213eee25ae2e5dcaef794216f7e8eca1.jpg',\n",
       " 'test\\\\2144fc44054b35e46b439208aaf61a5a.jpg',\n",
       " 'test\\\\214a5891e06c2c9ebbb41fad5dc1d56a.jpg',\n",
       " 'test\\\\214b9254f3319ddb5c6bfb6dfca59d25.jpg',\n",
       " 'test\\\\214d620bffd5db90ae6bc066d36ff631.jpg',\n",
       " 'test\\\\214f73fb2f6115104f8f8362175849cf.jpg',\n",
       " 'test\\\\21508f4c51869fe0cfd6981e707a51e6.jpg',\n",
       " 'test\\\\21647460339a423fad82d022a93529f1.jpg',\n",
       " 'test\\\\21656c972faf3b0f0383e7557711aba1.jpg',\n",
       " 'test\\\\216edc0b2870bb2d1dfe1d1ce788c5e9.jpg',\n",
       " 'test\\\\216ee5e61dc704642ab4c3ad81bebf68.jpg',\n",
       " 'test\\\\217ff5303b54dbe5494cc077e82031e7.jpg',\n",
       " 'test\\\\2199d3381c925a326f5e84d81a3821a6.jpg',\n",
       " 'test\\\\21b9f9b8a6d5dba96e74dc7504404ee1.jpg',\n",
       " 'test\\\\21be2f301d9bc589d6b1cf4307cf8220.jpg',\n",
       " 'test\\\\21c796234fb976c9e79b168a4b44d452.jpg',\n",
       " 'test\\\\21ca42a5fec523a4e87a0c7e815686e2.jpg',\n",
       " 'test\\\\21d8886058877dbdc2347ee4e680db91.jpg',\n",
       " 'test\\\\21dbd8c4b6579142d79cec22c430c1db.jpg',\n",
       " 'test\\\\21e2e8fe686ed0003b67d698b1273481.jpg',\n",
       " 'test\\\\21e606c8e5804570993af8d8c9962664.jpg',\n",
       " 'test\\\\21f03fa0da2962cbad1eaf591ff1a5ed.jpg',\n",
       " 'test\\\\21fdbee864aba74b6f575b5fa44d5145.jpg',\n",
       " 'test\\\\21ff8fd6ed7dd5c42ceac626bb9798cf.jpg',\n",
       " 'test\\\\22031453e4c3a1a0d47b0b97d83d8984.jpg',\n",
       " 'test\\\\220dbf9d880c3b34aef2277f485415b6.jpg',\n",
       " 'test\\\\2210141fb041de046904cdf9c6ec2c76.jpg',\n",
       " 'test\\\\22138b2d168a141da030b9466d57b458.jpg',\n",
       " 'test\\\\22178f36fcbd8297485901e3407672c2.jpg',\n",
       " 'test\\\\2218fc669ce42603c72d860c7cc31c8b.jpg',\n",
       " 'test\\\\221c907a01c711a47c5c453f8ca4eeb8.jpg',\n",
       " 'test\\\\222e81571750ea74d5c3386ade47b301.jpg',\n",
       " 'test\\\\222f7d881ded1871724a1b9a1cb94247.jpg',\n",
       " 'test\\\\22313b7d41870793cfe0b23df8f8b5df.jpg',\n",
       " 'test\\\\224221b2a3690e8d185ebd700832ce15.jpg',\n",
       " 'test\\\\2246fef142e44c0a9f8c423deb628649.jpg',\n",
       " 'test\\\\224b51745317978caf9dbf62d2b1a864.jpg',\n",
       " 'test\\\\224fcd54824e620824a213ebfd6a7a52.jpg',\n",
       " 'test\\\\22577911e88af39f79409e6de8eed4d9.jpg',\n",
       " 'test\\\\225a3ec167ae783c06775d880cdbcd37.jpg',\n",
       " 'test\\\\22635bd9d034555716c88984c32b38c1.jpg',\n",
       " 'test\\\\226390677978ff7ea026f77ba61250df.jpg',\n",
       " 'test\\\\2267c072668a52c5f0f39b697c29b0d8.jpg',\n",
       " 'test\\\\226f3ee804523ef3e9f12482e2af755e.jpg',\n",
       " 'test\\\\2273d37537fb65685a23697cfc2592ae.jpg',\n",
       " 'test\\\\227ab21f84456d3c2b28194d9398a148.jpg',\n",
       " 'test\\\\227fd460860a3ad1fd2b245793c07f95.jpg',\n",
       " 'test\\\\228986f7f20e5e8b83857856b0ef951f.jpg',\n",
       " 'test\\\\228b12b981f35384e3ed4795d41e0bf2.jpg',\n",
       " 'test\\\\228b6e96ea75ec9b2f5c22bb75980eb1.jpg',\n",
       " 'test\\\\228c921ccb8c0d9ef4d13a9ac67e6123.jpg',\n",
       " 'test\\\\228ee4558d3b51cfd37893cc26a91869.jpg',\n",
       " 'test\\\\229162615c683137be83b851186fd3e3.jpg',\n",
       " 'test\\\\22973ae9443fec2dc2dc1fc018bd59fa.jpg',\n",
       " 'test\\\\2298c014e7f54c8e1e29536c18e5763e.jpg',\n",
       " 'test\\\\229cd9b8c3f546ff582d3d6d8847db31.jpg',\n",
       " 'test\\\\22a4bb8d95ec8a2e7bec7dd3ac855f3d.jpg',\n",
       " 'test\\\\22a972d8da04ee4b955520d668862a55.jpg',\n",
       " 'test\\\\22b4a464e27b0aa0ba922e2ec77ce2d7.jpg',\n",
       " 'test\\\\22d01bd7273ce77926e4c8c48260fa68.jpg',\n",
       " 'test\\\\22e0412c502e998a7a89d0813bc8ba5e.jpg',\n",
       " 'test\\\\22e4a12cb9315132e09d7e7542f92c31.jpg',\n",
       " 'test\\\\22efb1bd738048dfec6491876f4f2ba9.jpg',\n",
       " 'test\\\\22f4fd2aa45de7a12c9e67bee8112fe8.jpg',\n",
       " 'test\\\\2312eed4845644b93797f086051ec26d.jpg',\n",
       " 'test\\\\231323658d79d9bdf946e1cfbe01e500.jpg',\n",
       " 'test\\\\2319ac34f4848755a639fd524038dfd3.jpg',\n",
       " 'test\\\\231d3d4a81a574b8bcdceaab7c948a40.jpg',\n",
       " 'test\\\\2345c8d88a889193de2de4981c75b2d9.jpg',\n",
       " 'test\\\\234c58fcbf2775edbfda910d2e0cb945.jpg',\n",
       " 'test\\\\23579905b2eea06d0d4625e2472774b3.jpg',\n",
       " 'test\\\\235cc3334a864c7c85175759d012d328.jpg',\n",
       " 'test\\\\2362c303a313705adb0f1cd07c644a05.jpg',\n",
       " 'test\\\\23767199512e559bc0ad8c024ce107e5.jpg',\n",
       " 'test\\\\23779ec1adf611cc8fd650412f38a1b6.jpg',\n",
       " 'test\\\\237f1f75eaefc22a05a789a438066b9c.jpg',\n",
       " 'test\\\\238e1bfa9876dee0587dc550b951a05d.jpg',\n",
       " 'test\\\\239032cd3b998fe22541f8211b0c8236.jpg',\n",
       " 'test\\\\2390db8b6d3fc293fbfbd6736f5fb75d.jpg',\n",
       " 'test\\\\23965c5c7149ff06a4048225d2e949ff.jpg',\n",
       " 'test\\\\23a27438396adfac89584ea7f650856b.jpg',\n",
       " 'test\\\\23a6fa3f18df1988cd13a8aba45d6e39.jpg',\n",
       " 'test\\\\23a82a2f31e8308d61f65ad4d9f432b3.jpg',\n",
       " 'test\\\\23a8949916771a0017be7efb45296106.jpg',\n",
       " 'test\\\\23b48dcc5cf711469ebbf2af0bfdd202.jpg',\n",
       " 'test\\\\23bdbc7e2b10e8c0809bf0539341386a.jpg',\n",
       " 'test\\\\23c3219302c5285d0ba89fac73488b4b.jpg',\n",
       " 'test\\\\23c4b75a013f079d2b01dd6d9cb25855.jpg',\n",
       " 'test\\\\23cba673b42651247a9430c2bd288d5a.jpg',\n",
       " 'test\\\\23ce7ad25876c5879814328761fad1e0.jpg',\n",
       " 'test\\\\23d7bbb69fe74c98ae030ff56c1a3b95.jpg',\n",
       " 'test\\\\23db060ed702e88b6fdd028990269cf7.jpg',\n",
       " 'test\\\\23e2b5421acd4e4ccfe41d1294cc9f74.jpg',\n",
       " 'test\\\\23ebb59c48c58d153fdeb8c1afe0d006.jpg',\n",
       " 'test\\\\2400ef360e7631e446ea37b6b7bd91d2.jpg',\n",
       " 'test\\\\24013e9b13b1d75b86d01ecc5a4a5671.jpg',\n",
       " 'test\\\\2403d11841084a55cbbe520adc05d127.jpg',\n",
       " 'test\\\\240c101021f4fb1f6040c0c16a555451.jpg',\n",
       " 'test\\\\24148745b07f51a794f9a999dc188cd3.jpg',\n",
       " 'test\\\\241ce60917be15ad74be2deb9bac98a8.jpg',\n",
       " 'test\\\\244078b8580750b460fedfb4cf7a506a.jpg',\n",
       " 'test\\\\2479e215b9f271ddedec6b969c2c4ca0.jpg',\n",
       " 'test\\\\247ac0eb256c3edc1ec6dc7c827d5d16.jpg',\n",
       " 'test\\\\248246f719948d37e7a0962629c9c153.jpg',\n",
       " 'test\\\\24833d9943c38948f34a45afa2d782d8.jpg',\n",
       " 'test\\\\24a92c378147afa401cd3f85b8c8382d.jpg',\n",
       " 'test\\\\24aa9b66244eb9068311d09d3300e50f.jpg',\n",
       " 'test\\\\24b2b36c07dcf50e263d4c5d632642a2.jpg',\n",
       " 'test\\\\24b55380c2a8d4bf47ca766320809ff2.jpg',\n",
       " 'test\\\\24b91882990f81c57005598d9bca7ace.jpg',\n",
       " 'test\\\\24b93228203b620dcd61ad438679f4da.jpg',\n",
       " 'test\\\\24ba9de26962d3ea3d4ff9fbc9a7d938.jpg',\n",
       " 'test\\\\24c948ff8d8534e1e8059b735e818af8.jpg',\n",
       " 'test\\\\24e45ab40025d9870ebf327d29d8b422.jpg',\n",
       " 'test\\\\24e9a6cb7da12ab663d76bdb588dcc7f.jpg',\n",
       " 'test\\\\24f9a7d5b9fec86dd43d76ac2670a697.jpg',\n",
       " 'test\\\\250920311534b6bbcf2550acb00f3143.jpg',\n",
       " 'test\\\\2518c2304a390e60d20b53b101fc0056.jpg',\n",
       " 'test\\\\251a7e1401487e69a415fde9d5128b27.jpg',\n",
       " 'test\\\\251b85bb980794946d1eef6253c6bf4b.jpg',\n",
       " 'test\\\\251fdda47501b3d27311c84a56571594.jpg',\n",
       " 'test\\\\253250ecef24e59cbe308e437e2fef34.jpg',\n",
       " 'test\\\\25365a578fb90858801b30333fed10b7.jpg',\n",
       " 'test\\\\25437ac87f8a971088771ab257687c0b.jpg',\n",
       " 'test\\\\2545788bb1d4ac5ab99547c491dff7d5.jpg',\n",
       " 'test\\\\25534a45c8a17594905c1683fd7e19bd.jpg',\n",
       " 'test\\\\255d35d56ae0ec169df044e0fedbcb28.jpg',\n",
       " 'test\\\\25650e11617f3dddf87f2a405b8cc498.jpg',\n",
       " 'test\\\\256a11059f07d76023b94558ee9c1d67.jpg',\n",
       " 'test\\\\256abfbb6883823718eaf33f62510d6a.jpg',\n",
       " 'test\\\\257136bd802adfe2d58af174b8b5c59c.jpg',\n",
       " 'test\\\\257458e813d23aaa1232b5c8eda78723.jpg',\n",
       " 'test\\\\25a27578b1d35a7bd43bf39e271546a0.jpg',\n",
       " 'test\\\\25a495be8250cc90b02a483e82df99c6.jpg',\n",
       " 'test\\\\25ab1f455d011960e05afe6647d498b3.jpg',\n",
       " 'test\\\\25ae84d81895b5101112a3f2f4404bc4.jpg',\n",
       " 'test\\\\25b8265e891d4d62452292699ef75246.jpg',\n",
       " 'test\\\\25bfff7cab839a36f3f90a1736e6ed89.jpg',\n",
       " 'test\\\\25c4e13d78e1fec8eed70c02aeeba0ed.jpg',\n",
       " 'test\\\\25caa692603cc8ec7ef77301e9687a51.jpg',\n",
       " 'test\\\\25d8e0ff43345e229ceb08c269a2fedc.jpg',\n",
       " 'test\\\\25f1e3a7c93c6c15a1a83c2cf259fba3.jpg',\n",
       " 'test\\\\25fd46485a3d30605f4b6e3da25a73e5.jpg',\n",
       " 'test\\\\25fd9e56f6a553294c2d7d70907e305b.jpg',\n",
       " 'test\\\\260b62d22ada32841d4c5934774a1b23.jpg',\n",
       " 'test\\\\26228cfcf6ff79074597ab890d05baff.jpg',\n",
       " 'test\\\\2623bf1aa00962ecdd1591c2665f1f1c.jpg',\n",
       " 'test\\\\2629c8c5a40191880e14c55e8d563a77.jpg',\n",
       " 'test\\\\26493d3184c429e7c33daf020aa62c89.jpg',\n",
       " 'test\\\\264b7d7cd04cd044fed00db0fd795a8c.jpg',\n",
       " 'test\\\\26622aad6eda367a56c0824e5f1ef3f1.jpg',\n",
       " 'test\\\\26779e2b08829e7295d3c9cff3c55bd1.jpg',\n",
       " 'test\\\\268a8ab1b3e54e5a747bb9b9c374705d.jpg',\n",
       " 'test\\\\26acff252b3c4bcb070f6bd5bfc46e9d.jpg',\n",
       " 'test\\\\26b4a5f86507a9f5494b63b69ae8112b.jpg',\n",
       " 'test\\\\26b5359e62262218144cdc9aae4f3ba8.jpg',\n",
       " ...]"
      ]
     },
     "execution_count": 52,
     "metadata": {},
     "output_type": "execute_result"
    }
   ],
   "source": [
    "data.test_ds.fnames"
   ]
  },
  {
   "cell_type": "code",
   "execution_count": 53,
   "metadata": {},
   "outputs": [
    {
     "name": "stdout",
     "output_type": "stream",
     "text": [
      "                                                                                                                       \r"
     ]
    }
   ],
   "source": [
    "log_preds, y = learn.TTA(is_test=True) # use test dataset rather than validation dataset\n",
    "probs = np.mean(np.exp(log_preds),0)\n",
    "#accuracy_np(probs, y), metrcs.log_loss(y, probs) # This does not make sense since test dataset has no labels"
   ]
  },
  {
   "cell_type": "code",
   "execution_count": 54,
   "metadata": {},
   "outputs": [
    {
     "data": {
      "text/plain": [
       "(6849, 37)"
      ]
     },
     "execution_count": 54,
     "metadata": {},
     "output_type": "execute_result"
    }
   ],
   "source": [
    "probs.shape # (n_images, n_classes)"
   ]
  },
  {
   "cell_type": "code",
   "execution_count": 55,
   "metadata": {},
   "outputs": [],
   "source": [
    "df = pd.DataFrame(probs)\n",
    "df.columns = data.classes"
   ]
  },
  {
   "cell_type": "code",
   "execution_count": 56,
   "metadata": {},
   "outputs": [],
   "source": [
    "df.insert(0, 'id', [o[5:-4] for o in data.test_ds.fnames])"
   ]
  },
  {
   "cell_type": "code",
   "execution_count": 57,
   "metadata": {},
   "outputs": [
    {
     "data": {
      "text/html": [
       "<div>\n",
       "<style scoped>\n",
       "    .dataframe tbody tr th:only-of-type {\n",
       "        vertical-align: middle;\n",
       "    }\n",
       "\n",
       "    .dataframe tbody tr th {\n",
       "        vertical-align: top;\n",
       "    }\n",
       "\n",
       "    .dataframe thead th {\n",
       "        text-align: right;\n",
       "    }\n",
       "</style>\n",
       "<table border=\"1\" class=\"dataframe\">\n",
       "  <thead>\n",
       "    <tr style=\"text-align: right;\">\n",
       "      <th></th>\n",
       "      <th>id</th>\n",
       "      <th>abyssinian</th>\n",
       "      <th>american_bulldog</th>\n",
       "      <th>american_pit_bull_terrier</th>\n",
       "      <th>basset_hound</th>\n",
       "      <th>beagle</th>\n",
       "      <th>bengal</th>\n",
       "      <th>birman</th>\n",
       "      <th>bombay</th>\n",
       "      <th>boxer</th>\n",
       "      <th>...</th>\n",
       "      <th>russian_blue</th>\n",
       "      <th>saint_bernard</th>\n",
       "      <th>samoyed</th>\n",
       "      <th>scottish_terrier</th>\n",
       "      <th>shiba_inu</th>\n",
       "      <th>siamese</th>\n",
       "      <th>sphynx</th>\n",
       "      <th>staffordshire_bull_terrier</th>\n",
       "      <th>wheaten_terrier</th>\n",
       "      <th>yorkshire_terrier</th>\n",
       "    </tr>\n",
       "  </thead>\n",
       "  <tbody>\n",
       "    <tr>\n",
       "      <th>0</th>\n",
       "      <td>0006246bf61f5801e125c305d2ed25e2</td>\n",
       "      <td>0.000024</td>\n",
       "      <td>9.302803e-04</td>\n",
       "      <td>8.348347e-05</td>\n",
       "      <td>2.856444e-04</td>\n",
       "      <td>8.845101e-05</td>\n",
       "      <td>2.067092e-05</td>\n",
       "      <td>1.197473e-03</td>\n",
       "      <td>5.177408e-05</td>\n",
       "      <td>4.897722e-03</td>\n",
       "      <td>...</td>\n",
       "      <td>0.000242</td>\n",
       "      <td>2.461354e-04</td>\n",
       "      <td>1.469806e-05</td>\n",
       "      <td>6.722203e-05</td>\n",
       "      <td>3.523675e-04</td>\n",
       "      <td>7.852873e-04</td>\n",
       "      <td>0.000088</td>\n",
       "      <td>0.002705</td>\n",
       "      <td>5.499044e-05</td>\n",
       "      <td>8.318319e-06</td>\n",
       "    </tr>\n",
       "    <tr>\n",
       "      <th>1</th>\n",
       "      <td>001e73b6915f4128065470cdd3766fcd</td>\n",
       "      <td>0.000205</td>\n",
       "      <td>5.162286e-07</td>\n",
       "      <td>1.159071e-07</td>\n",
       "      <td>3.184562e-06</td>\n",
       "      <td>7.174638e-07</td>\n",
       "      <td>4.910580e-03</td>\n",
       "      <td>2.630509e-07</td>\n",
       "      <td>8.767185e-05</td>\n",
       "      <td>9.039115e-07</td>\n",
       "      <td>...</td>\n",
       "      <td>0.000166</td>\n",
       "      <td>2.192435e-06</td>\n",
       "      <td>1.028675e-06</td>\n",
       "      <td>2.328075e-06</td>\n",
       "      <td>4.397160e-06</td>\n",
       "      <td>5.154699e-07</td>\n",
       "      <td>0.000198</td>\n",
       "      <td>0.000005</td>\n",
       "      <td>9.456857e-07</td>\n",
       "      <td>4.113114e-06</td>\n",
       "    </tr>\n",
       "    <tr>\n",
       "      <th>2</th>\n",
       "      <td>002d5910de023eddce8358edf169c07f</td>\n",
       "      <td>0.000002</td>\n",
       "      <td>1.697872e-05</td>\n",
       "      <td>3.168460e-06</td>\n",
       "      <td>6.642448e-06</td>\n",
       "      <td>3.025256e-06</td>\n",
       "      <td>9.637281e-06</td>\n",
       "      <td>3.090910e-05</td>\n",
       "      <td>1.093199e-04</td>\n",
       "      <td>3.851971e-05</td>\n",
       "      <td>...</td>\n",
       "      <td>0.000043</td>\n",
       "      <td>1.369950e-05</td>\n",
       "      <td>9.979615e-01</td>\n",
       "      <td>2.047187e-05</td>\n",
       "      <td>3.971317e-04</td>\n",
       "      <td>5.358793e-06</td>\n",
       "      <td>0.000005</td>\n",
       "      <td>0.000143</td>\n",
       "      <td>1.911461e-05</td>\n",
       "      <td>6.413732e-06</td>\n",
       "    </tr>\n",
       "    <tr>\n",
       "      <th>3</th>\n",
       "      <td>003b7dec4fe65ec846854c7597617a23</td>\n",
       "      <td>0.000006</td>\n",
       "      <td>3.861413e-05</td>\n",
       "      <td>9.972152e-04</td>\n",
       "      <td>2.883191e-07</td>\n",
       "      <td>2.485241e-05</td>\n",
       "      <td>3.309908e-08</td>\n",
       "      <td>2.213677e-07</td>\n",
       "      <td>4.042757e-07</td>\n",
       "      <td>1.871564e-05</td>\n",
       "      <td>...</td>\n",
       "      <td>0.000009</td>\n",
       "      <td>5.410936e-07</td>\n",
       "      <td>1.076201e-07</td>\n",
       "      <td>2.079883e-07</td>\n",
       "      <td>4.970302e-08</td>\n",
       "      <td>3.407308e-07</td>\n",
       "      <td>0.000003</td>\n",
       "      <td>0.000010</td>\n",
       "      <td>1.628524e-06</td>\n",
       "      <td>1.220689e-07</td>\n",
       "    </tr>\n",
       "    <tr>\n",
       "      <th>4</th>\n",
       "      <td>004955e30603d8c06c1ff917736eb418</td>\n",
       "      <td>0.000058</td>\n",
       "      <td>6.187527e-07</td>\n",
       "      <td>4.114690e-07</td>\n",
       "      <td>1.246072e-06</td>\n",
       "      <td>3.076516e-06</td>\n",
       "      <td>7.370977e-06</td>\n",
       "      <td>2.668647e-06</td>\n",
       "      <td>9.977140e-01</td>\n",
       "      <td>1.921804e-07</td>\n",
       "      <td>...</td>\n",
       "      <td>0.002005</td>\n",
       "      <td>5.220387e-07</td>\n",
       "      <td>1.518443e-06</td>\n",
       "      <td>2.560025e-06</td>\n",
       "      <td>7.532249e-07</td>\n",
       "      <td>3.807629e-05</td>\n",
       "      <td>0.000001</td>\n",
       "      <td>0.000001</td>\n",
       "      <td>9.268205e-07</td>\n",
       "      <td>2.496339e-06</td>\n",
       "    </tr>\n",
       "  </tbody>\n",
       "</table>\n",
       "<p>5 rows × 38 columns</p>\n",
       "</div>"
      ],
      "text/plain": [
       "                                 id  abyssinian  american_bulldog  \\\n",
       "0  0006246bf61f5801e125c305d2ed25e2    0.000024      9.302803e-04   \n",
       "1  001e73b6915f4128065470cdd3766fcd    0.000205      5.162286e-07   \n",
       "2  002d5910de023eddce8358edf169c07f    0.000002      1.697872e-05   \n",
       "3  003b7dec4fe65ec846854c7597617a23    0.000006      3.861413e-05   \n",
       "4  004955e30603d8c06c1ff917736eb418    0.000058      6.187527e-07   \n",
       "\n",
       "   american_pit_bull_terrier  basset_hound        beagle        bengal  \\\n",
       "0               8.348347e-05  2.856444e-04  8.845101e-05  2.067092e-05   \n",
       "1               1.159071e-07  3.184562e-06  7.174638e-07  4.910580e-03   \n",
       "2               3.168460e-06  6.642448e-06  3.025256e-06  9.637281e-06   \n",
       "3               9.972152e-04  2.883191e-07  2.485241e-05  3.309908e-08   \n",
       "4               4.114690e-07  1.246072e-06  3.076516e-06  7.370977e-06   \n",
       "\n",
       "         birman        bombay         boxer        ...          russian_blue  \\\n",
       "0  1.197473e-03  5.177408e-05  4.897722e-03        ...              0.000242   \n",
       "1  2.630509e-07  8.767185e-05  9.039115e-07        ...              0.000166   \n",
       "2  3.090910e-05  1.093199e-04  3.851971e-05        ...              0.000043   \n",
       "3  2.213677e-07  4.042757e-07  1.871564e-05        ...              0.000009   \n",
       "4  2.668647e-06  9.977140e-01  1.921804e-07        ...              0.002005   \n",
       "\n",
       "   saint_bernard       samoyed  scottish_terrier     shiba_inu       siamese  \\\n",
       "0   2.461354e-04  1.469806e-05      6.722203e-05  3.523675e-04  7.852873e-04   \n",
       "1   2.192435e-06  1.028675e-06      2.328075e-06  4.397160e-06  5.154699e-07   \n",
       "2   1.369950e-05  9.979615e-01      2.047187e-05  3.971317e-04  5.358793e-06   \n",
       "3   5.410936e-07  1.076201e-07      2.079883e-07  4.970302e-08  3.407308e-07   \n",
       "4   5.220387e-07  1.518443e-06      2.560025e-06  7.532249e-07  3.807629e-05   \n",
       "\n",
       "     sphynx  staffordshire_bull_terrier  wheaten_terrier  yorkshire_terrier  \n",
       "0  0.000088                    0.002705     5.499044e-05       8.318319e-06  \n",
       "1  0.000198                    0.000005     9.456857e-07       4.113114e-06  \n",
       "2  0.000005                    0.000143     1.911461e-05       6.413732e-06  \n",
       "3  0.000003                    0.000010     1.628524e-06       1.220689e-07  \n",
       "4  0.000001                    0.000001     9.268205e-07       2.496339e-06  \n",
       "\n",
       "[5 rows x 38 columns]"
      ]
     },
     "execution_count": 57,
     "metadata": {},
     "output_type": "execute_result"
    }
   ],
   "source": [
    "df.head()"
   ]
  },
  {
   "cell_type": "code",
   "execution_count": 58,
   "metadata": {},
   "outputs": [],
   "source": [
    "SUBM = f'{PATH}/subm/'\n",
    "os.makedirs(SUBM, exist_ok=True)\n",
    "df.to_csv(f'{SUBM}subm.gz', compression='gzip', index=False)"
   ]
  },
  {
   "cell_type": "code",
   "execution_count": 59,
   "metadata": {},
   "outputs": [
    {
     "data": {
      "text/html": [
       "<a href='data/dogcatbreed//subm/subm.gz' target='_blank'>data/dogcatbreed//subm/subm.gz</a><br>"
      ],
      "text/plain": [
       "C:\\Users\\nissan.dookeran\\Documents\\Github\\fastai\\courses\\dl1\\data\\dogcatbreed\\subm\\subm.gz"
      ]
     },
     "execution_count": 59,
     "metadata": {},
     "output_type": "execute_result"
    }
   ],
   "source": [
    "FileLink(f'{SUBM}subm.gz')"
   ]
  },
  {
   "cell_type": "markdown",
   "metadata": {},
   "source": [
    "## Individual prediction"
   ]
  },
  {
   "cell_type": "code",
   "execution_count": 60,
   "metadata": {},
   "outputs": [
    {
     "data": {
      "text/plain": [
       "'train\\\\00076dfc1e76744c60b7db2f20edb5db.jpg'"
      ]
     },
     "execution_count": 60,
     "metadata": {},
     "output_type": "execute_result"
    }
   ],
   "source": [
    "fn = data.val_ds.fnames[0]\n",
    "fn"
   ]
  },
  {
   "cell_type": "code",
   "execution_count": 61,
   "metadata": {},
   "outputs": [
    {
     "data": {
      "image/png": "[encoded data removed]",
      "text/plain": [
       "<PIL.Image.Image image mode=RGB size=150x150 at 0x14A76C69D68>"
      ]
     },
     "execution_count": 61,
     "metadata": {},
     "output_type": "execute_result"
    }
   ],
   "source": [
    "Image.open(PATH + fn).resize((150, 150))"
   ]
  },
  {
   "cell_type": "code",
   "execution_count": 62,
   "metadata": {},
   "outputs": [
    {
     "data": {
      "text/plain": [
       "13"
      ]
     },
     "execution_count": 62,
     "metadata": {},
     "output_type": "execute_result"
    }
   ],
   "source": [
    "# Method 1.\n",
    "trn_tfms, val_tfms = tfms_from_model(arch, sz)\n",
    "ds = FilesIndexArrayDataset([fn], np.array([0]), val_tfms, PATH)\n",
    "dl = DataLoader(ds)\n",
    "preds = learn.predict_dl(dl)\n",
    "np.argmax(preds)"
   ]
  },
  {
   "cell_type": "code",
   "execution_count": 63,
   "metadata": {},
   "outputs": [
    {
     "data": {
      "text/plain": [
       "'english_setter'"
      ]
     },
     "execution_count": 63,
     "metadata": {},
     "output_type": "execute_result"
    }
   ],
   "source": [
    "learn.data.classes[np.argmax(preds)]"
   ]
  },
  {
   "cell_type": "code",
   "execution_count": 64,
   "metadata": {},
   "outputs": [
    {
     "data": {
      "text/plain": [
       "13"
      ]
     },
     "execution_count": 64,
     "metadata": {},
     "output_type": "execute_result"
    }
   ],
   "source": [
    "# Method 2.\n",
    "trn_tfms, val_tfms = tfms_from_model(arch, sz)\n",
    "im = val_tfms(open_image(PATH + fn)) # open_image() returns numpy.ndarray\n",
    "preds = learn.predict_array(im[None])\n",
    "np.argmax(preds)"
   ]
  },
  {
   "cell_type": "code",
   "execution_count": null,
   "metadata": {},
   "outputs": [],
   "source": []
  }
 ],
 "metadata": {
  "kernelspec": {
   "display_name": "Python 3",
   "language": "python",
   "name": "python3"
  },
  "language_info": {
   "codemirror_mode": {
    "name": "ipython",
    "version": 3
   },
   "file_extension": ".py",
   "mimetype": "text/x-python",
   "name": "python",
   "nbconvert_exporter": "python",
   "pygments_lexer": "ipython3",
   "version": "3.6.6"
  },
  "toc": {
   "nav_menu": {},
   "number_sections": true,
   "sideBar": true,
   "skip_h1_title": false,
   "title_cell": "Table of Contents",
   "title_sidebar": "Contents",
   "toc_cell": false,
   "toc_position": {
    "height": "calc(100% - 180px)",
    "left": "10px",
    "top": "150px",
    "width": "180.188px"
   },
   "toc_section_display": true,
   "toc_window_display": true
  },
  "varInspector": {
   "cols": {
    "lenName": 16,
    "lenType": 16,
    "lenVar": 40
   },
   "kernels_config": {
    "python": {
     "delete_cmd_postfix": "",
     "delete_cmd_prefix": "del ",
     "library": "var_list.py",
     "varRefreshCmd": "print(var_dic_list())"
    },
    "r": {
     "delete_cmd_postfix": ") ",
     "delete_cmd_prefix": "rm(",
     "library": "var_list.r",
     "varRefreshCmd": "cat(var_dic_list()) "
    }
   },
   "types_to_exclude": [
    "module",
    "function",
    "builtin_function_or_method",
    "instance",
    "_Feature"
   ],
   "window_display": false
  },
  "widgets": {
   "application/vnd.jupyter.widget-state+json": {
    "state": {
     "0147ea39a83144aa99e7877a908ca502": {
      "model_module": "@jupyter-widgets/base",
      "model_module_version": "1.0.0",
      "model_name": "LayoutModel",
      "state": {}
     },
     "02af08793c9a4c5ba0cbd7462a715f89": {
      "model_module": "@jupyter-widgets/controls",
      "model_module_version": "1.1.0",
      "model_name": "ProgressStyleModel",
      "state": {
       "description_width": ""
      }
     },
     "03c7476e32ce48c2b38a7023c2dcc0a1": {
      "model_module": "@jupyter-widgets/base",
      "model_module_version": "1.0.0",
      "model_name": "LayoutModel",
      "state": {}
     },
     "075434e4b0234c5fa61c8d63fec51679": {
      "model_module": "@jupyter-widgets/controls",
      "model_module_version": "1.1.0",
      "model_name": "ProgressStyleModel",
      "state": {
       "description_width": ""
      }
     },
     "08ba1e10c1a641f7876680a632f6821d": {
      "model_module": "@jupyter-widgets/controls",
      "model_module_version": "1.1.0",
      "model_name": "IntProgressModel",
      "state": {
       "bar_style": "success",
       "layout": "IPY_MODEL_b0edcf9ef0754ca4bb7fe6e8790c464b",
       "max": 6,
       "style": "IPY_MODEL_c13bdace91114d639b408aa120c97f79",
       "value": 6
      }
     },
     "0b49f5119c6d4a25bb575a20e33fe219": {
      "model_module": "@jupyter-widgets/base",
      "model_module_version": "1.0.0",
      "model_name": "LayoutModel",
      "state": {}
     },
     "12cc98b1fc954667bd49c08972278f1d": {
      "model_module": "@jupyter-widgets/controls",
      "model_module_version": "1.1.0",
      "model_name": "ProgressStyleModel",
      "state": {
       "description_width": ""
      }
     },
     "13cbbf3a554a40f09d40df39c2cacf47": {
      "model_module": "@jupyter-widgets/base",
      "model_module_version": "1.0.0",
      "model_name": "LayoutModel",
      "state": {}
     },
     "148c1abd5f1747a2a787c09cef3071bc": {
      "model_module": "@jupyter-widgets/controls",
      "model_module_version": "1.1.0",
      "model_name": "HTMLModel",
      "state": {
       "layout": "IPY_MODEL_902c060a37b4491788462dce6be1798b",
       "style": "IPY_MODEL_88db019106ca4893816ea780e567a175",
       "value": "100% 3/3 [16:30&lt;00:00, 330.17s/it]"
      }
     },
     "16993380d0fa42b888a52dbf1bb42f20": {
      "model_module": "@jupyter-widgets/controls",
      "model_module_version": "1.1.0",
      "model_name": "IntProgressModel",
      "state": {
       "bar_style": "success",
       "layout": "IPY_MODEL_c74dedf09f57490a9f1ac9af54e14bf3",
       "max": 6,
       "style": "IPY_MODEL_557d35c901f54575b5963e3b7ce932a3",
       "value": 6
      }
     },
     "19c5557812814cb28bc7e0cc80c65c5f": {
      "model_module": "@jupyter-widgets/base",
      "model_module_version": "1.0.0",
      "model_name": "LayoutModel",
      "state": {}
     },
     "1c241c0e5b5844508c1c50e2a7c09b1b": {
      "model_module": "@jupyter-widgets/base",
      "model_module_version": "1.0.0",
      "model_name": "LayoutModel",
      "state": {}
     },
     "1c509f99160e41d5af6e565b1541e571": {
      "model_module": "@jupyter-widgets/controls",
      "model_module_version": "1.1.0",
      "model_name": "HTMLModel",
      "state": {
       "layout": "IPY_MODEL_9352e3fd2af54e09ad67afb4ac446b27",
       "style": "IPY_MODEL_62e7ecfbbea7427385deb25ed2f4232f",
       "value": "100% 6/6 [00:00&lt;00:00, 380.26it/s]"
      }
     },
     "1e2f1c40607144eb9cb7b9e257d06f35": {
      "model_module": "@jupyter-widgets/base",
      "model_module_version": "1.0.0",
      "model_name": "LayoutModel",
      "state": {}
     },
     "1fc90792a2b74c38aaf73659c3756831": {
      "model_module": "@jupyter-widgets/base",
      "model_module_version": "1.0.0",
      "model_name": "LayoutModel",
      "state": {}
     },
     "201ae86e437e4b5390782e9df272326d": {
      "model_module": "@jupyter-widgets/controls",
      "model_module_version": "1.1.0",
      "model_name": "HBoxModel",
      "state": {
       "children": [
        "IPY_MODEL_c8871c57d7bd4b61a99633668fb44621",
        "IPY_MODEL_38eb37d7293d4273a6ae06b5a451617d"
       ],
       "layout": "IPY_MODEL_1c241c0e5b5844508c1c50e2a7c09b1b"
      }
     },
     "20bfce64bf354e2398353b6a2a31d0e5": {
      "model_module": "@jupyter-widgets/base",
      "model_module_version": "1.0.0",
      "model_name": "LayoutModel",
      "state": {}
     },
     "21e75994f5e749748dd5693819e51d93": {
      "model_module": "@jupyter-widgets/controls",
      "model_module_version": "1.1.0",
      "model_name": "DescriptionStyleModel",
      "state": {
       "description_width": ""
      }
     },
     "22952b3bfa674aff898e452b30bd319e": {
      "model_module": "@jupyter-widgets/controls",
      "model_module_version": "1.1.0",
      "model_name": "DescriptionStyleModel",
      "state": {
       "description_width": ""
      }
     },
     "26e2b0e7abb24e3fad1b5c0c166aa44d": {
      "model_module": "@jupyter-widgets/controls",
      "model_module_version": "1.1.0",
      "model_name": "IntProgressModel",
      "state": {
       "bar_style": "success",
       "description": "Epoch",
       "layout": "IPY_MODEL_363595af2f5f4ad3a3f5a9e46069d58e",
       "max": 5,
       "style": "IPY_MODEL_02af08793c9a4c5ba0cbd7462a715f89",
       "value": 5
      }
     },
     "288366a4c5ba435286c34d6d5ad69201": {
      "model_module": "@jupyter-widgets/controls",
      "model_module_version": "1.1.0",
      "model_name": "HBoxModel",
      "state": {
       "children": [
        "IPY_MODEL_33f7abed940a4b24b01110da8ec67ddc",
        "IPY_MODEL_93f4380114fe48b88db18d0c97736fd4"
       ],
       "layout": "IPY_MODEL_5b17418f64954c14843a914942f8ce3d"
      }
     },
     "292be092bc964dd7a48bc62c906f5814": {
      "model_module": "@jupyter-widgets/controls",
      "model_module_version": "1.1.0",
      "model_name": "ProgressStyleModel",
      "state": {
       "description_width": ""
      }
     },
     "2d1dfcb285154a7bac2db184a87f3c4e": {
      "model_module": "@jupyter-widgets/base",
      "model_module_version": "1.0.0",
      "model_name": "LayoutModel",
      "state": {}
     },
     "2ff92f760a2b46a99576ab77daccac1d": {
      "model_module": "@jupyter-widgets/base",
      "model_module_version": "1.0.0",
      "model_name": "LayoutModel",
      "state": {}
     },
     "33ce7c9b732e4715ae12b71669addfdf": {
      "model_module": "@jupyter-widgets/controls",
      "model_module_version": "1.1.0",
      "model_name": "IntProgressModel",
      "state": {
       "bar_style": "success",
       "layout": "IPY_MODEL_20bfce64bf354e2398353b6a2a31d0e5",
       "max": 6,
       "style": "IPY_MODEL_830aa543858f4a54a14aad440bcbde34",
       "value": 6
      }
     },
     "33f7abed940a4b24b01110da8ec67ddc": {
      "model_module": "@jupyter-widgets/controls",
      "model_module_version": "1.1.0",
      "model_name": "IntProgressModel",
      "state": {
       "bar_style": "success",
       "layout": "IPY_MODEL_7ba0d94e2ef544fe9126eacee6588468",
       "max": 6,
       "style": "IPY_MODEL_8c8cb52ff5e54c55a297af7571a105ea",
       "value": 6
      }
     },
     "363595af2f5f4ad3a3f5a9e46069d58e": {
      "model_module": "@jupyter-widgets/base",
      "model_module_version": "1.0.0",
      "model_name": "LayoutModel",
      "state": {}
     },
     "37f00a662a3c4b5f9f29db6903cfc5ba": {
      "model_module": "@jupyter-widgets/controls",
      "model_module_version": "1.1.0",
      "model_name": "DescriptionStyleModel",
      "state": {
       "description_width": ""
      }
     },
     "37faed3c96f343e895d8f29ab07137c0": {
      "model_module": "@jupyter-widgets/base",
      "model_module_version": "1.0.0",
      "model_name": "LayoutModel",
      "state": {}
     },
     "38eb37d7293d4273a6ae06b5a451617d": {
      "model_module": "@jupyter-widgets/controls",
      "model_module_version": "1.1.0",
      "model_name": "HTMLModel",
      "state": {
       "layout": "IPY_MODEL_42c23fec7e814a9aaf39ffa59c0ffe20",
       "style": "IPY_MODEL_7163788d004d4c15b0b0137a654079a0",
       "value": "100% 7/7 [35:35&lt;00:00, 305.08s/it]"
      }
     },
     "39cf7d6b5e98460e9a621f1d74e32fad": {
      "model_module": "@jupyter-widgets/controls",
      "model_module_version": "1.1.0",
      "model_name": "HTMLModel",
      "state": {
       "layout": "IPY_MODEL_cb554ddf38bb4597b282655ee74ca321",
       "style": "IPY_MODEL_c45beabad9d34af5b39ce603b5308ef9",
       "value": "100% 5/5 [27:26&lt;00:00, 329.38s/it]"
      }
     },
     "39d7df82d70b40df9f1171dad9ce2b4c": {
      "model_module": "@jupyter-widgets/controls",
      "model_module_version": "1.1.0",
      "model_name": "DescriptionStyleModel",
      "state": {
       "description_width": ""
      }
     },
     "3a1160614abc4724b73cc9bc2e0d0d46": {
      "model_module": "@jupyter-widgets/controls",
      "model_module_version": "1.1.0",
      "model_name": "HTMLModel",
      "state": {
       "layout": "IPY_MODEL_19c5557812814cb28bc7e0cc80c65c5f",
       "style": "IPY_MODEL_87707de469bc4c4bb2ba2a2ed7322de1",
       "value": "100% 5/5 [00:28&lt;00:00,  5.70s/it]"
      }
     },
     "3b2e29458fdc49d0864a7fc9a1faafb6": {
      "model_module": "@jupyter-widgets/base",
      "model_module_version": "1.0.0",
      "model_name": "LayoutModel",
      "state": {}
     },
     "3ed035ff92d947ad9059d4bc03f2576c": {
      "model_module": "@jupyter-widgets/controls",
      "model_module_version": "1.1.0",
      "model_name": "HBoxModel",
      "state": {
       "children": [
        "IPY_MODEL_16993380d0fa42b888a52dbf1bb42f20",
        "IPY_MODEL_a52bd3eee7aa4e9093ee525fc42ff232"
       ],
       "layout": "IPY_MODEL_66e271ee790148eb89ae51b9b22216aa"
      }
     },
     "40060908ceee46fb859195274eca3da8": {
      "model_module": "@jupyter-widgets/controls",
      "model_module_version": "1.1.0",
      "model_name": "HBoxModel",
      "state": {
       "children": [
        "IPY_MODEL_4b3362ffeac948e490ce91f1e0786f2e",
        "IPY_MODEL_c09f764cc1c74e3aa75fea864a8d21f3"
       ],
       "layout": "IPY_MODEL_e6926f2efb5340528a00c5045376c380"
      }
     },
     "405077ae66ac44afbd35d90a6afd6cab": {
      "model_module": "@jupyter-widgets/base",
      "model_module_version": "1.0.0",
      "model_name": "LayoutModel",
      "state": {}
     },
     "41a9d48c29ef4752bcd2ddc7076dac3c": {
      "model_module": "@jupyter-widgets/base",
      "model_module_version": "1.0.0",
      "model_name": "LayoutModel",
      "state": {}
     },
     "42c23fec7e814a9aaf39ffa59c0ffe20": {
      "model_module": "@jupyter-widgets/base",
      "model_module_version": "1.0.0",
      "model_name": "LayoutModel",
      "state": {}
     },
     "43f1cb9394c5422798a91c1b6b0a5907": {
      "model_module": "@jupyter-widgets/base",
      "model_module_version": "1.0.0",
      "model_name": "LayoutModel",
      "state": {}
     },
     "45a9f25bf3964af68dfce8bbb2091917": {
      "model_module": "@jupyter-widgets/controls",
      "model_module_version": "1.1.0",
      "model_name": "DescriptionStyleModel",
      "state": {
       "description_width": ""
      }
     },
     "4654ebf91a484cb8b153920fb89bb522": {
      "model_module": "@jupyter-widgets/base",
      "model_module_version": "1.0.0",
      "model_name": "LayoutModel",
      "state": {}
     },
     "4b3362ffeac948e490ce91f1e0786f2e": {
      "model_module": "@jupyter-widgets/controls",
      "model_module_version": "1.1.0",
      "model_name": "IntProgressModel",
      "state": {
       "bar_style": "success",
       "layout": "IPY_MODEL_67e1b7b183484f03b2f63c22c44e8713",
       "max": 6,
       "style": "IPY_MODEL_12cc98b1fc954667bd49c08972278f1d",
       "value": 6
      }
     },
     "4c5e108b0b9145cb9987a673dda89bb6": {
      "model_module": "@jupyter-widgets/base",
      "model_module_version": "1.0.0",
      "model_name": "LayoutModel",
      "state": {}
     },
     "4d7cbd1c9b0b45359d4d31ad4e50e441": {
      "model_module": "@jupyter-widgets/base",
      "model_module_version": "1.0.0",
      "model_name": "LayoutModel",
      "state": {}
     },
     "54f04d9c381446649b742e1242de6953": {
      "model_module": "@jupyter-widgets/controls",
      "model_module_version": "1.1.0",
      "model_name": "IntProgressModel",
      "state": {
       "bar_style": "success",
       "description": "Epoch",
       "layout": "IPY_MODEL_f6539e378c294a6c955da278da4ade4e",
       "max": 2,
       "style": "IPY_MODEL_b1cddc992f864976b0f4132e0c4819f4",
       "value": 2
      }
     },
     "557d35c901f54575b5963e3b7ce932a3": {
      "model_module": "@jupyter-widgets/controls",
      "model_module_version": "1.1.0",
      "model_name": "ProgressStyleModel",
      "state": {
       "description_width": ""
      }
     },
     "5791e4167111408ca3f1be2e16334803": {
      "model_module": "@jupyter-widgets/base",
      "model_module_version": "1.0.0",
      "model_name": "LayoutModel",
      "state": {}
     },
     "5b0ec0306b6440c1a068951bf0d4a50c": {
      "model_module": "@jupyter-widgets/controls",
      "model_module_version": "1.1.0",
      "model_name": "ProgressStyleModel",
      "state": {
       "description_width": ""
      }
     },
     "5b17418f64954c14843a914942f8ce3d": {
      "model_module": "@jupyter-widgets/base",
      "model_module_version": "1.0.0",
      "model_name": "LayoutModel",
      "state": {}
     },
     "5b494db622384a7fabd7ed86d7f0575c": {
      "model_module": "@jupyter-widgets/controls",
      "model_module_version": "1.1.0",
      "model_name": "HBoxModel",
      "state": {
       "children": [
        "IPY_MODEL_26e2b0e7abb24e3fad1b5c0c166aa44d",
        "IPY_MODEL_c05cfeeac9a04c68a7387dc65bf48227"
       ],
       "layout": "IPY_MODEL_4654ebf91a484cb8b153920fb89bb522"
      }
     },
     "5c13867f02614d49bc038af563f5a5a2": {
      "model_module": "@jupyter-widgets/controls",
      "model_module_version": "1.1.0",
      "model_name": "IntProgressModel",
      "state": {
       "bar_style": "success",
       "layout": "IPY_MODEL_7234b227a46b404598576e19a230a94e",
       "max": 6,
       "style": "IPY_MODEL_7ae2ea4a6e144242ad504c2032fbb9b9",
       "value": 6
      }
     },
     "5d3aa8de854a491485458bcaf88b9de4": {
      "model_module": "@jupyter-widgets/controls",
      "model_module_version": "1.1.0",
      "model_name": "HBoxModel",
      "state": {
       "children": [
        "IPY_MODEL_c6a3a9d502b94ffba6cb6708c9762bd0",
        "IPY_MODEL_8d9389e09e1d44d88ffffdb83ac6f407"
       ],
       "layout": "IPY_MODEL_03c7476e32ce48c2b38a7023c2dcc0a1"
      }
     },
     "5f4033806f5144f28e0999110bf34612": {
      "model_module": "@jupyter-widgets/controls",
      "model_module_version": "1.1.0",
      "model_name": "IntProgressModel",
      "state": {
       "bar_style": "success",
       "description": "Epoch",
       "layout": "IPY_MODEL_e59a2233ae454d81ada1b8494763e7bc",
       "max": 2,
       "style": "IPY_MODEL_292be092bc964dd7a48bc62c906f5814",
       "value": 2
      }
     },
     "61defccfe9dc4330931ce420b9976dcd": {
      "model_module": "@jupyter-widgets/controls",
      "model_module_version": "1.1.0",
      "model_name": "HTMLModel",
      "state": {
       "layout": "IPY_MODEL_4d7cbd1c9b0b45359d4d31ad4e50e441",
       "style": "IPY_MODEL_45a9f25bf3964af68dfce8bbb2091917",
       "value": "100% 2/2 [10:08&lt;00:00, 304.26s/it]"
      }
     },
     "62e7ecfbbea7427385deb25ed2f4232f": {
      "model_module": "@jupyter-widgets/controls",
      "model_module_version": "1.1.0",
      "model_name": "DescriptionStyleModel",
      "state": {
       "description_width": ""
      }
     },
     "62e8fbf1622b4a36a186e7f319552990": {
      "model_module": "@jupyter-widgets/controls",
      "model_module_version": "1.1.0",
      "model_name": "IntProgressModel",
      "state": {
       "bar_style": "success",
       "description": "Epoch",
       "layout": "IPY_MODEL_41a9d48c29ef4752bcd2ddc7076dac3c",
       "max": 2,
       "style": "IPY_MODEL_5b0ec0306b6440c1a068951bf0d4a50c",
       "value": 2
      }
     },
     "65d9210f3d3345019a1fcf4ad82f1ae9": {
      "model_module": "@jupyter-widgets/base",
      "model_module_version": "1.0.0",
      "model_name": "LayoutModel",
      "state": {}
     },
     "66179fdeb4534eb281f2690ded33950e": {
      "model_module": "@jupyter-widgets/controls",
      "model_module_version": "1.1.0",
      "model_name": "DescriptionStyleModel",
      "state": {
       "description_width": ""
      }
     },
     "66e271ee790148eb89ae51b9b22216aa": {
      "model_module": "@jupyter-widgets/base",
      "model_module_version": "1.0.0",
      "model_name": "LayoutModel",
      "state": {}
     },
     "67e1b7b183484f03b2f63c22c44e8713": {
      "model_module": "@jupyter-widgets/base",
      "model_module_version": "1.0.0",
      "model_name": "LayoutModel",
      "state": {}
     },
     "7163788d004d4c15b0b0137a654079a0": {
      "model_module": "@jupyter-widgets/controls",
      "model_module_version": "1.1.0",
      "model_name": "DescriptionStyleModel",
      "state": {
       "description_width": ""
      }
     },
     "7234b227a46b404598576e19a230a94e": {
      "model_module": "@jupyter-widgets/base",
      "model_module_version": "1.0.0",
      "model_name": "LayoutModel",
      "state": {}
     },
     "77132b06e4ad40fdabdc0dd93922af21": {
      "model_module": "@jupyter-widgets/base",
      "model_module_version": "1.0.0",
      "model_name": "LayoutModel",
      "state": {}
     },
     "784cd320488247aa87d575558f81d06b": {
      "model_module": "@jupyter-widgets/base",
      "model_module_version": "1.0.0",
      "model_name": "LayoutModel",
      "state": {}
     },
     "7998921f656343ffadf133220692f859": {
      "model_module": "@jupyter-widgets/controls",
      "model_module_version": "1.1.0",
      "model_name": "IntProgressModel",
      "state": {
       "bar_style": "success",
       "description": "Epoch",
       "layout": "IPY_MODEL_0b49f5119c6d4a25bb575a20e33fe219",
       "max": 5,
       "style": "IPY_MODEL_cfeaf84bdbe34c7898e1ea8fc61b539c",
       "value": 5
      }
     },
     "7ad08fc0082a41bc882cedf6004206dd": {
      "model_module": "@jupyter-widgets/controls",
      "model_module_version": "1.1.0",
      "model_name": "HBoxModel",
      "state": {
       "children": [
        "IPY_MODEL_33ce7c9b732e4715ae12b71669addfdf",
        "IPY_MODEL_bc6e6b33b84344f094704454a0cf6f6b"
       ],
       "layout": "IPY_MODEL_2ff92f760a2b46a99576ab77daccac1d"
      }
     },
     "7adf432cd98f46df927bf9da9d94b182": {
      "model_module": "@jupyter-widgets/controls",
      "model_module_version": "1.1.0",
      "model_name": "DescriptionStyleModel",
      "state": {
       "description_width": ""
      }
     },
     "7ae2ea4a6e144242ad504c2032fbb9b9": {
      "model_module": "@jupyter-widgets/controls",
      "model_module_version": "1.1.0",
      "model_name": "ProgressStyleModel",
      "state": {
       "description_width": ""
      }
     },
     "7b215de0d6b64c3897c22bd817bbcb8d": {
      "model_module": "@jupyter-widgets/controls",
      "model_module_version": "1.1.0",
      "model_name": "IntProgressModel",
      "state": {
       "bar_style": "success",
       "description": "Epoch",
       "layout": "IPY_MODEL_1e2f1c40607144eb9cb7b9e257d06f35",
       "max": 3,
       "style": "IPY_MODEL_f38f8ae81eca43f9b1828369ebffd849",
       "value": 3
      }
     },
     "7ba0d94e2ef544fe9126eacee6588468": {
      "model_module": "@jupyter-widgets/base",
      "model_module_version": "1.0.0",
      "model_name": "LayoutModel",
      "state": {}
     },
     "8228413e70844312b5aa3128e3bea3ad": {
      "model_module": "@jupyter-widgets/controls",
      "model_module_version": "1.1.0",
      "model_name": "HTMLModel",
      "state": {
       "layout": "IPY_MODEL_890f789420e4416697cafbf732f38b95",
       "style": "IPY_MODEL_b52cba9c0daf49aab716b75c91137766",
       "value": "100% 2/2 [00:06&lt;00:00,  3.12s/it]"
      }
     },
     "830aa543858f4a54a14aad440bcbde34": {
      "model_module": "@jupyter-widgets/controls",
      "model_module_version": "1.1.0",
      "model_name": "ProgressStyleModel",
      "state": {
       "description_width": ""
      }
     },
     "868f105f38aa47b2b0223680dc202859": {
      "model_module": "@jupyter-widgets/base",
      "model_module_version": "1.0.0",
      "model_name": "LayoutModel",
      "state": {}
     },
     "87707de469bc4c4bb2ba2a2ed7322de1": {
      "model_module": "@jupyter-widgets/controls",
      "model_module_version": "1.1.0",
      "model_name": "DescriptionStyleModel",
      "state": {
       "description_width": ""
      }
     },
     "879f0f26c06041698336e79b9b92b0c8": {
      "model_module": "@jupyter-widgets/controls",
      "model_module_version": "1.1.0",
      "model_name": "HBoxModel",
      "state": {
       "children": [
        "IPY_MODEL_c19f1e5cf61444b5926c89b67c374dc8",
        "IPY_MODEL_148c1abd5f1747a2a787c09cef3071bc"
       ],
       "layout": "IPY_MODEL_b4a9636246544cd7a3ebcff56595bea2"
      }
     },
     "88db019106ca4893816ea780e567a175": {
      "model_module": "@jupyter-widgets/controls",
      "model_module_version": "1.1.0",
      "model_name": "DescriptionStyleModel",
      "state": {
       "description_width": ""
      }
     },
     "890f789420e4416697cafbf732f38b95": {
      "model_module": "@jupyter-widgets/base",
      "model_module_version": "1.0.0",
      "model_name": "LayoutModel",
      "state": {}
     },
     "8c8cb52ff5e54c55a297af7571a105ea": {
      "model_module": "@jupyter-widgets/controls",
      "model_module_version": "1.1.0",
      "model_name": "ProgressStyleModel",
      "state": {
       "description_width": ""
      }
     },
     "8d9389e09e1d44d88ffffdb83ac6f407": {
      "model_module": "@jupyter-widgets/controls",
      "model_module_version": "1.1.0",
      "model_name": "HTMLModel",
      "state": {
       "layout": "IPY_MODEL_1fc90792a2b74c38aaf73659c3756831",
       "style": "IPY_MODEL_66179fdeb4534eb281f2690ded33950e",
       "value": "100% 2/2 [00:06&lt;00:00,  3.17s/it]"
      }
     },
     "902c060a37b4491788462dce6be1798b": {
      "model_module": "@jupyter-widgets/base",
      "model_module_version": "1.0.0",
      "model_name": "LayoutModel",
      "state": {}
     },
     "91b150ff417c44d1bc68e66d1b3c5925": {
      "model_module": "@jupyter-widgets/controls",
      "model_module_version": "1.1.0",
      "model_name": "DescriptionStyleModel",
      "state": {
       "description_width": ""
      }
     },
     "9352e3fd2af54e09ad67afb4ac446b27": {
      "model_module": "@jupyter-widgets/base",
      "model_module_version": "1.0.0",
      "model_name": "LayoutModel",
      "state": {}
     },
     "93f4380114fe48b88db18d0c97736fd4": {
      "model_module": "@jupyter-widgets/controls",
      "model_module_version": "1.1.0",
      "model_name": "HTMLModel",
      "state": {
       "layout": "IPY_MODEL_b7e6303bb38542c9a8282079c33beca7",
       "style": "IPY_MODEL_21e75994f5e749748dd5693819e51d93",
       "value": "100% 6/6 [00:00&lt;00:00, 343.35it/s]"
      }
     },
     "956dbbddf33a476db031c3d1b8ad5b4e": {
      "model_module": "@jupyter-widgets/controls",
      "model_module_version": "1.1.0",
      "model_name": "HBoxModel",
      "state": {
       "children": [
        "IPY_MODEL_7998921f656343ffadf133220692f859",
        "IPY_MODEL_39cf7d6b5e98460e9a621f1d74e32fad"
       ],
       "layout": "IPY_MODEL_65d9210f3d3345019a1fcf4ad82f1ae9"
      }
     },
     "a19c0f9c5cb34e9e8cdfe5c356084b80": {
      "model_module": "@jupyter-widgets/controls",
      "model_module_version": "1.1.0",
      "model_name": "DescriptionStyleModel",
      "state": {
       "description_width": ""
      }
     },
     "a52bd3eee7aa4e9093ee525fc42ff232": {
      "model_module": "@jupyter-widgets/controls",
      "model_module_version": "1.1.0",
      "model_name": "HTMLModel",
      "state": {
       "layout": "IPY_MODEL_405077ae66ac44afbd35d90a6afd6cab",
       "style": "IPY_MODEL_fa7fbd7aa5ab41a5aaabfca1db46058e",
       "value": "100% 6/6 [00:00&lt;00:00, 377.47it/s]"
      }
     },
     "a6ba13af33984f1b96ed120d3798b035": {
      "model_module": "@jupyter-widgets/base",
      "model_module_version": "1.0.0",
      "model_name": "LayoutModel",
      "state": {}
     },
     "a6cf535c8f30471e947503cae6bdb611": {
      "model_module": "@jupyter-widgets/controls",
      "model_module_version": "1.1.0",
      "model_name": "IntProgressModel",
      "state": {
       "bar_style": "success",
       "description": "Epoch",
       "layout": "IPY_MODEL_e77a75b0e9b446318ef399e225003e65",
       "max": 7,
       "style": "IPY_MODEL_c8469a077e5449b69821e6b27b8e74e5",
       "value": 7
      }
     },
     "a7afeac8de60479e8c92248312fde8fc": {
      "model_module": "@jupyter-widgets/base",
      "model_module_version": "1.0.0",
      "model_name": "LayoutModel",
      "state": {}
     },
     "aad1581c410d48feb48e6b943c14bdb8": {
      "model_module": "@jupyter-widgets/controls",
      "model_module_version": "1.1.0",
      "model_name": "ProgressStyleModel",
      "state": {
       "description_width": ""
      }
     },
     "b0edcf9ef0754ca4bb7fe6e8790c464b": {
      "model_module": "@jupyter-widgets/base",
      "model_module_version": "1.0.0",
      "model_name": "LayoutModel",
      "state": {}
     },
     "b1258a718296423d9f4d9c0535aae63b": {
      "model_module": "@jupyter-widgets/controls",
      "model_module_version": "1.1.0",
      "model_name": "HTMLModel",
      "state": {
       "layout": "IPY_MODEL_3b2e29458fdc49d0864a7fc9a1faafb6",
       "style": "IPY_MODEL_37f00a662a3c4b5f9f29db6903cfc5ba",
       "value": "100% 3/3 [15:16&lt;00:00, 305.39s/it]"
      }
     },
     "b1cddc992f864976b0f4132e0c4819f4": {
      "model_module": "@jupyter-widgets/controls",
      "model_module_version": "1.1.0",
      "model_name": "ProgressStyleModel",
      "state": {
       "description_width": ""
      }
     },
     "b3ae58ce0bce4cd1b678a043b8ce4415": {
      "model_module": "@jupyter-widgets/controls",
      "model_module_version": "1.1.0",
      "model_name": "HBoxModel",
      "state": {
       "children": [
        "IPY_MODEL_54f04d9c381446649b742e1242de6953",
        "IPY_MODEL_e10c6be126a045d9809b90c0880e7362"
       ],
       "layout": "IPY_MODEL_77132b06e4ad40fdabdc0dd93922af21"
      }
     },
     "b4a9636246544cd7a3ebcff56595bea2": {
      "model_module": "@jupyter-widgets/base",
      "model_module_version": "1.0.0",
      "model_name": "LayoutModel",
      "state": {}
     },
     "b4c9fe6ac6f649dc9ed8a077a5eaeb20": {
      "model_module": "@jupyter-widgets/base",
      "model_module_version": "1.0.0",
      "model_name": "LayoutModel",
      "state": {}
     },
     "b52cba9c0daf49aab716b75c91137766": {
      "model_module": "@jupyter-widgets/controls",
      "model_module_version": "1.1.0",
      "model_name": "DescriptionStyleModel",
      "state": {
       "description_width": ""
      }
     },
     "b7e6303bb38542c9a8282079c33beca7": {
      "model_module": "@jupyter-widgets/base",
      "model_module_version": "1.0.0",
      "model_name": "LayoutModel",
      "state": {}
     },
     "ba26964d72134b3aa6095e3102f1531b": {
      "model_module": "@jupyter-widgets/base",
      "model_module_version": "1.0.0",
      "model_name": "LayoutModel",
      "state": {}
     },
     "bc6e6b33b84344f094704454a0cf6f6b": {
      "model_module": "@jupyter-widgets/controls",
      "model_module_version": "1.1.0",
      "model_name": "HTMLModel",
      "state": {
       "layout": "IPY_MODEL_e6337586212341de8a4de0ce6bd25649",
       "style": "IPY_MODEL_7adf432cd98f46df927bf9da9d94b182",
       "value": "100% 6/6 [00:00&lt;00:00, 270.73it/s]"
      }
     },
     "bd8469f87f2d4e789610110acd07571d": {
      "model_module": "@jupyter-widgets/controls",
      "model_module_version": "1.1.0",
      "model_name": "HBoxModel",
      "state": {
       "children": [
        "IPY_MODEL_ed2e720acb7a467c85bd7db465281523",
        "IPY_MODEL_3a1160614abc4724b73cc9bc2e0d0d46"
       ],
       "layout": "IPY_MODEL_37faed3c96f343e895d8f29ab07137c0"
      }
     },
     "c01a6ed0806a4aaaaf580bf56e78398f": {
      "model_module": "@jupyter-widgets/controls",
      "model_module_version": "1.1.0",
      "model_name": "DescriptionStyleModel",
      "state": {
       "description_width": ""
      }
     },
     "c05cfeeac9a04c68a7387dc65bf48227": {
      "model_module": "@jupyter-widgets/controls",
      "model_module_version": "1.1.0",
      "model_name": "HTMLModel",
      "state": {
       "layout": "IPY_MODEL_a7afeac8de60479e8c92248312fde8fc",
       "style": "IPY_MODEL_22952b3bfa674aff898e452b30bd319e",
       "value": "100% 5/5 [00:16&lt;00:00,  3.28s/it]"
      }
     },
     "c09f764cc1c74e3aa75fea864a8d21f3": {
      "model_module": "@jupyter-widgets/controls",
      "model_module_version": "1.1.0",
      "model_name": "HTMLModel",
      "state": {
       "layout": "IPY_MODEL_c80d11f161704ab3bda86e7d1dfaff03",
       "style": "IPY_MODEL_e1df5ccb47594688afaee7c51d9cfeed",
       "value": "100% 6/6 [00:00&lt;00:00, 377.26it/s]"
      }
     },
     "c13bdace91114d639b408aa120c97f79": {
      "model_module": "@jupyter-widgets/controls",
      "model_module_version": "1.1.0",
      "model_name": "ProgressStyleModel",
      "state": {
       "description_width": ""
      }
     },
     "c19f1e5cf61444b5926c89b67c374dc8": {
      "model_module": "@jupyter-widgets/controls",
      "model_module_version": "1.1.0",
      "model_name": "IntProgressModel",
      "state": {
       "bar_style": "success",
       "description": "Epoch",
       "layout": "IPY_MODEL_43f1cb9394c5422798a91c1b6b0a5907",
       "max": 3,
       "style": "IPY_MODEL_aad1581c410d48feb48e6b943c14bdb8",
       "value": 3
      }
     },
     "c28408357da544cd8c8bbd5c7469e541": {
      "model_module": "@jupyter-widgets/controls",
      "model_module_version": "1.1.0",
      "model_name": "HBoxModel",
      "state": {
       "children": [
        "IPY_MODEL_5c13867f02614d49bc038af563f5a5a2",
        "IPY_MODEL_1c509f99160e41d5af6e565b1541e571"
       ],
       "layout": "IPY_MODEL_e41e9dc77ce44f3fad0aee4db429cd7d"
      }
     },
     "c30905e882964682bbe231e445b57833": {
      "model_module": "@jupyter-widgets/controls",
      "model_module_version": "1.1.0",
      "model_name": "HBoxModel",
      "state": {
       "children": [
        "IPY_MODEL_08ba1e10c1a641f7876680a632f6821d",
        "IPY_MODEL_e6f6231f671e4871b9e496cce50bf2b9"
       ],
       "layout": "IPY_MODEL_db256ef0046f46d085353ffba880c8fa"
      }
     },
     "c438be876cfc49e8920f2704c6cddbdc": {
      "model_module": "@jupyter-widgets/controls",
      "model_module_version": "1.1.0",
      "model_name": "HBoxModel",
      "state": {
       "children": [
        "IPY_MODEL_de9c288444e74ea38dbac2ef1b1078e4",
        "IPY_MODEL_fe3c562acb4e432280f6432df0710577"
       ],
       "layout": "IPY_MODEL_ba26964d72134b3aa6095e3102f1531b"
      }
     },
     "c45beabad9d34af5b39ce603b5308ef9": {
      "model_module": "@jupyter-widgets/controls",
      "model_module_version": "1.1.0",
      "model_name": "DescriptionStyleModel",
      "state": {
       "description_width": ""
      }
     },
     "c522ca216e5a49e4a7624f94b7215c52": {
      "model_module": "@jupyter-widgets/controls",
      "model_module_version": "1.1.0",
      "model_name": "HBoxModel",
      "state": {
       "children": [
        "IPY_MODEL_62e8fbf1622b4a36a186e7f319552990",
        "IPY_MODEL_8228413e70844312b5aa3128e3bea3ad"
       ],
       "layout": "IPY_MODEL_cb6af7a441964132bb58e75ef7b4bd19"
      }
     },
     "c6a3a9d502b94ffba6cb6708c9762bd0": {
      "model_module": "@jupyter-widgets/controls",
      "model_module_version": "1.1.0",
      "model_name": "IntProgressModel",
      "state": {
       "bar_style": "success",
       "description": "Epoch",
       "layout": "IPY_MODEL_868f105f38aa47b2b0223680dc202859",
       "max": 2,
       "style": "IPY_MODEL_f4c78df23c774bb290250936916d962e",
       "value": 2
      }
     },
     "c74dedf09f57490a9f1ac9af54e14bf3": {
      "model_module": "@jupyter-widgets/base",
      "model_module_version": "1.0.0",
      "model_name": "LayoutModel",
      "state": {}
     },
     "c80d11f161704ab3bda86e7d1dfaff03": {
      "model_module": "@jupyter-widgets/base",
      "model_module_version": "1.0.0",
      "model_name": "LayoutModel",
      "state": {}
     },
     "c8469a077e5449b69821e6b27b8e74e5": {
      "model_module": "@jupyter-widgets/controls",
      "model_module_version": "1.1.0",
      "model_name": "ProgressStyleModel",
      "state": {
       "description_width": ""
      }
     },
     "c8871c57d7bd4b61a99633668fb44621": {
      "model_module": "@jupyter-widgets/controls",
      "model_module_version": "1.1.0",
      "model_name": "IntProgressModel",
      "state": {
       "bar_style": "success",
       "description": "Epoch",
       "layout": "IPY_MODEL_2d1dfcb285154a7bac2db184a87f3c4e",
       "max": 7,
       "style": "IPY_MODEL_ce4922cb72aa4e5c8b5713e47e49029e",
       "value": 7
      }
     },
     "c8ef187b9a1249018de7378cee824894": {
      "model_module": "@jupyter-widgets/controls",
      "model_module_version": "1.1.0",
      "model_name": "HBoxModel",
      "state": {
       "children": [
        "IPY_MODEL_7b215de0d6b64c3897c22bd817bbcb8d",
        "IPY_MODEL_b1258a718296423d9f4d9c0535aae63b"
       ],
       "layout": "IPY_MODEL_784cd320488247aa87d575558f81d06b"
      }
     },
     "cac9427c464f4db9b71c36da9245c066": {
      "model_module": "@jupyter-widgets/controls",
      "model_module_version": "1.1.0",
      "model_name": "ProgressStyleModel",
      "state": {
       "description_width": ""
      }
     },
     "cb554ddf38bb4597b282655ee74ca321": {
      "model_module": "@jupyter-widgets/base",
      "model_module_version": "1.0.0",
      "model_name": "LayoutModel",
      "state": {}
     },
     "cb6af7a441964132bb58e75ef7b4bd19": {
      "model_module": "@jupyter-widgets/base",
      "model_module_version": "1.0.0",
      "model_name": "LayoutModel",
      "state": {}
     },
     "ce4922cb72aa4e5c8b5713e47e49029e": {
      "model_module": "@jupyter-widgets/controls",
      "model_module_version": "1.1.0",
      "model_name": "ProgressStyleModel",
      "state": {
       "description_width": ""
      }
     },
     "cfeaf84bdbe34c7898e1ea8fc61b539c": {
      "model_module": "@jupyter-widgets/controls",
      "model_module_version": "1.1.0",
      "model_name": "ProgressStyleModel",
      "state": {
       "description_width": ""
      }
     },
     "d2b4db8ba2cb4c859ba3e0041c243193": {
      "model_module": "@jupyter-widgets/controls",
      "model_module_version": "1.1.0",
      "model_name": "HTMLModel",
      "state": {
       "layout": "IPY_MODEL_13cbbf3a554a40f09d40df39c2cacf47",
       "style": "IPY_MODEL_91b150ff417c44d1bc68e66d1b3c5925",
       "value": "100% 7/7 [38:27&lt;00:00, 329.65s/it]"
      }
     },
     "db256ef0046f46d085353ffba880c8fa": {
      "model_module": "@jupyter-widgets/base",
      "model_module_version": "1.0.0",
      "model_name": "LayoutModel",
      "state": {}
     },
     "de9c288444e74ea38dbac2ef1b1078e4": {
      "model_module": "@jupyter-widgets/controls",
      "model_module_version": "1.1.0",
      "model_name": "IntProgressModel",
      "state": {
       "bar_style": "success",
       "description": "Epoch",
       "layout": "IPY_MODEL_0147ea39a83144aa99e7877a908ca502",
       "max": 5,
       "style": "IPY_MODEL_075434e4b0234c5fa61c8d63fec51679",
       "value": 5
      }
     },
     "def3b0d0275c454e95c5c2952fc9d017": {
      "model_module": "@jupyter-widgets/controls",
      "model_module_version": "1.1.0",
      "model_name": "HBoxModel",
      "state": {
       "children": [
        "IPY_MODEL_5f4033806f5144f28e0999110bf34612",
        "IPY_MODEL_61defccfe9dc4330931ce420b9976dcd"
       ],
       "layout": "IPY_MODEL_e22e48eeda32478cbb6bf53babd9e700"
      }
     },
     "e10c6be126a045d9809b90c0880e7362": {
      "model_module": "@jupyter-widgets/controls",
      "model_module_version": "1.1.0",
      "model_name": "HTMLModel",
      "state": {
       "layout": "IPY_MODEL_5791e4167111408ca3f1be2e16334803",
       "style": "IPY_MODEL_c01a6ed0806a4aaaaf580bf56e78398f",
       "value": "100% 2/2 [10:59&lt;00:00, 329.53s/it]"
      }
     },
     "e1df5ccb47594688afaee7c51d9cfeed": {
      "model_module": "@jupyter-widgets/controls",
      "model_module_version": "1.1.0",
      "model_name": "DescriptionStyleModel",
      "state": {
       "description_width": ""
      }
     },
     "e22e48eeda32478cbb6bf53babd9e700": {
      "model_module": "@jupyter-widgets/base",
      "model_module_version": "1.0.0",
      "model_name": "LayoutModel",
      "state": {}
     },
     "e41e9dc77ce44f3fad0aee4db429cd7d": {
      "model_module": "@jupyter-widgets/base",
      "model_module_version": "1.0.0",
      "model_name": "LayoutModel",
      "state": {}
     },
     "e59a2233ae454d81ada1b8494763e7bc": {
      "model_module": "@jupyter-widgets/base",
      "model_module_version": "1.0.0",
      "model_name": "LayoutModel",
      "state": {}
     },
     "e6337586212341de8a4de0ce6bd25649": {
      "model_module": "@jupyter-widgets/base",
      "model_module_version": "1.0.0",
      "model_name": "LayoutModel",
      "state": {}
     },
     "e6926f2efb5340528a00c5045376c380": {
      "model_module": "@jupyter-widgets/base",
      "model_module_version": "1.0.0",
      "model_name": "LayoutModel",
      "state": {}
     },
     "e6f6231f671e4871b9e496cce50bf2b9": {
      "model_module": "@jupyter-widgets/controls",
      "model_module_version": "1.1.0",
      "model_name": "HTMLModel",
      "state": {
       "layout": "IPY_MODEL_4c5e108b0b9145cb9987a673dda89bb6",
       "style": "IPY_MODEL_a19c0f9c5cb34e9e8cdfe5c356084b80",
       "value": "100% 6/6 [00:00&lt;00:00, 42.32it/s]"
      }
     },
     "e77a75b0e9b446318ef399e225003e65": {
      "model_module": "@jupyter-widgets/base",
      "model_module_version": "1.0.0",
      "model_name": "LayoutModel",
      "state": {}
     },
     "ed2e720acb7a467c85bd7db465281523": {
      "model_module": "@jupyter-widgets/controls",
      "model_module_version": "1.1.0",
      "model_name": "IntProgressModel",
      "state": {
       "bar_style": "success",
       "description": "Epoch",
       "layout": "IPY_MODEL_f9852feeb51543e4a0d21c5cd6326380",
       "max": 5,
       "style": "IPY_MODEL_cac9427c464f4db9b71c36da9245c066",
       "value": 5
      }
     },
     "f2cf6963cc204b18921e63e1933ad18b": {
      "model_module": "@jupyter-widgets/controls",
      "model_module_version": "1.1.0",
      "model_name": "HBoxModel",
      "state": {
       "children": [
        "IPY_MODEL_a6cf535c8f30471e947503cae6bdb611",
        "IPY_MODEL_d2b4db8ba2cb4c859ba3e0041c243193"
       ],
       "layout": "IPY_MODEL_b4c9fe6ac6f649dc9ed8a077a5eaeb20"
      }
     },
     "f38f8ae81eca43f9b1828369ebffd849": {
      "model_module": "@jupyter-widgets/controls",
      "model_module_version": "1.1.0",
      "model_name": "ProgressStyleModel",
      "state": {
       "description_width": ""
      }
     },
     "f4c78df23c774bb290250936916d962e": {
      "model_module": "@jupyter-widgets/controls",
      "model_module_version": "1.1.0",
      "model_name": "ProgressStyleModel",
      "state": {
       "description_width": ""
      }
     },
     "f6539e378c294a6c955da278da4ade4e": {
      "model_module": "@jupyter-widgets/base",
      "model_module_version": "1.0.0",
      "model_name": "LayoutModel",
      "state": {}
     },
     "f9852feeb51543e4a0d21c5cd6326380": {
      "model_module": "@jupyter-widgets/base",
      "model_module_version": "1.0.0",
      "model_name": "LayoutModel",
      "state": {}
     },
     "fa7fbd7aa5ab41a5aaabfca1db46058e": {
      "model_module": "@jupyter-widgets/controls",
      "model_module_version": "1.1.0",
      "model_name": "DescriptionStyleModel",
      "state": {
       "description_width": ""
      }
     },
     "fe3c562acb4e432280f6432df0710577": {
      "model_module": "@jupyter-widgets/controls",
      "model_module_version": "1.1.0",
      "model_name": "HTMLModel",
      "state": {
       "layout": "IPY_MODEL_a6ba13af33984f1b96ed120d3798b035",
       "style": "IPY_MODEL_39d7df82d70b40df9f1171dad9ce2b4c",
       "value": "100% 5/5 [25:26&lt;00:00, 305.38s/it]"
      }
     }
    },
    "version_major": 2,
    "version_minor": 0
   }
  }
 },
 "nbformat": 4,
 "nbformat_minor": 2
}
